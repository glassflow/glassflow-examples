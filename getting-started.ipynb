{
 "cells": [
  {
   "cell_type": "markdown",
   "id": "b1ceb6d1-1616-4f3f-afae-a0d843f1b840",
   "metadata": {},
   "source": [
    "# Getting Started with GlassFlow"
   ]
  },
  {
   "cell_type": "markdown",
   "id": "ed1e36d7-7141-4a7f-aad9-0ed960c0a82d",
   "metadata": {},
   "source": [
    "This Jupyter Notebook guide provides a hands-on approach to understanding how to get started with GlassFlow. **Create your first pipeline** and interact with the pipeline via the [Python SDK](https://pysdk.docs.glassflow.dev/). By following the steps, you will be able to publish and consume data efficiently from the new pipeline in your local environment.\n",
    "\n",
    "## Prerequisites\n",
    "Before starting, ensure you have:\n",
    "\n",
    "- A GlassFlow account. [Sign up here](http://app.glassflow.dev/) if you don't have one.\n",
    "- A personal access token from the GlassFlow account you just created. You can get your's in the [profile section](https://app.glassflow.dev/profile) of your account\n",
    "- Python 3.x installed on your system.\n",
    "- [Pip](https://pip.pypa.io/en/stable/installation/) installed to manage project packages."
   ]
  },
  {
   "cell_type": "code",
   "execution_count": null,
   "id": "a67fa5d9",
   "metadata": {},
   "outputs": [],
   "source": [
    "%pip install \"glassflow>=2.0.5\""
   ]
  },
  {
   "cell_type": "code",
   "execution_count": 10,
   "id": "3762c8d4-22a0-491b-855d-9b23abade440",
   "metadata": {},
   "outputs": [],
   "source": [
    "import glassflow\n",
    "import os"
   ]
  },
  {
   "cell_type": "code",
   "execution_count": 11,
   "id": "7999a474-040e-495c-9c80-0f16b54a9dab",
   "metadata": {},
   "outputs": [],
   "source": [
    "# Please edit this variable with your own personal access token from https://app.glassflow.dev/profile\n",
    "\n",
    "glassflow_personal_access_token = \"\""
   ]
  },
  {
   "cell_type": "markdown",
   "id": "3d91b7dc-71d6-494e-a8f9-c75439fc44af",
   "metadata": {},
   "source": [
    "## Creating a Pipeline\n",
    "A pipeline is how you interact with GlassFlow. A pipeline consists of a **Transform function** that is automatically run by GlassFlow for every event entering the pipeline. GlassFlow pipelines ingest JSON data and can do so from multiple sources. The transformed data can then be consumed from the pipeline or automatically sent to data sinks.\n",
    "\n",
    "In this guide, we are going to set up a pipeline with a basic transform function and send/receive data from the pipeline via the Python SDK.\n"
   ]
  },
  {
   "cell_type": "markdown",
   "id": "9128eaf2-d95f-48ae-97a1-e113b01c59a4",
   "metadata": {},
   "source": [
    "### Define a basic echo transform function to use with GlassFlow\n",
    "\n",
    "The transform function is a Python function that you want the GlassFlow pipeline to execute for every event that enters the pipeline. It follows a basic structure with a `handler` method, which serves as the entry point for the function."
   ]
  },
  {
   "cell_type": "code",
   "execution_count": 12,
   "id": "d1fa170a-363a-48b9-8b3a-9dfc1795b2cd",
   "metadata": {},
   "outputs": [],
   "source": [
    "%%bash\n",
    "cat <<EOT > transform.py \n",
    "import json\n",
    "# Write a mandatory 'handler' function\n",
    "def handler(data, log):\n",
    "    data[\"transformed_by\"] = \"glassflow\"\n",
    "    return data\n",
    "EOT"
   ]
  },
  {
   "cell_type": "code",
   "execution_count": 13,
   "id": "ae21c10c-a623-4dad-b0b1-c77704886c9b",
   "metadata": {},
   "outputs": [],
   "source": [
    "client = glassflow.GlassFlowClient(personal_access_token=glassflow_personal_access_token)"
   ]
  },
  {
   "cell_type": "code",
   "execution_count": 14,
   "id": "be348054-86b0-4009-bc63-755c791baf45",
   "metadata": {},
   "outputs": [],
   "source": [
    "# create a space  - Spaces are a way to organize pipelines within glassflow"
   ]
  },
  {
   "cell_type": "code",
   "execution_count": 15,
   "id": "0d83cf66-8bce-48ef-9806-c47e68cedf4b",
   "metadata": {},
   "outputs": [],
   "source": [
    "example_space = client.create_space(name=\"examples\")"
   ]
  },
  {
   "cell_type": "code",
   "execution_count": 16,
   "id": "879480ef-dbf2-48bf-b15c-21d8dde7cb4f",
   "metadata": {},
   "outputs": [],
   "source": [
    "# Create a pipeline. A pipeline needs a name, a python code and a space where the pipeline should live"
   ]
  },
  {
   "cell_type": "code",
   "execution_count": 17,
   "id": "acfd24d9-0574-4957-8ca0-636340251ea4",
   "metadata": {},
   "outputs": [],
   "source": [
    "pipeline = client.create_pipeline(name=\"echo-pipeline\", transformation_file=\"transform.py\", \n",
    "                                  space_id=example_space.id)"
   ]
  },
  {
   "cell_type": "code",
   "execution_count": 18,
   "id": "53607d0d-4aae-4e9f-bb33-4c8408d79871",
   "metadata": {},
   "outputs": [],
   "source": [
    "# show the created pipeline id "
   ]
  },
  {
   "cell_type": "code",
   "execution_count": null,
   "id": "387d7c1e-e8ca-44cc-b96a-4e1b45bca6a7",
   "metadata": {},
   "outputs": [],
   "source": [
    "print(pipeline.id)"
   ]
  },
  {
   "cell_type": "markdown",
   "id": "b3c473fc-a3a1-475f-ba87-8a1f46bba816",
   "metadata": {},
   "source": [
    "### Send events to the pipeline"
   ]
  },
  {
   "cell_type": "code",
   "execution_count": 20,
   "id": "5a33b98d-34fc-4d89-be1d-fdb532a03395",
   "metadata": {},
   "outputs": [],
   "source": [
    "# Create a random data generator to generate some dummy events data\n",
    "from faker import Faker\n",
    "def random_datagen():\n",
    "    fake = Faker()\n",
    "    return {\n",
    "        \"name\": fake.name(),\n",
    "        \"email\": fake.email(),\n",
    "        \"id\": fake.uuid4()\n",
    "    }"
   ]
  },
  {
   "cell_type": "markdown",
   "id": "8f132712-b4ed-45f5-8f4d-64ac17ebcbf8",
   "metadata": {},
   "source": [
    "Each pipeline provides a source and a sink to publish and consume data from the pipeline. We will use those to send and recieve events from the pipeline"
   ]
  },
  {
   "cell_type": "code",
   "execution_count": 21,
   "id": "9026a88a-8701-441a-af90-601ffd53a07a",
   "metadata": {},
   "outputs": [],
   "source": [
    "data_source = pipeline.get_source()"
   ]
  },
  {
   "cell_type": "code",
   "execution_count": 22,
   "id": "733a8ff1-f259-46d7-a384-d56c25283aff",
   "metadata": {
    "scrolled": true
   },
   "outputs": [],
   "source": [
    "# Generate some data and send it to the pipeline. Store it locally to compare \n",
    "input_data = []\n",
    "for i in range(100):\n",
    "    d = random_datagen()\n",
    "    input_data.append(d)\n",
    "    r = data_source.publish(d)"
   ]
  },
  {
   "cell_type": "code",
   "execution_count": null,
   "id": "01a24c06-ed60-46cf-856e-26ac73c5f1a4",
   "metadata": {},
   "outputs": [],
   "source": [
    "display(input_data)"
   ]
  },
  {
   "cell_type": "markdown",
   "id": "6ef3120b-edc1-435c-a62a-6212e9fcff85",
   "metadata": {},
   "source": [
    "### Consume events from the pipeline \n",
    "Get the sink to consume transformed events from the pipeline"
   ]
  },
  {
   "cell_type": "code",
   "execution_count": 24,
   "id": "3b735e14-8c94-402f-9ab7-9f9269f5abe8",
   "metadata": {},
   "outputs": [],
   "source": [
    "data_sink = pipeline.get_sink()"
   ]
  },
  {
   "cell_type": "code",
   "execution_count": 25,
   "id": "be496155-3ad8-4028-b526-75d58688f887",
   "metadata": {},
   "outputs": [],
   "source": [
    "output_data = []\n",
    "for i in range(100):\n",
    "    resp = data_sink.consume()\n",
    "    output_data.append(resp.json())"
   ]
  },
  {
   "cell_type": "code",
   "execution_count": null,
   "id": "6bbe8e80-cc2e-4276-b9c1-140ea2ab4896",
   "metadata": {},
   "outputs": [],
   "source": [
    "display(output_data)"
   ]
  },
  {
   "cell_type": "markdown",
   "id": "7d467212",
   "metadata": {},
   "source": [
    "## Monitor the pipeline\n",
    "\n",
    "Go to the pipeline logs you created and monitor real-time events."
   ]
  },
  {
   "cell_type": "code",
   "execution_count": null,
   "id": "b97009db-e498-492d-b26e-5f36831c6a08",
   "metadata": {},
   "outputs": [],
   "source": [
    "## Explore the pipeline logs on the web-UI \n",
    "pipeline_url = f\"https://app.glassflow.dev/pipelines/{pipeline.id}/logs\"\n",
    "print(pipeline_url)"
   ]
  },
  {
   "cell_type": "markdown",
   "id": "31207c89-5bf0-43aa-872e-81ca551cae36",
   "metadata": {},
   "source": [
    "## Conclusion "
   ]
  },
  {
   "cell_type": "markdown",
   "id": "968b16e7-1545-40cb-b790-1657d0e5a58a",
   "metadata": {},
   "source": [
    "**Congratulations!** You have now set up an event-driven data pipeline entirely in Python using GlassFlow. \n",
    "In this getting-started guide we \n",
    "- Set up a new pipeline with a basic transform function.\n",
    "- Published events to the pipeline.\n",
    "- GlassFlow executed the transform function in real time on the published events.\n",
    "- Consumed the transformed events back from the pipeline.\n",
    "\n",
    "As the next step, you can try more examples in the `examples` directory of this repository, or explore the[GlassFlow web-app](https://app.glassflow.dev) to setup pipelines using the visual editor.  \n"
   ]
  },
  {
   "cell_type": "markdown",
   "id": "1cb3d814",
   "metadata": {},
   "source": []
  }
 ],
 "metadata": {
  "kernelspec": {
   "display_name": "Python 3",
   "language": "python",
   "name": "python3"
  },
  "language_info": {
   "codemirror_mode": {
    "name": "ipython",
    "version": 3
   },
   "file_extension": ".py",
   "mimetype": "text/x-python",
   "name": "python",
   "nbconvert_exporter": "python",
   "pygments_lexer": "ipython3",
   "version": "3.11.9"
  }
 },
 "nbformat": 4,
 "nbformat_minor": 5
}
