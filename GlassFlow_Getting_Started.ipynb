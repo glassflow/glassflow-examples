{
 "cells": [
  {
   "cell_type": "markdown",
   "metadata": {},
   "source": [
    "# Getting Started with GlassFlow Python SDK: Jupyter Notebook Guide\n",
    "\n",
    "This Jupyter Notebook guide provides a hands-on approach to understanding how to work with the GlassFlow Python SDK. By following the steps outlined above, you should be able to publish and consume data efficiently using Python SDK in your local environment.\n",
    "\n",
    "## Prerequisites\n",
    "Before starting, ensure you have:\n",
    "\n",
    "- A GlassFlow account. [Sign up here](http://app.glassflow.dev/) if you don't have one.\n",
    "- Python 3.x installed on your system.\n",
    "- Download and Install [Pip](https://pip.pypa.io/en/stable/installation/) to manage project packages."
   ]
  },
  {
   "cell_type": "markdown",
   "metadata": {},
   "source": [
    "## Creating a Pipeline using GlassFlow WebApp\n",
    "\n",
    "### Step 1: Log in to GlassFlow WebApp\n",
    "\n",
    "1. Navigate to the [GlassFlow WebApp](https://app.glassflow.dev/).\n",
    "2. Log in with your credentials.\n",
    "\n",
    "### Step 2: Create a New Pipeline\n",
    "\n",
    "1. Once logged in, click on the **\"Create New Pipeline\"** button.\n",
    "2. Provide a name for your pipeline in the **\"Pipeline Name\"** field. This name should be descriptive of the pipeline's purpose (e.g., \"PII detection\").\n",
    "\n",
    "### Step 3: Configure a Data Source\n",
    "\n",
    "1. After naming your pipeline, you will be prompted to configure a data source.\n",
    "2. Select \"SDK\" as a data source for your pipeline:\n",
    "    - The GlassFlow SDK option requires you to implement the logic for sending data from a custom data source to the GlassFlow pipeline in Python.\n",
    "    - For built-in connectors like Webhook, Amazon SQS, Google Pub/Sub, etc., select the relevant option and provide the required connection details.\n",
    "\n",
    "### Step 4: Define the Transformer\n",
    "\n",
    "1. In the transformation step, you can define the logic that will be applied to the data as it passes through the pipeline.\n",
    "2. You will see a built-in editor to write code for the transformer. There is also an option to choose a sample transformer from the \"Template\" dropdown menu. \n",
    "3. Select the \"PII Detection\" function template:\n",
    "\n",
    "    - The **handler** function is mandatory and is where you'll implement your transformation logic.\n",
    "\n",
    "### Step 5: Configure a Data Sink\n",
    "\n",
    "1. Next, configure where you want the transformed data to go by selecting a \"SDK\" Data Sink.\n",
    "2. The GlassFlow SDK option requires you to implement the logic for consuming data from the GlassFlow pipeline in Python.\n",
    "3. For built-in connectors like Webhook, Amazon SQS, Google Pub/Sub, etc., select the relevant option and provide the required connection details.\n",
    "\n",
    "### Step 6: Confirm the Pipeline\n",
    "\n",
    "1. Review your pipeline configuration and ensure all settings are correct.\n",
    "2. Once satisfied, click on the **\"Create Pipeline\"** button to finalize the setup.\n",
    "\n",
    "### Step 7: Copy the Pipeline Credentials\n",
    "\n",
    "1. After the pipeline is created, you will receive **Pipeline ID** and **Access Token**.\n",
    "2. Copy these credentials as they will be needed for interacting with the pipeline using the GlassFlow Python SDK."
   ]
  },
  {
   "cell_type": "markdown",
   "metadata": {},
   "source": [
    "## Publish and Consume data from the Pipeline\n",
    "\n",
    "### Step 1: Install GlassFlow SDK\n",
    "\n",
    "Install the GlassFlow Python SDK using pip."
   ]
  },
  {
   "cell_type": "code",
   "execution_count": 41,
   "metadata": {
    "vscode": {
     "languageId": "shellscript"
    }
   },
   "outputs": [
    {
     "name": "stdout",
     "output_type": "stream",
     "text": [
      "Requirement already satisfied: glassflow in ./.venv/lib/python3.9/site-packages (1.0.6)\n",
      "Requirement already satisfied: certifi>=2023.7.22 in ./.venv/lib/python3.9/site-packages (from glassflow) (2024.2.2)\n",
      "Requirement already satisfied: charset-normalizer>=3.2.0 in ./.venv/lib/python3.9/site-packages (from glassflow) (3.3.2)\n",
      "Requirement already satisfied: six>=1.16.0 in ./.venv/lib/python3.9/site-packages (from glassflow) (1.16.0)\n",
      "Requirement already satisfied: typing-inspect>=0.9.0 in ./.venv/lib/python3.9/site-packages (from glassflow) (0.9.0)\n",
      "Requirement already satisfied: typing-extensions>=4.7.1 in ./.venv/lib/python3.9/site-packages (from glassflow) (4.11.0)\n",
      "Requirement already satisfied: idna>=3.4 in ./.venv/lib/python3.9/site-packages (from glassflow) (3.7)\n",
      "Requirement already satisfied: jsonpath-python>=1.0.6 in ./.venv/lib/python3.9/site-packages (from glassflow) (1.0.6)\n",
      "Requirement already satisfied: mypy-extensions>=1.0.0 in ./.venv/lib/python3.9/site-packages (from glassflow) (1.0.0)\n",
      "Requirement already satisfied: marshmallow>=3.19.0 in ./.venv/lib/python3.9/site-packages (from glassflow) (3.21.1)\n",
      "Requirement already satisfied: python-dateutil>=2.8.2 in ./.venv/lib/python3.9/site-packages (from glassflow) (2.9.0.post0)\n",
      "Requirement already satisfied: requests>=2.31.0 in ./.venv/lib/python3.9/site-packages (from glassflow) (2.31.0)\n",
      "Requirement already satisfied: python-dotenv==1.0.1 in ./.venv/lib/python3.9/site-packages (from glassflow) (1.0.1)\n",
      "Requirement already satisfied: dataclasses-json>=0.6.4 in ./.venv/lib/python3.9/site-packages (from glassflow) (0.6.4)\n",
      "Requirement already satisfied: packaging>=23.1 in ./.venv/lib/python3.9/site-packages (from glassflow) (24.0)\n",
      "Requirement already satisfied: urllib3==1.26.15 in ./.venv/lib/python3.9/site-packages (from glassflow) (1.26.15)\n",
      "\u001b[33mWARNING: You are using pip version 21.2.4; however, version 24.2 is available.\n",
      "You should consider upgrading via the '/Users/boburumurzokov/glassflow-examples/.venv/bin/python -m pip install --upgrade pip' command.\u001b[0m\n",
      "Note: you may need to restart the kernel to use updated packages.\n"
     ]
    }
   ],
   "source": [
    "pip install glassflow"
   ]
  },
  {
   "cell_type": "markdown",
   "metadata": {},
   "source": [
    "### Step 2: Create a Data Producer\n",
    "\n",
    "In this step, you'll create a data producer to publish events to your GlassFlow pipeline."
   ]
  },
  {
   "cell_type": "markdown",
   "metadata": {},
   "source": [
    "1. Import GlassFlow module"
   ]
  },
  {
   "cell_type": "code",
   "execution_count": 42,
   "metadata": {
    "vscode": {
     "languageId": "shellscript"
    }
   },
   "outputs": [],
   "source": [
    "import glassflow"
   ]
  },
  {
   "cell_type": "markdown",
   "metadata": {},
   "source": [
    "2. Set pipeline credentials\n",
    "\n",
    "Replace `your_pipeline_id` and `your_pipeline_access_token` with appropriate values obtained in the previous steps."
   ]
  },
  {
   "cell_type": "code",
   "execution_count": 43,
   "metadata": {},
   "outputs": [],
   "source": [
    "PIPELINE_ID=\"<your_pipeline_id>\"\n",
    "PIPELINE_ACCESS_TOKEN=\"<your_pipeline_access_token>\""
   ]
  },
  {
   "cell_type": "markdown",
   "metadata": {},
   "source": [
    "3. Initialize GlassFlow Pipeline Client"
   ]
  },
  {
   "cell_type": "code",
   "execution_count": 44,
   "metadata": {},
   "outputs": [],
   "source": [
    "client = glassflow.GlassFlowClient()\n",
    "pipeline_client = client.pipeline_client(\n",
    "    pipeline_id=PIPELINE_ID,\n",
    "    pipeline_access_token=PIPELINE_ACCESS_TOKEN\n",
    ")"
   ]
  },
  {
   "cell_type": "markdown",
   "metadata": {},
   "source": [
    "4. Publish Data\n",
    "\n",
    "Here's how you can publish data to your pipeline:"
   ]
  },
  {
   "cell_type": "code",
   "execution_count": 45,
   "metadata": {},
   "outputs": [
    {
     "name": "stdout",
     "output_type": "stream",
     "text": [
      "Event published successfully\n"
     ]
    }
   ],
   "source": [
    "sample_event = {\n",
    "    \"event_type\": \"user_signup\",\n",
    "    \"user_id\": \"12345\",\n",
    "    \"timestamp\": \"2024-01-01T12:34:56Z\"\n",
    "}\n",
    "\n",
    "response = pipeline_client.publish(sample_event)\n",
    "\n",
    "if response.status_code == 200:\n",
    "    print(\"Event published successfully\")\n",
    "else:\n",
    "    print(f\"Failed to publish event: {response.text}\")\n"
   ]
  },
  {
   "cell_type": "markdown",
   "metadata": {},
   "source": [
    "### Step 3: Create a Data Consumer\n",
    "\n",
    "Now, let's create a data consumer to retrieve and process events from your GlassFlow pipeline."
   ]
  },
  {
   "cell_type": "code",
   "execution_count": 47,
   "metadata": {},
   "outputs": [
    {
     "name": "stdout",
     "output_type": "stream",
     "text": [
      "Consumed event: {'event_type': 'user_signup', 'timestamp': '2024-01-01T12:34:56Z', 'user_id': '12345'}\n"
     ]
    }
   ],
   "source": [
    "response = pipeline_client.consume()\n",
    "\n",
    "if response.status_code == 200:\n",
    "    event_data = response.json()\n",
    "    print(f\"Consumed event: {event_data}\")\n",
    "elif response.status_code == 204:\n",
    "    print(\"No new events to consume.\")\n",
    "else:\n",
    "    print(f\"Failed to consume events: {response.text}\")\n"
   ]
  },
  {
   "cell_type": "markdown",
   "metadata": {},
   "source": [
    "Congratulations! You've set up a real-time pipeline using GlassFlow.\n",
    "\n",
    "## Conclusion\n",
    "\n",
    "In this guide you've learned the following:\n",
    "\n",
    "- How to install GlassFlow and set up a new project.\n",
    "- How to create a data pipeline using the GlassFlow Web App.\n",
    "- How to publish data into the pipeline.\n",
    "- How to consume data from the pipeline."
   ]
  }
 ],
 "metadata": {
  "kernelspec": {
   "display_name": ".venv",
   "language": "python",
   "name": "python3"
  },
  "language_info": {
   "codemirror_mode": {
    "name": "ipython",
    "version": 3
   },
   "file_extension": ".py",
   "mimetype": "text/x-python",
   "name": "python",
   "nbconvert_exporter": "python",
   "pygments_lexer": "ipython3",
   "version": "3.9.6"
  }
 },
 "nbformat": 4,
 "nbformat_minor": 2
}
