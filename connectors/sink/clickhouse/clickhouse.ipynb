{
 "cells": [
  {
   "metadata": {},
   "cell_type": "markdown",
   "source": "# Clickhouse Sink",
   "id": "50dc6c26839b2e2c"
  },
  {
   "metadata": {},
   "cell_type": "code",
   "source": "%pip install \"glassflow>=2.0.8\" pandas Faker",
   "id": "72c05c5acb3d1e92",
   "outputs": [],
   "execution_count": null
  },
  {
   "metadata": {},
   "cell_type": "code",
   "source": "import glassflow",
   "id": "92be75bf73550a20",
   "outputs": [],
   "execution_count": null
  },
  {
   "metadata": {},
   "cell_type": "code",
   "source": [
    "# Please edit this variable with your own personal access token from https://app.glassflow.dev/profile\n",
    "personal_access_token = \"\"\n",
    "\n",
    "\n",
    "# Clickhouse configuration \n",
    "CLICKHOUSE_ADDRESS = \"\"\n",
    "CLICKHOUSE_DATABASE = \"\" \n",
    "CLICKHOUSE_USERNAME = \"\"\n",
    "CLICKHOUSE_PASSWORD = \"\"\n",
    "CLICKHOUSE_TABLE = \"\""
   ],
   "id": "7efefc36c91654a4",
   "outputs": [],
   "execution_count": null
  },
  {
   "metadata": {},
   "cell_type": "markdown",
   "source": "## Create Pipeline",
   "id": "9166a5b048092a17"
  },
  {
   "metadata": {},
   "cell_type": "code",
   "source": [
    "client = glassflow.GlassFlowClient(\n",
    "    personal_access_token=personal_access_token\n",
    ")"
   ],
   "id": "1e5e232009a1d610",
   "outputs": [],
   "execution_count": null
  },
  {
   "metadata": {},
   "cell_type": "code",
   "source": [
    "# Get the space named \"examples\" (or create one if no space is found)\n",
    "list_spaces = client.list_spaces()\n",
    "\n",
    "space_name = \"examples\"\n",
    "for s in list_spaces.spaces:\n",
    "    if s[\"name\"] == space_name:\n",
    "        space = glassflow.Space(\n",
    "            personal_access_token=client.personal_access_token,\n",
    "            id=s[\"id\"], \n",
    "            name=s[\"name\"]\n",
    "        )\n",
    "        break\n",
    "else:\n",
    "    space = client.create_space(name=space_name)\n",
    "\n",
    "print(f\"Space \\\"{space.name}\\\" with ID: {space.id}\")"
   ],
   "id": "1941dee96d229907",
   "outputs": [],
   "execution_count": null
  },
  {
   "metadata": {},
   "cell_type": "markdown",
   "source": "### Transformation Function",
   "id": "3740561e0bcf49fa"
  },
  {
   "metadata": {},
   "cell_type": "code",
   "source": "%pycat transform.py",
   "id": "5d18b405354b83ed",
   "outputs": [],
   "execution_count": null
  },
  {
   "metadata": {},
   "cell_type": "markdown",
   "source": "### Create Pipeline",
   "id": "177856014bcf8469"
  },
  {
   "metadata": {},
   "cell_type": "code",
   "source": [
    "pipeline_name = \"sink-clickhouse-example\"\n",
    "\n",
    "pipeline = client.create_pipeline(\n",
    "    name=pipeline_name, \n",
    "    transformation_file='transform.py',\n",
    "    space_id=space.id, \n",
    "    sink_kind=\"clickhouse\",\n",
    "    sink_config={\n",
    "        \"addr\": CLICKHOUSE_ADDRESS,\n",
    "        \"database\": CLICKHOUSE_DATABASE,\n",
    "        \"username\": CLICKHOUSE_USERNAME,\n",
    "        \"password\": CLICKHOUSE_PASSWORD,\n",
    "        \"table\": CLICKHOUSE_TABLE,\n",
    "    }\n",
    ")\n",
    "print(\"Pipeline ID:\", pipeline.id)"
   ],
   "id": "7535e90de916aeed",
   "outputs": [],
   "execution_count": null
  },
  {
   "metadata": {},
   "cell_type": "code",
   "source": "",
   "id": "7045d8eef80e765f",
   "outputs": [],
   "execution_count": null
  }
 ],
 "metadata": {
  "kernelspec": {
   "display_name": "Python 3",
   "language": "python",
   "name": "python3"
  },
  "language_info": {
   "codemirror_mode": {
    "name": "ipython",
    "version": 2
   },
   "file_extension": ".py",
   "mimetype": "text/x-python",
   "name": "python",
   "nbconvert_exporter": "python",
   "pygments_lexer": "ipython2",
   "version": "2.7.6"
  }
 },
 "nbformat": 4,
 "nbformat_minor": 5
}
