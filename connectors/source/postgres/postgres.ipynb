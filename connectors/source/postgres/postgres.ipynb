{
 "cells": [
  {
   "cell_type": "markdown",
   "id": "50dc6c26839b2e2c",
   "metadata": {},
   "source": [
    "# Postgres Source"
   ]
  },
  {
   "cell_type": "code",
   "execution_count": null,
   "id": "72c05c5acb3d1e92",
   "metadata": {},
   "outputs": [],
   "source": [
    "%pip install \"glassflow>=2.0.8\" pandas Faker"
   ]
  },
  {
   "cell_type": "code",
   "execution_count": null,
   "id": "92be75bf73550a20",
   "metadata": {},
   "outputs": [],
   "source": [
    "import glassflow"
   ]
  },
  {
   "cell_type": "code",
   "execution_count": null,
   "id": "7efefc36c91654a4",
   "metadata": {},
   "outputs": [],
   "source": [
    "# Please edit this variable with your own personal access token from https://app.glassflow.dev/profile\n",
    "personal_access_token = \"\"\n",
    "\n",
    "\n",
    "# postgres credentials \n",
    "POSTGRES_HOST = \"\"\n",
    "POSTGRES_PORT = \"\"\n",
    "POSTGRES_USER = \"\"\n",
    "POSTGRES_PASSWORD = \"\"\n",
    "POSTGRES_DB_NAME = \"\"\n",
    "REPLICATION_SLOT = \"\"\n",
    "REPLICATION_PLUGIN_ARGS = \"\""
   ]
  },
  {
   "cell_type": "markdown",
   "id": "9166a5b048092a17",
   "metadata": {},
   "source": [
    "## Create Pipeline"
   ]
  },
  {
   "cell_type": "code",
   "execution_count": null,
   "id": "1e5e232009a1d610",
   "metadata": {},
   "outputs": [],
   "source": [
    "client = glassflow.GlassFlowClient(\n",
    "    personal_access_token=personal_access_token\n",
    ")"
   ]
  },
  {
   "cell_type": "code",
   "execution_count": null,
   "id": "1941dee96d229907",
   "metadata": {},
   "outputs": [],
   "source": [
    "# Get the space named \"examples\" (or create one if no space is found)\n",
    "list_spaces = client.list_spaces()\n",
    "\n",
    "space_name = \"examples\"\n",
    "for s in list_spaces.spaces:\n",
    "    if s[\"name\"] == space_name:\n",
    "        space = glassflow.Space(\n",
    "            personal_access_token=client.personal_access_token,\n",
    "            id=s[\"id\"], \n",
    "            name=s[\"name\"]\n",
    "        )\n",
    "        break\n",
    "else:\n",
    "    space = client.create_space(name=space_name)\n",
    "\n",
    "print(f\"Space \\\"{space.name}\\\" with ID: {space.id}\")"
   ]
  },
  {
   "cell_type": "markdown",
   "id": "3740561e0bcf49fa",
   "metadata": {},
   "source": [
    "### Transformation Function"
   ]
  },
  {
   "cell_type": "code",
   "execution_count": null,
   "id": "5d18b405354b83ed",
   "metadata": {},
   "outputs": [],
   "source": [
    "%pycat transform.py"
   ]
  },
  {
   "cell_type": "markdown",
   "id": "177856014bcf8469",
   "metadata": {},
   "source": [
    "### Create Pipeline"
   ]
  },
  {
   "cell_type": "code",
   "execution_count": null,
   "id": "7535e90de916aeed",
   "metadata": {},
   "outputs": [],
   "source": [
    "pipeline_name = \"source-postgres-example\"\n",
    "\n",
    "pipeline = client.create_pipeline(\n",
    "    name=pipeline_name, \n",
    "    transformation_file='transform.py',\n",
    "    space_id=space.id, \n",
    "    source_kind=\"postgres\",\n",
    "    source_config={\n",
    "        \"db_host\": POSTGRES_HOST,\n",
    "        \"db_port\": POSTGRES_PORT,\n",
    "        \"db_user\": POSTGRES_USER,\n",
    "        \"db_pass\": POSTGRES_PASSWORD,\n",
    "        \"db_name\": POSTGRES_DB_NAME,\n",
    "        \"replication_slot\": REPLICATION_SLOT,\n",
    "        \"replication_output_plugin_args\": REPLICATION_PLUGIN_ARGS\n",
    "    }\n",
    ")\n",
    "print(\"Pipeline ID:\", pipeline.id)"
   ]
  },
  {
   "cell_type": "code",
   "execution_count": null,
   "id": "5ba11adca3469bb7",
   "metadata": {},
   "outputs": [],
   "source": []
  }
 ],
 "metadata": {
  "kernelspec": {
   "display_name": "Python 3 (ipykernel)",
   "language": "python",
   "name": "python3"
  },
  "language_info": {
   "codemirror_mode": {
    "name": "ipython",
    "version": 3
   },
   "file_extension": ".py",
   "mimetype": "text/x-python",
   "name": "python",
   "nbconvert_exporter": "python",
   "pygments_lexer": "ipython3",
   "version": "3.9.6"
  }
 },
 "nbformat": 4,
 "nbformat_minor": 5
}
