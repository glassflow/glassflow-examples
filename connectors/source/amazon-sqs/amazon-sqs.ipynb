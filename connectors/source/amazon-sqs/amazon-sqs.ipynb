{
 "cells": [
  {
   "metadata": {},
   "cell_type": "markdown",
   "source": "# Amazon SQS Source",
   "id": "50dc6c26839b2e2c"
  },
  {
   "metadata": {},
   "cell_type": "code",
   "outputs": [],
   "execution_count": null,
   "source": "%pip install \"glassflow>=2.0.5\" pandas Faker",
   "id": "72c05c5acb3d1e92"
  },
  {
   "metadata": {
    "ExecuteTime": {
     "end_time": "2024-11-01T13:24:44.654142Z",
     "start_time": "2024-11-01T13:24:44.603385Z"
    }
   },
   "cell_type": "code",
   "source": "import glassflow",
   "id": "92be75bf73550a20",
   "outputs": [],
   "execution_count": 2
  },
  {
   "metadata": {
    "ExecuteTime": {
     "end_time": "2024-11-01T13:25:09.195913Z",
     "start_time": "2024-11-01T13:25:09.193124Z"
    }
   },
   "cell_type": "code",
   "source": [
    "# Please edit this variable with your own personal access token from https://app.glassflow.dev/profile\n",
    "personal_access_token = \"\"\n",
    "\n",
    "\n",
    "# SQS credentials \n",
    "SQS_QUEUE_URL = \"\"\n",
    "AWS_REGION = \"\"\n",
    "AWS_ACCESS_KEY = \"\"\n",
    "AWS_SECRET_KEY = \"\""
   ],
   "id": "7efefc36c91654a4",
   "outputs": [],
   "execution_count": 3
  },
  {
   "metadata": {},
   "cell_type": "markdown",
   "source": "## Create Pipeline",
   "id": "9166a5b048092a17"
  },
  {
   "metadata": {
    "ExecuteTime": {
     "end_time": "2024-11-01T13:25:34.465513Z",
     "start_time": "2024-11-01T13:25:34.462579Z"
    }
   },
   "cell_type": "code",
   "source": [
    "client = glassflow.GlassFlowClient(\n",
    "    personal_access_token=personal_access_token\n",
    ")"
   ],
   "id": "1e5e232009a1d610",
   "outputs": [],
   "execution_count": 4
  },
  {
   "metadata": {},
   "cell_type": "code",
   "outputs": [],
   "execution_count": null,
   "source": [
    "# Get the space named \"examples\" (or create one if no space is found)\n",
    "list_spaces = client.list_spaces()\n",
    "\n",
    "space_name = \"examples\"\n",
    "for s in list_spaces.spaces:\n",
    "    if s[\"name\"] == space_name:\n",
    "        space = glassflow.Space(\n",
    "            personal_access_token=client.personal_access_token,\n",
    "            id=s[\"id\"], \n",
    "            name=s[\"name\"]\n",
    "        )\n",
    "        break\n",
    "else:\n",
    "    space = client.create_space(name=space_name)\n",
    "\n",
    "print(f\"Space \\\"{space.name}\\\" with ID: {space.id}\")"
   ],
   "id": "1941dee96d229907"
  },
  {
   "metadata": {},
   "cell_type": "markdown",
   "source": "### Transformation Function",
   "id": "3740561e0bcf49fa"
  },
  {
   "metadata": {
    "ExecuteTime": {
     "end_time": "2024-11-01T13:33:58.329663Z",
     "start_time": "2024-11-01T13:33:58.325472Z"
    }
   },
   "cell_type": "code",
   "source": "%pycat transform.py",
   "id": "5d18b405354b83ed",
   "outputs": [],
   "execution_count": 5
  },
  {
   "metadata": {},
   "cell_type": "markdown",
   "source": "### Create Pipeline",
   "id": "177856014bcf8469"
  },
  {
   "metadata": {},
   "cell_type": "code",
   "outputs": [],
   "execution_count": null,
   "source": [
    "pipeline_name = \"source-amazon-sqs-example\"\n",
    "\n",
    "pipeline = client.create_pipeline(\n",
    "    name=pipeline_name, \n",
    "    transformation_file='transform.py',\n",
    "    space_id=space.id, \n",
    "    source_kind=\"amazon_sqs\",\n",
    "    source_config={\n",
    "        \"queue_url\": SQS_QUEUE_URL,\n",
    "        \"aws_region\": AWS_REGION,\n",
    "        \"aws_access_key\": AWS_ACCESS_KEY,\n",
    "        \"aws_secret_key\": AWS_SECRET_KEY,\n",
    "    }\n",
    ")\n",
    "print(\"Pipeline ID:\", pipeline.id)"
   ],
   "id": "7535e90de916aeed"
  }
 ],
 "metadata": {
  "kernelspec": {
   "display_name": "Python 3",
   "language": "python",
   "name": "python3"
  },
  "language_info": {
   "codemirror_mode": {
    "name": "ipython",
    "version": 2
   },
   "file_extension": ".py",
   "mimetype": "text/x-python",
   "name": "python",
   "nbconvert_exporter": "python",
   "pygments_lexer": "ipython2",
   "version": "2.7.6"
  }
 },
 "nbformat": 4,
 "nbformat_minor": 5
}
