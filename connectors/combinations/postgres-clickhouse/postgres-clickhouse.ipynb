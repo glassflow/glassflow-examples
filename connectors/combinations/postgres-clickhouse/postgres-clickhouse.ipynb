{
 "cells": [
  {
   "cell_type": "markdown",
   "id": "9ad9ac36-050a-4abe-9e5a-d53b05adb4f8",
   "metadata": {},
   "source": [
    "# GlassFlow Pipeline with Postgres to Clickhouse\n",
    "This example shows how to create a pipeline with postgres CDC as a data source and clickhouse as a data sink. Both of these are available as a managed connector in GlassFlow"
   ]
  },
  {
   "cell_type": "code",
   "execution_count": null,
   "id": "76e6ab90-f779-4011-8854-f5cefb2cf56b",
   "metadata": {},
   "outputs": [],
   "source": [
    "%pip install \"glassflow>=2.0.8\""
   ]
  },
  {
   "cell_type": "code",
   "execution_count": null,
   "id": "428979b5-5fbe-4093-8b45-94cffd8cc083",
   "metadata": {},
   "outputs": [],
   "source": [
    "import glassflow"
   ]
  },
  {
   "cell_type": "code",
   "execution_count": null,
   "id": "c4ac9547-c225-4a4a-8a23-e3be84161cb9",
   "metadata": {},
   "outputs": [],
   "source": [
    "# Please edit this variable with your own personal access token from https://app.glassflow.dev/profile\n",
    "personal_access_token = \"\"\n"
   ]
  },
  {
   "cell_type": "markdown",
   "id": "bdf850cf-97d3-4d01-8ad6-e49d62100c3f",
   "metadata": {},
   "source": [
    "## postgres configuration  \n",
    "Please see docs at https://www.glassflow.dev/docs/integrations/sources/postgres-cdc on how to setup the parameters"
   ]
  },
  {
   "cell_type": "code",
   "execution_count": null,
   "id": "33d99b0c-6034-4b56-b41f-76ec12566720",
   "metadata": {},
   "outputs": [],
   "source": [
    "\n",
    "# postgres credentials  \n",
    "# Please see docs at https://www.glassflow.dev/docs/integrations/sources/postgres-cdc on how to setup the parameters\n",
    "POSTGRES_HOST = \"\"\n",
    "POSTGRES_PORT = \"\"\n",
    "POSTGRES_USER = \"\"\n",
    "POSTGRES_PASSWORD = \"\"\n",
    "POSTGRES_DB_NAME = \"\"\n",
    "REPLICATION_SLOT = \"\"\n",
    "REPLICATION_PLUGIN_ARGS = \"\""
   ]
  },
  {
   "cell_type": "markdown",
   "id": "7afa02b5-96ca-47dd-965f-5c1fcfabfd9d",
   "metadata": {},
   "source": [
    "## Clickhouse configuration \n",
    "Please see docs at https://www.glassflow.dev/docs/integrations/sinks/clickhouse on how to setup the parameters"
   ]
  },
  {
   "cell_type": "code",
   "execution_count": null,
   "id": "da866446-5cfc-4726-b93f-99fa2189692b",
   "metadata": {},
   "outputs": [],
   "source": [
    "# Clickhouse configuration \n",
    "CLICKHOUSE_ADDRESS = \"\"\n",
    "CLICKHOUSE_DATABASE = \"\" \n",
    "CLICKHOUSE_USERNAME = \"\"\n",
    "CLICKHOUSE_PASSWORD = \"\"\n",
    "CLICKHOUSE_TABLE = \"\""
   ]
  },
  {
   "cell_type": "code",
   "execution_count": null,
   "id": "a6d077e1-08f8-4783-8c44-d2ac2260ec6a",
   "metadata": {},
   "outputs": [],
   "source": [
    "client = glassflow.GlassFlowClient(\n",
    "    personal_access_token=personal_access_token\n",
    ")"
   ]
  },
  {
   "cell_type": "code",
   "execution_count": null,
   "id": "e886aa71-16dd-4d3b-942f-d3e4de25bb97",
   "metadata": {},
   "outputs": [],
   "source": [
    "# Get the space named \"examples\" (or create one if no space is found)\n",
    "list_spaces = client.list_spaces()\n",
    "\n",
    "space_name = \"examples\"\n",
    "for s in list_spaces.spaces:\n",
    "    if s[\"name\"] == space_name:\n",
    "        space = glassflow.Space(\n",
    "            personal_access_token=client.personal_access_token,\n",
    "            id=s[\"id\"], \n",
    "            name=s[\"name\"]\n",
    "        )\n",
    "        break\n",
    "else:\n",
    "    space = client.create_space(name=space_name)\n",
    "\n",
    "print(f\"Space \\\"{space.name}\\\" with ID: {space.id}\")"
   ]
  },
  {
   "cell_type": "markdown",
   "id": "25c64216-476f-43fd-9d97-5b14e65501e2",
   "metadata": {},
   "source": [
    "# Setup Pipeline "
   ]
  },
  {
   "cell_type": "code",
   "execution_count": null,
   "id": "14959db9-30e2-4168-80d9-7adc572bbae8",
   "metadata": {},
   "outputs": [],
   "source": [
    "pipeline_name = \"postgres-to-clickhouse-example\"\n",
    "transformation_file='transform.py' # local file where transformation code exists\n",
    "space_id = space.id"
   ]
  },
  {
   "cell_type": "code",
   "execution_count": null,
   "id": "1fb23a58-a14d-48d5-a6c1-61bb3de041b5",
   "metadata": {},
   "outputs": [],
   "source": [
    "pipeline = client.create_pipeline(\n",
    "    name=pipeline_name, \n",
    "    transformation_file=transformation_file,\n",
    "    space_id=space_id, \n",
    "    source_kind=\"postgres\",\n",
    "    source_config={\n",
    "        \"db_host\": POSTGRES_HOST,\n",
    "        \"db_port\": POSTGRES_PORT,\n",
    "        \"db_user\": POSTGRES_USER,\n",
    "        \"db_pass\": POSTGRES_PASSWORD,\n",
    "        \"db_name\": POSTGRES_DB_NAME,\n",
    "        \"replication_slot\": REPLICATION_SLOT,\n",
    "        \"replication_output_plugin_args\": REPLICATION_PLUGIN_ARGS\n",
    "    },\n",
    "    sink_kind=\"clickhouse\",\n",
    "    sink_config={\n",
    "        \"addr\": CLICKHOUSE_ADDRESS,\n",
    "        \"database\": CLICKHOUSE_DATABASE,\n",
    "        \"username\": CLICKHOUSE_USERNAME,\n",
    "        \"password\": CLICKHOUSE_PASSWORD,\n",
    "        \"table\": CLICKHOUSE_TABLE,\n",
    "    }\n",
    ")\n",
    "print(\"Pipeline ID:\", pipeline.id)"
   ]
  },
  {
   "cell_type": "code",
   "execution_count": null,
   "id": "8fb6701d-ca1b-485a-abfc-5cd6a60c8ec8",
   "metadata": {},
   "outputs": [],
   "source": []
  }
 ],
 "metadata": {
  "kernelspec": {
   "display_name": "Python 3 (ipykernel)",
   "language": "python",
   "name": "python3"
  },
  "language_info": {
   "codemirror_mode": {
    "name": "ipython",
    "version": 3
   },
   "file_extension": ".py",
   "mimetype": "text/x-python",
   "name": "python",
   "nbconvert_exporter": "python",
   "pygments_lexer": "ipython3",
   "version": "3.9.6"
  }
 },
 "nbformat": 4,
 "nbformat_minor": 5
}
