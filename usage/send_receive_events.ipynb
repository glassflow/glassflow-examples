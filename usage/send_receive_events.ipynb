{
 "cells": [
  {
   "cell_type": "markdown",
   "id": "cd965581-d41d-4d6f-b6c3-f915d4e2994d",
   "metadata": {
    "collapsed": true,
    "jupyter": {
     "outputs_hidden": true
    }
   },
   "source": [
    "# Send and receive events from pipelines\n",
    "\n",
    "In this notebook we show how to send and receive events from a pipeline from the SDK.\n",
    "\n",
    "We start by creating a client with our personal access token."
   ]
  },
  {
   "cell_type": "code",
   "execution_count": 30,
   "id": "11d137c8-9e89-47fa-aa1d-15e8686e40d3",
   "metadata": {},
   "outputs": [],
   "source": [
    "from glassflow import GlassFlowClient\n",
    "\n",
    "# Please edit this variable with your own personal access token from https://app.glassflow.dev/profile\n",
    "personal_access_token = \"< your-personal-access-token >\""
   ]
  },
  {
   "cell_type": "code",
   "execution_count": 31,
   "id": "0343b5ce-957e-4fd6-b10b-87a1744023fe",
   "metadata": {},
   "outputs": [],
   "source": [
    "client = GlassFlowClient(\n",
    "    personal_access_token=personal_access_token\n",
    ")"
   ]
  },
  {
   "cell_type": "markdown",
   "id": "926bcfdf-2582-4787-8aa7-b3aca6d15852",
   "metadata": {},
   "source": [
    "## Create Pipelines\n",
    "\n",
    "Let's create the a space and a pipeline for the example"
   ]
  },
  {
   "cell_type": "code",
   "execution_count": 32,
   "id": "2f87adfe-8f30-4231-b2a8-70baf572364a",
   "metadata": {},
   "outputs": [
    {
     "name": "stdout",
     "output_type": "stream",
     "text": [
      "Writing transformation function ...\n",
      "Done!\n"
     ]
    }
   ],
   "source": [
    "%%bash\n",
    "echo \"Writing transformation function ...\"\n",
    "cat <<EOT > transformation.py \n",
    "def handler(data, log):\n",
    "    log.info(data)\n",
    "    return data\n",
    "EOT\n",
    "echo \"Done!\""
   ]
  },
  {
   "cell_type": "code",
   "execution_count": 33,
   "id": "8a7b280e-6076-4912-934d-b93dbd9dbd0d",
   "metadata": {},
   "outputs": [],
   "source": [
    "space = client.create_space(name=\"tutorials\")\n",
    "pipeline = client.create_pipeline(\n",
    "    name=\"example pipeline\",\n",
    "    space_id=space.id,\n",
    "    transformation_file=\"transformation.py\",\n",
    ")"
   ]
  },
  {
   "cell_type": "markdown",
   "id": "7f2a81b4-3bdf-4222-af59-92ed8f10d9b8",
   "metadata": {},
   "source": [
    "To send and receive data we need the pipeline's id and access token"
   ]
  },
  {
   "cell_type": "code",
   "execution_count": 34,
   "id": "2bd2c539-c610-4739-8231-bfaccb6a7e79",
   "metadata": {},
   "outputs": [
    {
     "name": "stdout",
     "output_type": "stream",
     "text": [
      "Pipeline ID: 09b17634-cbb3-43f4-8321-bb35b8736c0b\n",
      "Pipeline Access Token: jWHT3XMQEp5nkKJRtTn2M2F3NzvzAay39pp3YyJDkxj4NtT7gNkBk8nHC5ZstFcFn77TJ8fA7PGVywf5fzJSSrAmwcyKDVmwNKTA9TgKndYvFp8xygrxSqJdkymbqGfy\n"
     ]
    }
   ],
   "source": [
    "PIPELINE_ID = pipeline.id\n",
    "PIPELINE_ACCESS_TOKEN = pipeline.access_tokens[0][\"token\"]\n",
    "\n",
    "print(\"Pipeline ID:\", PIPELINE_ID)\n",
    "print(\"Pipeline Access Token:\", PIPELINE_ACCESS_TOKEN)"
   ]
  },
  {
   "cell_type": "markdown",
   "id": "76000cf9-c557-4bc7-a3d5-b762ff9fdb11",
   "metadata": {},
   "source": [
    "## Send events\n",
    "\n",
    "Now we can create source client to send events to the pipeline. "
   ]
  },
  {
   "cell_type": "code",
   "execution_count": 35,
   "id": "a3a281fc-de33-435e-ab20-f57b92dbe3f9",
   "metadata": {},
   "outputs": [],
   "source": [
    "from glassflow import PipelineDataSource\n",
    "\n",
    "source = PipelineDataSource(\n",
    "    pipeline_id=PIPELINE_ID,\n",
    "    pipeline_access_token=PIPELINE_ACCESS_TOKEN\n",
    ")"
   ]
  },
  {
   "cell_type": "code",
   "execution_count": 36,
   "id": "327f56a7-0508-4442-9221-7a52e1598aa9",
   "metadata": {},
   "outputs": [],
   "source": [
    "events = [\n",
    "    {\"name\": \"my-event\", \"idx\": 1},\n",
    "    {\"name\": \"my-event\", \"idx\": 2},\n",
    "    {\"name\": \"my-event\", \"idx\": 3},\n",
    "    {\"name\": \"my-event\", \"idx\": 4},\n",
    "    {\"name\": \"my-event\", \"idx\": 5},\n",
    "]"
   ]
  },
  {
   "cell_type": "code",
   "execution_count": 37,
   "id": "6d33b7f8-7886-45d3-92f6-786266b5e69a",
   "metadata": {},
   "outputs": [],
   "source": [
    "for event in events:\n",
    "    source.publish(event)"
   ]
  },
  {
   "cell_type": "markdown",
   "id": "47741d6b-0134-4865-9b05-6ab8c052c6ad",
   "metadata": {},
   "source": [
    "## Receive events\n",
    "\n",
    "Similarly, we can receive the events we sent by consuming from a sink client."
   ]
  },
  {
   "cell_type": "code",
   "execution_count": 38,
   "id": "3e96460a-ed6e-485b-a68b-7b364b1d4702",
   "metadata": {},
   "outputs": [],
   "source": [
    "from glassflow import PipelineDataSink\n",
    "\n",
    "sink = PipelineDataSink(\n",
    "    pipeline_id=PIPELINE_ID,\n",
    "    pipeline_access_token=PIPELINE_ACCESS_TOKEN\n",
    ")"
   ]
  },
  {
   "cell_type": "code",
   "execution_count": 39,
   "id": "da9f938f-ec87-4a5d-a8de-1c442f216e5a",
   "metadata": {},
   "outputs": [
    {
     "name": "stdout",
     "output_type": "stream",
     "text": [
      "{'idx': 1, 'name': 'my-event'}\n",
      "{'idx': 2, 'name': 'my-event'}\n",
      "{'idx': 3, 'name': 'my-event'}\n",
      "{'idx': 4, 'name': 'my-event'}\n",
      "{'idx': 5, 'name': 'my-event'}\n"
     ]
    }
   ],
   "source": [
    "received_events = []\n",
    "while True:\n",
    "    res = sink.consume()\n",
    "\n",
    "    if res.status_code == 200:\n",
    "        event = res.json()\n",
    "        print(event)\n",
    "        received_events.append(event)\n",
    "\n",
    "    if len(received_events) == 5:\n",
    "        break"
   ]
  },
  {
   "cell_type": "markdown",
   "id": "9b28b2a9-1073-431e-96f5-4da0dbd8012b",
   "metadata": {},
   "source": [
    "## Clean-up\n",
    "\n",
    "Delete the pipelines and spaces we created:"
   ]
  },
  {
   "cell_type": "code",
   "execution_count": 40,
   "id": "7c949dcc-b092-42f1-ba1a-8755e0b760f7",
   "metadata": {},
   "outputs": [],
   "source": [
    "pipeline.delete()\n",
    "space.delete()"
   ]
  }
 ],
 "metadata": {
  "kernelspec": {
   "display_name": "Python 3 (ipykernel)",
   "language": "python",
   "name": "python3"
  },
  "language_info": {
   "codemirror_mode": {
    "name": "ipython",
    "version": 3
   },
   "file_extension": ".py",
   "mimetype": "text/x-python",
   "name": "python",
   "nbconvert_exporter": "python",
   "pygments_lexer": "ipython3",
   "version": "3.9.6"
  }
 },
 "nbformat": 4,
 "nbformat_minor": 5
}
