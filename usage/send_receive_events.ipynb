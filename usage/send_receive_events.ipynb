{
 "cells": [
  {
   "cell_type": "markdown",
   "id": "cd965581-d41d-4d6f-b6c3-f915d4e2994d",
   "metadata": {
    "collapsed": true,
    "jupyter": {
     "outputs_hidden": true
    }
   },
   "source": [
    "# Send and receive events from pipelines\n",
    "\n",
    "In this notebook, we demonstrate how to send and receive events from a pipeline using the SDK.\n",
    "\n",
    "\n",
    "If you do not have any running pipeline, go to [examples](https://github.com/glassflow/glassflow-examples/tree/main/examples) to create some example pipeilne or to the [Web App](https://app.glassflow.dev/) to create one"
   ]
  },
  {
   "cell_type": "code",
   "id": "feaabf98-7567-453c-8271-c6b9b52eb02d",
   "metadata": {
    "ExecuteTime": {
     "end_time": "2024-12-10T13:17:02.997918Z",
     "start_time": "2024-12-10T13:17:02.440999Z"
    }
   },
   "source": "%pip install \"glassflow>=2.0.8\"",
   "outputs": [
    {
     "name": "stdout",
     "output_type": "stream",
     "text": [
      "Requirement already satisfied: glassflow>=2.0.8 in /Users/pablopardogarcia/.virtualenvs/glassflow-examples-/lib/python3.9/site-packages (2.0.8)\r\n",
      "Requirement already satisfied: urllib3==1.26.15 in /Users/pablopardogarcia/.virtualenvs/glassflow-examples-/lib/python3.9/site-packages (from glassflow>=2.0.8) (1.26.15)\r\n",
      "Requirement already satisfied: certifi>=2023.7.22 in /Users/pablopardogarcia/.virtualenvs/glassflow-examples-/lib/python3.9/site-packages (from glassflow>=2.0.8) (2024.8.30)\r\n",
      "Requirement already satisfied: charset-normalizer>=3.2.0 in /Users/pablopardogarcia/.virtualenvs/glassflow-examples-/lib/python3.9/site-packages (from glassflow>=2.0.8) (3.3.2)\r\n",
      "Requirement already satisfied: dataclasses-json>=0.6.4 in /Users/pablopardogarcia/.virtualenvs/glassflow-examples-/lib/python3.9/site-packages (from glassflow>=2.0.8) (0.6.7)\r\n",
      "Requirement already satisfied: idna>=3.4 in /Users/pablopardogarcia/.virtualenvs/glassflow-examples-/lib/python3.9/site-packages (from glassflow>=2.0.8) (3.10)\r\n",
      "Requirement already satisfied: jsonpath-python>=1.0.6 in /Users/pablopardogarcia/.virtualenvs/glassflow-examples-/lib/python3.9/site-packages (from glassflow>=2.0.8) (1.0.6)\r\n",
      "Requirement already satisfied: marshmallow>=3.19.0 in /Users/pablopardogarcia/.virtualenvs/glassflow-examples-/lib/python3.9/site-packages (from glassflow>=2.0.8) (3.22.0)\r\n",
      "Requirement already satisfied: mypy-extensions>=1.0.0 in /Users/pablopardogarcia/.virtualenvs/glassflow-examples-/lib/python3.9/site-packages (from glassflow>=2.0.8) (1.0.0)\r\n",
      "Requirement already satisfied: packaging>=23.1 in /Users/pablopardogarcia/.virtualenvs/glassflow-examples-/lib/python3.9/site-packages (from glassflow>=2.0.8) (24.1)\r\n",
      "Requirement already satisfied: python-dateutil>=2.8.2 in /Users/pablopardogarcia/.virtualenvs/glassflow-examples-/lib/python3.9/site-packages (from glassflow>=2.0.8) (2.9.0.post0)\r\n",
      "Requirement already satisfied: requests>=2.31.0 in /Users/pablopardogarcia/.virtualenvs/glassflow-examples-/lib/python3.9/site-packages (from glassflow>=2.0.8) (2.32.3)\r\n",
      "Requirement already satisfied: six>=1.16.0 in /Users/pablopardogarcia/.virtualenvs/glassflow-examples-/lib/python3.9/site-packages (from glassflow>=2.0.8) (1.16.0)\r\n",
      "Requirement already satisfied: typing-inspect>=0.9.0 in /Users/pablopardogarcia/.virtualenvs/glassflow-examples-/lib/python3.9/site-packages (from glassflow>=2.0.8) (0.9.0)\r\n",
      "Requirement already satisfied: typing_extensions>=4.7.1 in /Users/pablopardogarcia/.virtualenvs/glassflow-examples-/lib/python3.9/site-packages (from glassflow>=2.0.8) (4.12.2)\r\n",
      "Requirement already satisfied: python-dotenv==1.0.1 in /Users/pablopardogarcia/.virtualenvs/glassflow-examples-/lib/python3.9/site-packages (from glassflow>=2.0.8) (1.0.1)\r\n",
      "\r\n",
      "\u001B[1m[\u001B[0m\u001B[34;49mnotice\u001B[0m\u001B[1;39;49m]\u001B[0m\u001B[39;49m A new release of pip is available: \u001B[0m\u001B[31;49m24.2\u001B[0m\u001B[39;49m -> \u001B[0m\u001B[32;49m24.3.1\u001B[0m\r\n",
      "\u001B[1m[\u001B[0m\u001B[34;49mnotice\u001B[0m\u001B[1;39;49m]\u001B[0m\u001B[39;49m To update, run: \u001B[0m\u001B[32;49mpip install --upgrade pip\u001B[0m\r\n",
      "Note: you may need to restart the kernel to use updated packages.\n"
     ]
    }
   ],
   "execution_count": 1
  },
  {
   "cell_type": "markdown",
   "id": "95d1e3fc-2e85-45f1-81c6-0bbccd8fd72f",
   "metadata": {},
   "source": [
    "### Pipeline Details (get from the web-app) "
   ]
  },
  {
   "cell_type": "code",
   "id": "2bd2c539-c610-4739-8231-bfaccb6a7e79",
   "metadata": {
    "ExecuteTime": {
     "end_time": "2024-12-10T13:17:03.577403Z",
     "start_time": "2024-12-10T13:17:03.574748Z"
    }
   },
   "source": [
    "PIPELINE_ID = \"<your pipeline id>\"\n",
    "PIPELINE_ACCESS_TOKEN = \"<pipeline access token>\"\n",
    "\n",
    "print(\"Pipeline ID:\", PIPELINE_ID)\n",
    "print(\"Your pipeline page on the web-app\", f\"https://app.glassflow.dev/pipelines/{PIPELINE_ID}\")"
   ],
   "outputs": [
    {
     "name": "stdout",
     "output_type": "stream",
     "text": [
      "Pipeline ID: <your pipeline id>\n",
      "Your pipeline page on the web-app https://app.glassflow.dev/pipelines/<your pipeline id>\n"
     ]
    }
   ],
   "execution_count": 2
  },
  {
   "cell_type": "markdown",
   "id": "76000cf9-c557-4bc7-a3d5-b762ff9fdb11",
   "metadata": {},
   "source": [
    "## Send events\n",
    "\n",
    "Now we can create source client to send events to the pipeline. "
   ]
  },
  {
   "cell_type": "code",
   "id": "a3a281fc-de33-435e-ab20-f57b92dbe3f9",
   "metadata": {
    "ExecuteTime": {
     "end_time": "2024-12-10T13:17:05.156407Z",
     "start_time": "2024-12-10T13:17:05.071043Z"
    }
   },
   "source": [
    "from glassflow import PipelineDataSource\n",
    "\n",
    "source = PipelineDataSource(\n",
    "    pipeline_id=PIPELINE_ID,\n",
    "    pipeline_access_token=PIPELINE_ACCESS_TOKEN\n",
    ")"
   ],
   "outputs": [],
   "execution_count": 3
  },
  {
   "cell_type": "code",
   "id": "327f56a7-0508-4442-9221-7a52e1598aa9",
   "metadata": {
    "ExecuteTime": {
     "end_time": "2024-12-10T13:17:05.884429Z",
     "start_time": "2024-12-10T13:17:05.880685Z"
    }
   },
   "source": [
    "events = [\n",
    "    {\"name\": \"my-event\", \"idx\": 1},\n",
    "    {\"name\": \"my-event\", \"idx\": 2},\n",
    "    {\"name\": \"my-event\", \"idx\": 3},\n",
    "    {\"name\": \"my-event\", \"idx\": 4},\n",
    "    {\"name\": \"my-event\", \"idx\": 5},\n",
    "]"
   ],
   "outputs": [],
   "execution_count": 4
  },
  {
   "cell_type": "code",
   "id": "6d33b7f8-7886-45d3-92f6-786266b5e69a",
   "metadata": {
    "ExecuteTime": {
     "end_time": "2024-12-10T13:17:06.749452Z",
     "start_time": "2024-12-10T13:17:06.525932Z"
    }
   },
   "source": [
    "for event in events:\n",
    "    source.publish(event)"
   ],
   "outputs": [
    {
     "ename": "Error",
     "evalue": "{\"detail\":\"path parameter 'pipeline_id': parse custom type: parse google/uuid: invalid UUID length: 18\"}",
     "output_type": "error",
     "traceback": [
      "\u001B[0;31m---------------------------------------------------------------------------\u001B[0m",
      "\u001B[0;31mError\u001B[0m                                     Traceback (most recent call last)",
      "Cell \u001B[0;32mIn[5], line 2\u001B[0m\n\u001B[1;32m      1\u001B[0m \u001B[38;5;28;01mfor\u001B[39;00m event \u001B[38;5;129;01min\u001B[39;00m events:\n\u001B[0;32m----> 2\u001B[0m     \u001B[43msource\u001B[49m\u001B[38;5;241;43m.\u001B[39;49m\u001B[43mpublish\u001B[49m\u001B[43m(\u001B[49m\u001B[43mevent\u001B[49m\u001B[43m)\u001B[49m\n",
      "File \u001B[0;32m~/.virtualenvs/glassflow-examples-/lib/python3.9/site-packages/glassflow/pipeline_data.py:75\u001B[0m, in \u001B[0;36mPipelineDataSource.publish\u001B[0;34m(self, request_body)\u001B[0m\n\u001B[1;32m     58\u001B[0m \u001B[38;5;250m\u001B[39m\u001B[38;5;124;03m\"\"\"Push a new message into the pipeline\u001B[39;00m\n\u001B[1;32m     59\u001B[0m \n\u001B[1;32m     60\u001B[0m \u001B[38;5;124;03mArgs:\u001B[39;00m\n\u001B[0;32m   (...)\u001B[0m\n\u001B[1;32m     68\u001B[0m \u001B[38;5;124;03m    ClientError: If an error occurred while publishing the event\u001B[39;00m\n\u001B[1;32m     69\u001B[0m \u001B[38;5;124;03m\"\"\"\u001B[39;00m\n\u001B[1;32m     70\u001B[0m request \u001B[38;5;241m=\u001B[39m operations\u001B[38;5;241m.\u001B[39mPublishEventRequest(\n\u001B[1;32m     71\u001B[0m     pipeline_id\u001B[38;5;241m=\u001B[39m\u001B[38;5;28mself\u001B[39m\u001B[38;5;241m.\u001B[39mpipeline_id,\n\u001B[1;32m     72\u001B[0m     x_pipeline_access_token\u001B[38;5;241m=\u001B[39m\u001B[38;5;28mself\u001B[39m\u001B[38;5;241m.\u001B[39mpipeline_access_token,\n\u001B[1;32m     73\u001B[0m     request_body\u001B[38;5;241m=\u001B[39mrequest_body,\n\u001B[1;32m     74\u001B[0m )\n\u001B[0;32m---> 75\u001B[0m base_res \u001B[38;5;241m=\u001B[39m \u001B[38;5;28;43mself\u001B[39;49m\u001B[38;5;241;43m.\u001B[39;49m\u001B[43m_request\u001B[49m\u001B[43m(\u001B[49m\n\u001B[1;32m     76\u001B[0m \u001B[43m    \u001B[49m\u001B[43mmethod\u001B[49m\u001B[38;5;241;43m=\u001B[39;49m\u001B[38;5;124;43m\"\u001B[39;49m\u001B[38;5;124;43mPOST\u001B[39;49m\u001B[38;5;124;43m\"\u001B[39;49m\u001B[43m,\u001B[49m\n\u001B[1;32m     77\u001B[0m \u001B[43m    \u001B[49m\u001B[43mendpoint\u001B[49m\u001B[38;5;241;43m=\u001B[39;49m\u001B[38;5;124;43m\"\u001B[39;49m\u001B[38;5;124;43m/pipelines/\u001B[39;49m\u001B[38;5;132;43;01m{pipeline_id}\u001B[39;49;00m\u001B[38;5;124;43m/topics/input/events\u001B[39;49m\u001B[38;5;124;43m\"\u001B[39;49m\u001B[43m,\u001B[49m\n\u001B[1;32m     78\u001B[0m \u001B[43m    \u001B[49m\u001B[43mrequest\u001B[49m\u001B[38;5;241;43m=\u001B[39;49m\u001B[43mrequest\u001B[49m\u001B[43m,\u001B[49m\n\u001B[1;32m     79\u001B[0m \u001B[43m\u001B[49m\u001B[43m)\u001B[49m\n\u001B[1;32m     81\u001B[0m \u001B[38;5;28;01mreturn\u001B[39;00m operations\u001B[38;5;241m.\u001B[39mPublishEventResponse(\n\u001B[1;32m     82\u001B[0m     status_code\u001B[38;5;241m=\u001B[39mbase_res\u001B[38;5;241m.\u001B[39mstatus_code,\n\u001B[1;32m     83\u001B[0m     content_type\u001B[38;5;241m=\u001B[39mbase_res\u001B[38;5;241m.\u001B[39mcontent_type,\n\u001B[1;32m     84\u001B[0m     raw_response\u001B[38;5;241m=\u001B[39mbase_res\u001B[38;5;241m.\u001B[39mraw_response,\n\u001B[1;32m     85\u001B[0m )\n",
      "File \u001B[0;32m~/.virtualenvs/glassflow-examples-/lib/python3.9/site-packages/glassflow/pipeline_data.py:43\u001B[0m, in \u001B[0;36mPipelineDataClient._request\u001B[0;34m(self, method, endpoint, request, **kwargs)\u001B[0m\n\u001B[1;32m     39\u001B[0m \u001B[38;5;28;01mdef\u001B[39;00m \u001B[38;5;21m_request\u001B[39m(\n\u001B[1;32m     40\u001B[0m     \u001B[38;5;28mself\u001B[39m, method: \u001B[38;5;28mstr\u001B[39m, endpoint: \u001B[38;5;28mstr\u001B[39m, request: BasePipelineDataRequest, \u001B[38;5;241m*\u001B[39m\u001B[38;5;241m*\u001B[39mkwargs\n\u001B[1;32m     41\u001B[0m ) \u001B[38;5;241m-\u001B[39m\u001B[38;5;241m>\u001B[39m BaseResponse:\n\u001B[1;32m     42\u001B[0m     \u001B[38;5;28;01mtry\u001B[39;00m:\n\u001B[0;32m---> 43\u001B[0m         res \u001B[38;5;241m=\u001B[39m \u001B[38;5;28;43msuper\u001B[39;49m\u001B[43m(\u001B[49m\u001B[43m)\u001B[49m\u001B[38;5;241;43m.\u001B[39;49m\u001B[43m_request\u001B[49m\u001B[43m(\u001B[49m\u001B[43mmethod\u001B[49m\u001B[43m,\u001B[49m\u001B[43m \u001B[49m\u001B[43mendpoint\u001B[49m\u001B[43m,\u001B[49m\u001B[43m \u001B[49m\u001B[43mrequest\u001B[49m\u001B[43m,\u001B[49m\u001B[43m \u001B[49m\u001B[38;5;241;43m*\u001B[39;49m\u001B[38;5;241;43m*\u001B[39;49m\u001B[43mkwargs\u001B[49m\u001B[43m)\u001B[49m\n\u001B[1;32m     44\u001B[0m     \u001B[38;5;28;01mexcept\u001B[39;00m errors\u001B[38;5;241m.\u001B[39mClientError \u001B[38;5;28;01mas\u001B[39;00m e:\n\u001B[1;32m     45\u001B[0m         \u001B[38;5;28;01mif\u001B[39;00m e\u001B[38;5;241m.\u001B[39mstatus_code \u001B[38;5;241m==\u001B[39m \u001B[38;5;241m401\u001B[39m:\n",
      "File \u001B[0;32m~/.virtualenvs/glassflow-examples-/lib/python3.9/site-packages/glassflow/api_client.py:86\u001B[0m, in \u001B[0;36mAPIClient._request\u001B[0;34m(self, method, endpoint, request, serialization_method)\u001B[0m\n\u001B[1;32m     84\u001B[0m     out \u001B[38;5;241m=\u001B[39m utils\u001B[38;5;241m.\u001B[39munmarshal_json(http_res\u001B[38;5;241m.\u001B[39mtext, errors\u001B[38;5;241m.\u001B[39mError)\n\u001B[1;32m     85\u001B[0m     out\u001B[38;5;241m.\u001B[39mraw_response \u001B[38;5;241m=\u001B[39m http_res\n\u001B[0;32m---> 86\u001B[0m     \u001B[38;5;28;01mraise\u001B[39;00m out\n\u001B[1;32m     87\u001B[0m \u001B[38;5;28;01melif\u001B[39;00m http_res\u001B[38;5;241m.\u001B[39mstatus_code \u001B[38;5;241m==\u001B[39m \u001B[38;5;241m429\u001B[39m:\n\u001B[1;32m     88\u001B[0m     \u001B[38;5;28;01mpass\u001B[39;00m\n",
      "\u001B[0;31mError\u001B[0m: {\"detail\":\"path parameter 'pipeline_id': parse custom type: parse google/uuid: invalid UUID length: 18\"}"
     ]
    }
   ],
   "execution_count": 5
  },
  {
   "cell_type": "markdown",
   "id": "47741d6b-0134-4865-9b05-6ab8c052c6ad",
   "metadata": {},
   "source": [
    "## Receive events\n",
    "\n",
    "Similarly, we can receive the events we sent by consuming them from a sink client."
   ]
  },
  {
   "cell_type": "code",
   "execution_count": null,
   "id": "3e96460a-ed6e-485b-a68b-7b364b1d4702",
   "metadata": {},
   "outputs": [],
   "source": [
    "from glassflow import PipelineDataSink\n",
    "\n",
    "sink = PipelineDataSink(\n",
    "    pipeline_id=PIPELINE_ID,\n",
    "    pipeline_access_token=PIPELINE_ACCESS_TOKEN\n",
    ")"
   ]
  },
  {
   "cell_type": "code",
   "execution_count": null,
   "id": "da9f938f-ec87-4a5d-a8de-1c442f216e5a",
   "metadata": {},
   "outputs": [],
   "source": [
    "received_events = []\n",
    "while True:\n",
    "    res = sink.consume()\n",
    "\n",
    "    if res.status_code == 200:\n",
    "        event = res.json()\n",
    "        print(event)\n",
    "        received_events.append(event)\n",
    "\n",
    "    if len(received_events) == 5:\n",
    "        break"
   ]
  }
 ],
 "metadata": {
  "kernelspec": {
   "display_name": "Python 3 (ipykernel)",
   "language": "python",
   "name": "python3"
  },
  "language_info": {
   "codemirror_mode": {
    "name": "ipython",
    "version": 3
   },
   "file_extension": ".py",
   "mimetype": "text/x-python",
   "name": "python",
   "nbconvert_exporter": "python",
   "pygments_lexer": "ipython3",
   "version": "3.9.6"
  }
 },
 "nbformat": 4,
 "nbformat_minor": 5
}
