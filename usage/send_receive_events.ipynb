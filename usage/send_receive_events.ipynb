{
 "cells": [
  {
   "cell_type": "markdown",
   "id": "cd965581-d41d-4d6f-b6c3-f915d4e2994d",
   "metadata": {
    "collapsed": true,
    "jupyter": {
     "outputs_hidden": true
    }
   },
   "source": [
    "# Send and receive events from pipelines\n",
    "\n",
    "In this notebook, we demonstrate how to send and receive events from a pipeline using the SDK.\n",
    "\n",
    "\n",
    "If you do not have any running pipeline, go to [examples](https://github.com/glassflow/glassflow-examples/tree/main/examples) to create some example pipeilne or to the [Web App](https://app.glassflow.dev/) to create one"
   ]
  },
  {
   "cell_type": "code",
   "execution_count": null,
   "id": "feaabf98-7567-453c-8271-c6b9b52eb02d",
   "metadata": {},
   "outputs": [],
   "source": [
    "%pip install \"glassflow>=2.0.5\""
   ]
  },
  {
   "cell_type": "markdown",
   "id": "95d1e3fc-2e85-45f1-81c6-0bbccd8fd72f",
   "metadata": {},
   "source": [
    "### Pipeline Details (get from the web-app) "
   ]
  },
  {
   "cell_type": "code",
   "execution_count": null,
   "id": "2bd2c539-c610-4739-8231-bfaccb6a7e79",
   "metadata": {},
   "outputs": [],
   "source": [
    "PIPELINE_ID = \"<your pipeline id>\"\n",
    "PIPELINE_ACCESS_TOKEN = \"<pipeline access token>\"\n",
    "\n",
    "print(\"Pipeline ID:\", PIPELINE_ID)\n",
    "print(\"Your pipeline page on the web-app\", f\"https://app.glassflow.dev/pipelines/{PIPELINE_ID}\")"
   ]
  },
  {
   "cell_type": "markdown",
   "id": "76000cf9-c557-4bc7-a3d5-b762ff9fdb11",
   "metadata": {},
   "source": [
    "## Send events\n",
    "\n",
    "Now we can create source client to send events to the pipeline. "
   ]
  },
  {
   "cell_type": "code",
   "execution_count": null,
   "id": "a3a281fc-de33-435e-ab20-f57b92dbe3f9",
   "metadata": {},
   "outputs": [],
   "source": [
    "from glassflow import PipelineDataSource\n",
    "\n",
    "source = PipelineDataSource(\n",
    "    pipeline_id=PIPELINE_ID,\n",
    "    pipeline_access_token=PIPELINE_ACCESS_TOKEN\n",
    ")"
   ]
  },
  {
   "cell_type": "code",
   "execution_count": null,
   "id": "327f56a7-0508-4442-9221-7a52e1598aa9",
   "metadata": {},
   "outputs": [],
   "source": [
    "events = [\n",
    "    {\"name\": \"my-event\", \"idx\": 1},\n",
    "    {\"name\": \"my-event\", \"idx\": 2},\n",
    "    {\"name\": \"my-event\", \"idx\": 3},\n",
    "    {\"name\": \"my-event\", \"idx\": 4},\n",
    "    {\"name\": \"my-event\", \"idx\": 5},\n",
    "]"
   ]
  },
  {
   "cell_type": "code",
   "execution_count": null,
   "id": "6d33b7f8-7886-45d3-92f6-786266b5e69a",
   "metadata": {},
   "outputs": [],
   "source": [
    "for event in events:\n",
    "    source.publish(event)"
   ]
  },
  {
   "cell_type": "markdown",
   "id": "47741d6b-0134-4865-9b05-6ab8c052c6ad",
   "metadata": {},
   "source": [
    "## Receive events\n",
    "\n",
    "Similarly, we can receive the events we sent by consuming them from a sink client."
   ]
  },
  {
   "cell_type": "code",
   "execution_count": null,
   "id": "3e96460a-ed6e-485b-a68b-7b364b1d4702",
   "metadata": {},
   "outputs": [],
   "source": [
    "from glassflow import PipelineDataSink\n",
    "\n",
    "sink = PipelineDataSink(\n",
    "    pipeline_id=PIPELINE_ID,\n",
    "    pipeline_access_token=PIPELINE_ACCESS_TOKEN\n",
    ")"
   ]
  },
  {
   "cell_type": "code",
   "execution_count": null,
   "id": "da9f938f-ec87-4a5d-a8de-1c442f216e5a",
   "metadata": {},
   "outputs": [],
   "source": [
    "received_events = []\n",
    "while True:\n",
    "    res = sink.consume()\n",
    "\n",
    "    if res.status_code == 200:\n",
    "        event = res.json()\n",
    "        print(event)\n",
    "        received_events.append(event)\n",
    "\n",
    "    if len(received_events) == 5:\n",
    "        break"
   ]
  }
 ],
 "metadata": {
  "kernelspec": {
   "display_name": "Python 3 (ipykernel)",
   "language": "python",
   "name": "python3"
  },
  "language_info": {
   "codemirror_mode": {
    "name": "ipython",
    "version": 3
   },
   "file_extension": ".py",
   "mimetype": "text/x-python",
   "name": "python",
   "nbconvert_exporter": "python",
   "pygments_lexer": "ipython3",
   "version": "3.9.6"
  }
 },
 "nbformat": 4,
 "nbformat_minor": 5
}
