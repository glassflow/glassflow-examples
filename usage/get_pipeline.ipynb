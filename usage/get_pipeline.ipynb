{
 "cells": [
  {
   "cell_type": "code",
   "execution_count": null,
   "id": "c07f1c8c-a7e9-4c02-bc09-0738ca762781",
   "metadata": {},
   "outputs": [],
   "source": [
    "import glassflow"
   ]
  },
  {
   "cell_type": "code",
   "execution_count": null,
   "id": "0ba00f4d-eaae-4300-ba17-e504338a5f10",
   "metadata": {},
   "outputs": [],
   "source": [
    "import pandas as pd"
   ]
  },
  {
   "cell_type": "markdown",
   "id": "f22c61fd-dbef-4c5c-a160-04df35db3ccf",
   "metadata": {},
   "source": [
    "## Introduction \n",
    "This examples shows how to get a list of pipelines and interact with one of the pipelines. \n",
    "If you do not have any pipelines created, follow one of our other tutorials / examples to create a pipeline or create one at the [webapp](https://app.glassflow.dev)"
   ]
  },
  {
   "cell_type": "code",
   "execution_count": null,
   "id": "113bd1a3-477d-49da-a416-41da43e43a37",
   "metadata": {},
   "outputs": [],
   "source": [
    "# Please edit this variable with your own personal access token from https://app.glassflow.dev/profile\n",
    "\n",
    "glassflow_personal_access_token = \"\""
   ]
  },
  {
   "cell_type": "code",
   "execution_count": null,
   "id": "a1f8ce60-4e2e-4996-a603-1ac7669f8200",
   "metadata": {},
   "outputs": [],
   "source": [
    "## Setup glassflow client\n",
    "client = glassflow.GlassFlowClient(personal_access_token=glassflow_personal_access_token)"
   ]
  },
  {
   "cell_type": "code",
   "execution_count": null,
   "id": "3e31f576-06d0-47f4-945b-b3fa4603ee31",
   "metadata": {},
   "outputs": [],
   "source": [
    "# List all the pipelines "
   ]
  },
  {
   "cell_type": "code",
   "execution_count": null,
   "id": "6f42248c-9d0d-423c-b563-953c4320b910",
   "metadata": {},
   "outputs": [],
   "source": [
    "pipeline_resp = client.list_pipelines()"
   ]
  },
  {
   "cell_type": "code",
   "execution_count": null,
   "id": "00ad3315-1ea2-4c67-9f6c-6ee247ec0b6f",
   "metadata": {},
   "outputs": [],
   "source": [
    "type(pipeline_resp)"
   ]
  },
  {
   "cell_type": "code",
   "execution_count": null,
   "id": "0f5203ed-010f-4fae-89e0-f00e1c837bfb",
   "metadata": {},
   "outputs": [],
   "source": [
    "pipeline_list = pipeline_resp.pipelines"
   ]
  },
  {
   "cell_type": "code",
   "execution_count": null,
   "id": "a3c1fd21-a748-4558-a38e-396fda205560",
   "metadata": {
    "scrolled": true
   },
   "outputs": [],
   "source": [
    "type(pipeline_list)"
   ]
  },
  {
   "cell_type": "code",
   "execution_count": null,
   "id": "b694e682-9aa9-41c5-b145-03fbbf1bea1f",
   "metadata": {},
   "outputs": [],
   "source": [
    "assert len(pipeline_list) > 0"
   ]
  },
  {
   "cell_type": "code",
   "execution_count": null,
   "id": "3bdb2b74-eee0-476c-b539-a3a0b78abe06",
   "metadata": {},
   "outputs": [],
   "source": [
    "if len(pipeline_list) == 0:\n",
    "    print(\"You currently do not have any pipelines. Please create a pipeline first before continuing\")"
   ]
  },
  {
   "cell_type": "code",
   "execution_count": null,
   "id": "3cf5bebd-5487-40e0-bc27-e4ee757975b4",
   "metadata": {},
   "outputs": [],
   "source": [
    "# show the list of pipelines as a table"
   ]
  },
  {
   "cell_type": "code",
   "execution_count": null,
   "id": "3f9c60d3-e295-4f76-9289-cb2403af8f65",
   "metadata": {},
   "outputs": [],
   "source": [
    "pipelines_df = pd.DataFrame(pipeline_list)"
   ]
  },
  {
   "cell_type": "code",
   "execution_count": null,
   "id": "07e9bc55-9878-4d56-9e9a-20dcef0ab67e",
   "metadata": {
    "scrolled": true
   },
   "outputs": [],
   "source": [
    "display(pipelines_df)"
   ]
  },
  {
   "cell_type": "code",
   "execution_count": null,
   "id": "6a18578c-9f37-4c8a-82ff-cd17baa6c815",
   "metadata": {},
   "outputs": [],
   "source": [
    "# take the latest pipeline from the list and get additional details of the pipeline"
   ]
  },
  {
   "cell_type": "code",
   "execution_count": null,
   "id": "bc407981-280e-45eb-bea4-9d924e3b1b5d",
   "metadata": {},
   "outputs": [],
   "source": [
    "pipeline_selected = pipeline_list[-1] "
   ]
  },
  {
   "cell_type": "code",
   "execution_count": null,
   "id": "2acb5ba7-b50a-45b2-9c2c-21fbe48dfbfd",
   "metadata": {},
   "outputs": [],
   "source": [
    "display(pipeline_selected)"
   ]
  },
  {
   "cell_type": "code",
   "execution_count": null,
   "id": "d07fedb6-4f0e-46b5-af02-bd62eb38cafa",
   "metadata": {},
   "outputs": [],
   "source": [
    "pipeline = client.get_pipeline(pipeline_id=pipeline_selected['id'])"
   ]
  },
  {
   "cell_type": "code",
   "execution_count": null,
   "id": "0006c999-7709-4310-b3dd-f1fd76c41def",
   "metadata": {},
   "outputs": [],
   "source": [
    "type(pipeline)"
   ]
  },
  {
   "cell_type": "code",
   "execution_count": null,
   "id": "b5f137ad-d324-434f-bef1-42929334d10b",
   "metadata": {},
   "outputs": [],
   "source": [
    "# Display any environment variables set at the pipeline "
   ]
  },
  {
   "cell_type": "code",
   "execution_count": null,
   "id": "0b163d70-0fc3-4ef5-a8fe-b4204474f6f5",
   "metadata": {},
   "outputs": [],
   "source": [
    "display(pipeline.env_vars)"
   ]
  },
  {
   "cell_type": "code",
   "execution_count": null,
   "id": "a73750b9-3ba3-406e-882a-580c24596445",
   "metadata": {},
   "outputs": [],
   "source": []
  },
  {
   "cell_type": "code",
   "execution_count": null,
   "id": "58ec31c1-112f-49a8-8f6d-8f8ade94542e",
   "metadata": {},
   "outputs": [],
   "source": []
  }
 ],
 "metadata": {
  "kernelspec": {
   "display_name": "Python 3 (ipykernel)",
   "language": "python",
   "name": "python3"
  },
  "language_info": {
   "codemirror_mode": {
    "name": "ipython",
    "version": 3
   },
   "file_extension": ".py",
   "mimetype": "text/x-python",
   "name": "python",
   "nbconvert_exporter": "python",
   "pygments_lexer": "ipython3",
   "version": "3.9.6"
  }
 },
 "nbformat": 4,
 "nbformat_minor": 5
}
