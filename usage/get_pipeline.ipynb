{
 "cells": [
  {
   "cell_type": "markdown",
   "id": "0684e7d6-02a9-4a50-8a4b-c0c6e6b7795e",
   "metadata": {},
   "source": [
    "# Get Pipeline Information\n",
    "\n",
    "This example shows how to get a list of pipelines and interact with one of them.\n",
    "If you do not have any pipelines created, follow one of our other tutorials or examples to create a pipeline, or create one in the [webapp](https://app.glassflow.dev)"
   ]
  },
  {
   "cell_type": "code",
   "execution_count": null,
   "id": "c07f1c8c-a7e9-4c02-bc09-0738ca762781",
   "metadata": {
    "ExecuteTime": {
     "end_time": "2024-10-02T02:13:50.005236Z",
     "start_time": "2024-10-02T02:13:49.956734Z"
    }
   },
   "outputs": [],
   "source": [
    "from glassflow import GlassFlowClient\n",
    "import pandas as pd\n",
    "\n",
    "# Please edit this variable with your own personal access token from https://app.glassflow.dev/profile\n",
    "personal_access_token = \"< your-personal-access-token >\""
   ]
  },
  {
   "cell_type": "code",
   "execution_count": null,
   "id": "a1f8ce60-4e2e-4996-a603-1ac7669f8200",
   "metadata": {
    "ExecuteTime": {
     "end_time": "2024-10-02T02:15:12.578831Z",
     "start_time": "2024-10-02T02:15:12.576414Z"
    }
   },
   "outputs": [],
   "source": [
    "## Setup glassflow client\n",
    "client = GlassFlowClient(\n",
    "    personal_access_token=personal_access_token\n",
    ")"
   ]
  },
  {
   "cell_type": "markdown",
   "id": "e2603886-4cbf-4722-be60-6b87e46d9610",
   "metadata": {},
   "source": [
    "## List all the pipelines"
   ]
  },
  {
   "cell_type": "code",
   "execution_count": null,
   "id": "2f4b84c49f85ed1b",
   "metadata": {
    "ExecuteTime": {
     "end_time": "2024-10-02T02:15:13.790956Z",
     "start_time": "2024-10-02T02:15:13.788488Z"
    }
   },
   "outputs": [],
   "source": [
    "pipeline_resp = client.list_pipelines()\n",
    "type(pipeline_resp)"
   ]
  },
  {
   "cell_type": "code",
   "execution_count": null,
   "id": "0f5203ed-010f-4fae-89e0-f00e1c837bfb",
   "metadata": {
    "ExecuteTime": {
     "end_time": "2024-10-02T02:15:20.010055Z",
     "start_time": "2024-10-02T02:15:20.007331Z"
    }
   },
   "outputs": [],
   "source": [
    "pipeline_list = pipeline_resp.pipelines\n",
    "type(pipeline_list)"
   ]
  },
  {
   "cell_type": "code",
   "execution_count": null,
   "id": "b694e682-9aa9-41c5-b145-03fbbf1bea1f",
   "metadata": {
    "ExecuteTime": {
     "end_time": "2024-10-02T02:15:23.719096Z",
     "start_time": "2024-10-02T02:15:23.716208Z"
    }
   },
   "outputs": [],
   "source": [
    "if len(pipeline_list) == 0:\n",
    "    print(\"You currently do not have any pipelines. Please create a pipeline first before continuing\")"
   ]
  },
  {
   "cell_type": "markdown",
   "id": "4f7c6e66-a212-4841-8a1d-e6d32e0ba9f6",
   "metadata": {
    "ExecuteTime": {
     "end_time": "2024-10-02T02:15:27.080341Z",
     "start_time": "2024-10-02T02:15:27.077792Z"
    }
   },
   "source": [
    "Show the list of pipelines as a table"
   ]
  },
  {
   "cell_type": "code",
   "execution_count": null,
   "id": "3f9c60d3-e295-4f76-9289-cb2403af8f65",
   "metadata": {
    "ExecuteTime": {
     "end_time": "2024-10-02T02:15:30.295826Z",
     "start_time": "2024-10-02T02:15:30.290419Z"
    }
   },
   "outputs": [],
   "source": [
    "pipelines_df = pd.DataFrame(pipeline_list)\n",
    "display(pipelines_df)"
   ]
  },
  {
   "cell_type": "markdown",
   "id": "d8696942-c28d-4272-accf-b43652aba0a2",
   "metadata": {},
   "source": [
    "## Get pipeline\n",
    "\n",
    "Take the latest pipeline from the list and get additional details of the pipeline"
   ]
  },
  {
   "cell_type": "code",
   "execution_count": null,
   "id": "bc407981-280e-45eb-bea4-9d924e3b1b5d",
   "metadata": {
    "ExecuteTime": {
     "end_time": "2024-10-02T02:16:10.021367Z",
     "start_time": "2024-10-02T02:16:10.018492Z"
    }
   },
   "outputs": [],
   "source": [
    "pipeline_selected = pipeline_list[-1] \n",
    "display(pipeline_selected)"
   ]
  },
  {
   "cell_type": "code",
   "execution_count": null,
   "id": "d07fedb6-4f0e-46b5-af02-bd62eb38cafa",
   "metadata": {
    "ExecuteTime": {
     "end_time": "2024-10-02T02:16:18.309818Z",
     "start_time": "2024-10-02T02:16:15.648828Z"
    }
   },
   "outputs": [],
   "source": [
    "pipeline = client.get_pipeline(pipeline_id=pipeline_selected['id'])\n",
    "type(pipeline)"
   ]
  },
  {
   "cell_type": "markdown",
   "id": "1567553b-df20-48ff-bf05-975de8f2f094",
   "metadata": {},
   "source": [
    "Display any environment variables set at the pipeline "
   ]
  },
  {
   "cell_type": "code",
   "execution_count": null,
   "id": "0b163d70-0fc3-4ef5-a8fe-b4204474f6f5",
   "metadata": {
    "ExecuteTime": {
     "end_time": "2024-10-02T02:20:28.194113Z",
     "start_time": "2024-10-02T02:20:28.191160Z"
    }
   },
   "outputs": [],
   "source": [
    "display(pipeline.env_vars)"
   ]
  },
  {
   "cell_type": "markdown",
   "id": "174e18b8-637c-461e-bbd2-2293009e086f",
   "metadata": {},
   "source": [
    "Display the code"
   ]
  },
  {
   "cell_type": "code",
   "execution_count": null,
   "id": "a73750b9-3ba3-406e-882a-580c24596445",
   "metadata": {
    "ExecuteTime": {
     "end_time": "2024-10-02T02:29:13.365671Z",
     "start_time": "2024-10-02T02:29:13.360952Z"
    }
   },
   "outputs": [],
   "source": [
    "from IPython.display import Markdown as md\n",
    "\n",
    "md(f\"```python\\n{pipeline.transformation_code}\\n```\")"
   ]
  }
 ],
 "metadata": {
  "kernelspec": {
   "display_name": "Python 3 (ipykernel)",
   "language": "python",
   "name": "python3"
  },
  "language_info": {
   "codemirror_mode": {
    "name": "ipython",
    "version": 3
   },
   "file_extension": ".py",
   "mimetype": "text/x-python",
   "name": "python",
   "nbconvert_exporter": "python",
   "pygments_lexer": "ipython3",
   "version": "3.9.6"
  }
 },
 "nbformat": 4,
 "nbformat_minor": 5
}
