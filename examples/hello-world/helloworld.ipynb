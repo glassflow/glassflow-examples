{
 "cells": [
  {
   "cell_type": "markdown",
   "id": "41bba5c1-9ed5-4b8b-af4e-14a3e1f4e685",
   "metadata": {},
   "source": [
    "# Hello World - Geting started with GlassFlow\n",
    "\n",
    "This example demonstrates how to get started with GlassFlow. This creates a hello-world pipeline on GlassFlow and uses the python SDK to send data to the pipeline \n",
    "\n",
    "## Pre-requisites\n",
    "\n",
    "- Create your free GlassFlow account via the [GlassFlow WebApp](https://app.glassflow.dev).\n",
    "- Get your [Personal Access Token](https://app.glassflow.dev/profile) to authorize the Python SDK to interact with GlassFlow Cloud.\n"
   ]
  },
  {
   "cell_type": "code",
   "execution_count": null,
   "id": "d7ab2b81-c891-4a65-b31c-5057fd54aa87",
   "metadata": {},
   "outputs": [],
   "source": [
    "%pip install \"glassflow>=2.0.8\" Faker"
   ]
  },
  {
   "cell_type": "code",
   "execution_count": null,
   "id": "114d3eca-1334-4f2d-82d5-cdbd4ef23155",
   "metadata": {},
   "outputs": [],
   "source": [
    "import glassflow"
   ]
  },
  {
   "cell_type": "code",
   "execution_count": null,
   "id": "678327dd-0baf-422b-a55c-6fa6f1e77582",
   "metadata": {},
   "outputs": [],
   "source": [
    "# fill credentials\n",
    "# Please edit this variable with your own personal access token from https://app.glassflow.dev/profile\n",
    "personal_access_token = \"cZQvEHefrfNhcthYyarzyJnQQqQBnR5nRfBdBjG5QwV2gbMEtVYFRj7EFGnEYQprKKhKFrhSx4pKxyD25jrMCmM4fXJTf7TbbPBhmEmpH9BznsYQVhWn3F8NTnCYhd7w\""
   ]
  },
  {
   "cell_type": "code",
   "execution_count": null,
   "id": "23befbcd-d9ae-4140-b5c4-890f4176a878",
   "metadata": {},
   "outputs": [],
   "source": [
    "client = glassflow.GlassFlowClient(\n",
    "    personal_access_token=personal_access_token\n",
    ")"
   ]
  },
  {
   "cell_type": "markdown",
   "id": "c1bc9b24-18a2-4a02-8370-1ff36eb12eb7",
   "metadata": {},
   "source": [
    "## Create / Set up a space \n",
    "Spaces are a way to organize pipelines. In this example, we will use a space called `examples`."
   ]
  },
  {
   "cell_type": "code",
   "execution_count": null,
   "id": "5cdbfd2d-be7a-4222-a7c4-0e15ffde58a8",
   "metadata": {},
   "outputs": [],
   "source": [
    "# Get the space named \"examples\" (or create one if no space is found)\n",
    "list_spaces = client.list_spaces()\n",
    "\n",
    "space_name = \"examples\"\n",
    "for s in list_spaces.spaces:\n",
    "    if s[\"name\"] == space_name:\n",
    "        space = glassflow.Space(\n",
    "            personal_access_token=client.personal_access_token,\n",
    "            id=s[\"id\"], \n",
    "            name=s[\"name\"]\n",
    "        )\n",
    "        break\n",
    "else:\n",
    "    space = client.create_space(name=space_name)\n",
    "\n",
    "print(f\"Space \\\"{space.name}\\\" with ID: {space.id}\")"
   ]
  },
  {
   "cell_type": "markdown",
   "id": "38e99881-0e82-4b0b-8c38-a4c61d5bed09",
   "metadata": {},
   "source": [
    "## Create Pipeline \n",
    "Pipeline consists of 3 major components: \n",
    "1. *Source* : Source defines how data enters the pipeline. There are several managed sources or you can use the GlassFlow python SDK to send data to the pipeline. In this example, we will use the python SDK (that is the default choice when setting up the pipeline).\n",
    "2. *Transform* : This is the python code along with requirements and env variables which define  the function that should be executed for every data entering the pipeline.\n",
    "3. *Sink*: Sink defines where the data should end up after transformation in GlassFlow. There are several managed sinks or you can use the GlassFlow python SDK to pull data from the pipeline. In this example, we will use a managed webhook sink.\n",
    "\n",
    "\n",
    "You can also use the web-application at https://app.glassflow.dev to create the pipeline. \n",
    "In that case, skip to the section [Send Data](#Send-data-to-the-pipeline)\n"
   ]
  },
  {
   "cell_type": "code",
   "execution_count": null,
   "id": "a100c251-c411-4963-9dbf-231f0ee14f6e",
   "metadata": {},
   "outputs": [],
   "source": [
    "# Pipeline parameters \n",
    "pipeline_name = \"hello-glassflow\"\n",
    "space_id = space.id\n",
    "# Source \n",
    "\n",
    "# Transform\n",
    "requirements_text = \"\"\n",
    "with open(\"requirements.txt\") as f:\n",
    "    requirements_txt = f.read()\n",
    "transformation_file = 'transform.py' # the location of the python code\n",
    "\n",
    "# Sink\n",
    "# Define the webhook url where the transformed data should be sent by GlassFlow. You can use a test sink url from \n",
    "# https://webhook.glassflow.xyz/ or https://webhook.site/\n",
    "\n",
    "sink_kind=\"webhook\"\n",
    "sink_config={\n",
    "    \"url\": \"https://webhook.glassflow.xyz/78f22b0f-aa69-490b-a3b3-5dc79086be61\", # example webhook sink\n",
    "    \"method\": \"POST\",\n",
    "    }"
   ]
  },
  {
   "cell_type": "code",
   "execution_count": null,
   "id": "8575eb43-6449-418e-81a6-c0f254a6ddd2",
   "metadata": {},
   "outputs": [],
   "source": [
    "pipeline = client.create_pipeline(\n",
    "    name=pipeline_name, \n",
    "    transformation_file=transformation_file,\n",
    "    space_id=space_id, \n",
    "    requirements=requirements_txt,\n",
    "    sink_kind=sink_kind,\n",
    "    sink_config=sink_config\n",
    ")\n",
    "print(\"Pipeline ID:\", pipeline.id)"
   ]
  },
  {
   "cell_type": "code",
   "execution_count": null,
   "id": "fbd3b0c6-8d43-4fcd-bbf0-6511a8a9e713",
   "metadata": {},
   "outputs": [],
   "source": []
  },
  {
   "cell_type": "markdown",
   "id": "2a0a4d5a-99f0-4175-ba45-a9fa041c287a",
   "metadata": {},
   "source": [
    "## Send data to the pipeline "
   ]
  },
  {
   "cell_type": "code",
   "execution_count": null,
   "id": "a07250a8-0cb0-43f3-8c46-f054b3eae4f3",
   "metadata": {},
   "outputs": [],
   "source": [
    "# pipeline id (replace with your pipeline id in case you used an existing pipeline or created one via the web-app\n",
    "pipeline_id = pipeline.id "
   ]
  },
  {
   "cell_type": "code",
   "execution_count": null,
   "id": "e2540ad5-0d05-4a1e-aaf1-e5f7c4fdd17c",
   "metadata": {},
   "outputs": [],
   "source": [
    "from faker import Faker\n",
    "\n",
    "def random_datagen():\n",
    "    fake = Faker()\n",
    "    data = {\n",
    "        \"name\": fake.name(),\n",
    "        \"age\": fake.random_int(18, 100),\n",
    "        \"country\": fake.country()\n",
    "    }\n",
    "    return data"
   ]
  },
  {
   "cell_type": "code",
   "execution_count": null,
   "id": "c05833c3-436c-4385-ac49-eefc9a5279f8",
   "metadata": {},
   "outputs": [],
   "source": [
    "# get pipeline object "
   ]
  },
  {
   "cell_type": "code",
   "execution_count": null,
   "id": "8ab6cc77-0c5d-4e7c-a85b-6edbb6fb0e9b",
   "metadata": {},
   "outputs": [],
   "source": [
    "pipeline = client.get_pipeline(pipeline_id=pipeline_id)"
   ]
  },
  {
   "cell_type": "code",
   "execution_count": null,
   "id": "1aa8c55e-53d0-4bc6-a201-3b1e70cff0a7",
   "metadata": {},
   "outputs": [],
   "source": [
    "data_source = pipeline.get_source()"
   ]
  },
  {
   "cell_type": "code",
   "execution_count": null,
   "id": "b2fb748b-8e4d-457f-8c8c-dfff1b181323",
   "metadata": {},
   "outputs": [],
   "source": [
    "# Generate some data and send it to the pipeline. Store it locally to compare\n",
    "n_events = 100\n",
    "for i in range(n_events):\n",
    "    event = random_datagen()\n",
    "    data_source.publish(event)"
   ]
  },
  {
   "cell_type": "code",
   "execution_count": null,
   "id": "3eed9d83-d7bb-4b8a-94cf-2cba9031e58b",
   "metadata": {},
   "outputs": [],
   "source": [
    "## Explore the pipeline on the web-UI"
   ]
  },
  {
   "cell_type": "code",
   "execution_count": null,
   "id": "26927f4d-f821-4681-ba2c-39bb86dbe46c",
   "metadata": {},
   "outputs": [],
   "source": [
    "pipeline_url = f\"https://app.glassflow.dev/pipelines/{pipeline.id}\"\n",
    "display(pipeline_url)"
   ]
  },
  {
   "cell_type": "code",
   "execution_count": null,
   "id": "53530655-a043-4ed2-b72e-851cf291741f",
   "metadata": {},
   "outputs": [],
   "source": [
    "# See the transformed data on the webhook url (if you used a webhook testing site)"
   ]
  },
  {
   "cell_type": "code",
   "execution_count": null,
   "id": "480f0493-a2b7-47f5-8a7a-c6f720a468f2",
   "metadata": {},
   "outputs": [],
   "source": [
    "webhookurl = pipeline.sink_config['url']\n",
    "if webhookurl:\n",
    "    parts = webhookurl.rsplit('/', 1)\n",
    "    webhook_viewer = parts[0] + \"/#!/\" + parts[1]\n",
    "    print(webhook_viewer)\n",
    "    "
   ]
  },
  {
   "cell_type": "code",
   "execution_count": null,
   "id": "b6fa1a05-c70f-48e3-b204-c49d8b88d339",
   "metadata": {},
   "outputs": [],
   "source": []
  }
 ],
 "metadata": {
  "kernelspec": {
   "display_name": "Python 3 (ipykernel)",
   "language": "python",
   "name": "python3"
  },
  "language_info": {
   "codemirror_mode": {
    "name": "ipython",
    "version": 3
   },
   "file_extension": ".py",
   "mimetype": "text/x-python",
   "name": "python",
   "nbconvert_exporter": "python",
   "pygments_lexer": "ipython3",
   "version": "3.9.6"
  }
 },
 "nbformat": 4,
 "nbformat_minor": 5
}
