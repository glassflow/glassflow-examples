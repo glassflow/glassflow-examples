{
 "cells": [
  {
   "cell_type": "markdown",
   "id": "be6c7759-a075-4551-9868-257bcd6098b9",
   "metadata": {
    "collapsed": true,
    "jupyter": {
     "outputs_hidden": true
    }
   },
   "source": [
    "# Log Format Conversion\n",
    "\n",
    "Format OpenTelemetry logs into a ClickHouse-compatible format.\n",
    "\n",
    "This example uses the following python library to run\\\n",
    "\"glassflow>=2.0.5\" \\\n",
    "\"Faker==30.3.0\" \\\n",
    "\"pandas\" "
   ]
  },
  {
   "cell_type": "code",
   "execution_count": null,
   "id": "c2b3fae0-798f-404c-a6ee-0f652903dce9",
   "metadata": {},
   "outputs": [],
   "source": [
    "%pip install \"glassflow>=2.0.5\" pandas Faker"
   ]
  },
  {
   "cell_type": "code",
   "execution_count": 3,
   "id": "195b5f85-7947-402c-b76c-2a8aec51a2e9",
   "metadata": {},
   "outputs": [],
   "source": [
    "import glassflow"
   ]
  },
  {
   "cell_type": "code",
   "execution_count": 4,
   "id": "eb750e73-1619-462e-8b8e-7069e1b06264",
   "metadata": {},
   "outputs": [],
   "source": [
    "# Fill Clickhouse credentials\n",
    "clickhouse_config = {\n",
    "    \"username\": \"< clickhouse-username >\",\n",
    "    \"password\": \"< clickhouse-password >\",\n",
    "    \"addr\": \"< clickhouse host address >\",\n",
    "    \"database\": \"< clickhouse database >\",\n",
    "    \"table\": \"< clickhouse table >\",\n",
    "}\n",
    "\n",
    "# Please edit this variable with your own personal access token from https://app.glassflow.dev/profile\n",
    "personal_access_token = \"< your-personal-access-token >\""
   ]
  },
  {
   "cell_type": "markdown",
   "id": "2ed719ee-96ed-4584-b13c-a3fa5d9900aa",
   "metadata": {},
   "source": [
    "## Create Pipeline"
   ]
  },
  {
   "cell_type": "code",
   "execution_count": 5,
   "id": "c392a62f-27cf-4efd-85d3-6b6bb1a77f46",
   "metadata": {},
   "outputs": [],
   "source": [
    "client = glassflow.GlassFlowClient(\n",
    "    personal_access_token=personal_access_token\n",
    ")"
   ]
  },
  {
   "cell_type": "markdown",
   "id": "711016f4-5636-4173-a311-1d55fbe594d5",
   "metadata": {},
   "source": [
    "Get the space named \"examples\" (or create one if no space is found)"
   ]
  },
  {
   "cell_type": "code",
   "execution_count": 8,
   "id": "102f4fcb-65b7-4f1c-b5f9-2039cefd1822",
   "metadata": {},
   "outputs": [
    {
     "name": "stdout",
     "output_type": "stream",
     "text": [
      "Space \"examples\" with ID: 4119e23c-c09f-4153-810c-6160ac8581eb\n"
     ]
    }
   ],
   "source": [
    "list_spaces = client.list_spaces()\n",
    "\n",
    "space_name = \"examples\"\n",
    "for s in list_spaces.spaces:\n",
    "    if s[\"name\"] == space_name:\n",
    "        space = glassflow.Space(\n",
    "            personal_access_token=client.personal_access_token,\n",
    "            id=s[\"id\"], \n",
    "            name=s[\"name\"]\n",
    "        )\n",
    "        break\n",
    "else:\n",
    "    space = client.create_space(name=space_name)\n",
    "\n",
    "print(f\"Space \\\"{space.name}\\\" with ID: {space.id}\")"
   ]
  },
  {
   "cell_type": "markdown",
   "id": "736d3a93-3685-472e-9d56-f970c49181be",
   "metadata": {},
   "source": [
    "Display transformation function"
   ]
  },
  {
   "cell_type": "code",
   "execution_count": null,
   "id": "572d9ece-5526-4624-9fe4-2a2e06df7ec8",
   "metadata": {},
   "outputs": [],
   "source": [
    "%pycat transform.py"
   ]
  },
  {
   "cell_type": "markdown",
   "id": "ecd93b18-5123-40a5-8994-35beb1b3b456",
   "metadata": {},
   "source": [
    "Create a pipeline with Clickhouse as a sink"
   ]
  },
  {
   "cell_type": "code",
   "execution_count": null,
   "id": "398e43bb-a09d-40c8-848f-2deeadab0dda",
   "metadata": {},
   "outputs": [],
   "source": [
    "with open(\"requirements.txt\") as f:\n",
    "    requirementsTxt = f.read()\n",
    "\n",
    "pipeline = client.create_pipeline(\n",
    "    name=\"log-format-conversion\",\n",
    "    space_id=space.id,\n",
    "    sink_kind=\"clickhouse\",\n",
    "    sink_config=clickhouse_config,\n",
    "    transformation_file=\"transform.py\",\n",
    "    requirements=requirementsTxt\n",
    ")\n",
    "print(\"Pipeline ID:\", pipeline.id)"
   ]
  },
  {
   "cell_type": "markdown",
   "id": "c504920f-7f38-4c93-b27b-9fc675e8c256",
   "metadata": {},
   "source": [
    "## Produce data and send it to your pipeline"
   ]
  },
  {
   "cell_type": "markdown",
   "id": "1a7ad476-4256-458a-bfab-a626841be5d3",
   "metadata": {},
   "source": [
    "Create an OpenTelemetry fake data generator:"
   ]
  },
  {
   "cell_type": "code",
   "execution_count": 14,
   "id": "938a998b-d82c-4580-bac1-d279ddabdb7a",
   "metadata": {},
   "outputs": [],
   "source": [
    "from faker import Faker\n",
    "\n",
    "\n",
    "def opentelemetry_datagen():\n",
    "    fake = Faker()\n",
    "    severity = fake.random_element(\n",
    "        elements=[\"INFO\", \"DEBUG\", \"WARN\", \"ERROR\"]\n",
    "    )\n",
    "    cloud_region = fake.random_element(\n",
    "        elements=[\n",
    "            'us-east-2', 'us-east-1', 'us-west-1', 'us-west-2', 'af-south-1', 'ap-east-1', \t\n",
    "            'ap-south-2', 'ap-southeast-3', 'ap-southeast-5', 'ap-southeast-4', 'ap-south-1', \t\n",
    "            'ap-northeast-3', 'ap-northeast-2', 'ap-southeast-1', 'ap-southeast-2', 'ap-northeast-1', \t\n",
    "            'ca-central-1', 'ca-west-1', 'eu-central-1', 'eu-west-1', 'eu-west-2', 'eu-south-1', \t\n",
    "            'eu-west-3', 'eu-south-2', 'eu-north-1', 'eu-central-2', 'il-central-1', 'me-south-1', \t\n",
    "            'me-central-1', 'sa-east-1'\n",
    "        ]\n",
    "    )\n",
    "    return {\n",
    "        'Timestamp': fake.iso8601(),\n",
    "        'SeverityText': severity,\n",
    "        'Name': fake.word() + \"_\" + fake.word(),\n",
    "        'Body': fake.sentence(nb_words=5),\n",
    "        'Resource': {\n",
    "            'service.name': fake.word() + \"-service\",\n",
    "            'cloud.region': cloud_region\n",
    "        },\n",
    "        'Attributes': {\n",
    "            'http.method': fake.http_method(),\n",
    "            'http.status_code': fake.http_status_code(),\n",
    "            'user.id': fake.random_int(min=1, max=99999),\n",
    "            'user.ip': fake.ipv4(),\n",
    "            'auth.method': 'oauth',\n",
    "            'auth.success': fake.pybool()\n",
    "        },\n",
    "        'TraceId': fake.uuid4(),\n",
    "        'SpanId': fake.uuid4(),\n",
    "        'TraceFlags': '01'\n",
    "    }"
   ]
  },
  {
   "cell_type": "markdown",
   "id": "868e0501-f2d4-4f17-892b-5b7c18e36263",
   "metadata": {},
   "source": [
    "Create a glassflow source client and publish the generated data. \n",
    "\n",
    "The `n_events` variable controls the number of events that will be sent to the pipeline."
   ]
  },
  {
   "cell_type": "code",
   "execution_count": 15,
   "id": "2ad3d5d1-f7d9-4f2b-bc31-4cb18ffbddf7",
   "metadata": {},
   "outputs": [],
   "source": [
    "data_source = pipeline.get_source()\n",
    "\n",
    "# Generate some data and send it to the pipeline. Store it locally to compare\n",
    "n_events = 10\n",
    "input_events = []\n",
    "for i in range(n_events):\n",
    "    event = opentelemetry_datagen()\n",
    "    input_events.append(event)\n",
    "    data_source.publish(event)"
   ]
  },
  {
   "cell_type": "code",
   "execution_count": 17,
   "id": "c8373287-06b3-4b52-bab9-604d50705777",
   "metadata": {},
   "outputs": [
    {
     "data": {
      "text/html": [
       "<div>\n",
       "<style scoped>\n",
       "    .dataframe tbody tr th:only-of-type {\n",
       "        vertical-align: middle;\n",
       "    }\n",
       "\n",
       "    .dataframe tbody tr th {\n",
       "        vertical-align: top;\n",
       "    }\n",
       "\n",
       "    .dataframe thead th {\n",
       "        text-align: right;\n",
       "    }\n",
       "</style>\n",
       "<table border=\"1\" class=\"dataframe\">\n",
       "  <thead>\n",
       "    <tr style=\"text-align: right;\">\n",
       "      <th></th>\n",
       "      <th>time</th>\n",
       "      <th>severity</th>\n",
       "      <th>name</th>\n",
       "      <th>body</th>\n",
       "      <th>resource</th>\n",
       "      <th>attributes</th>\n",
       "      <th>trace_id</th>\n",
       "      <th>span_id</th>\n",
       "      <th>trace_flags</th>\n",
       "    </tr>\n",
       "  </thead>\n",
       "  <tbody>\n",
       "    <tr>\n",
       "      <th>0</th>\n",
       "      <td>1986-06-21T20:13:20.701293</td>\n",
       "      <td>DEBUG</td>\n",
       "      <td>image_gas</td>\n",
       "      <td>Major system reduce.</td>\n",
       "      <td>{'service.name': 'save-service', 'cloud.region...</td>\n",
       "      <td>{'http.method': 'PATCH', 'http.status_code': 5...</td>\n",
       "      <td>ba7841e5-b0a2-4248-9f14-bf5b02342d90</td>\n",
       "      <td>ea166960-eea6-49fb-b157-3b64319b797d</td>\n",
       "      <td>01</td>\n",
       "    </tr>\n",
       "    <tr>\n",
       "      <th>1</th>\n",
       "      <td>1987-02-25T15:29:49.873561</td>\n",
       "      <td>TRACE</td>\n",
       "      <td>development_floor</td>\n",
       "      <td>Friend reflect share.</td>\n",
       "      <td>{'service.name': 'citizen-service', 'cloud.reg...</td>\n",
       "      <td>{'http.method': 'TRACE', 'http.status_code': 5...</td>\n",
       "      <td>3c94e751-a589-4f5b-9c64-2d75145d1362</td>\n",
       "      <td>26ad2ae4-9186-40a9-b1cc-adc68032db78</td>\n",
       "      <td>01</td>\n",
       "    </tr>\n",
       "    <tr>\n",
       "      <th>2</th>\n",
       "      <td>2012-02-10T15:32:02.974427</td>\n",
       "      <td>ERROR</td>\n",
       "      <td>approach_produce</td>\n",
       "      <td>Leg give thus other it.</td>\n",
       "      <td>{'service.name': 'ready-service', 'cloud.regio...</td>\n",
       "      <td>{'http.method': 'DELETE', 'http.status_code': ...</td>\n",
       "      <td>574a5edc-97b2-4dad-b3dc-94c88812b8da</td>\n",
       "      <td>18581a8a-bc11-4537-943d-630ea8666933</td>\n",
       "      <td>01</td>\n",
       "    </tr>\n",
       "    <tr>\n",
       "      <th>3</th>\n",
       "      <td>1997-09-30T22:40:08.532439</td>\n",
       "      <td>DEBUG</td>\n",
       "      <td>financial_until</td>\n",
       "      <td>Else last point almost pass prove.</td>\n",
       "      <td>{'service.name': 'letter-service', 'cloud.regi...</td>\n",
       "      <td>{'http.method': 'TRACE', 'http.status_code': 2...</td>\n",
       "      <td>ee05cd39-eedf-4b37-b086-b54b3e1f7586</td>\n",
       "      <td>948e8c5e-7a88-4f68-96b4-9ea7a0aa3240</td>\n",
       "      <td>01</td>\n",
       "    </tr>\n",
       "    <tr>\n",
       "      <th>4</th>\n",
       "      <td>2005-09-17T05:37:59.927345</td>\n",
       "      <td>ERROR</td>\n",
       "      <td>human_man</td>\n",
       "      <td>Film appear amount clear.</td>\n",
       "      <td>{'service.name': 'experience-service', 'cloud....</td>\n",
       "      <td>{'http.method': 'CONNECT', 'http.status_code':...</td>\n",
       "      <td>5c6e07f8-79f2-4cbd-aa8a-85859af2546f</td>\n",
       "      <td>963c0579-a25b-42b8-bedf-f08d1dec6ddf</td>\n",
       "      <td>01</td>\n",
       "    </tr>\n",
       "    <tr>\n",
       "      <th>5</th>\n",
       "      <td>1983-06-25T10:35:15.415640</td>\n",
       "      <td>DEBUG</td>\n",
       "      <td>available_seek</td>\n",
       "      <td>Strategy forward film picture return.</td>\n",
       "      <td>{'service.name': 'natural-service', 'cloud.reg...</td>\n",
       "      <td>{'http.method': 'CONNECT', 'http.status_code':...</td>\n",
       "      <td>f566ff3d-c2e1-4cde-b764-d882b353e8a1</td>\n",
       "      <td>d0fc5d68-e501-4875-886b-332d873f3e65</td>\n",
       "      <td>01</td>\n",
       "    </tr>\n",
       "    <tr>\n",
       "      <th>6</th>\n",
       "      <td>2004-04-07T22:04:12.393492</td>\n",
       "      <td>ERROR</td>\n",
       "      <td>appear_understand</td>\n",
       "      <td>Newspaper long work floor.</td>\n",
       "      <td>{'service.name': 'instead-service', 'cloud.reg...</td>\n",
       "      <td>{'http.method': 'TRACE', 'http.status_code': 3...</td>\n",
       "      <td>0595eb0e-cbf6-44d9-a78e-177d52fd365c</td>\n",
       "      <td>2cfe0310-99c8-487c-9de0-302b80fabf92</td>\n",
       "      <td>01</td>\n",
       "    </tr>\n",
       "    <tr>\n",
       "      <th>7</th>\n",
       "      <td>2009-06-05T14:16:26.436148</td>\n",
       "      <td>TRACE</td>\n",
       "      <td>size_executive</td>\n",
       "      <td>Side moment all despite education.</td>\n",
       "      <td>{'service.name': 'task-service', 'cloud.region...</td>\n",
       "      <td>{'http.method': 'POST', 'http.status_code': 34...</td>\n",
       "      <td>3a95a4e3-61ff-4db6-b03c-8fc7feb97c35</td>\n",
       "      <td>ec527877-27e5-480c-97a9-eedd0f4bcd0b</td>\n",
       "      <td>01</td>\n",
       "    </tr>\n",
       "    <tr>\n",
       "      <th>8</th>\n",
       "      <td>1987-06-05T10:12:07.286150</td>\n",
       "      <td>TRACE</td>\n",
       "      <td>hair_turn</td>\n",
       "      <td>Reveal town foot rest thought recent.</td>\n",
       "      <td>{'service.name': 'life-service', 'cloud.region...</td>\n",
       "      <td>{'http.method': 'DELETE', 'http.status_code': ...</td>\n",
       "      <td>49d3efb6-a666-4750-9f4b-e9d452d9adbd</td>\n",
       "      <td>684dcff0-d6d0-4d09-94e7-1a565425ebf0</td>\n",
       "      <td>01</td>\n",
       "    </tr>\n",
       "    <tr>\n",
       "      <th>9</th>\n",
       "      <td>2021-09-29T14:50:08.727958</td>\n",
       "      <td>TRACE</td>\n",
       "      <td>whom_professor</td>\n",
       "      <td>Fish case control answer reduce.</td>\n",
       "      <td>{'service.name': 'case-service', 'cloud.region...</td>\n",
       "      <td>{'http.method': 'DELETE', 'http.status_code': ...</td>\n",
       "      <td>8ec2ad2a-0127-4df9-be1e-27efda0b8160</td>\n",
       "      <td>a2651f0d-03b5-44af-955e-0f6fa7e9e3b9</td>\n",
       "      <td>01</td>\n",
       "    </tr>\n",
       "  </tbody>\n",
       "</table>\n",
       "</div>"
      ],
      "text/plain": [
       "                         time severity               name  \\\n",
       "0  1986-06-21T20:13:20.701293    DEBUG          image_gas   \n",
       "1  1987-02-25T15:29:49.873561    TRACE  development_floor   \n",
       "2  2012-02-10T15:32:02.974427    ERROR   approach_produce   \n",
       "3  1997-09-30T22:40:08.532439    DEBUG    financial_until   \n",
       "4  2005-09-17T05:37:59.927345    ERROR          human_man   \n",
       "5  1983-06-25T10:35:15.415640    DEBUG     available_seek   \n",
       "6  2004-04-07T22:04:12.393492    ERROR  appear_understand   \n",
       "7  2009-06-05T14:16:26.436148    TRACE     size_executive   \n",
       "8  1987-06-05T10:12:07.286150    TRACE          hair_turn   \n",
       "9  2021-09-29T14:50:08.727958    TRACE     whom_professor   \n",
       "\n",
       "                                    body  \\\n",
       "0                   Major system reduce.   \n",
       "1                  Friend reflect share.   \n",
       "2                Leg give thus other it.   \n",
       "3     Else last point almost pass prove.   \n",
       "4              Film appear amount clear.   \n",
       "5  Strategy forward film picture return.   \n",
       "6             Newspaper long work floor.   \n",
       "7     Side moment all despite education.   \n",
       "8  Reveal town foot rest thought recent.   \n",
       "9       Fish case control answer reduce.   \n",
       "\n",
       "                                            resource  \\\n",
       "0  {'service.name': 'save-service', 'cloud.region...   \n",
       "1  {'service.name': 'citizen-service', 'cloud.reg...   \n",
       "2  {'service.name': 'ready-service', 'cloud.regio...   \n",
       "3  {'service.name': 'letter-service', 'cloud.regi...   \n",
       "4  {'service.name': 'experience-service', 'cloud....   \n",
       "5  {'service.name': 'natural-service', 'cloud.reg...   \n",
       "6  {'service.name': 'instead-service', 'cloud.reg...   \n",
       "7  {'service.name': 'task-service', 'cloud.region...   \n",
       "8  {'service.name': 'life-service', 'cloud.region...   \n",
       "9  {'service.name': 'case-service', 'cloud.region...   \n",
       "\n",
       "                                          attributes  \\\n",
       "0  {'http.method': 'PATCH', 'http.status_code': 5...   \n",
       "1  {'http.method': 'TRACE', 'http.status_code': 5...   \n",
       "2  {'http.method': 'DELETE', 'http.status_code': ...   \n",
       "3  {'http.method': 'TRACE', 'http.status_code': 2...   \n",
       "4  {'http.method': 'CONNECT', 'http.status_code':...   \n",
       "5  {'http.method': 'CONNECT', 'http.status_code':...   \n",
       "6  {'http.method': 'TRACE', 'http.status_code': 3...   \n",
       "7  {'http.method': 'POST', 'http.status_code': 34...   \n",
       "8  {'http.method': 'DELETE', 'http.status_code': ...   \n",
       "9  {'http.method': 'DELETE', 'http.status_code': ...   \n",
       "\n",
       "                               trace_id                               span_id  \\\n",
       "0  ba7841e5-b0a2-4248-9f14-bf5b02342d90  ea166960-eea6-49fb-b157-3b64319b797d   \n",
       "1  3c94e751-a589-4f5b-9c64-2d75145d1362  26ad2ae4-9186-40a9-b1cc-adc68032db78   \n",
       "2  574a5edc-97b2-4dad-b3dc-94c88812b8da  18581a8a-bc11-4537-943d-630ea8666933   \n",
       "3  ee05cd39-eedf-4b37-b086-b54b3e1f7586  948e8c5e-7a88-4f68-96b4-9ea7a0aa3240   \n",
       "4  5c6e07f8-79f2-4cbd-aa8a-85859af2546f  963c0579-a25b-42b8-bedf-f08d1dec6ddf   \n",
       "5  f566ff3d-c2e1-4cde-b764-d882b353e8a1  d0fc5d68-e501-4875-886b-332d873f3e65   \n",
       "6  0595eb0e-cbf6-44d9-a78e-177d52fd365c  2cfe0310-99c8-487c-9de0-302b80fabf92   \n",
       "7  3a95a4e3-61ff-4db6-b03c-8fc7feb97c35  ec527877-27e5-480c-97a9-eedd0f4bcd0b   \n",
       "8  49d3efb6-a666-4750-9f4b-e9d452d9adbd  684dcff0-d6d0-4d09-94e7-1a565425ebf0   \n",
       "9  8ec2ad2a-0127-4df9-be1e-27efda0b8160  a2651f0d-03b5-44af-955e-0f6fa7e9e3b9   \n",
       "\n",
       "  trace_flags  \n",
       "0          01  \n",
       "1          01  \n",
       "2          01  \n",
       "3          01  \n",
       "4          01  \n",
       "5          01  \n",
       "6          01  \n",
       "7          01  \n",
       "8          01  \n",
       "9          01  "
      ]
     },
     "metadata": {},
     "output_type": "display_data"
    }
   ],
   "source": [
    "import pandas as pd\n",
    "\n",
    "display(pd.DataFrame(input_events))"
   ]
  },
  {
   "cell_type": "markdown",
   "id": "758a5a37-ea30-4f92-ab1a-f3711552589f",
   "metadata": {},
   "source": [
    "## Check your Clickhouse table\n",
    "\n",
    "Check your ClickHouse table and confirm that the events have reached your database in the correct format."
   ]
  },
  {
   "cell_type": "code",
   "execution_count": null,
   "id": "e49e7562-08a3-412a-a75e-d9a47a17a9d0",
   "metadata": {},
   "outputs": [],
   "source": []
  }
 ],
 "metadata": {
  "kernelspec": {
   "display_name": "Python 3 (ipykernel)",
   "language": "python",
   "name": "python3"
  }
 },
 "nbformat": 4,
 "nbformat_minor": 5
}
