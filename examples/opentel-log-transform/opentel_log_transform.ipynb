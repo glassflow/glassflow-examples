{
 "cells": [
  {
   "cell_type": "markdown",
   "id": "be6c7759-a075-4551-9868-257bcd6098b9",
   "metadata": {
    "collapsed": true,
    "jupyter": {
     "outputs_hidden": true
    }
   },
   "source": [
    "# Log Format Conversion\n",
    "\n",
    "Format OpenTelemetry logs into a ClickHouse-compatible format.\n",
    "\n",
    "This example uses the following python library to run\\\n",
    "\"glassflow>=2.0.5\" \\\n",
    "\"Faker==30.3.0\" \\\n",
    "\"pandas\" "
   ]
  },
  {
   "cell_type": "code",
   "execution_count": null,
   "id": "c2b3fae0-798f-404c-a6ee-0f652903dce9",
   "metadata": {},
   "outputs": [],
   "source": [
    "%pip install \"glassflow>=2.0.8\" pandas Faker"
   ]
  },
  {
   "cell_type": "code",
   "execution_count": null,
   "id": "195b5f85-7947-402c-b76c-2a8aec51a2e9",
   "metadata": {},
   "outputs": [],
   "source": [
    "import glassflow"
   ]
  },
  {
   "cell_type": "code",
   "execution_count": null,
   "id": "eb750e73-1619-462e-8b8e-7069e1b06264",
   "metadata": {},
   "outputs": [],
   "source": [
    "# Fill Clickhouse credentials\n",
    "clickhouse_config = {\n",
    "    \"username\": \"< clickhouse-username >\",\n",
    "    \"password\": \"< clickhouse-password >\",\n",
    "    \"addr\": \"< clickhouse host address >\",\n",
    "    \"database\": \"< clickhouse database >\",\n",
    "    \"table\": \"< clickhouse table >\",\n",
    "}\n",
    "\n",
    "# Please edit this variable with your own personal access token from https://app.glassflow.dev/profile\n",
    "personal_access_token = \"< your-personal-access-token >\""
   ]
  },
  {
   "cell_type": "markdown",
   "id": "2ed719ee-96ed-4584-b13c-a3fa5d9900aa",
   "metadata": {},
   "source": [
    "## Create Pipeline"
   ]
  },
  {
   "cell_type": "code",
   "execution_count": null,
   "id": "c392a62f-27cf-4efd-85d3-6b6bb1a77f46",
   "metadata": {},
   "outputs": [],
   "source": [
    "client = glassflow.GlassFlowClient(\n",
    "    personal_access_token=personal_access_token\n",
    ")"
   ]
  },
  {
   "cell_type": "markdown",
   "id": "711016f4-5636-4173-a311-1d55fbe594d5",
   "metadata": {},
   "source": [
    "Get the space named \"examples\" (or create one if no space is found)"
   ]
  },
  {
   "cell_type": "code",
   "execution_count": null,
   "id": "102f4fcb-65b7-4f1c-b5f9-2039cefd1822",
   "metadata": {},
   "outputs": [],
   "source": [
    "list_spaces = client.list_spaces()\n",
    "\n",
    "space_name = \"examples\"\n",
    "for s in list_spaces.spaces:\n",
    "    if s[\"name\"] == space_name:\n",
    "        space = glassflow.Space(\n",
    "            personal_access_token=client.personal_access_token,\n",
    "            id=s[\"id\"], \n",
    "            name=s[\"name\"]\n",
    "        )\n",
    "        break\n",
    "else:\n",
    "    space = client.create_space(name=space_name)\n",
    "\n",
    "print(f\"Space \\\"{space.name}\\\" with ID: {space.id}\")"
   ]
  },
  {
   "cell_type": "markdown",
   "id": "736d3a93-3685-472e-9d56-f970c49181be",
   "metadata": {},
   "source": [
    "Display transformation function"
   ]
  },
  {
   "cell_type": "code",
   "execution_count": null,
   "id": "572d9ece-5526-4624-9fe4-2a2e06df7ec8",
   "metadata": {},
   "outputs": [],
   "source": [
    "%pycat transform.py"
   ]
  },
  {
   "cell_type": "markdown",
   "id": "ecd93b18-5123-40a5-8994-35beb1b3b456",
   "metadata": {},
   "source": [
    "Create a pipeline with Clickhouse as a sink"
   ]
  },
  {
   "cell_type": "code",
   "execution_count": null,
   "id": "398e43bb-a09d-40c8-848f-2deeadab0dda",
   "metadata": {},
   "outputs": [],
   "source": [
    "with open(\"requirements.txt\") as f:\n",
    "    requirementsTxt = f.read()\n",
    "\n",
    "pipeline = client.create_pipeline(\n",
    "    name=\"log-format-conversion\",\n",
    "    space_id=space.id,\n",
    "    sink_kind=\"clickhouse\",\n",
    "    sink_config=clickhouse_config,\n",
    "    transformation_file=\"transform.py\",\n",
    "    requirements=requirementsTxt\n",
    ")\n",
    "print(\"Pipeline ID:\", pipeline.id)"
   ]
  },
  {
   "cell_type": "markdown",
   "id": "c504920f-7f38-4c93-b27b-9fc675e8c256",
   "metadata": {},
   "source": [
    "## Produce data and send it to your pipeline"
   ]
  },
  {
   "cell_type": "markdown",
   "id": "1a7ad476-4256-458a-bfab-a626841be5d3",
   "metadata": {},
   "source": [
    "Create an OpenTelemetry fake data generator:"
   ]
  },
  {
   "cell_type": "code",
   "execution_count": null,
   "id": "938a998b-d82c-4580-bac1-d279ddabdb7a",
   "metadata": {},
   "outputs": [],
   "source": [
    "from faker import Faker\n",
    "\n",
    "\n",
    "def opentelemetry_datagen():\n",
    "    fake = Faker()\n",
    "    severity = fake.random_element(\n",
    "        elements=[\"INFO\", \"DEBUG\", \"WARN\", \"ERROR\"]\n",
    "    )\n",
    "    cloud_region = fake.random_element(\n",
    "        elements=[\n",
    "            'us-east-2', 'us-east-1', 'us-west-1', 'us-west-2', 'af-south-1', 'ap-east-1', \t\n",
    "            'ap-south-2', 'ap-southeast-3', 'ap-southeast-5', 'ap-southeast-4', 'ap-south-1', \t\n",
    "            'ap-northeast-3', 'ap-northeast-2', 'ap-southeast-1', 'ap-southeast-2', 'ap-northeast-1', \t\n",
    "            'ca-central-1', 'ca-west-1', 'eu-central-1', 'eu-west-1', 'eu-west-2', 'eu-south-1', \t\n",
    "            'eu-west-3', 'eu-south-2', 'eu-north-1', 'eu-central-2', 'il-central-1', 'me-south-1', \t\n",
    "            'me-central-1', 'sa-east-1'\n",
    "        ]\n",
    "    )\n",
    "    return {\n",
    "        'Timestamp': fake.iso8601(),\n",
    "        'SeverityText': severity,\n",
    "        'Name': fake.word() + \"_\" + fake.word(),\n",
    "        'Body': fake.sentence(nb_words=5),\n",
    "        'Resource': {\n",
    "            'service.name': fake.word() + \"-service\",\n",
    "            'cloud.region': cloud_region\n",
    "        },\n",
    "        'Attributes': {\n",
    "            'http.method': fake.http_method(),\n",
    "            'http.status_code': fake.http_status_code(),\n",
    "            'user.id': fake.random_int(min=1, max=99999),\n",
    "            'user.ip': fake.ipv4(),\n",
    "            'auth.method': 'oauth',\n",
    "            'auth.success': fake.pybool()\n",
    "        },\n",
    "        'TraceId': fake.uuid4(),\n",
    "        'SpanId': fake.uuid4(),\n",
    "        'TraceFlags': '01'\n",
    "    }"
   ]
  },
  {
   "cell_type": "markdown",
   "id": "868e0501-f2d4-4f17-892b-5b7c18e36263",
   "metadata": {},
   "source": [
    "Create a glassflow source client and publish the generated data. \n",
    "\n",
    "The `n_events` variable controls the number of events that will be sent to the pipeline."
   ]
  },
  {
   "cell_type": "code",
   "execution_count": null,
   "id": "2ad3d5d1-f7d9-4f2b-bc31-4cb18ffbddf7",
   "metadata": {},
   "outputs": [],
   "source": [
    "data_source = pipeline.get_source()\n",
    "\n",
    "# Generate some data and send it to the pipeline. Store it locally to compare\n",
    "n_events = 10\n",
    "input_events = []\n",
    "for i in range(n_events):\n",
    "    event = opentelemetry_datagen()\n",
    "    input_events.append(event)\n",
    "    data_source.publish(event)"
   ]
  },
  {
   "cell_type": "code",
   "execution_count": null,
   "id": "c8373287-06b3-4b52-bab9-604d50705777",
   "metadata": {},
   "outputs": [],
   "source": [
    "import pandas as pd\n",
    "\n",
    "display(pd.DataFrame(input_events))"
   ]
  },
  {
   "cell_type": "markdown",
   "id": "758a5a37-ea30-4f92-ab1a-f3711552589f",
   "metadata": {},
   "source": [
    "## Check your Clickhouse table\n",
    "\n",
    "Check your ClickHouse table and confirm that the events have reached your database in the correct format."
   ]
  },
  {
   "cell_type": "code",
   "execution_count": null,
   "id": "e49e7562-08a3-412a-a75e-d9a47a17a9d0",
   "metadata": {},
   "outputs": [],
   "source": []
  }
 ],
 "metadata": {
  "kernelspec": {
   "display_name": "Python 3 (ipykernel)",
   "language": "python",
   "name": "python3"
  },
  "language_info": {
   "codemirror_mode": {
    "name": "ipython",
    "version": 3
   },
   "file_extension": ".py",
   "mimetype": "text/x-python",
   "name": "python",
   "nbconvert_exporter": "python",
   "pygments_lexer": "ipython3",
   "version": "3.9.6"
  }
 },
 "nbformat": 4,
 "nbformat_minor": 5
}
