{
 "cells": [
  {
   "cell_type": "markdown",
   "id": "75eb080b-c0fa-4d23-a257-49a9d22fb1f6",
   "metadata": {},
   "source": [
    "# PII Detection and Masking with Hugging Face\n",
    "\n",
    "Do you have unstructured text where you need to detect and mask PII information? \n",
    "\n",
    "This example uses a Named Entity Model (NEM) from Hugging Face to detect PII and Llama processor to mask the PII information using the NEM output. \n",
    "The entire process runs as a seververless event driven pipeline on GlassFlow. \n",
    "\n",
    "## Pre-requisites\n",
    "\n",
    "- Create your free GlassFlow account via the [GlassFlow WebApp](https://app.glassflow.dev).\n",
    "- Get your [Personal Access Token](https://app.glassflow.dev/profile) to authorize the Python SDK to interact with GlassFlow Cloud.\n",
    "- Get your Hugging Face API token https://huggingface.co/"
   ]
  },
  {
   "cell_type": "code",
   "execution_count": null,
   "id": "4fb03533-1c5d-43eb-abd8-6eb677d77e87",
   "metadata": {},
   "outputs": [],
   "source": [
    "%pip install \"glassflow>=2.0.5\" pandas"
   ]
  },
  {
   "cell_type": "code",
   "execution_count": null,
   "id": "76990ad5-4b06-407c-8edf-22dc819ce251",
   "metadata": {},
   "outputs": [],
   "source": [
    "import glassflow"
   ]
  },
  {
   "cell_type": "code",
   "execution_count": null,
   "id": "0742216b-c5ba-4f2c-a35a-94df544dcb55",
   "metadata": {},
   "outputs": [],
   "source": [
    "# Please edit this variable with your own personal access token from https://app.glassflow.dev/profile\n",
    "personal_access_token = \"\"\n",
    "\n",
    "HUGGING_FACE_TOKEN = \"\"\n"
   ]
  },
  {
   "cell_type": "markdown",
   "id": "543435a8-4252-4340-b25d-933c54a597d1",
   "metadata": {},
   "source": [
    "## Create Pipeline"
   ]
  },
  {
   "cell_type": "code",
   "execution_count": null,
   "id": "5c661c06-1c8d-4cc6-9ec0-59a1808418a2",
   "metadata": {},
   "outputs": [],
   "source": [
    "client = glassflow.GlassFlowClient(\n",
    "    personal_access_token=personal_access_token\n",
    ")"
   ]
  },
  {
   "cell_type": "code",
   "execution_count": null,
   "id": "c63e991f-ea82-49a5-9108-96345de36da5",
   "metadata": {
    "scrolled": true
   },
   "outputs": [],
   "source": [
    "# Get the space named \"examples\" (or create one if no space is found)\n",
    "list_spaces = client.list_spaces()\n",
    "\n",
    "space_name = \"examples\"\n",
    "for s in list_spaces.spaces:\n",
    "    if s[\"name\"] == space_name:\n",
    "        space = glassflow.Space(\n",
    "            personal_access_token=client.personal_access_token,\n",
    "            id=s[\"id\"], \n",
    "            name=s[\"name\"]\n",
    "        )\n",
    "        break\n",
    "else:\n",
    "    space = client.create_space(name=space_name)\n",
    "\n",
    "print(f\"Space \\\"{space.name}\\\" with ID: {space.id}\")"
   ]
  },
  {
   "cell_type": "markdown",
   "id": "929b0a7b-38c2-400d-a663-118c86e6806a",
   "metadata": {},
   "source": [
    "### Transformation Function"
   ]
  },
  {
   "cell_type": "code",
   "execution_count": null,
   "id": "c0e471e2-d77a-4a0e-9e26-59525fb5eaeb",
   "metadata": {},
   "outputs": [],
   "source": [
    "%pycat transform.py"
   ]
  },
  {
   "cell_type": "markdown",
   "id": "24a91730-3831-4702-8ebd-40a3651e08bf",
   "metadata": {},
   "source": [
    "### Requirements txt"
   ]
  },
  {
   "cell_type": "code",
   "execution_count": null,
   "id": "f22c9e17-6cf3-4fff-9639-215ba9281cad",
   "metadata": {},
   "outputs": [],
   "source": [
    "with open(\"requirements.txt\") as f:\n",
    "    requirements_txt = f.read()\n",
    "print(requirements_txt)"
   ]
  },
  {
   "cell_type": "markdown",
   "id": "f395c0ba-4afe-4f90-b7da-f0afc18023ba",
   "metadata": {},
   "source": [
    "### Environment variables"
   ]
  },
  {
   "cell_type": "code",
   "execution_count": null,
   "id": "df61ef36-478e-4f53-9232-1423afae77b8",
   "metadata": {},
   "outputs": [],
   "source": [
    "env_vars = [{\n",
    "  \"name\": \"HUGGING_FACE_TOKEN\",\n",
    "  \"value\": HUGGING_FACE_TOKEN\n",
    "}]"
   ]
  },
  {
   "cell_type": "markdown",
   "id": "434cb081-ee24-47f8-9125-e2b660977f60",
   "metadata": {},
   "source": [
    "### Create Pipeline"
   ]
  },
  {
   "cell_type": "code",
   "execution_count": null,
   "id": "16db3073-3327-4ae1-bea0-8608a4e5465d",
   "metadata": {
    "scrolled": true
   },
   "outputs": [],
   "source": [
    "pipeline_name = \"pii-detection-masking-example\"\n",
    "\n",
    "pipeline = client.create_pipeline(\n",
    "    name=pipeline_name, \n",
    "    transformation_file='transform.py',\n",
    "    space_id=space.id, \n",
    "    env_vars=env_vars,\n",
    "    requirements=requirements_txt\n",
    ")\n",
    "print(\"Pipeline ID:\", pipeline.id)"
   ]
  },
  {
   "cell_type": "code",
   "execution_count": null,
   "id": "03e6c912-642d-4fb4-a5c0-c5197bb368fd",
   "metadata": {},
   "outputs": [],
   "source": [
    "print(\"Pipeline is deployed!\") \n",
    "print(\"Pipeline Id = %s\" % (pipeline.id))\n",
    "print(\"Pipeline URL %s \"% f\"https://app.glassflow.dev/pipelines/{pipeline.id}\")"
   ]
  },
  {
   "cell_type": "markdown",
   "id": "fc710512-0ef0-404b-9007-40960882380c",
   "metadata": {},
   "source": [
    "## Produce data and send it to your pipeline"
   ]
  },
  {
   "cell_type": "markdown",
   "id": "e576b1af-f095-421e-921f-c29fa43a1e53",
   "metadata": {},
   "source": [
    "### Create a dummy data generator using python faker library"
   ]
  },
  {
   "cell_type": "code",
   "execution_count": null,
   "id": "2b4be642-0e7a-41bb-8edb-d2fec8c6d188",
   "metadata": {},
   "outputs": [],
   "source": [
    "from faker import Faker\n",
    "\n",
    "def data_generator():\n",
    "    fake = Faker()\n",
    "    return {\n",
    "        'text': f\"An order was created by {fake.name()} to be shipped to {fake.address()}. {fake.text()}\".replace(\"\\n\", \" \")\n",
    "    }"
   ]
  },
  {
   "cell_type": "markdown",
   "id": "3e8c6de7-af2b-4658-896e-fe77733e8c4f",
   "metadata": {},
   "source": [
    "### Example data generated "
   ]
  },
  {
   "cell_type": "code",
   "execution_count": null,
   "id": "03b3adba-cd19-4087-80e4-43f3f69e8d19",
   "metadata": {},
   "outputs": [],
   "source": [
    "display(data_generator())"
   ]
  },
  {
   "cell_type": "markdown",
   "id": "aeb41b06-cb53-4311-b1fe-549b4dae25ed",
   "metadata": {},
   "source": [
    "### Get pipeline data source object to publish events to the pipeline"
   ]
  },
  {
   "cell_type": "code",
   "execution_count": null,
   "id": "2535df3d-3ae0-4736-b601-fd09ce09552a",
   "metadata": {},
   "outputs": [],
   "source": [
    "data_source = pipeline.get_source()"
   ]
  },
  {
   "cell_type": "code",
   "execution_count": null,
   "id": "6df01e6c-8e5a-4bde-80d8-8e3abf0bf0e0",
   "metadata": {},
   "outputs": [],
   "source": [
    "# Generate some data and send it to the pipeline. Store it locally to compare\n",
    "n_events = 10\n",
    "input_events = []\n",
    "for i in range(n_events):\n",
    "    event = data_generator()\n",
    "    input_events.append(event)\n",
    "    data_source.publish(event)"
   ]
  },
  {
   "cell_type": "markdown",
   "id": "5331930e-4a16-4bba-bbb1-19c4d381dea3",
   "metadata": {},
   "source": [
    "### Display data sent to the pipeline"
   ]
  },
  {
   "cell_type": "code",
   "execution_count": null,
   "id": "5c50f55d-1480-44ad-8ba3-e2f709577cb9",
   "metadata": {},
   "outputs": [],
   "source": [
    "import pandas as pd\n",
    "\n",
    "display(pd.DataFrame(input_events))"
   ]
  },
  {
   "cell_type": "markdown",
   "id": "545d6c9d-45aa-49bd-a8e3-6f48449ab892",
   "metadata": {},
   "source": [
    "## Consume events from the pipeline \n",
    "\n",
    "Get pipeline data sink to consume the transformed events from the pipeline."
   ]
  },
  {
   "cell_type": "code",
   "execution_count": null,
   "id": "13ecef72-87d5-46ec-bef3-131cd44847d9",
   "metadata": {},
   "outputs": [],
   "source": [
    "data_sink = pipeline.get_sink()"
   ]
  },
  {
   "cell_type": "code",
   "execution_count": null,
   "id": "75443ac0-d2c5-4cbf-a6e1-391fefbb805e",
   "metadata": {},
   "outputs": [],
   "source": [
    "output_events = []\n",
    "while True:\n",
    "    resp = data_sink.consume()\n",
    "    if resp.status_code == 200:\n",
    "        output_events.append(resp.json())\n",
    "    if len(output_events) == n_events:\n",
    "        # all events have been consumed\n",
    "        break"
   ]
  },
  {
   "cell_type": "code",
   "execution_count": null,
   "id": "7aaf7c0b-1142-4cd6-934d-5ca823fea4d2",
   "metadata": {},
   "outputs": [],
   "source": [
    "import pandas as pd\n",
    "\n",
    "display(pd.DataFrame(output_events))"
   ]
  },
  {
   "cell_type": "markdown",
   "id": "6cec8def",
   "metadata": {},
   "source": [
    "## Monitor the pipeline\n",
    "\n",
    "Go to the pipeline logs you created and monitor real-time events."
   ]
  },
  {
   "cell_type": "code",
   "execution_count": null,
   "id": "1aa6dbe7-5411-490e-9812-50c2ff613add",
   "metadata": {},
   "outputs": [],
   "source": [
    "## Explore the pipeline logs on the web-UI \n",
    "pipeline_url = f\"https://app.glassflow.dev/pipelines/{pipeline.id}/logs\"\n",
    "print(pipeline_url)"
   ]
  }
 ],
 "metadata": {
  "kernelspec": {
   "display_name": "Python 3 (ipykernel)",
   "language": "python",
   "name": "python3"
  },
  "language_info": {
   "codemirror_mode": {
    "name": "ipython",
    "version": 3
   },
   "file_extension": ".py",
   "mimetype": "text/x-python",
   "name": "python",
   "nbconvert_exporter": "python",
   "pygments_lexer": "ipython3",
   "version": "3.9.6"
  }
 },
 "nbformat": 4,
 "nbformat_minor": 5
}
