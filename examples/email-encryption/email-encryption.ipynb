{
 "cells": [
  {
   "cell_type": "markdown",
   "id": "2b11eeda-9ac3-43a4-8095-a657ed642eed",
   "metadata": {},
   "source": [
    "## Introduction\n",
    "In this example, we are building a GlassFlow pipeline to encrypt email addresses from event data in real time. \n",
    "\n",
    "## Pre-requisite\n",
    "\n",
    "- Create your free GlassFlow account via the [GlassFlow WebApp](https://app.glassflow.dev).\n",
    "- Get your Personal Access Token to authorize the Python SDK to interact with GlassFlow Cloud.\n",
    "- Run `pip install -r requirements.txt`to install the necessary Python dependencies for this example."
   ]
  },
  {
   "cell_type": "markdown",
   "id": "9f2bc69a-9a66-4fe9-a9a0-e14e9691a316",
   "metadata": {},
   "source": [
    "## Build Pipeline"
   ]
  },
  {
   "cell_type": "code",
   "execution_count": null,
   "id": "80e19771-0c3a-481d-bfc3-02b7834fc6d8",
   "metadata": {},
   "outputs": [],
   "source": [
    "import glassflow"
   ]
  },
  {
   "cell_type": "code",
   "execution_count": null,
   "id": "fe0a20bf-fb96-4e24-9f6a-72d4da30fb86",
   "metadata": {},
   "outputs": [],
   "source": [
    "# method to create an AES_KEY\n",
    "def create_key():\n",
    "    import secrets\n",
    "    key = secrets.token_bytes(16)\n",
    "    return key.hex()"
   ]
  },
  {
   "cell_type": "markdown",
   "id": "e4114a1f-df2f-458d-a7d5-9b4aafd7d132",
   "metadata": {},
   "source": [
    "Please replace this variable with your own Personal Access Token from https://app.glassflow.dev/profile"
   ]
  },
  {
   "cell_type": "code",
   "execution_count": null,
   "id": "67763a1e-4179-4bb3-a1e9-82fe284d2393",
   "metadata": {},
   "outputs": [],
   "source": [
    "glassflow_personal_access_token = \"< your-personal-access-token >\""
   ]
  },
  {
   "cell_type": "markdown",
   "id": "a7618244-db6e-44af-a487-e6b76c55d3eb",
   "metadata": {},
   "source": [
    "Obtain the GlassFlow client and use the personal_access_token to authorize the client to connect with GlassFlow Cloud."
   ]
  },
  {
   "cell_type": "code",
   "execution_count": null,
   "id": "b1c36956-a772-434b-9448-5acd5695f964",
   "metadata": {},
   "outputs": [],
   "source": [
    "client = glassflow.GlassFlowClient(personal_access_token=glassflow_personal_access_token)"
   ]
  },
  {
   "cell_type": "markdown",
   "id": "ad3a8195-7322-41e6-b4b2-26a6dcdcb887",
   "metadata": {},
   "source": [
    "Use one of the existing GlassFlow spaces to deploy the pipeline."
   ]
  },
  {
   "cell_type": "code",
   "execution_count": null,
   "id": "c9ca356d-ef7d-43c8-bc19-4f8490539ee1",
   "metadata": {},
   "outputs": [],
   "source": [
    "spaces = client.list_spaces()\n",
    "space = spaces.spaces[0]"
   ]
  },
  {
   "cell_type": "code",
   "execution_count": null,
   "id": "a216c4e6-4e01-4959-a863-f7fa1936aaec",
   "metadata": {},
   "outputs": [],
   "source": [
    "print(space['name'])\n",
    "print(space['id'])"
   ]
  },
  {
   "cell_type": "markdown",
   "id": "90523a9c-f529-4f18-8478-0d1f57bc3fa9",
   "metadata": {},
   "source": [
    "Display the `transform.py` file, which contains the Python code that we submit to the pipeline."
   ]
  },
  {
   "cell_type": "code",
   "execution_count": 21,
   "id": "df9c1a2c-3ee3-4d6a-ad25-b326d6b766dd",
   "metadata": {},
   "outputs": [
    {
     "data": {
      "text/plain": [
       "\u001b[0;32mfrom\u001b[0m \u001b[0mCrypto\u001b[0m\u001b[0;34m.\u001b[0m\u001b[0mCipher\u001b[0m \u001b[0;32mimport\u001b[0m \u001b[0mAES\u001b[0m\u001b[0;34m\u001b[0m\n",
       "\u001b[0;34m\u001b[0m\u001b[0;32mfrom\u001b[0m \u001b[0mCrypto\u001b[0m\u001b[0;34m.\u001b[0m\u001b[0mUtil\u001b[0m\u001b[0;34m.\u001b[0m\u001b[0mPadding\u001b[0m \u001b[0;32mimport\u001b[0m \u001b[0mpad\u001b[0m\u001b[0;34m\u001b[0m\n",
       "\u001b[0;34m\u001b[0m\u001b[0;32mimport\u001b[0m \u001b[0mbase64\u001b[0m\u001b[0;34m\u001b[0m\n",
       "\u001b[0;34m\u001b[0m\u001b[0;32mimport\u001b[0m \u001b[0mos\u001b[0m\u001b[0;34m\u001b[0m\n",
       "\u001b[0;34m\u001b[0m\u001b[0;34m\u001b[0m\n",
       "\u001b[0;34m\u001b[0m\u001b[0;34m\u001b[0m\n",
       "\u001b[0;34m\u001b[0m\u001b[0;31m# Function to encrypt email address\u001b[0m\u001b[0;34m\u001b[0m\n",
       "\u001b[0;34m\u001b[0m\u001b[0;32mdef\u001b[0m \u001b[0mhandler\u001b[0m\u001b[0;34m(\u001b[0m\u001b[0mdata\u001b[0m\u001b[0;34m,\u001b[0m \u001b[0mlog\u001b[0m\u001b[0;34m)\u001b[0m\u001b[0;34m:\u001b[0m\u001b[0;34m\u001b[0m\n",
       "\u001b[0;34m\u001b[0m    \u001b[0mkey\u001b[0m \u001b[0;34m=\u001b[0m \u001b[0mos\u001b[0m\u001b[0;34m.\u001b[0m\u001b[0mgetenv\u001b[0m\u001b[0;34m(\u001b[0m\u001b[0;34m\"AES_KEY\"\u001b[0m\u001b[0;34m)\u001b[0m\u001b[0;34m.\u001b[0m\u001b[0mencode\u001b[0m\u001b[0;34m(\u001b[0m\u001b[0;34m'utf-8'\u001b[0m\u001b[0;34m)\u001b[0m\u001b[0;34m\u001b[0m\n",
       "\u001b[0;34m\u001b[0m\u001b[0;34m\u001b[0m\n",
       "\u001b[0;34m\u001b[0m    \u001b[0memail\u001b[0m \u001b[0;34m=\u001b[0m \u001b[0mdata\u001b[0m\u001b[0;34m[\u001b[0m\u001b[0;34m'email'\u001b[0m\u001b[0;34m]\u001b[0m\u001b[0;34m\u001b[0m\n",
       "\u001b[0;34m\u001b[0m\u001b[0;34m\u001b[0m\n",
       "\u001b[0;34m\u001b[0m    \u001b[0;31m# AES key must be either 16, 24, or 32 bytes\u001b[0m\u001b[0;34m\u001b[0m\n",
       "\u001b[0;34m\u001b[0m    \u001b[0mcipher\u001b[0m \u001b[0;34m=\u001b[0m \u001b[0mAES\u001b[0m\u001b[0;34m.\u001b[0m\u001b[0mnew\u001b[0m\u001b[0;34m(\u001b[0m\u001b[0mkey\u001b[0m\u001b[0;34m,\u001b[0m \u001b[0mAES\u001b[0m\u001b[0;34m.\u001b[0m\u001b[0mMODE_CBC\u001b[0m\u001b[0;34m)\u001b[0m  \u001b[0;31m# CBC mode with a random IV\u001b[0m\u001b[0;34m\u001b[0m\n",
       "\u001b[0;34m\u001b[0m    \u001b[0miv\u001b[0m \u001b[0;34m=\u001b[0m \u001b[0mcipher\u001b[0m\u001b[0;34m.\u001b[0m\u001b[0miv\u001b[0m  \u001b[0;31m# Get the Initialization Vector (IV)\u001b[0m\u001b[0;34m\u001b[0m\n",
       "\u001b[0;34m\u001b[0m\u001b[0;34m\u001b[0m\n",
       "\u001b[0;34m\u001b[0m    \u001b[0;31m# Pad the email to be a multiple of 16 bytes\u001b[0m\u001b[0;34m\u001b[0m\n",
       "\u001b[0;34m\u001b[0m    \u001b[0mpadded_email\u001b[0m \u001b[0;34m=\u001b[0m \u001b[0mpad\u001b[0m\u001b[0;34m(\u001b[0m\u001b[0memail\u001b[0m\u001b[0;34m.\u001b[0m\u001b[0mencode\u001b[0m\u001b[0;34m(\u001b[0m\u001b[0;34m)\u001b[0m\u001b[0;34m,\u001b[0m \u001b[0mAES\u001b[0m\u001b[0;34m.\u001b[0m\u001b[0mblock_size\u001b[0m\u001b[0;34m)\u001b[0m\u001b[0;34m\u001b[0m\n",
       "\u001b[0;34m\u001b[0m\u001b[0;34m\u001b[0m\n",
       "\u001b[0;34m\u001b[0m    \u001b[0;31m# Encrypt the padded email\u001b[0m\u001b[0;34m\u001b[0m\n",
       "\u001b[0;34m\u001b[0m    \u001b[0mencrypted_email\u001b[0m \u001b[0;34m=\u001b[0m \u001b[0mcipher\u001b[0m\u001b[0;34m.\u001b[0m\u001b[0mencrypt\u001b[0m\u001b[0;34m(\u001b[0m\u001b[0mpadded_email\u001b[0m\u001b[0;34m)\u001b[0m\u001b[0;34m\u001b[0m\n",
       "\u001b[0;34m\u001b[0m\u001b[0;34m\u001b[0m\n",
       "\u001b[0;34m\u001b[0m    \u001b[0;31m# Return IV + encrypted email encoded in base64 (to make it easier to store or send)\u001b[0m\u001b[0;34m\u001b[0m\n",
       "\u001b[0;34m\u001b[0m    \u001b[0mencrypted_email\u001b[0m \u001b[0;34m=\u001b[0m \u001b[0mbase64\u001b[0m\u001b[0;34m.\u001b[0m\u001b[0mb64encode\u001b[0m\u001b[0;34m(\u001b[0m\u001b[0miv\u001b[0m \u001b[0;34m+\u001b[0m \u001b[0mencrypted_email\u001b[0m\u001b[0;34m)\u001b[0m\u001b[0;34m.\u001b[0m\u001b[0mdecode\u001b[0m\u001b[0;34m(\u001b[0m\u001b[0;34m)\u001b[0m\u001b[0;34m\u001b[0m\n",
       "\u001b[0;34m\u001b[0m    \u001b[0mdata\u001b[0m\u001b[0;34m[\u001b[0m\u001b[0;34m'email_encrypted'\u001b[0m\u001b[0;34m]\u001b[0m \u001b[0;34m=\u001b[0m \u001b[0mencrypted_email\u001b[0m\u001b[0;34m\u001b[0m\n",
       "\u001b[0;34m\u001b[0m    \u001b[0;32mreturn\u001b[0m \u001b[0mdata\u001b[0m\u001b[0;34m\u001b[0m\u001b[0;34m\u001b[0m\u001b[0m\n"
      ]
     },
     "metadata": {},
     "output_type": "display_data"
    }
   ],
   "source": [
    "%pycat transform.py"
   ]
  },
  {
   "cell_type": "markdown",
   "id": "a745cee9-c125-4d0a-9fa1-f64d3ad2385b",
   "metadata": {},
   "source": [
    "Create a AES_KEY and add it as an environment variable to the pipeline"
   ]
  },
  {
   "cell_type": "code",
   "execution_count": null,
   "id": "ae6ba1a5-6814-4ec7-88bc-41216edaa142",
   "metadata": {},
   "outputs": [],
   "source": [
    "aes_key = create_key()"
   ]
  },
  {
   "cell_type": "code",
   "execution_count": null,
   "id": "ccef95c4-37bc-4e85-994b-312fbeb61010",
   "metadata": {},
   "outputs": [],
   "source": [
    "env_vars = [{\n",
    "  \"name\": \"AES_KEY\",\n",
    "  \"value\": aes_key\n",
    "}]"
   ]
  },
  {
   "cell_type": "markdown",
   "id": "5c261be8-22b9-49c9-849e-808a3bfb9d23",
   "metadata": {},
   "source": [
    "The transform code depends on a python library. Add a requirements.txt to the pipeline"
   ]
  },
  {
   "cell_type": "code",
   "execution_count": null,
   "id": "0e0577f4-26ce-4260-b32b-d719919ecf7f",
   "metadata": {},
   "outputs": [],
   "source": [
    "with open(\"requirements.txt\", 'r') as file:\n",
    "    requirements_txt = file.read()\n",
    "print(requirements_txt)"
   ]
  },
  {
   "cell_type": "code",
   "execution_count": null,
   "id": "4f9b72bc-e656-4523-8464-6454422ee6e0",
   "metadata": {},
   "outputs": [],
   "source": [
    "# Create the pipeline with transform.py file and name it `email-encryption` in the main space\n",
    "pipeline = client.create_pipeline(\n",
    "    name=\"email-encryption\", \n",
    "    transformation_file='transform.py',\n",
    "    space_id=space['id'], \n",
    "    env_vars=env_vars, \n",
    "    requirements=requirements_txt\n",
    ")"
   ]
  },
  {
   "cell_type": "markdown",
   "id": "61c441c9-e08a-467a-8757-24456106c2c0",
   "metadata": {},
   "source": [
    "## Publish events to the pipeline"
   ]
  },
  {
   "cell_type": "code",
   "execution_count": null,
   "id": "2c5f30f2-20eb-46e0-a134-d38a3686ba7b",
   "metadata": {},
   "outputs": [],
   "source": [
    "# Create a random data generator to generate some dummy events data\n",
    "from faker import Faker\n",
    "def random_datagen():\n",
    "    fake = Faker()\n",
    "    return {\n",
    "        \"name\": fake.name(),\n",
    "        \"email\": fake.email(),\n",
    "        \"id\": fake.uuid4()\n",
    "    }"
   ]
  },
  {
   "cell_type": "code",
   "execution_count": null,
   "id": "a7d32b20-63af-4f23-83e3-b77c203ad250",
   "metadata": {},
   "outputs": [],
   "source": [
    "data_source = pipeline.get_source()"
   ]
  },
  {
   "cell_type": "code",
   "execution_count": null,
   "id": "47fe69fc-d138-4857-abec-918d419a2809",
   "metadata": {
    "jupyter": {
     "source_hidden": true
    }
   },
   "outputs": [],
   "source": [
    "# Generate some data and send it to the pipeline. Store it locally to compare\n",
    "input_data = []\n",
    "for i in range(10):\n",
    "    d = random_datagen()\n",
    "    input_data.append(d)\n",
    "    r = data_source.publish(d)"
   ]
  },
  {
   "cell_type": "code",
   "execution_count": null,
   "id": "56a7d4da-b832-4504-8488-cf64d0b5e1af",
   "metadata": {},
   "outputs": [],
   "source": [
    "display(input_data)"
   ]
  },
  {
   "cell_type": "markdown",
   "id": "3bb28d22-5e78-445d-9d95-24fbabe607ea",
   "metadata": {},
   "source": [
    "## Consume events from the pipeline \n",
    "\n",
    "Obtain the sink to consume the transformed events from the pipeline."
   ]
  },
  {
   "cell_type": "code",
   "execution_count": null,
   "id": "fcb565a5-1be3-465f-88b1-d89683018770",
   "metadata": {},
   "outputs": [],
   "source": [
    "data_sink = pipeline.get_sink()"
   ]
  },
  {
   "cell_type": "code",
   "execution_count": null,
   "id": "db5146e1-d47a-40ba-a9e2-e83ce4a88984",
   "metadata": {},
   "outputs": [],
   "source": [
    "output_data = []\n",
    "for i in range(10):\n",
    "    resp = data_sink.consume()\n",
    "    output_data.append(resp.json())"
   ]
  },
  {
   "cell_type": "code",
   "execution_count": null,
   "id": "277ab7f1-0ae7-4ea8-a9c7-665fb57b724b",
   "metadata": {},
   "outputs": [],
   "source": [
    "display(output_data)"
   ]
  },
  {
   "cell_type": "code",
   "execution_count": null,
   "id": "5a3a40f8-b46b-4155-9d4e-65f87724ef06",
   "metadata": {},
   "outputs": [],
   "source": [
    "## Explore the pipeline on the web-UI\n",
    "pipeline_url = f\"https://app.glassflow.dev/pipelines/{pipeline.id}\"\n",
    "print(pipeline_url)"
   ]
  },
  {
   "cell_type": "code",
   "execution_count": null,
   "id": "6427adc8-b79e-43f5-8c91-35281d071888",
   "metadata": {},
   "outputs": [],
   "source": []
  }
 ],
 "metadata": {
  "kernelspec": {
   "display_name": "Python 3 (ipykernel)",
   "language": "python",
   "name": "python3"
  },
  "language_info": {
   "codemirror_mode": {
    "name": "ipython",
    "version": 3
   },
   "file_extension": ".py",
   "mimetype": "text/x-python",
   "name": "python",
   "nbconvert_exporter": "python",
   "pygments_lexer": "ipython3",
   "version": "3.9.6"
  }
 },
 "nbformat": 4,
 "nbformat_minor": 5
}
