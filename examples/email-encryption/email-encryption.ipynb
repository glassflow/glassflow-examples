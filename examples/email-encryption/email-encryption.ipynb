{
 "cells": [
  {
   "cell_type": "markdown",
   "id": "2b11eeda-9ac3-43a4-8095-a657ed642eed",
   "metadata": {},
   "source": [
    "## Introduction\n",
    "In this example, we are building a GlassFlow pipeline to encrypt email address from events data in real time. \n",
    "\n",
    "## Pre-requisite\n",
    "\n",
    "- Create your free GlassFlow account via the [GlassFlow WebApp](https://app.glassflow.dev)\n",
    "- Get your Personal Access Token to authorize the python sdk to interact with GlassFlow Cloud\n",
    "- Run `pip install -r requirements.txt` to install the needed python dependencies for this example"
   ]
  },
  {
   "cell_type": "code",
   "execution_count": null,
   "id": "80e19771-0c3a-481d-bfc3-02b7834fc6d8",
   "metadata": {},
   "outputs": [],
   "source": [
    "import glassflow"
   ]
  },
  {
   "cell_type": "code",
   "execution_count": null,
   "id": "fe0a20bf-fb96-4e24-9f6a-72d4da30fb86",
   "metadata": {},
   "outputs": [],
   "source": [
    "# method to create an AES_KEY\n",
    "def create_key():\n",
    "    import secrets\n",
    "    key = secrets.token_bytes(16)\n",
    "    return key.hex()"
   ]
  },
  {
   "cell_type": "code",
   "execution_count": null,
   "id": "13dd4af4-54ea-4f4b-a04a-302c06d3bf86",
   "metadata": {},
   "outputs": [],
   "source": [
    "# Please edit this variable with your own personal access token from https://app.glassflow.dev/profile"
   ]
  },
  {
   "cell_type": "code",
   "execution_count": null,
   "id": "67763a1e-4179-4bb3-a1e9-82fe284d2393",
   "metadata": {},
   "outputs": [],
   "source": [
    "glassflow_personal_access_token = \"\""
   ]
  },
  {
   "cell_type": "code",
   "execution_count": null,
   "id": "36e7bf26-267e-4b8f-9019-7124b210acc7",
   "metadata": {},
   "outputs": [],
   "source": [
    "# Get Glassflow client and use the personal_access_token to authorize the client to connect with GlassFlow cloud"
   ]
  },
  {
   "cell_type": "code",
   "execution_count": null,
   "id": "b1c36956-a772-434b-9448-5acd5695f964",
   "metadata": {},
   "outputs": [],
   "source": [
    "client = glassflow.GlassFlowClient(personal_access_token=glassflow_personal_access_token)"
   ]
  },
  {
   "cell_type": "code",
   "execution_count": null,
   "id": "684a5893-285f-42f5-be0d-687ee73ff995",
   "metadata": {},
   "outputs": [],
   "source": [
    "# use one of the existing glassflow space to put the pipeline."
   ]
  },
  {
   "cell_type": "code",
   "execution_count": null,
   "id": "c9ca356d-ef7d-43c8-bc19-4f8490539ee1",
   "metadata": {},
   "outputs": [],
   "source": [
    "spaces = client.list_spaces()\n",
    "space = spaces.spaces[0]"
   ]
  },
  {
   "cell_type": "code",
   "execution_count": null,
   "id": "a216c4e6-4e01-4959-a863-f7fa1936aaec",
   "metadata": {},
   "outputs": [],
   "source": [
    "print(space['name'])\n",
    "print(space['id'])"
   ]
  },
  {
   "cell_type": "code",
   "execution_count": null,
   "id": "e8da62da-a4bd-4dbe-aaa7-ead3e1c7588d",
   "metadata": {},
   "outputs": [],
   "source": [
    "# read the transform.py file which has the python code that we submit to the pipeline"
   ]
  },
  {
   "cell_type": "code",
   "execution_count": null,
   "id": "5c5ef84f-9614-448a-b7ab-7f369dea48fb",
   "metadata": {},
   "outputs": [],
   "source": [
    "with open(\"transform.py\", 'r') as file:\n",
    "    transform_content = file.read()\n",
    "print(transform_content)"
   ]
  },
  {
   "cell_type": "code",
   "execution_count": null,
   "id": "1c2d0ec6-2911-4ffc-9728-ad16d3e6ecc9",
   "metadata": {},
   "outputs": [],
   "source": [
    "# Create a AES_KEY and add it as an environment variable to the pipeline"
   ]
  },
  {
   "cell_type": "code",
   "execution_count": null,
   "id": "ae6ba1a5-6814-4ec7-88bc-41216edaa142",
   "metadata": {},
   "outputs": [],
   "source": [
    "aes_key = create_key()"
   ]
  },
  {
   "cell_type": "code",
   "execution_count": null,
   "id": "ccef95c4-37bc-4e85-994b-312fbeb61010",
   "metadata": {},
   "outputs": [],
   "source": [
    "env_vars = [{\n",
    "      \"name\": \"AES_KEY\",\n",
    "      \"value\": aes_key\n",
    "    }]"
   ]
  },
  {
   "cell_type": "code",
   "execution_count": null,
   "id": "02f4558d-9d84-400a-aeef-cb5a2128539f",
   "metadata": {},
   "outputs": [],
   "source": [
    "# The transform code depends on a python library. Add a requirements.txt to the pipeline"
   ]
  },
  {
   "cell_type": "code",
   "execution_count": null,
   "id": "0e0577f4-26ce-4260-b32b-d719919ecf7f",
   "metadata": {},
   "outputs": [],
   "source": [
    "with open(\"requirements.txt\", 'r') as file:\n",
    "    requirements_txt = file.read()\n",
    "print(requirements_txt)"
   ]
  },
  {
   "cell_type": "code",
   "execution_count": null,
   "id": "4f9b72bc-e656-4523-8464-6454422ee6e0",
   "metadata": {},
   "outputs": [],
   "source": [
    "# Create the pipeline with transform.py file and name it `email-encryption` in the main space\n",
    "pipeline = client.create_pipeline(name=\"email-encryption-4\", transformation_file='transform.py',\n",
    "                                  space_id=space['id'], env_vars=env_vars, requirements=requirements_txt)"
   ]
  },
  {
   "cell_type": "markdown",
   "id": "61c441c9-e08a-467a-8757-24456106c2c0",
   "metadata": {},
   "source": [
    "### Publish events to the pipeline"
   ]
  },
  {
   "cell_type": "code",
   "execution_count": null,
   "id": "2c5f30f2-20eb-46e0-a134-d38a3686ba7b",
   "metadata": {},
   "outputs": [],
   "source": [
    "# Create a random data generator to generate some dummy events data\n",
    "from faker import Faker\n",
    "def random_datagen():\n",
    "    fake = Faker()\n",
    "    return {\n",
    "        \"name\": fake.name(),\n",
    "        \"email\": fake.email(),\n",
    "        \"id\": fake.uuid4()\n",
    "    }"
   ]
  },
  {
   "cell_type": "code",
   "execution_count": null,
   "id": "a7d32b20-63af-4f23-83e3-b77c203ad250",
   "metadata": {},
   "outputs": [],
   "source": [
    "data_source = pipeline.get_source()"
   ]
  },
  {
   "cell_type": "code",
   "execution_count": null,
   "id": "47fe69fc-d138-4857-abec-918d419a2809",
   "metadata": {},
   "outputs": [],
   "source": [
    "# Generate some data and send it to the pipeline. Store it locally to compare\n",
    "input_data = []\n",
    "for i in range(10):\n",
    "    d = random_datagen()\n",
    "    input_data.append(d)\n",
    "    r = data_source.publish(d)"
   ]
  },
  {
   "cell_type": "code",
   "execution_count": null,
   "id": "56a7d4da-b832-4504-8488-cf64d0b5e1af",
   "metadata": {},
   "outputs": [],
   "source": [
    "display(input_data)"
   ]
  },
  {
   "cell_type": "markdown",
   "id": "3bb28d22-5e78-445d-9d95-24fbabe607ea",
   "metadata": {},
   "source": [
    "### Consume events from the pipeline \n",
    "Get the sink to consume transformed events from the pipeline"
   ]
  },
  {
   "cell_type": "code",
   "execution_count": null,
   "id": "fcb565a5-1be3-465f-88b1-d89683018770",
   "metadata": {},
   "outputs": [],
   "source": [
    "data_sink = pipeline.get_sink()"
   ]
  },
  {
   "cell_type": "code",
   "execution_count": null,
   "id": "db5146e1-d47a-40ba-a9e2-e83ce4a88984",
   "metadata": {},
   "outputs": [],
   "source": [
    "output_data = []\n",
    "for i in range(10):\n",
    "    resp = data_sink.consume()\n",
    "    output_data.append(resp.json())"
   ]
  },
  {
   "cell_type": "code",
   "execution_count": null,
   "id": "277ab7f1-0ae7-4ea8-a9c7-665fb57b724b",
   "metadata": {},
   "outputs": [],
   "source": [
    "display(output_data)"
   ]
  },
  {
   "cell_type": "code",
   "execution_count": null,
   "id": "5a3a40f8-b46b-4155-9d4e-65f87724ef06",
   "metadata": {},
   "outputs": [],
   "source": [
    "## Explore the pipeline on the web-UI\n",
    "pipeline_url = f\"https://app.glassflow.dev/pipelines/{pipeline.id}\"\n",
    "print(pipeline_url)"
   ]
  },
  {
   "cell_type": "code",
   "execution_count": null,
   "id": "6427adc8-b79e-43f5-8c91-35281d071888",
   "metadata": {},
   "outputs": [],
   "source": []
  }
 ],
 "metadata": {
  "kernelspec": {
   "display_name": "Python 3 (ipykernel)",
   "language": "python",
   "name": "python3"
  },
  "language_info": {
   "codemirror_mode": {
    "name": "ipython",
    "version": 3
   },
   "file_extension": ".py",
   "mimetype": "text/x-python",
   "name": "python",
   "nbconvert_exporter": "python",
   "pygments_lexer": "ipython3",
   "version": "3.9.6"
  }
 },
 "nbformat": 4,
 "nbformat_minor": 5
}
