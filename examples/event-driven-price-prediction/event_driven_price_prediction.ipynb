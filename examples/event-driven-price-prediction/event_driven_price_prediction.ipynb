{
 "cells": [
  {
   "cell_type": "markdown",
   "id": "75eb080b-c0fa-4d23-a257-49a9d22fb1f6",
   "metadata": {},
   "source": [
    "# Event-driven online price prediction \n",
    "\n",
    "Many companies switching from batch processing to real-time processing to use dynamic data to make more relevant recommendations to customers. Static data are information that changes slowly or rarely – age, gender, job, neighborhood, etc. Dynamic data are information or action based on what’s happening right now – what you’re watching, what you’ve just liked on Instagram, you are searching for a taxi driver using Ubver, etc. Knowing a user’s interests right now will allow your systems to make recommendations much more relevant to them.\n",
    "\n",
    "In this example, we will demonstrate a sample pipeline for **ride-hailing companies like Bolt or Uber** that can process data from two different microservices—Service A (Driver Availability) and Service B (Ride Demand), send events into ML model, and returns the best possible price to show customers in real-time each time they request a ride. Microservices—Service A, Service B, and Service C (prediction pipeline) communicates through an event-driven architecture where:\n",
    "\n",
    "- Service A (Driver Availability): Manages driver availability in real-time.\n",
    "- Service B (Ride Demand): Manages customer ride requests and demand in different regions.\n",
    "- Service C (Price Prediction Pipeline): Predicts the best possible price for a ride based on driver availability and ride demand.\n",
    "\n",
    "**Steps:**\n",
    "\n",
    "1. Service A (Driver Availability) and Service B (Ride Demand) publish events to the same GlassFlow pipeline.\n",
    "2. GlassFlow transformation function calculates predicted price based on the driver availability and ride demand.\n",
    "3. The consumed output from the pipeline is visualized in real-time after receiving the price prediction event in Service C.\n",
    "\n",
    "## Pre-requisites\n",
    "\n",
    "- Create your free GlassFlow account via the [GlassFlow WebApp](https://app.glassflow.dev).\n",
    "- Get your [Personal Access Token](https://app.glassflow.dev/profile) to authorize the Python SDK to interact with GlassFlow Cloud."
   ]
  },
  {
   "cell_type": "markdown",
   "id": "e080f5db",
   "metadata": {},
   "source": [
    "## Step 1: Install required libraries and import"
   ]
  },
  {
   "cell_type": "code",
   "execution_count": 27,
   "id": "5cc3f293",
   "metadata": {},
   "outputs": [
    {
     "name": "stdout",
     "output_type": "stream",
     "text": [
      "Requirement already satisfied: glassflow>=2.0.5 in /opt/homebrew/lib/python3.11/site-packages (2.0.5)\n",
      "Requirement already satisfied: pandas in /opt/homebrew/lib/python3.11/site-packages (2.2.3)\n",
      "Requirement already satisfied: plotly in /opt/homebrew/lib/python3.11/site-packages (5.24.1)\n",
      "Requirement already satisfied: faker in /opt/homebrew/lib/python3.11/site-packages (30.6.0)\n",
      "Requirement already satisfied: urllib3==1.26.15 in /opt/homebrew/lib/python3.11/site-packages (from glassflow>=2.0.5) (1.26.15)\n",
      "Requirement already satisfied: certifi>=2023.7.22 in /opt/homebrew/lib/python3.11/site-packages (from glassflow>=2.0.5) (2024.8.30)\n",
      "Requirement already satisfied: charset-normalizer>=3.2.0 in /opt/homebrew/lib/python3.11/site-packages (from glassflow>=2.0.5) (3.4.0)\n",
      "Requirement already satisfied: dataclasses-json>=0.6.4 in /opt/homebrew/lib/python3.11/site-packages (from glassflow>=2.0.5) (0.6.7)\n",
      "Requirement already satisfied: idna>=3.4 in /opt/homebrew/lib/python3.11/site-packages (from glassflow>=2.0.5) (3.10)\n",
      "Requirement already satisfied: jsonpath-python>=1.0.6 in /opt/homebrew/lib/python3.11/site-packages (from glassflow>=2.0.5) (1.0.6)\n",
      "Requirement already satisfied: marshmallow>=3.19.0 in /opt/homebrew/lib/python3.11/site-packages (from glassflow>=2.0.5) (3.23.0)\n",
      "Requirement already satisfied: mypy-extensions>=1.0.0 in /opt/homebrew/lib/python3.11/site-packages (from glassflow>=2.0.5) (1.0.0)\n",
      "Requirement already satisfied: packaging>=23.1 in /Users/boburumurzokov/Library/Python/3.11/lib/python/site-packages (from glassflow>=2.0.5) (24.1)\n",
      "Requirement already satisfied: python-dateutil>=2.8.2 in /Users/boburumurzokov/Library/Python/3.11/lib/python/site-packages (from glassflow>=2.0.5) (2.9.0.post0)\n",
      "Requirement already satisfied: requests>=2.31.0 in /opt/homebrew/lib/python3.11/site-packages (from glassflow>=2.0.5) (2.32.3)\n",
      "Requirement already satisfied: six>=1.16.0 in /Users/boburumurzokov/Library/Python/3.11/lib/python/site-packages (from glassflow>=2.0.5) (1.16.0)\n",
      "Requirement already satisfied: typing-inspect>=0.9.0 in /opt/homebrew/lib/python3.11/site-packages (from glassflow>=2.0.5) (0.9.0)\n",
      "Requirement already satisfied: typing-extensions>=4.7.1 in /Users/boburumurzokov/Library/Python/3.11/lib/python/site-packages (from glassflow>=2.0.5) (4.12.2)\n",
      "Requirement already satisfied: python-dotenv==1.0.1 in /opt/homebrew/lib/python3.11/site-packages (from glassflow>=2.0.5) (1.0.1)\n",
      "Requirement already satisfied: numpy>=1.23.2 in /opt/homebrew/lib/python3.11/site-packages (from pandas) (2.1.2)\n",
      "Requirement already satisfied: pytz>=2020.1 in /opt/homebrew/lib/python3.11/site-packages (from pandas) (2024.2)\n",
      "Requirement already satisfied: tzdata>=2022.7 in /opt/homebrew/lib/python3.11/site-packages (from pandas) (2024.2)\n",
      "Requirement already satisfied: tenacity>=6.2.0 in /opt/homebrew/lib/python3.11/site-packages (from plotly) (9.0.0)\n",
      "\n",
      "\u001b[1m[\u001b[0m\u001b[34;49mnotice\u001b[0m\u001b[1;39;49m]\u001b[0m\u001b[39;49m A new release of pip is available: \u001b[0m\u001b[31;49m24.1.2\u001b[0m\u001b[39;49m -> \u001b[0m\u001b[32;49m24.2\u001b[0m\n",
      "\u001b[1m[\u001b[0m\u001b[34;49mnotice\u001b[0m\u001b[1;39;49m]\u001b[0m\u001b[39;49m To update, run: \u001b[0m\u001b[32;49mpython3.11 -m pip install --upgrade pip\u001b[0m\n",
      "Note: you may need to restart the kernel to use updated packages.\n"
     ]
    }
   ],
   "source": [
    "%pip install \"glassflow>=2.0.5\" pandas plotly faker"
   ]
  },
  {
   "cell_type": "code",
   "execution_count": 34,
   "id": "cdc80623",
   "metadata": {},
   "outputs": [],
   "source": [
    "import glassflow\n",
    "import pandas as pd\n",
    "import random\n",
    "import time\n",
    "from faker import Faker\n",
    "import plotly.graph_objects as go\n",
    "from IPython.display import display, clear_output\n",
    "from collections import defaultdict"
   ]
  },
  {
   "cell_type": "markdown",
   "id": "543435a8-4252-4340-b25d-933c54a597d1",
   "metadata": {},
   "source": [
    "## Step 2: Create GlassFlow Pipeline"
   ]
  },
  {
   "cell_type": "code",
   "execution_count": 41,
   "id": "0742216b-c5ba-4f2c-a35a-94df544dcb55",
   "metadata": {},
   "outputs": [],
   "source": [
    "# Set personal access token from your GlassFlow account\n",
    "personal_access_token = \"XtkeyvM2E3wNgAHQZpsNWh9bgZWFjCJZqNVeAYRZ9Eh7JC23HnKqf4t8zBWagFrnJGytxEM39NneHDSEFJ5wp7sdJfdG8JddW4zZgNRKD5V2VHM5C28W2W7AZ2RNnTf7\"\n"
   ]
  },
  {
   "cell_type": "code",
   "execution_count": 18,
   "id": "5c661c06-1c8d-4cc6-9ec0-59a1808418a2",
   "metadata": {},
   "outputs": [],
   "source": [
    "# Create a GlassFlow client\n",
    "client = glassflow.GlassFlowClient(\n",
    "    personal_access_token=personal_access_token\n",
    ")"
   ]
  },
  {
   "cell_type": "code",
   "execution_count": 19,
   "id": "c63e991f-ea82-49a5-9108-96345de36da5",
   "metadata": {
    "scrolled": true
   },
   "outputs": [
    {
     "name": "stdout",
     "output_type": "stream",
     "text": [
      "Created space ride-hailing with ID: e439eaee-fc49-46ed-a428-1601879540ad\n"
     ]
    }
   ],
   "source": [
    "# Get the space named \"ride-hailing\" (or create one if no space is found)\n",
    "list_spaces = client.list_spaces()\n",
    "\n",
    "space_name = \"ride-hailing\"\n",
    "for s in list_spaces.spaces:\n",
    "    if s[\"name\"] == space_name:\n",
    "        space = glassflow.Space(\n",
    "            personal_access_token=client.personal_access_token,\n",
    "            id=s[\"id\"], \n",
    "            name=s[\"name\"]\n",
    "        )\n",
    "        break\n",
    "else:\n",
    "    space = client.create_space(name=space_name)\n",
    "\n",
    "print(f\"Created space {space.name} with ID: {space.id}\")"
   ]
  },
  {
   "cell_type": "markdown",
   "id": "929b0a7b-38c2-400d-a663-118c86e6806a",
   "metadata": {},
   "source": [
    "### Transformation Function"
   ]
  },
  {
   "cell_type": "code",
   "execution_count": 20,
   "id": "c0e471e2-d77a-4a0e-9e26-59525fb5eaeb",
   "metadata": {},
   "outputs": [
    {
     "name": "stdout",
     "output_type": "stream",
     "text": [
      "\u001b[0;32mimport\u001b[0m \u001b[0mpandas\u001b[0m \u001b[0;32mas\u001b[0m \u001b[0mpd\u001b[0m\u001b[0;34m\u001b[0m\n",
      "\u001b[0;34m\u001b[0m\u001b[0;34m\u001b[0m\n",
      "\u001b[0;34m\u001b[0m\u001b[0;34m\u001b[0m\n",
      "\u001b[0;34m\u001b[0m\u001b[0;31m# GlassFlow handler function\u001b[0m\u001b[0;34m\u001b[0m\n",
      "\u001b[0;34m\u001b[0m\u001b[0;32mdef\u001b[0m \u001b[0mhandler\u001b[0m\u001b[0;34m(\u001b[0m\u001b[0mdata\u001b[0m\u001b[0;34m,\u001b[0m \u001b[0mlog\u001b[0m\u001b[0;34m)\u001b[0m\u001b[0;34m:\u001b[0m\u001b[0;34m\u001b[0m\n",
      "\u001b[0;34m\u001b[0m    \u001b[0;34m\"\"\"\u001b[0m\n",
      "\u001b[0;34m    The GlassFlow handler function processes driver availability and ride demand data,\u001b[0m\n",
      "\u001b[0;34m    calculates price predictions, and returns the transformed data.\u001b[0m\n",
      "\u001b[0;34m\u001b[0m\n",
      "\u001b[0;34m    Parameters:\u001b[0m\n",
      "\u001b[0;34m    - data: Incoming event data from both Service A (driver availability) and Service B (ride demand).\u001b[0m\n",
      "\u001b[0;34m    - log: Logging object for logging within the pipeline.\u001b[0m\n",
      "\u001b[0;34m\u001b[0m\n",
      "\u001b[0;34m    Returns:\u001b[0m\n",
      "\u001b[0;34m    - A dictionary containing predicted price and other related information.\u001b[0m\n",
      "\u001b[0;34m    \"\"\"\u001b[0m\u001b[0;34m\u001b[0m\n",
      "\u001b[0;34m\u001b[0m\u001b[0;34m\u001b[0m\n",
      "\u001b[0;34m\u001b[0m    \u001b[0;32mtry\u001b[0m\u001b[0;34m:\u001b[0m\u001b[0;34m\u001b[0m\n",
      "\u001b[0;34m\u001b[0m        \u001b[0mlog\u001b[0m\u001b[0;34m.\u001b[0m\u001b[0minfo\u001b[0m\u001b[0;34m(\u001b[0m\u001b[0;34m\"Starting price prediction transformation\"\u001b[0m\u001b[0;34m)\u001b[0m\u001b[0;34m\u001b[0m\n",
      "\u001b[0;34m\u001b[0m\u001b[0;34m\u001b[0m\n",
      "\u001b[0;34m\u001b[0m        \u001b[0mavailability_data\u001b[0m \u001b[0;34m=\u001b[0m \u001b[0;32mNone\u001b[0m\u001b[0;34m\u001b[0m\n",
      "\u001b[0;34m\u001b[0m        \u001b[0mdemand_data\u001b[0m \u001b[0;34m=\u001b[0m \u001b[0;32mNone\u001b[0m\u001b[0;34m\u001b[0m\n",
      "\u001b[0;34m\u001b[0m\u001b[0;34m\u001b[0m\n",
      "\u001b[0;34m\u001b[0m        \u001b[0;31m# Iterate over the data to determine the source\u001b[0m\u001b[0;34m\u001b[0m\n",
      "\u001b[0;34m\u001b[0m        \u001b[0;32mfor\u001b[0m \u001b[0mevent\u001b[0m \u001b[0;32min\u001b[0m \u001b[0mdata\u001b[0m\u001b[0;34m:\u001b[0m\u001b[0;34m\u001b[0m\n",
      "\u001b[0;34m\u001b[0m            \u001b[0;32mif\u001b[0m \u001b[0mevent\u001b[0m\u001b[0;34m[\u001b[0m\u001b[0;34m\"event\"\u001b[0m\u001b[0;34m]\u001b[0m \u001b[0;34m==\u001b[0m \u001b[0;34m\"driver_availability\"\u001b[0m\u001b[0;34m:\u001b[0m\u001b[0;34m\u001b[0m\n",
      "\u001b[0;34m\u001b[0m                \u001b[0mavailability_data\u001b[0m \u001b[0;34m=\u001b[0m \u001b[0mevent\u001b[0m\u001b[0;34m\u001b[0m\n",
      "\u001b[0;34m\u001b[0m            \u001b[0;32melif\u001b[0m \u001b[0mevent\u001b[0m\u001b[0;34m[\u001b[0m\u001b[0;34m\"event\"\u001b[0m\u001b[0;34m]\u001b[0m \u001b[0;34m==\u001b[0m \u001b[0;34m\"ride_demand\"\u001b[0m\u001b[0;34m:\u001b[0m\u001b[0;34m\u001b[0m\n",
      "\u001b[0;34m\u001b[0m                \u001b[0mdemand_data\u001b[0m \u001b[0;34m=\u001b[0m \u001b[0mevent\u001b[0m\u001b[0;34m\u001b[0m\n",
      "\u001b[0;34m\u001b[0m\u001b[0;34m\u001b[0m\n",
      "\u001b[0;34m\u001b[0m        \u001b[0;31m# If both pieces of information are available, compute the price\u001b[0m\u001b[0;34m\u001b[0m\n",
      "\u001b[0;34m\u001b[0m        \u001b[0;32mif\u001b[0m \u001b[0mavailability_data\u001b[0m \u001b[0;32mand\u001b[0m \u001b[0mdemand_data\u001b[0m\u001b[0;34m:\u001b[0m\u001b[0;34m\u001b[0m\n",
      "\u001b[0;34m\u001b[0m            \u001b[0mavailable_drivers\u001b[0m \u001b[0;34m=\u001b[0m \u001b[0mavailability_data\u001b[0m\u001b[0;34m[\u001b[0m\u001b[0;34m\"available_drivers\"\u001b[0m\u001b[0;34m]\u001b[0m\u001b[0;34m\u001b[0m\n",
      "\u001b[0;34m\u001b[0m            \u001b[0mride_requests\u001b[0m \u001b[0;34m=\u001b[0m \u001b[0mdemand_data\u001b[0m\u001b[0;34m[\u001b[0m\u001b[0;34m\"ride_requests\"\u001b[0m\u001b[0;34m]\u001b[0m\u001b[0;34m\u001b[0m\n",
      "\u001b[0;34m\u001b[0m            \u001b[0mbase_price\u001b[0m \u001b[0;34m=\u001b[0m \u001b[0;36m5.00\u001b[0m\u001b[0;34m\u001b[0m\n",
      "\u001b[0;34m\u001b[0m            \u001b[0mdemand_factor\u001b[0m \u001b[0;34m=\u001b[0m \u001b[0mride_requests\u001b[0m \u001b[0;34m/\u001b[0m \u001b[0mavailable_drivers\u001b[0m\u001b[0;34m\u001b[0m\n",
      "\u001b[0;34m\u001b[0m\u001b[0;34m\u001b[0m\n",
      "\u001b[0;34m\u001b[0m            \u001b[0;31m# Simple price prediction logic based on driver availability and demand\u001b[0m\u001b[0;34m\u001b[0m\n",
      "\u001b[0;34m\u001b[0m            \u001b[0;31m# You can replace this with a more sophisticated ML model\u001b[0m\u001b[0;34m\u001b[0m\n",
      "\u001b[0;34m\u001b[0m            \u001b[0mpredicted_price\u001b[0m \u001b[0;34m=\u001b[0m \u001b[0mbase_price\u001b[0m \u001b[0;34m*\u001b[0m \u001b[0mdemand_factor\u001b[0m\u001b[0;34m\u001b[0m\n",
      "\u001b[0;34m\u001b[0m\u001b[0;34m\u001b[0m\n",
      "\u001b[0;34m\u001b[0m            \u001b[0;31m# Return the prediction data\u001b[0m\u001b[0;34m\u001b[0m\n",
      "\u001b[0;34m\u001b[0m            \u001b[0mresult\u001b[0m \u001b[0;34m=\u001b[0m \u001b[0;34m{\u001b[0m\u001b[0;34m\u001b[0m\n",
      "\u001b[0;34m\u001b[0m                \u001b[0;34m\"region\"\u001b[0m\u001b[0;34m:\u001b[0m \u001b[0mdemand_data\u001b[0m\u001b[0;34m[\u001b[0m\u001b[0;34m\"region\"\u001b[0m\u001b[0;34m]\u001b[0m\u001b[0;34m,\u001b[0m\u001b[0;34m\u001b[0m\n",
      "\u001b[0;34m\u001b[0m                \u001b[0;34m\"predicted_price\"\u001b[0m\u001b[0;34m:\u001b[0m \u001b[0mround\u001b[0m\u001b[0;34m(\u001b[0m\u001b[0mpredicted_price\u001b[0m\u001b[0;34m,\u001b[0m \u001b[0;36m2\u001b[0m\u001b[0;34m)\u001b[0m\u001b[0;34m,\u001b[0m\u001b[0;34m\u001b[0m\n",
      "\u001b[0;34m\u001b[0m                \u001b[0;34m\"available_drivers\"\u001b[0m\u001b[0;34m:\u001b[0m \u001b[0mavailable_drivers\u001b[0m\u001b[0;34m,\u001b[0m\u001b[0;34m\u001b[0m\n",
      "\u001b[0;34m\u001b[0m                \u001b[0;34m\"ride_requests\"\u001b[0m\u001b[0;34m:\u001b[0m \u001b[0mride_requests\u001b[0m\u001b[0;34m,\u001b[0m\u001b[0;34m\u001b[0m\n",
      "\u001b[0;34m\u001b[0m                \u001b[0;34m\"datetime\"\u001b[0m\u001b[0;34m:\u001b[0m \u001b[0mpd\u001b[0m\u001b[0;34m.\u001b[0m\u001b[0mTimestamp\u001b[0m\u001b[0;34m.\u001b[0m\u001b[0mnow\u001b[0m\u001b[0;34m(\u001b[0m\u001b[0;34m)\u001b[0m\u001b[0;34m.\u001b[0m\u001b[0mstrftime\u001b[0m\u001b[0;34m(\u001b[0m\u001b[0;34m\"%Y-%m-%d %H:%M:%S\"\u001b[0m\u001b[0;34m)\u001b[0m\u001b[0;34m,\u001b[0m\u001b[0;34m\u001b[0m\n",
      "\u001b[0;34m\u001b[0m            \u001b[0;34m}\u001b[0m\u001b[0;34m\u001b[0m\n",
      "\u001b[0;34m\u001b[0m\u001b[0;34m\u001b[0m\n",
      "\u001b[0;34m\u001b[0m            \u001b[0mlog\u001b[0m\u001b[0;34m.\u001b[0m\u001b[0minfo\u001b[0m\u001b[0;34m(\u001b[0m\u001b[0;34mf\"Price prediction computed: {result}\"\u001b[0m\u001b[0;34m)\u001b[0m\u001b[0;34m\u001b[0m\n",
      "\u001b[0;34m\u001b[0m\u001b[0;34m\u001b[0m\n",
      "\u001b[0;34m\u001b[0m            \u001b[0;32mreturn\u001b[0m \u001b[0mresult\u001b[0m\u001b[0;34m\u001b[0m\n",
      "\u001b[0;34m\u001b[0m\u001b[0;34m\u001b[0m\n",
      "\u001b[0;34m\u001b[0m        \u001b[0;32melse\u001b[0m\u001b[0;34m:\u001b[0m\u001b[0;34m\u001b[0m\n",
      "\u001b[0;34m\u001b[0m            \u001b[0mlog\u001b[0m\u001b[0;34m.\u001b[0m\u001b[0minfo\u001b[0m\u001b[0;34m(\u001b[0m\u001b[0;34m\"Insufficient data for price prediction\"\u001b[0m\u001b[0;34m)\u001b[0m\u001b[0;34m\u001b[0m\n",
      "\u001b[0;34m\u001b[0m            \u001b[0;32mreturn\u001b[0m \u001b[0;34m[\u001b[0m\u001b[0;34m]\u001b[0m\u001b[0;34m\u001b[0m\n",
      "\u001b[0;34m\u001b[0m\u001b[0;34m\u001b[0m\n",
      "\u001b[0;34m\u001b[0m    \u001b[0;32mexcept\u001b[0m \u001b[0mException\u001b[0m \u001b[0;32mas\u001b[0m \u001b[0me\u001b[0m\u001b[0;34m:\u001b[0m\u001b[0;34m\u001b[0m\n",
      "\u001b[0;34m\u001b[0m        \u001b[0mlog\u001b[0m\u001b[0;34m.\u001b[0m\u001b[0merror\u001b[0m\u001b[0;34m(\u001b[0m\u001b[0;34mf\"Error during transformation: {e}\"\u001b[0m\u001b[0;34m)\u001b[0m\u001b[0;34m\u001b[0m\n",
      "\u001b[0;34m\u001b[0m        \u001b[0;32mraise\u001b[0m\u001b[0;34m\u001b[0m\u001b[0;34m\u001b[0m\u001b[0m\n"
     ]
    }
   ],
   "source": [
    "%pycat transform.py"
   ]
  },
  {
   "cell_type": "markdown",
   "id": "24a91730-3831-4702-8ebd-40a3651e08bf",
   "metadata": {},
   "source": [
    "### Requirements txt"
   ]
  },
  {
   "cell_type": "markdown",
   "id": "386779f6",
   "metadata": {},
   "source": [
    "Define external dependencies for the transformation function"
   ]
  },
  {
   "cell_type": "code",
   "execution_count": 21,
   "id": "f22c9e17-6cf3-4fff-9639-215ba9281cad",
   "metadata": {},
   "outputs": [
    {
     "name": "stdout",
     "output_type": "stream",
     "text": [
      "pandas\n"
     ]
    }
   ],
   "source": [
    "with open(\"requirements.txt\") as f:\n",
    "    requirements_txt = f.read()\n",
    "print(requirements_txt)"
   ]
  },
  {
   "cell_type": "markdown",
   "id": "434cb081-ee24-47f8-9125-e2b660977f60",
   "metadata": {},
   "source": [
    "### Create Pipeline\n",
    "\n",
    "Create pipeline for the price prediction"
   ]
  },
  {
   "cell_type": "code",
   "execution_count": 54,
   "id": "16db3073-3327-4ae1-bea0-8608a4e5465d",
   "metadata": {
    "scrolled": true
   },
   "outputs": [
    {
     "name": "stdout",
     "output_type": "stream",
     "text": [
      "Pipeline created successfully with ID: 2146e908-4daa-4c87-9ba0-7348e0e03aee\n",
      "Pipeline URL on GlassFlow UI to discover https://app.glassflow.dev/pipelines/2146e908-4daa-4c87-9ba0-7348e0e03aee \n"
     ]
    }
   ],
   "source": [
    "pipeline_name = \"event-driven-price-prediction\"\n",
    "\n",
    "pipeline = client.create_pipeline(\n",
    "    name=pipeline_name, \n",
    "    transformation_file='transform.py',\n",
    "    space_id=space.id,\n",
    "    requirements=requirements_txt\n",
    ")\n",
    "print(f\"Pipeline created successfully with ID: {pipeline.id}\")\n",
    "print(\"Pipeline URL on GlassFlow UI to discover %s \"% f\"https://app.glassflow.dev/pipelines/{pipeline.id}\")"
   ]
  },
  {
   "cell_type": "markdown",
   "id": "fc710512-0ef0-404b-9007-40960882380c",
   "metadata": {},
   "source": [
    "## Step 3: Service A and Service B Publishes Events To Pipeline\n",
    "\n",
    "Both Service A (Driver Availability) and Service B (Ride Demand) will publish their data to the same pipeline."
   ]
  },
  {
   "cell_type": "code",
   "execution_count": 66,
   "id": "2b4be642-0e7a-41bb-8edb-d2fec8c6d188",
   "metadata": {},
   "outputs": [
    {
     "name": "stdout",
     "output_type": "stream",
     "text": [
      "Published event from Service A: {'event': 'driver_availability', 'region': 'downtown', 'available_drivers': 10, 'datetime': '2024-10-17T13:10:20.250304'}\n",
      "Published event from Service B: {'event': 'ride_demand', 'region': 'downtown', 'ride_requests': 36, 'datetime': '2024-10-22T17:18:50.047031'}\n",
      "Published event from Service A: {'event': 'driver_availability', 'region': 'downtown', 'available_drivers': 9, 'datetime': '2024-10-01T02:24:19.308502'}\n",
      "Published event from Service B: {'event': 'ride_demand', 'region': 'downtown', 'ride_requests': 25, 'datetime': '2024-10-03T21:19:04.775947'}\n",
      "Published event from Service A: {'event': 'driver_availability', 'region': 'downtown', 'available_drivers': 16, 'datetime': '2024-10-03T00:17:47.821989'}\n",
      "Published event from Service B: {'event': 'ride_demand', 'region': 'downtown', 'ride_requests': 12, 'datetime': '2024-10-19T10:47:59.575978'}\n",
      "Published event from Service A: {'event': 'driver_availability', 'region': 'downtown', 'available_drivers': 6, 'datetime': '2024-10-01T18:27:10.639427'}\n",
      "Published event from Service B: {'event': 'ride_demand', 'region': 'downtown', 'ride_requests': 15, 'datetime': '2024-10-06T13:53:50.288917'}\n",
      "Published event from Service A: {'event': 'driver_availability', 'region': 'downtown', 'available_drivers': 16, 'datetime': '2024-10-02T03:07:34.749582'}\n",
      "Published event from Service B: {'event': 'ride_demand', 'region': 'downtown', 'ride_requests': 33, 'datetime': '2024-10-17T23:29:06.619220'}\n",
      "Published event from Service A: {'event': 'driver_availability', 'region': 'downtown', 'available_drivers': 10, 'datetime': '2024-10-01T14:51:11.592883'}\n",
      "Published event from Service B: {'event': 'ride_demand', 'region': 'downtown', 'ride_requests': 37, 'datetime': '2024-10-09T06:20:02.352635'}\n",
      "Published event from Service A: {'event': 'driver_availability', 'region': 'downtown', 'available_drivers': 20, 'datetime': '2024-10-04T14:11:38.122721'}\n",
      "Published event from Service B: {'event': 'ride_demand', 'region': 'downtown', 'ride_requests': 22, 'datetime': '2024-10-21T20:37:35.031131'}\n",
      "Published event from Service A: {'event': 'driver_availability', 'region': 'downtown', 'available_drivers': 16, 'datetime': '2024-10-04T22:36:49.426092'}\n",
      "Published event from Service B: {'event': 'ride_demand', 'region': 'downtown', 'ride_requests': 21, 'datetime': '2024-10-10T02:44:03.707197'}\n",
      "Published event from Service A: {'event': 'driver_availability', 'region': 'downtown', 'available_drivers': 16, 'datetime': '2024-10-23T01:52:07.191972'}\n",
      "Published event from Service B: {'event': 'ride_demand', 'region': 'downtown', 'ride_requests': 40, 'datetime': '2024-10-07T18:29:35.822689'}\n",
      "Published event from Service A: {'event': 'driver_availability', 'region': 'downtown', 'available_drivers': 17, 'datetime': '2024-10-17T04:11:06.879070'}\n",
      "Published event from Service B: {'event': 'ride_demand', 'region': 'downtown', 'ride_requests': 33, 'datetime': '2024-10-21T20:46:10.689302'}\n",
      "Published event from Service A: {'event': 'driver_availability', 'region': 'downtown', 'available_drivers': 11, 'datetime': '2024-10-09T02:32:26.973866'}\n",
      "Published event from Service B: {'event': 'ride_demand', 'region': 'downtown', 'ride_requests': 49, 'datetime': '2024-10-14T23:41:19.305693'}\n",
      "Published event from Service A: {'event': 'driver_availability', 'region': 'downtown', 'available_drivers': 20, 'datetime': '2024-10-03T11:57:45.942582'}\n",
      "Published event from Service B: {'event': 'ride_demand', 'region': 'downtown', 'ride_requests': 33, 'datetime': '2024-10-14T18:29:22.129948'}\n",
      "Published event from Service A: {'event': 'driver_availability', 'region': 'downtown', 'available_drivers': 9, 'datetime': '2024-10-16T17:45:00.894304'}\n",
      "Published event from Service B: {'event': 'ride_demand', 'region': 'downtown', 'ride_requests': 31, 'datetime': '2024-10-04T04:07:47.388347'}\n",
      "Published event from Service A: {'event': 'driver_availability', 'region': 'downtown', 'available_drivers': 12, 'datetime': '2024-10-13T01:57:00.601890'}\n",
      "Published event from Service B: {'event': 'ride_demand', 'region': 'downtown', 'ride_requests': 24, 'datetime': '2024-10-10T13:26:57.797766'}\n",
      "Published event from Service A: {'event': 'driver_availability', 'region': 'downtown', 'available_drivers': 16, 'datetime': '2024-10-22T19:56:25.295082'}\n",
      "Published event from Service B: {'event': 'ride_demand', 'region': 'downtown', 'ride_requests': 49, 'datetime': '2024-10-18T08:58:22.927437'}\n",
      "Published event from Service A: {'event': 'driver_availability', 'region': 'downtown', 'available_drivers': 9, 'datetime': '2024-10-01T20:36:43.026148'}\n",
      "Published event from Service B: {'event': 'ride_demand', 'region': 'downtown', 'ride_requests': 30, 'datetime': '2024-10-04T04:54:57.209916'}\n",
      "Published event from Service A: {'event': 'driver_availability', 'region': 'downtown', 'available_drivers': 19, 'datetime': '2024-10-09T11:23:51.026720'}\n",
      "Published event from Service B: {'event': 'ride_demand', 'region': 'downtown', 'ride_requests': 38, 'datetime': '2024-10-16T18:56:48.591524'}\n",
      "Published event from Service A: {'event': 'driver_availability', 'region': 'downtown', 'available_drivers': 16, 'datetime': '2024-10-05T16:14:10.927963'}\n",
      "Published event from Service B: {'event': 'ride_demand', 'region': 'downtown', 'ride_requests': 46, 'datetime': '2024-10-22T09:09:23.242769'}\n",
      "Published event from Service A: {'event': 'driver_availability', 'region': 'downtown', 'available_drivers': 5, 'datetime': '2024-10-13T00:16:38.955015'}\n",
      "Published event from Service B: {'event': 'ride_demand', 'region': 'downtown', 'ride_requests': 14, 'datetime': '2024-10-10T11:00:17.978254'}\n",
      "Published event from Service A: {'event': 'driver_availability', 'region': 'downtown', 'available_drivers': 14, 'datetime': '2024-10-10T12:49:10.514349'}\n",
      "Published event from Service B: {'event': 'ride_demand', 'region': 'downtown', 'ride_requests': 24, 'datetime': '2024-10-02T23:54:51.770146'}\n",
      "All events published to the pipeline\n"
     ]
    }
   ],
   "source": [
    "fake = Faker()\n",
    "\n",
    "def generate_service_a_events(n):\n",
    "    \"\"\"Generate mock driver availability data.\"\"\"\n",
    "    events = []\n",
    "    for _ in range(n):\n",
    "        event = {\n",
    "            \"event\": \"driver_availability\",\n",
    "            \"region\": \"downtown\",\n",
    "            \"available_drivers\": random.randint(5, 20),\n",
    "            \"datetime\": fake.date_time_this_month().isoformat()\n",
    "        }\n",
    "        events.append(event)\n",
    "    return events\n",
    "\n",
    "def generate_service_b_events(n):\n",
    "    \"\"\"Generate mock ride demand data.\"\"\"\n",
    "    events = []\n",
    "    for _ in range(n):\n",
    "        event = {\n",
    "            \"event\": \"ride_demand\",\n",
    "            \"region\": \"downtown\",\n",
    "            \"ride_requests\": random.randint(10, 50),\n",
    "            \"datetime\": fake.date_time_this_month().isoformat()\n",
    "        }\n",
    "        events.append(event)\n",
    "    return events\n",
    "\n",
    "# GlassFlow data source to publish events\n",
    "data_source = pipeline.get_source()\n",
    "\n",
    "# Generate 20 events each from Service A and Service B\n",
    "service_a_events = generate_service_a_events(20)\n",
    "service_b_events = generate_service_b_events(20)\n",
    "\n",
    "# Alternate sending events from Service A and Service B\n",
    "for event_a, event_b in zip(service_a_events, service_b_events):\n",
    "    print(f\"Published event from Service A: {event_a}\")\n",
    "    data_source.publish(event_a)\n",
    "    time.sleep(1)  # Simulate event delay\n",
    "\n",
    "    print(f\"Published event from Service B: {event_b}\")\n",
    "    data_source.publish(event_b)\n",
    "    time.sleep(1)  # Simulate event delay\n",
    "\n",
    "print(\"All events published to the pipeline\")\n"
   ]
  },
  {
   "cell_type": "markdown",
   "id": "545d6c9d-45aa-49bd-a8e3-6f48449ab892",
   "metadata": {},
   "source": [
    "## Step 4: Consume and visualize events from the pipeline\n",
    "\n",
    "Get pipeline data sink to consume the transformed events from the pipeline."
   ]
  },
  {
   "cell_type": "code",
   "execution_count": 64,
   "id": "13ecef72-87d5-46ec-bef3-131cd44847d9",
   "metadata": {},
   "outputs": [],
   "source": [
    "data_sink = pipeline.get_sink()"
   ]
  },
  {
   "cell_type": "code",
   "execution_count": null,
   "id": "75443ac0-d2c5-4cbf-a6e1-391fefbb805e",
   "metadata": {},
   "outputs": [
    {
     "data": {
      "application/vnd.plotly.v1+json": {
       "config": {
        "plotlyServerURL": "https://plot.ly"
       },
       "data": [
        {
         "line": {
          "color": "blue"
         },
         "mode": "lines",
         "name": "Available Drivers",
         "type": "scatter",
         "x": [
          "2024-10-23T08:02:37",
          "2024-10-23T08:02:38",
          "2024-10-23T08:02:40",
          "2024-10-23T08:02:42",
          "2024-10-23T08:02:44",
          "2024-10-23T08:02:49",
          "2024-10-23T08:02:50",
          "2024-10-23T08:02:52",
          "2024-10-23T08:02:54",
          "2024-10-23T08:02:56",
          "2024-10-23T08:02:58",
          "2024-10-23T08:03:00",
          "2024-10-23T08:03:02",
          "2024-10-23T08:03:04",
          "2024-10-23T08:03:06",
          "2024-10-23T08:03:08",
          "2024-10-23T08:03:11",
          "2024-10-23T08:03:13",
          "2024-10-23T08:03:15"
         ],
         "y": [
          10,
          9,
          16,
          6,
          16,
          20,
          16,
          16,
          17,
          11,
          20,
          9,
          12,
          16,
          9,
          19,
          16,
          5,
          14
         ]
        },
        {
         "line": {
          "color": "red"
         },
         "mode": "lines",
         "name": "Ride Requests",
         "type": "scatter",
         "x": [
          "2024-10-23T08:02:37",
          "2024-10-23T08:02:38",
          "2024-10-23T08:02:40",
          "2024-10-23T08:02:42",
          "2024-10-23T08:02:44",
          "2024-10-23T08:02:49",
          "2024-10-23T08:02:50",
          "2024-10-23T08:02:52",
          "2024-10-23T08:02:54",
          "2024-10-23T08:02:56",
          "2024-10-23T08:02:58",
          "2024-10-23T08:03:00",
          "2024-10-23T08:03:02",
          "2024-10-23T08:03:04",
          "2024-10-23T08:03:06",
          "2024-10-23T08:03:08",
          "2024-10-23T08:03:11",
          "2024-10-23T08:03:13",
          "2024-10-23T08:03:15"
         ],
         "y": [
          36,
          25,
          12,
          15,
          33,
          37,
          22,
          21,
          40,
          33,
          49,
          33,
          31,
          24,
          49,
          30,
          38,
          46,
          14
         ]
        },
        {
         "line": {
          "color": "green"
         },
         "mode": "lines",
         "name": "Price Prediction",
         "type": "scatter",
         "x": [
          "2024-10-23T08:02:37",
          "2024-10-23T08:02:38",
          "2024-10-23T08:02:40",
          "2024-10-23T08:02:42",
          "2024-10-23T08:02:44",
          "2024-10-23T08:02:49",
          "2024-10-23T08:02:50",
          "2024-10-23T08:02:52",
          "2024-10-23T08:02:54",
          "2024-10-23T08:02:56",
          "2024-10-23T08:02:58",
          "2024-10-23T08:03:00",
          "2024-10-23T08:03:02",
          "2024-10-23T08:03:04",
          "2024-10-23T08:03:06",
          "2024-10-23T08:03:08",
          "2024-10-23T08:03:11",
          "2024-10-23T08:03:13",
          "2024-10-23T08:03:15"
         ],
         "y": [
          18,
          13.89,
          3.75,
          12.5,
          10.31,
          9.25,
          6.88,
          6.56,
          11.76,
          15,
          12.25,
          18.33,
          12.92,
          7.5,
          27.22,
          7.89,
          11.88,
          46,
          5
         ]
        }
       ],
       "layout": {
        "legend": {
         "title": {
          "text": "Legend"
         }
        },
        "template": {
         "data": {
          "bar": [
           {
            "error_x": {
             "color": "#2a3f5f"
            },
            "error_y": {
             "color": "#2a3f5f"
            },
            "marker": {
             "line": {
              "color": "#E5ECF6",
              "width": 0.5
             },
             "pattern": {
              "fillmode": "overlay",
              "size": 10,
              "solidity": 0.2
             }
            },
            "type": "bar"
           }
          ],
          "barpolar": [
           {
            "marker": {
             "line": {
              "color": "#E5ECF6",
              "width": 0.5
             },
             "pattern": {
              "fillmode": "overlay",
              "size": 10,
              "solidity": 0.2
             }
            },
            "type": "barpolar"
           }
          ],
          "carpet": [
           {
            "aaxis": {
             "endlinecolor": "#2a3f5f",
             "gridcolor": "white",
             "linecolor": "white",
             "minorgridcolor": "white",
             "startlinecolor": "#2a3f5f"
            },
            "baxis": {
             "endlinecolor": "#2a3f5f",
             "gridcolor": "white",
             "linecolor": "white",
             "minorgridcolor": "white",
             "startlinecolor": "#2a3f5f"
            },
            "type": "carpet"
           }
          ],
          "choropleth": [
           {
            "colorbar": {
             "outlinewidth": 0,
             "ticks": ""
            },
            "type": "choropleth"
           }
          ],
          "contour": [
           {
            "colorbar": {
             "outlinewidth": 0,
             "ticks": ""
            },
            "colorscale": [
             [
              0,
              "#0d0887"
             ],
             [
              0.1111111111111111,
              "#46039f"
             ],
             [
              0.2222222222222222,
              "#7201a8"
             ],
             [
              0.3333333333333333,
              "#9c179e"
             ],
             [
              0.4444444444444444,
              "#bd3786"
             ],
             [
              0.5555555555555556,
              "#d8576b"
             ],
             [
              0.6666666666666666,
              "#ed7953"
             ],
             [
              0.7777777777777778,
              "#fb9f3a"
             ],
             [
              0.8888888888888888,
              "#fdca26"
             ],
             [
              1,
              "#f0f921"
             ]
            ],
            "type": "contour"
           }
          ],
          "contourcarpet": [
           {
            "colorbar": {
             "outlinewidth": 0,
             "ticks": ""
            },
            "type": "contourcarpet"
           }
          ],
          "heatmap": [
           {
            "colorbar": {
             "outlinewidth": 0,
             "ticks": ""
            },
            "colorscale": [
             [
              0,
              "#0d0887"
             ],
             [
              0.1111111111111111,
              "#46039f"
             ],
             [
              0.2222222222222222,
              "#7201a8"
             ],
             [
              0.3333333333333333,
              "#9c179e"
             ],
             [
              0.4444444444444444,
              "#bd3786"
             ],
             [
              0.5555555555555556,
              "#d8576b"
             ],
             [
              0.6666666666666666,
              "#ed7953"
             ],
             [
              0.7777777777777778,
              "#fb9f3a"
             ],
             [
              0.8888888888888888,
              "#fdca26"
             ],
             [
              1,
              "#f0f921"
             ]
            ],
            "type": "heatmap"
           }
          ],
          "heatmapgl": [
           {
            "colorbar": {
             "outlinewidth": 0,
             "ticks": ""
            },
            "colorscale": [
             [
              0,
              "#0d0887"
             ],
             [
              0.1111111111111111,
              "#46039f"
             ],
             [
              0.2222222222222222,
              "#7201a8"
             ],
             [
              0.3333333333333333,
              "#9c179e"
             ],
             [
              0.4444444444444444,
              "#bd3786"
             ],
             [
              0.5555555555555556,
              "#d8576b"
             ],
             [
              0.6666666666666666,
              "#ed7953"
             ],
             [
              0.7777777777777778,
              "#fb9f3a"
             ],
             [
              0.8888888888888888,
              "#fdca26"
             ],
             [
              1,
              "#f0f921"
             ]
            ],
            "type": "heatmapgl"
           }
          ],
          "histogram": [
           {
            "marker": {
             "pattern": {
              "fillmode": "overlay",
              "size": 10,
              "solidity": 0.2
             }
            },
            "type": "histogram"
           }
          ],
          "histogram2d": [
           {
            "colorbar": {
             "outlinewidth": 0,
             "ticks": ""
            },
            "colorscale": [
             [
              0,
              "#0d0887"
             ],
             [
              0.1111111111111111,
              "#46039f"
             ],
             [
              0.2222222222222222,
              "#7201a8"
             ],
             [
              0.3333333333333333,
              "#9c179e"
             ],
             [
              0.4444444444444444,
              "#bd3786"
             ],
             [
              0.5555555555555556,
              "#d8576b"
             ],
             [
              0.6666666666666666,
              "#ed7953"
             ],
             [
              0.7777777777777778,
              "#fb9f3a"
             ],
             [
              0.8888888888888888,
              "#fdca26"
             ],
             [
              1,
              "#f0f921"
             ]
            ],
            "type": "histogram2d"
           }
          ],
          "histogram2dcontour": [
           {
            "colorbar": {
             "outlinewidth": 0,
             "ticks": ""
            },
            "colorscale": [
             [
              0,
              "#0d0887"
             ],
             [
              0.1111111111111111,
              "#46039f"
             ],
             [
              0.2222222222222222,
              "#7201a8"
             ],
             [
              0.3333333333333333,
              "#9c179e"
             ],
             [
              0.4444444444444444,
              "#bd3786"
             ],
             [
              0.5555555555555556,
              "#d8576b"
             ],
             [
              0.6666666666666666,
              "#ed7953"
             ],
             [
              0.7777777777777778,
              "#fb9f3a"
             ],
             [
              0.8888888888888888,
              "#fdca26"
             ],
             [
              1,
              "#f0f921"
             ]
            ],
            "type": "histogram2dcontour"
           }
          ],
          "mesh3d": [
           {
            "colorbar": {
             "outlinewidth": 0,
             "ticks": ""
            },
            "type": "mesh3d"
           }
          ],
          "parcoords": [
           {
            "line": {
             "colorbar": {
              "outlinewidth": 0,
              "ticks": ""
             }
            },
            "type": "parcoords"
           }
          ],
          "pie": [
           {
            "automargin": true,
            "type": "pie"
           }
          ],
          "scatter": [
           {
            "fillpattern": {
             "fillmode": "overlay",
             "size": 10,
             "solidity": 0.2
            },
            "type": "scatter"
           }
          ],
          "scatter3d": [
           {
            "line": {
             "colorbar": {
              "outlinewidth": 0,
              "ticks": ""
             }
            },
            "marker": {
             "colorbar": {
              "outlinewidth": 0,
              "ticks": ""
             }
            },
            "type": "scatter3d"
           }
          ],
          "scattercarpet": [
           {
            "marker": {
             "colorbar": {
              "outlinewidth": 0,
              "ticks": ""
             }
            },
            "type": "scattercarpet"
           }
          ],
          "scattergeo": [
           {
            "marker": {
             "colorbar": {
              "outlinewidth": 0,
              "ticks": ""
             }
            },
            "type": "scattergeo"
           }
          ],
          "scattergl": [
           {
            "marker": {
             "colorbar": {
              "outlinewidth": 0,
              "ticks": ""
             }
            },
            "type": "scattergl"
           }
          ],
          "scattermapbox": [
           {
            "marker": {
             "colorbar": {
              "outlinewidth": 0,
              "ticks": ""
             }
            },
            "type": "scattermapbox"
           }
          ],
          "scatterpolar": [
           {
            "marker": {
             "colorbar": {
              "outlinewidth": 0,
              "ticks": ""
             }
            },
            "type": "scatterpolar"
           }
          ],
          "scatterpolargl": [
           {
            "marker": {
             "colorbar": {
              "outlinewidth": 0,
              "ticks": ""
             }
            },
            "type": "scatterpolargl"
           }
          ],
          "scatterternary": [
           {
            "marker": {
             "colorbar": {
              "outlinewidth": 0,
              "ticks": ""
             }
            },
            "type": "scatterternary"
           }
          ],
          "surface": [
           {
            "colorbar": {
             "outlinewidth": 0,
             "ticks": ""
            },
            "colorscale": [
             [
              0,
              "#0d0887"
             ],
             [
              0.1111111111111111,
              "#46039f"
             ],
             [
              0.2222222222222222,
              "#7201a8"
             ],
             [
              0.3333333333333333,
              "#9c179e"
             ],
             [
              0.4444444444444444,
              "#bd3786"
             ],
             [
              0.5555555555555556,
              "#d8576b"
             ],
             [
              0.6666666666666666,
              "#ed7953"
             ],
             [
              0.7777777777777778,
              "#fb9f3a"
             ],
             [
              0.8888888888888888,
              "#fdca26"
             ],
             [
              1,
              "#f0f921"
             ]
            ],
            "type": "surface"
           }
          ],
          "table": [
           {
            "cells": {
             "fill": {
              "color": "#EBF0F8"
             },
             "line": {
              "color": "white"
             }
            },
            "header": {
             "fill": {
              "color": "#C8D4E3"
             },
             "line": {
              "color": "white"
             }
            },
            "type": "table"
           }
          ]
         },
         "layout": {
          "annotationdefaults": {
           "arrowcolor": "#2a3f5f",
           "arrowhead": 0,
           "arrowwidth": 1
          },
          "autotypenumbers": "strict",
          "coloraxis": {
           "colorbar": {
            "outlinewidth": 0,
            "ticks": ""
           }
          },
          "colorscale": {
           "diverging": [
            [
             0,
             "#8e0152"
            ],
            [
             0.1,
             "#c51b7d"
            ],
            [
             0.2,
             "#de77ae"
            ],
            [
             0.3,
             "#f1b6da"
            ],
            [
             0.4,
             "#fde0ef"
            ],
            [
             0.5,
             "#f7f7f7"
            ],
            [
             0.6,
             "#e6f5d0"
            ],
            [
             0.7,
             "#b8e186"
            ],
            [
             0.8,
             "#7fbc41"
            ],
            [
             0.9,
             "#4d9221"
            ],
            [
             1,
             "#276419"
            ]
           ],
           "sequential": [
            [
             0,
             "#0d0887"
            ],
            [
             0.1111111111111111,
             "#46039f"
            ],
            [
             0.2222222222222222,
             "#7201a8"
            ],
            [
             0.3333333333333333,
             "#9c179e"
            ],
            [
             0.4444444444444444,
             "#bd3786"
            ],
            [
             0.5555555555555556,
             "#d8576b"
            ],
            [
             0.6666666666666666,
             "#ed7953"
            ],
            [
             0.7777777777777778,
             "#fb9f3a"
            ],
            [
             0.8888888888888888,
             "#fdca26"
            ],
            [
             1,
             "#f0f921"
            ]
           ],
           "sequentialminus": [
            [
             0,
             "#0d0887"
            ],
            [
             0.1111111111111111,
             "#46039f"
            ],
            [
             0.2222222222222222,
             "#7201a8"
            ],
            [
             0.3333333333333333,
             "#9c179e"
            ],
            [
             0.4444444444444444,
             "#bd3786"
            ],
            [
             0.5555555555555556,
             "#d8576b"
            ],
            [
             0.6666666666666666,
             "#ed7953"
            ],
            [
             0.7777777777777778,
             "#fb9f3a"
            ],
            [
             0.8888888888888888,
             "#fdca26"
            ],
            [
             1,
             "#f0f921"
            ]
           ]
          },
          "colorway": [
           "#636efa",
           "#EF553B",
           "#00cc96",
           "#ab63fa",
           "#FFA15A",
           "#19d3f3",
           "#FF6692",
           "#B6E880",
           "#FF97FF",
           "#FECB52"
          ],
          "font": {
           "color": "#2a3f5f"
          },
          "geo": {
           "bgcolor": "white",
           "lakecolor": "white",
           "landcolor": "#E5ECF6",
           "showlakes": true,
           "showland": true,
           "subunitcolor": "white"
          },
          "hoverlabel": {
           "align": "left"
          },
          "hovermode": "closest",
          "mapbox": {
           "style": "light"
          },
          "paper_bgcolor": "white",
          "plot_bgcolor": "#E5ECF6",
          "polar": {
           "angularaxis": {
            "gridcolor": "white",
            "linecolor": "white",
            "ticks": ""
           },
           "bgcolor": "#E5ECF6",
           "radialaxis": {
            "gridcolor": "white",
            "linecolor": "white",
            "ticks": ""
           }
          },
          "scene": {
           "xaxis": {
            "backgroundcolor": "#E5ECF6",
            "gridcolor": "white",
            "gridwidth": 2,
            "linecolor": "white",
            "showbackground": true,
            "ticks": "",
            "zerolinecolor": "white"
           },
           "yaxis": {
            "backgroundcolor": "#E5ECF6",
            "gridcolor": "white",
            "gridwidth": 2,
            "linecolor": "white",
            "showbackground": true,
            "ticks": "",
            "zerolinecolor": "white"
           },
           "zaxis": {
            "backgroundcolor": "#E5ECF6",
            "gridcolor": "white",
            "gridwidth": 2,
            "linecolor": "white",
            "showbackground": true,
            "ticks": "",
            "zerolinecolor": "white"
           }
          },
          "shapedefaults": {
           "line": {
            "color": "#2a3f5f"
           }
          },
          "ternary": {
           "aaxis": {
            "gridcolor": "white",
            "linecolor": "white",
            "ticks": ""
           },
           "baxis": {
            "gridcolor": "white",
            "linecolor": "white",
            "ticks": ""
           },
           "bgcolor": "#E5ECF6",
           "caxis": {
            "gridcolor": "white",
            "linecolor": "white",
            "ticks": ""
           }
          },
          "title": {
           "x": 0.05
          },
          "xaxis": {
           "automargin": true,
           "gridcolor": "white",
           "linecolor": "white",
           "ticks": "",
           "title": {
            "standoff": 15
           },
           "zerolinecolor": "white",
           "zerolinewidth": 2
          },
          "yaxis": {
           "automargin": true,
           "gridcolor": "white",
           "linecolor": "white",
           "ticks": "",
           "title": {
            "standoff": 15
           },
           "zerolinecolor": "white",
           "zerolinewidth": 2
          }
         }
        },
        "title": {
         "text": "Real-time Price Prediction with Driver Availability and Ride Requests"
        },
        "xaxis": {
         "title": {
          "text": "Time"
         }
        },
        "yaxis": {
         "title": {
          "text": "Value"
         }
        }
       }
      }
     },
     "metadata": {},
     "output_type": "display_data"
    }
   ],
   "source": [
    "processed_events = []\n",
    "\n",
    "# Set up an empty dataframe to store the real-time data\n",
    "df_visual = pd.DataFrame(columns=['datetime', 'available_drivers', 'ride_requests', 'predicted_price'])\n",
    "\n",
    "# Infinite loop to continuously consume events and update the plot\n",
    "while True:\n",
    "    # Consume event from the GlassFlow pipeline\n",
    "    resp = data_sink.consume()\n",
    "    if resp.status_code == 200:\n",
    "        event_data = resp.json()\n",
    "        \n",
    "        # Extract the predicted price and event details\n",
    "        predicted_prices = event_data.get('predicted_price', None)\n",
    "        \n",
    "        if predicted_prices:\n",
    "            print(f\"Consumed event: {event_data}\")\n",
    "            processed_events.append(event_data)\n",
    "\n",
    "            # Create a list to store new rows\n",
    "            new_rows = []\n",
    "\n",
    "            # Iterate through the array of predicted prices\n",
    "            for price in predicted_prices:\n",
    "                new_data = {\n",
    "                    'datetime': pd.to_datetime(price['datetime']),\n",
    "                    'available_drivers': price['available_drivers'],\n",
    "                    'ride_requests': price['ride_requests'],\n",
    "                    'predicted_price': price['predicted_price']\n",
    "                }\n",
    "                new_rows.append(new_data)\n",
    "\n",
    "            # Append new rows to df_visual using pd.concat\n",
    "            df_visual = pd.concat([df_visual, pd.DataFrame(new_rows)], ignore_index=True)\n",
    "\n",
    "            # Clear previous output\n",
    "            clear_output(wait=True)\n",
    "\n",
    "            # Plot the updated DataFrame\n",
    "            fig = go.Figure()\n",
    "\n",
    "            fig.add_trace(go.Scatter(x=df_visual['datetime'], y=df_visual['available_drivers'],\n",
    "                                     mode='lines', name='Available Drivers', line=dict(color='blue')))\n",
    "            fig.add_trace(go.Scatter(x=df_visual['datetime'], y=df_visual['ride_requests'],\n",
    "                                     mode='lines', name='Ride Requests', line=dict(color='red')))\n",
    "            fig.add_trace(go.Scatter(x=df_visual['datetime'], y=df_visual['predicted_price'],\n",
    "                                     mode='lines', name='Price Prediction', line=dict(color='green')))\n",
    "\n",
    "            fig.update_layout(title=\"Real-time Price Prediction with Driver Availability and Ride Requests\",\n",
    "                              xaxis_title=\"Time\",\n",
    "                              yaxis_title=\"Value\",\n",
    "                              legend_title=\"Legend\")\n",
    "\n",
    "            # Display the updated plot\n",
    "            display(fig)\n",
    "\n",
    "    # Pause for a bit before consuming the next event\n",
    "    time.sleep(1)"
   ]
  },
  {
   "cell_type": "markdown",
   "id": "6cec8def",
   "metadata": {},
   "source": [
    "## Monitor the pipeline\n",
    "\n",
    "Go to the pipeline logs you created and monitor real-time events."
   ]
  },
  {
   "cell_type": "code",
   "execution_count": 62,
   "id": "1aa6dbe7-5411-490e-9812-50c2ff613add",
   "metadata": {},
   "outputs": [
    {
     "name": "stdout",
     "output_type": "stream",
     "text": [
      "https://app.glassflow.dev/pipelines/2146e908-4daa-4c87-9ba0-7348e0e03aee/logs\n"
     ]
    }
   ],
   "source": [
    "## Explore the pipeline logs on the web-UI \n",
    "pipeline_url = f\"https://app.glassflow.dev/pipelines/{pipeline.id}/logs\"\n",
    "print(pipeline_url)"
   ]
  }
 ],
 "metadata": {
  "kernelspec": {
   "display_name": "Python 3",
   "language": "python",
   "name": "python3"
  },
  "language_info": {
   "codemirror_mode": {
    "name": "ipython",
    "version": 3
   },
   "file_extension": ".py",
   "mimetype": "text/x-python",
   "name": "python",
   "nbconvert_exporter": "python",
   "pygments_lexer": "ipython3",
   "version": "3.11.9"
  }
 },
 "nbformat": 4,
 "nbformat_minor": 5
}
