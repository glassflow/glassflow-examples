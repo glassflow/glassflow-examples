{
 "cells": [
  {
   "cell_type": "markdown",
   "id": "75eb080b-c0fa-4d23-a257-49a9d22fb1f6",
   "metadata": {},
   "source": [
    "# Event-driven online price prediction \n",
    "\n",
    "Many companies switching from batch processing to real-time processing to use dynamic data to make more relevant recommendations to customers. Static data are information that changes slowly or rarely – age, gender, job, neighborhood, etc. Dynamic data are information or action based on what’s happening right now – what you’re watching, what you’ve just liked on Instagram, you are searching for a taxi driver using Ubver, etc. Knowing a user’s interests right now will allow your systems to make recommendations much more relevant to them.\n",
    "\n",
    "In this example, we will demonstrate a sample pipeline for **ride-hailing companies like Bolt or Uber** that can process data from two different microservices—Service A (Driver Availability) and Service B (Ride Demand), send events into ML model, and returns the best possible price to show customers in real-time each time they request a ride. Microservices—Service A, Service B, and Service C (prediction pipeline) communicates through an event-driven architecture where:\n",
    "\n",
    "- Service A (Driver Availability): Manages driver availability in real-time.\n",
    "- Service B (Ride Demand): Manages customer ride requests and demand in different regions.\n",
    "- Service C (Price Prediction Pipeline): Predicts the best possible price for a ride based on driver availability and ride demand.\n",
    "\n",
    "**Steps:**\n",
    "\n",
    "1. Service A (Driver Availability) and Service B (Ride Demand) publish events to the same GlassFlow pipeline.\n",
    "2. GlassFlow transformation function calculates predicted price based on the driver availability and ride demand.\n",
    "3. The consumed output from the pipeline is visualized in real-time after receiving the price prediction event in Service C.\n",
    "\n",
    "## Pre-requisites\n",
    "\n",
    "- Create your free GlassFlow account via the [GlassFlow WebApp](https://app.glassflow.dev).\n",
    "- Get your [Personal Access Token](https://app.glassflow.dev/profile) to authorize the Python SDK to interact with GlassFlow Cloud."
   ]
  },
  {
   "cell_type": "markdown",
   "id": "e080f5db",
   "metadata": {},
   "source": [
    "## Step 1: Install required libraries and import"
   ]
  },
  {
   "cell_type": "code",
   "execution_count": 27,
   "id": "5cc3f293",
   "metadata": {},
   "outputs": [
    {
     "name": "stdout",
     "output_type": "stream",
     "text": [
      "Requirement already satisfied: glassflow>=2.0.5 in /opt/homebrew/lib/python3.11/site-packages (2.0.5)\n",
      "Requirement already satisfied: pandas in /opt/homebrew/lib/python3.11/site-packages (2.2.3)\n",
      "Requirement already satisfied: plotly in /opt/homebrew/lib/python3.11/site-packages (5.24.1)\n",
      "Requirement already satisfied: faker in /opt/homebrew/lib/python3.11/site-packages (30.6.0)\n",
      "Requirement already satisfied: urllib3==1.26.15 in /opt/homebrew/lib/python3.11/site-packages (from glassflow>=2.0.5) (1.26.15)\n",
      "Requirement already satisfied: certifi>=2023.7.22 in /opt/homebrew/lib/python3.11/site-packages (from glassflow>=2.0.5) (2024.8.30)\n",
      "Requirement already satisfied: charset-normalizer>=3.2.0 in /opt/homebrew/lib/python3.11/site-packages (from glassflow>=2.0.5) (3.4.0)\n",
      "Requirement already satisfied: dataclasses-json>=0.6.4 in /opt/homebrew/lib/python3.11/site-packages (from glassflow>=2.0.5) (0.6.7)\n",
      "Requirement already satisfied: idna>=3.4 in /opt/homebrew/lib/python3.11/site-packages (from glassflow>=2.0.5) (3.10)\n",
      "Requirement already satisfied: jsonpath-python>=1.0.6 in /opt/homebrew/lib/python3.11/site-packages (from glassflow>=2.0.5) (1.0.6)\n",
      "Requirement already satisfied: marshmallow>=3.19.0 in /opt/homebrew/lib/python3.11/site-packages (from glassflow>=2.0.5) (3.23.0)\n",
      "Requirement already satisfied: mypy-extensions>=1.0.0 in /opt/homebrew/lib/python3.11/site-packages (from glassflow>=2.0.5) (1.0.0)\n",
      "Requirement already satisfied: packaging>=23.1 in /Users/boburumurzokov/Library/Python/3.11/lib/python/site-packages (from glassflow>=2.0.5) (24.1)\n",
      "Requirement already satisfied: python-dateutil>=2.8.2 in /Users/boburumurzokov/Library/Python/3.11/lib/python/site-packages (from glassflow>=2.0.5) (2.9.0.post0)\n",
      "Requirement already satisfied: requests>=2.31.0 in /opt/homebrew/lib/python3.11/site-packages (from glassflow>=2.0.5) (2.32.3)\n",
      "Requirement already satisfied: six>=1.16.0 in /Users/boburumurzokov/Library/Python/3.11/lib/python/site-packages (from glassflow>=2.0.5) (1.16.0)\n",
      "Requirement already satisfied: typing-inspect>=0.9.0 in /opt/homebrew/lib/python3.11/site-packages (from glassflow>=2.0.5) (0.9.0)\n",
      "Requirement already satisfied: typing-extensions>=4.7.1 in /Users/boburumurzokov/Library/Python/3.11/lib/python/site-packages (from glassflow>=2.0.5) (4.12.2)\n",
      "Requirement already satisfied: python-dotenv==1.0.1 in /opt/homebrew/lib/python3.11/site-packages (from glassflow>=2.0.5) (1.0.1)\n",
      "Requirement already satisfied: numpy>=1.23.2 in /opt/homebrew/lib/python3.11/site-packages (from pandas) (2.1.2)\n",
      "Requirement already satisfied: pytz>=2020.1 in /opt/homebrew/lib/python3.11/site-packages (from pandas) (2024.2)\n",
      "Requirement already satisfied: tzdata>=2022.7 in /opt/homebrew/lib/python3.11/site-packages (from pandas) (2024.2)\n",
      "Requirement already satisfied: tenacity>=6.2.0 in /opt/homebrew/lib/python3.11/site-packages (from plotly) (9.0.0)\n",
      "\n",
      "\u001b[1m[\u001b[0m\u001b[34;49mnotice\u001b[0m\u001b[1;39;49m]\u001b[0m\u001b[39;49m A new release of pip is available: \u001b[0m\u001b[31;49m24.1.2\u001b[0m\u001b[39;49m -> \u001b[0m\u001b[32;49m24.2\u001b[0m\n",
      "\u001b[1m[\u001b[0m\u001b[34;49mnotice\u001b[0m\u001b[1;39;49m]\u001b[0m\u001b[39;49m To update, run: \u001b[0m\u001b[32;49mpython3.11 -m pip install --upgrade pip\u001b[0m\n",
      "Note: you may need to restart the kernel to use updated packages.\n"
     ]
    }
   ],
   "source": [
    "%pip install \"glassflow>=2.0.5\" pandas plotly faker"
   ]
  },
  {
   "cell_type": "code",
   "execution_count": 34,
   "id": "cdc80623",
   "metadata": {},
   "outputs": [],
   "source": [
    "import glassflow\n",
    "import pandas as pd\n",
    "import random\n",
    "import time\n",
    "from faker import Faker\n",
    "import plotly.graph_objects as go\n",
    "from IPython.display import display, clear_output\n",
    "from collections import defaultdict"
   ]
  },
  {
   "cell_type": "markdown",
   "id": "543435a8-4252-4340-b25d-933c54a597d1",
   "metadata": {},
   "source": [
    "## Step 2: Create GlassFlow Pipeline"
   ]
  },
  {
   "cell_type": "code",
   "execution_count": 41,
   "id": "0742216b-c5ba-4f2c-a35a-94df544dcb55",
   "metadata": {},
   "outputs": [],
   "source": [
    "# Set personal access token from your GlassFlow account\n",
    "personal_access_token = \"\"\n"
   ]
  },
  {
   "cell_type": "code",
   "execution_count": 18,
   "id": "5c661c06-1c8d-4cc6-9ec0-59a1808418a2",
   "metadata": {},
   "outputs": [],
   "source": [
    "# Create a GlassFlow client\n",
    "client = glassflow.GlassFlowClient(\n",
    "    personal_access_token=personal_access_token\n",
    ")"
   ]
  },
  {
   "cell_type": "code",
   "execution_count": 19,
   "id": "c63e991f-ea82-49a5-9108-96345de36da5",
   "metadata": {
    "scrolled": true
   },
   "outputs": [
    {
     "name": "stdout",
     "output_type": "stream",
     "text": [
      "Created space ride-hailing with ID: e439eaee-fc49-46ed-a428-1601879540ad\n"
     ]
    }
   ],
   "source": [
    "# Get the space named \"ride-hailing\" (or create one if no space is found)\n",
    "list_spaces = client.list_spaces()\n",
    "\n",
    "space_name = \"ride-hailing\"\n",
    "for s in list_spaces.spaces:\n",
    "    if s[\"name\"] == space_name:\n",
    "        space = glassflow.Space(\n",
    "            personal_access_token=client.personal_access_token,\n",
    "            id=s[\"id\"], \n",
    "            name=s[\"name\"]\n",
    "        )\n",
    "        break\n",
    "else:\n",
    "    space = client.create_space(name=space_name)\n",
    "\n",
    "print(f\"Created space {space.name} with ID: {space.id}\")"
   ]
  },
  {
   "cell_type": "markdown",
   "id": "929b0a7b-38c2-400d-a663-118c86e6806a",
   "metadata": {},
   "source": [
    "### Transformation Function"
   ]
  },
  {
   "cell_type": "code",
   "execution_count": 20,
   "id": "c0e471e2-d77a-4a0e-9e26-59525fb5eaeb",
   "metadata": {},
   "outputs": [
    {
     "name": "stdout",
     "output_type": "stream",
     "text": [
      "\u001b[0;32mimport\u001b[0m \u001b[0mpandas\u001b[0m \u001b[0;32mas\u001b[0m \u001b[0mpd\u001b[0m\u001b[0;34m\u001b[0m\n",
      "\u001b[0;34m\u001b[0m\u001b[0;34m\u001b[0m\n",
      "\u001b[0;34m\u001b[0m\u001b[0;34m\u001b[0m\n",
      "\u001b[0;34m\u001b[0m\u001b[0;31m# GlassFlow handler function\u001b[0m\u001b[0;34m\u001b[0m\n",
      "\u001b[0;34m\u001b[0m\u001b[0;32mdef\u001b[0m \u001b[0mhandler\u001b[0m\u001b[0;34m(\u001b[0m\u001b[0mdata\u001b[0m\u001b[0;34m,\u001b[0m \u001b[0mlog\u001b[0m\u001b[0;34m)\u001b[0m\u001b[0;34m:\u001b[0m\u001b[0;34m\u001b[0m\n",
      "\u001b[0;34m\u001b[0m    \u001b[0;34m\"\"\"\u001b[0m\n",
      "\u001b[0;34m    The GlassFlow handler function processes driver availability and ride demand data,\u001b[0m\n",
      "\u001b[0;34m    calculates price predictions, and returns the transformed data.\u001b[0m\n",
      "\u001b[0;34m\u001b[0m\n",
      "\u001b[0;34m    Parameters:\u001b[0m\n",
      "\u001b[0;34m    - data: Incoming event data from both Service A (driver availability) and Service B (ride demand).\u001b[0m\n",
      "\u001b[0;34m    - log: Logging object for logging within the pipeline.\u001b[0m\n",
      "\u001b[0;34m\u001b[0m\n",
      "\u001b[0;34m    Returns:\u001b[0m\n",
      "\u001b[0;34m    - A dictionary containing predicted price and other related information.\u001b[0m\n",
      "\u001b[0;34m    \"\"\"\u001b[0m\u001b[0;34m\u001b[0m\n",
      "\u001b[0;34m\u001b[0m\u001b[0;34m\u001b[0m\n",
      "\u001b[0;34m\u001b[0m    \u001b[0;32mtry\u001b[0m\u001b[0;34m:\u001b[0m\u001b[0;34m\u001b[0m\n",
      "\u001b[0;34m\u001b[0m        \u001b[0mlog\u001b[0m\u001b[0;34m.\u001b[0m\u001b[0minfo\u001b[0m\u001b[0;34m(\u001b[0m\u001b[0;34m\"Starting price prediction transformation\"\u001b[0m\u001b[0;34m)\u001b[0m\u001b[0;34m\u001b[0m\n",
      "\u001b[0;34m\u001b[0m\u001b[0;34m\u001b[0m\n",
      "\u001b[0;34m\u001b[0m        \u001b[0mavailability_data\u001b[0m \u001b[0;34m=\u001b[0m \u001b[0;32mNone\u001b[0m\u001b[0;34m\u001b[0m\n",
      "\u001b[0;34m\u001b[0m        \u001b[0mdemand_data\u001b[0m \u001b[0;34m=\u001b[0m \u001b[0;32mNone\u001b[0m\u001b[0;34m\u001b[0m\n",
      "\u001b[0;34m\u001b[0m\u001b[0;34m\u001b[0m\n",
      "\u001b[0;34m\u001b[0m        \u001b[0;31m# Iterate over the data to determine the source\u001b[0m\u001b[0;34m\u001b[0m\n",
      "\u001b[0;34m\u001b[0m        \u001b[0;32mfor\u001b[0m \u001b[0mevent\u001b[0m \u001b[0;32min\u001b[0m \u001b[0mdata\u001b[0m\u001b[0;34m:\u001b[0m\u001b[0;34m\u001b[0m\n",
      "\u001b[0;34m\u001b[0m            \u001b[0;32mif\u001b[0m \u001b[0mevent\u001b[0m\u001b[0;34m[\u001b[0m\u001b[0;34m\"event\"\u001b[0m\u001b[0;34m]\u001b[0m \u001b[0;34m==\u001b[0m \u001b[0;34m\"driver_availability\"\u001b[0m\u001b[0;34m:\u001b[0m\u001b[0;34m\u001b[0m\n",
      "\u001b[0;34m\u001b[0m                \u001b[0mavailability_data\u001b[0m \u001b[0;34m=\u001b[0m \u001b[0mevent\u001b[0m\u001b[0;34m\u001b[0m\n",
      "\u001b[0;34m\u001b[0m            \u001b[0;32melif\u001b[0m \u001b[0mevent\u001b[0m\u001b[0;34m[\u001b[0m\u001b[0;34m\"event\"\u001b[0m\u001b[0;34m]\u001b[0m \u001b[0;34m==\u001b[0m \u001b[0;34m\"ride_demand\"\u001b[0m\u001b[0;34m:\u001b[0m\u001b[0;34m\u001b[0m\n",
      "\u001b[0;34m\u001b[0m                \u001b[0mdemand_data\u001b[0m \u001b[0;34m=\u001b[0m \u001b[0mevent\u001b[0m\u001b[0;34m\u001b[0m\n",
      "\u001b[0;34m\u001b[0m\u001b[0;34m\u001b[0m\n",
      "\u001b[0;34m\u001b[0m        \u001b[0;31m# If both pieces of information are available, compute the price\u001b[0m\u001b[0;34m\u001b[0m\n",
      "\u001b[0;34m\u001b[0m        \u001b[0;32mif\u001b[0m \u001b[0mavailability_data\u001b[0m \u001b[0;32mand\u001b[0m \u001b[0mdemand_data\u001b[0m\u001b[0;34m:\u001b[0m\u001b[0;34m\u001b[0m\n",
      "\u001b[0;34m\u001b[0m            \u001b[0mavailable_drivers\u001b[0m \u001b[0;34m=\u001b[0m \u001b[0mavailability_data\u001b[0m\u001b[0;34m[\u001b[0m\u001b[0;34m\"available_drivers\"\u001b[0m\u001b[0;34m]\u001b[0m\u001b[0;34m\u001b[0m\n",
      "\u001b[0;34m\u001b[0m            \u001b[0mride_requests\u001b[0m \u001b[0;34m=\u001b[0m \u001b[0mdemand_data\u001b[0m\u001b[0;34m[\u001b[0m\u001b[0;34m\"ride_requests\"\u001b[0m\u001b[0;34m]\u001b[0m\u001b[0;34m\u001b[0m\n",
      "\u001b[0;34m\u001b[0m            \u001b[0mbase_price\u001b[0m \u001b[0;34m=\u001b[0m \u001b[0;36m5.00\u001b[0m\u001b[0;34m\u001b[0m\n",
      "\u001b[0;34m\u001b[0m            \u001b[0mdemand_factor\u001b[0m \u001b[0;34m=\u001b[0m \u001b[0mride_requests\u001b[0m \u001b[0;34m/\u001b[0m \u001b[0mavailable_drivers\u001b[0m\u001b[0;34m\u001b[0m\n",
      "\u001b[0;34m\u001b[0m\u001b[0;34m\u001b[0m\n",
      "\u001b[0;34m\u001b[0m            \u001b[0;31m# Simple price prediction logic based on driver availability and demand\u001b[0m\u001b[0;34m\u001b[0m\n",
      "\u001b[0;34m\u001b[0m            \u001b[0;31m# You can replace this with a more sophisticated ML model\u001b[0m\u001b[0;34m\u001b[0m\n",
      "\u001b[0;34m\u001b[0m            \u001b[0mpredicted_price\u001b[0m \u001b[0;34m=\u001b[0m \u001b[0mbase_price\u001b[0m \u001b[0;34m*\u001b[0m \u001b[0mdemand_factor\u001b[0m\u001b[0;34m\u001b[0m\n",
      "\u001b[0;34m\u001b[0m\u001b[0;34m\u001b[0m\n",
      "\u001b[0;34m\u001b[0m            \u001b[0;31m# Return the prediction data\u001b[0m\u001b[0;34m\u001b[0m\n",
      "\u001b[0;34m\u001b[0m            \u001b[0mresult\u001b[0m \u001b[0;34m=\u001b[0m \u001b[0;34m{\u001b[0m\u001b[0;34m\u001b[0m\n",
      "\u001b[0;34m\u001b[0m                \u001b[0;34m\"region\"\u001b[0m\u001b[0;34m:\u001b[0m \u001b[0mdemand_data\u001b[0m\u001b[0;34m[\u001b[0m\u001b[0;34m\"region\"\u001b[0m\u001b[0;34m]\u001b[0m\u001b[0;34m,\u001b[0m\u001b[0;34m\u001b[0m\n",
      "\u001b[0;34m\u001b[0m                \u001b[0;34m\"predicted_price\"\u001b[0m\u001b[0;34m:\u001b[0m \u001b[0mround\u001b[0m\u001b[0;34m(\u001b[0m\u001b[0mpredicted_price\u001b[0m\u001b[0;34m,\u001b[0m \u001b[0;36m2\u001b[0m\u001b[0;34m)\u001b[0m\u001b[0;34m,\u001b[0m\u001b[0;34m\u001b[0m\n",
      "\u001b[0;34m\u001b[0m                \u001b[0;34m\"available_drivers\"\u001b[0m\u001b[0;34m:\u001b[0m \u001b[0mavailable_drivers\u001b[0m\u001b[0;34m,\u001b[0m\u001b[0;34m\u001b[0m\n",
      "\u001b[0;34m\u001b[0m                \u001b[0;34m\"ride_requests\"\u001b[0m\u001b[0;34m:\u001b[0m \u001b[0mride_requests\u001b[0m\u001b[0;34m,\u001b[0m\u001b[0;34m\u001b[0m\n",
      "\u001b[0;34m\u001b[0m                \u001b[0;34m\"datetime\"\u001b[0m\u001b[0;34m:\u001b[0m \u001b[0mpd\u001b[0m\u001b[0;34m.\u001b[0m\u001b[0mTimestamp\u001b[0m\u001b[0;34m.\u001b[0m\u001b[0mnow\u001b[0m\u001b[0;34m(\u001b[0m\u001b[0;34m)\u001b[0m\u001b[0;34m.\u001b[0m\u001b[0mstrftime\u001b[0m\u001b[0;34m(\u001b[0m\u001b[0;34m\"%Y-%m-%d %H:%M:%S\"\u001b[0m\u001b[0;34m)\u001b[0m\u001b[0;34m,\u001b[0m\u001b[0;34m\u001b[0m\n",
      "\u001b[0;34m\u001b[0m            \u001b[0;34m}\u001b[0m\u001b[0;34m\u001b[0m\n",
      "\u001b[0;34m\u001b[0m\u001b[0;34m\u001b[0m\n",
      "\u001b[0;34m\u001b[0m            \u001b[0mlog\u001b[0m\u001b[0;34m.\u001b[0m\u001b[0minfo\u001b[0m\u001b[0;34m(\u001b[0m\u001b[0;34mf\"Price prediction computed: {result}\"\u001b[0m\u001b[0;34m)\u001b[0m\u001b[0;34m\u001b[0m\n",
      "\u001b[0;34m\u001b[0m\u001b[0;34m\u001b[0m\n",
      "\u001b[0;34m\u001b[0m            \u001b[0;32mreturn\u001b[0m \u001b[0mresult\u001b[0m\u001b[0;34m\u001b[0m\n",
      "\u001b[0;34m\u001b[0m\u001b[0;34m\u001b[0m\n",
      "\u001b[0;34m\u001b[0m        \u001b[0;32melse\u001b[0m\u001b[0;34m:\u001b[0m\u001b[0;34m\u001b[0m\n",
      "\u001b[0;34m\u001b[0m            \u001b[0mlog\u001b[0m\u001b[0;34m.\u001b[0m\u001b[0minfo\u001b[0m\u001b[0;34m(\u001b[0m\u001b[0;34m\"Insufficient data for price prediction\"\u001b[0m\u001b[0;34m)\u001b[0m\u001b[0;34m\u001b[0m\n",
      "\u001b[0;34m\u001b[0m            \u001b[0;32mreturn\u001b[0m \u001b[0;34m[\u001b[0m\u001b[0;34m]\u001b[0m\u001b[0;34m\u001b[0m\n",
      "\u001b[0;34m\u001b[0m\u001b[0;34m\u001b[0m\n",
      "\u001b[0;34m\u001b[0m    \u001b[0;32mexcept\u001b[0m \u001b[0mException\u001b[0m \u001b[0;32mas\u001b[0m \u001b[0me\u001b[0m\u001b[0;34m:\u001b[0m\u001b[0;34m\u001b[0m\n",
      "\u001b[0;34m\u001b[0m        \u001b[0mlog\u001b[0m\u001b[0;34m.\u001b[0m\u001b[0merror\u001b[0m\u001b[0;34m(\u001b[0m\u001b[0;34mf\"Error during transformation: {e}\"\u001b[0m\u001b[0;34m)\u001b[0m\u001b[0;34m\u001b[0m\n",
      "\u001b[0;34m\u001b[0m        \u001b[0;32mraise\u001b[0m\u001b[0;34m\u001b[0m\u001b[0;34m\u001b[0m\u001b[0m\n"
     ]
    }
   ],
   "source": [
    "%pycat transform.py"
   ]
  },
  {
   "cell_type": "markdown",
   "id": "24a91730-3831-4702-8ebd-40a3651e08bf",
   "metadata": {},
   "source": [
    "### Requirements txt"
   ]
  },
  {
   "cell_type": "markdown",
   "id": "386779f6",
   "metadata": {},
   "source": [
    "Define external dependencies for the transformation function"
   ]
  },
  {
   "cell_type": "code",
   "execution_count": 21,
   "id": "f22c9e17-6cf3-4fff-9639-215ba9281cad",
   "metadata": {},
   "outputs": [
    {
     "name": "stdout",
     "output_type": "stream",
     "text": [
      "pandas\n"
     ]
    }
   ],
   "source": [
    "with open(\"requirements.txt\") as f:\n",
    "    requirements_txt = f.read()\n",
    "print(requirements_txt)"
   ]
  },
  {
   "cell_type": "markdown",
   "id": "434cb081-ee24-47f8-9125-e2b660977f60",
   "metadata": {},
   "source": [
    "### Create Pipeline\n",
    "\n",
    "Create pipeline for the price prediction"
   ]
  },
  {
   "cell_type": "code",
   "execution_count": 54,
   "id": "16db3073-3327-4ae1-bea0-8608a4e5465d",
   "metadata": {
    "scrolled": true
   },
   "outputs": [
    {
     "name": "stdout",
     "output_type": "stream",
     "text": [
      "Pipeline created successfully with ID: 2146e908-4daa-4c87-9ba0-7348e0e03aee\n",
      "Pipeline URL on GlassFlow UI to discover https://app.glassflow.dev/pipelines/2146e908-4daa-4c87-9ba0-7348e0e03aee \n"
     ]
    }
   ],
   "source": [
    "pipeline_name = \"event-driven-price-prediction\"\n",
    "\n",
    "pipeline = client.create_pipeline(\n",
    "    name=pipeline_name, \n",
    "    transformation_file='transform.py',\n",
    "    space_id=space.id,\n",
    "    requirements=requirements_txt\n",
    ")\n",
    "print(f\"Pipeline created successfully with ID: {pipeline.id}\")\n",
    "print(\"Pipeline URL on GlassFlow UI to discover %s \"% f\"https://app.glassflow.dev/pipelines/{pipeline.id}\")"
   ]
  },
  {
   "cell_type": "markdown",
   "id": "fc710512-0ef0-404b-9007-40960882380c",
   "metadata": {},
   "source": [
    "## Step 3: Service A and Service B Publishes Events To Pipeline\n",
    "\n",
    "Both Service A (Driver Availability) and Service B (Ride Demand) will publish their data to the same pipeline."
   ]
  },
  {
   "cell_type": "code",
   "execution_count": 68,
   "id": "2b4be642-0e7a-41bb-8edb-d2fec8c6d188",
   "metadata": {},
   "outputs": [
    {
     "name": "stdout",
     "output_type": "stream",
     "text": [
      "Published event from Service A: {'event': 'driver_availability', 'region': 'downtown', 'available_drivers': 17, 'datetime': '2024-10-15T18:18:29.272721'}\n",
      "Published event from Service B: {'event': 'ride_demand', 'region': 'downtown', 'ride_requests': 13, 'datetime': '2024-10-10T20:39:32.291453'}\n",
      "Published event from Service A: {'event': 'driver_availability', 'region': 'downtown', 'available_drivers': 15, 'datetime': '2024-10-22T15:33:12.186711'}\n",
      "Published event from Service B: {'event': 'ride_demand', 'region': 'downtown', 'ride_requests': 18, 'datetime': '2024-10-01T12:15:27.760041'}\n",
      "Published event from Service A: {'event': 'driver_availability', 'region': 'downtown', 'available_drivers': 15, 'datetime': '2024-10-10T15:46:53.788793'}\n",
      "Published event from Service B: {'event': 'ride_demand', 'region': 'downtown', 'ride_requests': 11, 'datetime': '2024-10-13T18:00:02.089567'}\n",
      "Published event from Service A: {'event': 'driver_availability', 'region': 'downtown', 'available_drivers': 19, 'datetime': '2024-10-21T07:08:38.900700'}\n",
      "Published event from Service B: {'event': 'ride_demand', 'region': 'downtown', 'ride_requests': 17, 'datetime': '2024-10-03T01:46:17.335351'}\n",
      "Published event from Service A: {'event': 'driver_availability', 'region': 'downtown', 'available_drivers': 6, 'datetime': '2024-10-09T07:22:45.863868'}\n",
      "Published event from Service B: {'event': 'ride_demand', 'region': 'downtown', 'ride_requests': 24, 'datetime': '2024-10-16T17:00:42.145828'}\n",
      "Published event from Service A: {'event': 'driver_availability', 'region': 'downtown', 'available_drivers': 8, 'datetime': '2024-10-02T14:03:23.244506'}\n",
      "Published event from Service B: {'event': 'ride_demand', 'region': 'downtown', 'ride_requests': 45, 'datetime': '2024-10-15T08:24:02.559403'}\n",
      "Published event from Service A: {'event': 'driver_availability', 'region': 'downtown', 'available_drivers': 12, 'datetime': '2024-10-01T16:19:01.246946'}\n",
      "Published event from Service B: {'event': 'ride_demand', 'region': 'downtown', 'ride_requests': 44, 'datetime': '2024-10-15T01:57:34.381405'}\n",
      "Published event from Service A: {'event': 'driver_availability', 'region': 'downtown', 'available_drivers': 13, 'datetime': '2024-10-15T01:17:00.678434'}\n",
      "Published event from Service B: {'event': 'ride_demand', 'region': 'downtown', 'ride_requests': 38, 'datetime': '2024-10-19T18:52:25.996380'}\n",
      "Published event from Service A: {'event': 'driver_availability', 'region': 'downtown', 'available_drivers': 5, 'datetime': '2024-10-16T15:24:46.102327'}\n",
      "Published event from Service B: {'event': 'ride_demand', 'region': 'downtown', 'ride_requests': 28, 'datetime': '2024-10-12T02:06:08.895769'}\n",
      "Published event from Service A: {'event': 'driver_availability', 'region': 'downtown', 'available_drivers': 14, 'datetime': '2024-10-13T18:32:05.831498'}\n",
      "Published event from Service B: {'event': 'ride_demand', 'region': 'downtown', 'ride_requests': 11, 'datetime': '2024-10-08T08:54:20.657833'}\n",
      "Published event from Service A: {'event': 'driver_availability', 'region': 'downtown', 'available_drivers': 12, 'datetime': '2024-10-05T00:29:22.561452'}\n",
      "Published event from Service B: {'event': 'ride_demand', 'region': 'downtown', 'ride_requests': 35, 'datetime': '2024-10-06T13:04:38.132890'}\n",
      "Published event from Service A: {'event': 'driver_availability', 'region': 'downtown', 'available_drivers': 19, 'datetime': '2024-10-12T23:34:30.697265'}\n",
      "Published event from Service B: {'event': 'ride_demand', 'region': 'downtown', 'ride_requests': 29, 'datetime': '2024-10-10T18:11:53.287654'}\n",
      "Published event from Service A: {'event': 'driver_availability', 'region': 'downtown', 'available_drivers': 19, 'datetime': '2024-10-02T03:25:43.860140'}\n",
      "Published event from Service B: {'event': 'ride_demand', 'region': 'downtown', 'ride_requests': 28, 'datetime': '2024-10-14T16:09:49.592547'}\n",
      "Published event from Service A: {'event': 'driver_availability', 'region': 'downtown', 'available_drivers': 8, 'datetime': '2024-10-22T17:27:44.540040'}\n",
      "Published event from Service B: {'event': 'ride_demand', 'region': 'downtown', 'ride_requests': 16, 'datetime': '2024-10-15T04:01:36.886565'}\n",
      "Published event from Service A: {'event': 'driver_availability', 'region': 'downtown', 'available_drivers': 19, 'datetime': '2024-10-11T13:15:07.788681'}\n",
      "Published event from Service B: {'event': 'ride_demand', 'region': 'downtown', 'ride_requests': 12, 'datetime': '2024-10-05T10:46:57.897710'}\n",
      "Published event from Service A: {'event': 'driver_availability', 'region': 'downtown', 'available_drivers': 17, 'datetime': '2024-10-10T07:03:45.257408'}\n",
      "Published event from Service B: {'event': 'ride_demand', 'region': 'downtown', 'ride_requests': 31, 'datetime': '2024-10-11T17:16:16.262156'}\n",
      "Published event from Service A: {'event': 'driver_availability', 'region': 'downtown', 'available_drivers': 12, 'datetime': '2024-10-03T11:29:29.457560'}\n",
      "Published event from Service B: {'event': 'ride_demand', 'region': 'downtown', 'ride_requests': 21, 'datetime': '2024-10-13T17:29:12.079266'}\n",
      "Published event from Service A: {'event': 'driver_availability', 'region': 'downtown', 'available_drivers': 7, 'datetime': '2024-10-09T11:47:56.957716'}\n",
      "Published event from Service B: {'event': 'ride_demand', 'region': 'downtown', 'ride_requests': 30, 'datetime': '2024-10-17T23:11:33.200974'}\n",
      "Published event from Service A: {'event': 'driver_availability', 'region': 'downtown', 'available_drivers': 19, 'datetime': '2024-10-22T06:01:40.829386'}\n",
      "Published event from Service B: {'event': 'ride_demand', 'region': 'downtown', 'ride_requests': 47, 'datetime': '2024-10-19T15:20:29.882930'}\n",
      "Published event from Service A: {'event': 'driver_availability', 'region': 'downtown', 'available_drivers': 6, 'datetime': '2024-10-05T22:47:03.429958'}\n",
      "Published event from Service B: {'event': 'ride_demand', 'region': 'downtown', 'ride_requests': 15, 'datetime': '2024-10-16T10:58:43.742236'}\n",
      "All events published to the pipeline\n"
     ]
    }
   ],
   "source": [
    "fake = Faker()\n",
    "\n",
    "def generate_service_a_events(n):\n",
    "    \"\"\"Generate mock driver availability data.\"\"\"\n",
    "    events = []\n",
    "    for _ in range(n):\n",
    "        event = {\n",
    "            \"event\": \"driver_availability\",\n",
    "            \"region\": \"downtown\",\n",
    "            \"available_drivers\": random.randint(5, 20),\n",
    "            \"datetime\": fake.date_time_this_month().isoformat()\n",
    "        }\n",
    "        events.append(event)\n",
    "    return events\n",
    "\n",
    "def generate_service_b_events(n):\n",
    "    \"\"\"Generate mock ride demand data.\"\"\"\n",
    "    events = []\n",
    "    for _ in range(n):\n",
    "        event = {\n",
    "            \"event\": \"ride_demand\",\n",
    "            \"region\": \"downtown\",\n",
    "            \"ride_requests\": random.randint(10, 50),\n",
    "            \"datetime\": fake.date_time_this_month().isoformat()\n",
    "        }\n",
    "        events.append(event)\n",
    "    return events\n",
    "\n",
    "# GlassFlow data source to publish events\n",
    "data_source = pipeline.get_source()\n",
    "\n",
    "# Generate 20 events each from Service A and Service B\n",
    "service_a_events = generate_service_a_events(20)\n",
    "service_b_events = generate_service_b_events(20)\n",
    "\n",
    "# Alternate sending events from Service A and Service B\n",
    "for event_a, event_b in zip(service_a_events, service_b_events):\n",
    "    print(f\"Published event from Service A: {event_a}\")\n",
    "    data_source.publish(event_a)\n",
    "    time.sleep(1)  # Simulate event delay\n",
    "\n",
    "    print(f\"Published event from Service B: {event_b}\")\n",
    "    data_source.publish(event_b)\n",
    "    time.sleep(1)  # Simulate event delay\n",
    "\n",
    "print(\"All events published to the pipeline\")\n"
   ]
  },
  {
   "cell_type": "markdown",
   "id": "545d6c9d-45aa-49bd-a8e3-6f48449ab892",
   "metadata": {},
   "source": [
    "## Step 4: Consume and visualize events from the pipeline\n",
    "\n",
    "Get pipeline data sink to consume the transformed events from the pipeline."
   ]
  },
  {
   "cell_type": "code",
   "execution_count": 64,
   "id": "13ecef72-87d5-46ec-bef3-131cd44847d9",
   "metadata": {},
   "outputs": [],
   "source": [
    "data_sink = pipeline.get_sink()"
   ]
  },
  {
   "cell_type": "code",
   "execution_count": 72,
   "id": "75443ac0-d2c5-4cbf-a6e1-391fefbb805e",
   "metadata": {},
   "outputs": [
    {
     "data": {
      "application/vnd.plotly.v1+json": {
       "config": {
        "plotlyServerURL": "https://plot.ly"
       },
       "data": [
        {
         "line": {
          "color": "blue"
         },
         "mode": "lines",
         "name": "Available Drivers",
         "type": "scatter",
         "x": [
          "2024-10-23T08:15:35",
          "2024-10-23T08:15:36",
          "2024-10-23T08:15:38",
          "2024-10-23T08:15:40",
          "2024-10-23T08:15:42",
          "2024-10-23T08:15:44",
          "2024-10-23T08:15:49",
          "2024-10-23T08:15:49",
          "2024-10-23T08:15:51",
          "2024-10-23T08:15:53"
         ],
         "y": [
          17,
          15,
          15,
          19,
          6,
          8,
          13,
          5,
          14,
          12
         ]
        },
        {
         "line": {
          "color": "red"
         },
         "mode": "lines",
         "name": "Ride Requests",
         "type": "scatter",
         "x": [
          "2024-10-23T08:15:35",
          "2024-10-23T08:15:36",
          "2024-10-23T08:15:38",
          "2024-10-23T08:15:40",
          "2024-10-23T08:15:42",
          "2024-10-23T08:15:44",
          "2024-10-23T08:15:49",
          "2024-10-23T08:15:49",
          "2024-10-23T08:15:51",
          "2024-10-23T08:15:53"
         ],
         "y": [
          13,
          18,
          11,
          17,
          24,
          45,
          44,
          38,
          28,
          11
         ]
        },
        {
         "line": {
          "color": "green"
         },
         "mode": "lines",
         "name": "Price Prediction",
         "type": "scatter",
         "x": [
          "2024-10-23T08:15:35",
          "2024-10-23T08:15:36",
          "2024-10-23T08:15:38",
          "2024-10-23T08:15:40",
          "2024-10-23T08:15:42",
          "2024-10-23T08:15:44",
          "2024-10-23T08:15:49",
          "2024-10-23T08:15:49",
          "2024-10-23T08:15:51",
          "2024-10-23T08:15:53"
         ],
         "y": [
          3.82,
          6,
          3.67,
          4.47,
          20,
          28.12,
          16.92,
          38,
          10,
          4.58
         ]
        }
       ],
       "layout": {
        "legend": {
         "title": {
          "text": "Legend"
         }
        },
        "template": {
         "data": {
          "bar": [
           {
            "error_x": {
             "color": "#2a3f5f"
            },
            "error_y": {
             "color": "#2a3f5f"
            },
            "marker": {
             "line": {
              "color": "#E5ECF6",
              "width": 0.5
             },
             "pattern": {
              "fillmode": "overlay",
              "size": 10,
              "solidity": 0.2
             }
            },
            "type": "bar"
           }
          ],
          "barpolar": [
           {
            "marker": {
             "line": {
              "color": "#E5ECF6",
              "width": 0.5
             },
             "pattern": {
              "fillmode": "overlay",
              "size": 10,
              "solidity": 0.2
             }
            },
            "type": "barpolar"
           }
          ],
          "carpet": [
           {
            "aaxis": {
             "endlinecolor": "#2a3f5f",
             "gridcolor": "white",
             "linecolor": "white",
             "minorgridcolor": "white",
             "startlinecolor": "#2a3f5f"
            },
            "baxis": {
             "endlinecolor": "#2a3f5f",
             "gridcolor": "white",
             "linecolor": "white",
             "minorgridcolor": "white",
             "startlinecolor": "#2a3f5f"
            },
            "type": "carpet"
           }
          ],
          "choropleth": [
           {
            "colorbar": {
             "outlinewidth": 0,
             "ticks": ""
            },
            "type": "choropleth"
           }
          ],
          "contour": [
           {
            "colorbar": {
             "outlinewidth": 0,
             "ticks": ""
            },
            "colorscale": [
             [
              0,
              "#0d0887"
             ],
             [
              0.1111111111111111,
              "#46039f"
             ],
             [
              0.2222222222222222,
              "#7201a8"
             ],
             [
              0.3333333333333333,
              "#9c179e"
             ],
             [
              0.4444444444444444,
              "#bd3786"
             ],
             [
              0.5555555555555556,
              "#d8576b"
             ],
             [
              0.6666666666666666,
              "#ed7953"
             ],
             [
              0.7777777777777778,
              "#fb9f3a"
             ],
             [
              0.8888888888888888,
              "#fdca26"
             ],
             [
              1,
              "#f0f921"
             ]
            ],
            "type": "contour"
           }
          ],
          "contourcarpet": [
           {
            "colorbar": {
             "outlinewidth": 0,
             "ticks": ""
            },
            "type": "contourcarpet"
           }
          ],
          "heatmap": [
           {
            "colorbar": {
             "outlinewidth": 0,
             "ticks": ""
            },
            "colorscale": [
             [
              0,
              "#0d0887"
             ],
             [
              0.1111111111111111,
              "#46039f"
             ],
             [
              0.2222222222222222,
              "#7201a8"
             ],
             [
              0.3333333333333333,
              "#9c179e"
             ],
             [
              0.4444444444444444,
              "#bd3786"
             ],
             [
              0.5555555555555556,
              "#d8576b"
             ],
             [
              0.6666666666666666,
              "#ed7953"
             ],
             [
              0.7777777777777778,
              "#fb9f3a"
             ],
             [
              0.8888888888888888,
              "#fdca26"
             ],
             [
              1,
              "#f0f921"
             ]
            ],
            "type": "heatmap"
           }
          ],
          "heatmapgl": [
           {
            "colorbar": {
             "outlinewidth": 0,
             "ticks": ""
            },
            "colorscale": [
             [
              0,
              "#0d0887"
             ],
             [
              0.1111111111111111,
              "#46039f"
             ],
             [
              0.2222222222222222,
              "#7201a8"
             ],
             [
              0.3333333333333333,
              "#9c179e"
             ],
             [
              0.4444444444444444,
              "#bd3786"
             ],
             [
              0.5555555555555556,
              "#d8576b"
             ],
             [
              0.6666666666666666,
              "#ed7953"
             ],
             [
              0.7777777777777778,
              "#fb9f3a"
             ],
             [
              0.8888888888888888,
              "#fdca26"
             ],
             [
              1,
              "#f0f921"
             ]
            ],
            "type": "heatmapgl"
           }
          ],
          "histogram": [
           {
            "marker": {
             "pattern": {
              "fillmode": "overlay",
              "size": 10,
              "solidity": 0.2
             }
            },
            "type": "histogram"
           }
          ],
          "histogram2d": [
           {
            "colorbar": {
             "outlinewidth": 0,
             "ticks": ""
            },
            "colorscale": [
             [
              0,
              "#0d0887"
             ],
             [
              0.1111111111111111,
              "#46039f"
             ],
             [
              0.2222222222222222,
              "#7201a8"
             ],
             [
              0.3333333333333333,
              "#9c179e"
             ],
             [
              0.4444444444444444,
              "#bd3786"
             ],
             [
              0.5555555555555556,
              "#d8576b"
             ],
             [
              0.6666666666666666,
              "#ed7953"
             ],
             [
              0.7777777777777778,
              "#fb9f3a"
             ],
             [
              0.8888888888888888,
              "#fdca26"
             ],
             [
              1,
              "#f0f921"
             ]
            ],
            "type": "histogram2d"
           }
          ],
          "histogram2dcontour": [
           {
            "colorbar": {
             "outlinewidth": 0,
             "ticks": ""
            },
            "colorscale": [
             [
              0,
              "#0d0887"
             ],
             [
              0.1111111111111111,
              "#46039f"
             ],
             [
              0.2222222222222222,
              "#7201a8"
             ],
             [
              0.3333333333333333,
              "#9c179e"
             ],
             [
              0.4444444444444444,
              "#bd3786"
             ],
             [
              0.5555555555555556,
              "#d8576b"
             ],
             [
              0.6666666666666666,
              "#ed7953"
             ],
             [
              0.7777777777777778,
              "#fb9f3a"
             ],
             [
              0.8888888888888888,
              "#fdca26"
             ],
             [
              1,
              "#f0f921"
             ]
            ],
            "type": "histogram2dcontour"
           }
          ],
          "mesh3d": [
           {
            "colorbar": {
             "outlinewidth": 0,
             "ticks": ""
            },
            "type": "mesh3d"
           }
          ],
          "parcoords": [
           {
            "line": {
             "colorbar": {
              "outlinewidth": 0,
              "ticks": ""
             }
            },
            "type": "parcoords"
           }
          ],
          "pie": [
           {
            "automargin": true,
            "type": "pie"
           }
          ],
          "scatter": [
           {
            "fillpattern": {
             "fillmode": "overlay",
             "size": 10,
             "solidity": 0.2
            },
            "type": "scatter"
           }
          ],
          "scatter3d": [
           {
            "line": {
             "colorbar": {
              "outlinewidth": 0,
              "ticks": ""
             }
            },
            "marker": {
             "colorbar": {
              "outlinewidth": 0,
              "ticks": ""
             }
            },
            "type": "scatter3d"
           }
          ],
          "scattercarpet": [
           {
            "marker": {
             "colorbar": {
              "outlinewidth": 0,
              "ticks": ""
             }
            },
            "type": "scattercarpet"
           }
          ],
          "scattergeo": [
           {
            "marker": {
             "colorbar": {
              "outlinewidth": 0,
              "ticks": ""
             }
            },
            "type": "scattergeo"
           }
          ],
          "scattergl": [
           {
            "marker": {
             "colorbar": {
              "outlinewidth": 0,
              "ticks": ""
             }
            },
            "type": "scattergl"
           }
          ],
          "scattermapbox": [
           {
            "marker": {
             "colorbar": {
              "outlinewidth": 0,
              "ticks": ""
             }
            },
            "type": "scattermapbox"
           }
          ],
          "scatterpolar": [
           {
            "marker": {
             "colorbar": {
              "outlinewidth": 0,
              "ticks": ""
             }
            },
            "type": "scatterpolar"
           }
          ],
          "scatterpolargl": [
           {
            "marker": {
             "colorbar": {
              "outlinewidth": 0,
              "ticks": ""
             }
            },
            "type": "scatterpolargl"
           }
          ],
          "scatterternary": [
           {
            "marker": {
             "colorbar": {
              "outlinewidth": 0,
              "ticks": ""
             }
            },
            "type": "scatterternary"
           }
          ],
          "surface": [
           {
            "colorbar": {
             "outlinewidth": 0,
             "ticks": ""
            },
            "colorscale": [
             [
              0,
              "#0d0887"
             ],
             [
              0.1111111111111111,
              "#46039f"
             ],
             [
              0.2222222222222222,
              "#7201a8"
             ],
             [
              0.3333333333333333,
              "#9c179e"
             ],
             [
              0.4444444444444444,
              "#bd3786"
             ],
             [
              0.5555555555555556,
              "#d8576b"
             ],
             [
              0.6666666666666666,
              "#ed7953"
             ],
             [
              0.7777777777777778,
              "#fb9f3a"
             ],
             [
              0.8888888888888888,
              "#fdca26"
             ],
             [
              1,
              "#f0f921"
             ]
            ],
            "type": "surface"
           }
          ],
          "table": [
           {
            "cells": {
             "fill": {
              "color": "#EBF0F8"
             },
             "line": {
              "color": "white"
             }
            },
            "header": {
             "fill": {
              "color": "#C8D4E3"
             },
             "line": {
              "color": "white"
             }
            },
            "type": "table"
           }
          ]
         },
         "layout": {
          "annotationdefaults": {
           "arrowcolor": "#2a3f5f",
           "arrowhead": 0,
           "arrowwidth": 1
          },
          "autotypenumbers": "strict",
          "coloraxis": {
           "colorbar": {
            "outlinewidth": 0,
            "ticks": ""
           }
          },
          "colorscale": {
           "diverging": [
            [
             0,
             "#8e0152"
            ],
            [
             0.1,
             "#c51b7d"
            ],
            [
             0.2,
             "#de77ae"
            ],
            [
             0.3,
             "#f1b6da"
            ],
            [
             0.4,
             "#fde0ef"
            ],
            [
             0.5,
             "#f7f7f7"
            ],
            [
             0.6,
             "#e6f5d0"
            ],
            [
             0.7,
             "#b8e186"
            ],
            [
             0.8,
             "#7fbc41"
            ],
            [
             0.9,
             "#4d9221"
            ],
            [
             1,
             "#276419"
            ]
           ],
           "sequential": [
            [
             0,
             "#0d0887"
            ],
            [
             0.1111111111111111,
             "#46039f"
            ],
            [
             0.2222222222222222,
             "#7201a8"
            ],
            [
             0.3333333333333333,
             "#9c179e"
            ],
            [
             0.4444444444444444,
             "#bd3786"
            ],
            [
             0.5555555555555556,
             "#d8576b"
            ],
            [
             0.6666666666666666,
             "#ed7953"
            ],
            [
             0.7777777777777778,
             "#fb9f3a"
            ],
            [
             0.8888888888888888,
             "#fdca26"
            ],
            [
             1,
             "#f0f921"
            ]
           ],
           "sequentialminus": [
            [
             0,
             "#0d0887"
            ],
            [
             0.1111111111111111,
             "#46039f"
            ],
            [
             0.2222222222222222,
             "#7201a8"
            ],
            [
             0.3333333333333333,
             "#9c179e"
            ],
            [
             0.4444444444444444,
             "#bd3786"
            ],
            [
             0.5555555555555556,
             "#d8576b"
            ],
            [
             0.6666666666666666,
             "#ed7953"
            ],
            [
             0.7777777777777778,
             "#fb9f3a"
            ],
            [
             0.8888888888888888,
             "#fdca26"
            ],
            [
             1,
             "#f0f921"
            ]
           ]
          },
          "colorway": [
           "#636efa",
           "#EF553B",
           "#00cc96",
           "#ab63fa",
           "#FFA15A",
           "#19d3f3",
           "#FF6692",
           "#B6E880",
           "#FF97FF",
           "#FECB52"
          ],
          "font": {
           "color": "#2a3f5f"
          },
          "geo": {
           "bgcolor": "white",
           "lakecolor": "white",
           "landcolor": "#E5ECF6",
           "showlakes": true,
           "showland": true,
           "subunitcolor": "white"
          },
          "hoverlabel": {
           "align": "left"
          },
          "hovermode": "closest",
          "mapbox": {
           "style": "light"
          },
          "paper_bgcolor": "white",
          "plot_bgcolor": "#E5ECF6",
          "polar": {
           "angularaxis": {
            "gridcolor": "white",
            "linecolor": "white",
            "ticks": ""
           },
           "bgcolor": "#E5ECF6",
           "radialaxis": {
            "gridcolor": "white",
            "linecolor": "white",
            "ticks": ""
           }
          },
          "scene": {
           "xaxis": {
            "backgroundcolor": "#E5ECF6",
            "gridcolor": "white",
            "gridwidth": 2,
            "linecolor": "white",
            "showbackground": true,
            "ticks": "",
            "zerolinecolor": "white"
           },
           "yaxis": {
            "backgroundcolor": "#E5ECF6",
            "gridcolor": "white",
            "gridwidth": 2,
            "linecolor": "white",
            "showbackground": true,
            "ticks": "",
            "zerolinecolor": "white"
           },
           "zaxis": {
            "backgroundcolor": "#E5ECF6",
            "gridcolor": "white",
            "gridwidth": 2,
            "linecolor": "white",
            "showbackground": true,
            "ticks": "",
            "zerolinecolor": "white"
           }
          },
          "shapedefaults": {
           "line": {
            "color": "#2a3f5f"
           }
          },
          "ternary": {
           "aaxis": {
            "gridcolor": "white",
            "linecolor": "white",
            "ticks": ""
           },
           "baxis": {
            "gridcolor": "white",
            "linecolor": "white",
            "ticks": ""
           },
           "bgcolor": "#E5ECF6",
           "caxis": {
            "gridcolor": "white",
            "linecolor": "white",
            "ticks": ""
           }
          },
          "title": {
           "x": 0.05
          },
          "xaxis": {
           "automargin": true,
           "gridcolor": "white",
           "linecolor": "white",
           "ticks": "",
           "title": {
            "standoff": 15
           },
           "zerolinecolor": "white",
           "zerolinewidth": 2
          },
          "yaxis": {
           "automargin": true,
           "gridcolor": "white",
           "linecolor": "white",
           "ticks": "",
           "title": {
            "standoff": 15
           },
           "zerolinecolor": "white",
           "zerolinewidth": 2
          }
         }
        },
        "title": {
         "text": "Real-time Price Prediction with Driver Availability and Ride Requests"
        },
        "xaxis": {
         "title": {
          "text": "Time"
         }
        },
        "yaxis": {
         "title": {
          "text": "Value"
         }
        }
       }
      }
     },
     "metadata": {},
     "output_type": "display_data"
    }
   ],
   "source": [
    "processed_events = []\n",
    "\n",
    "# Set up an empty dataframe to store the real-time data\n",
    "df_visual = pd.DataFrame(columns=['datetime', 'available_drivers', 'ride_requests', 'predicted_price'])\n",
    "\n",
    "# Infinite loop to continuously consume events and update the plot\n",
    "while len(processed_events) < 10:\n",
    "    # Consume event from the GlassFlow pipeline\n",
    "    resp = data_sink.consume()\n",
    "    if resp.status_code == 200:\n",
    "        event_data = resp.json()\n",
    "        \n",
    "        # Extract the predicted price and event details\n",
    "        predicted_prices = event_data.get('predicted_price', None)\n",
    "        \n",
    "        if predicted_prices:\n",
    "            processed_events.append(event_data)\n",
    "\n",
    "            # Create a list to store new rows\n",
    "            new_rows = []\n",
    "\n",
    "            # Iterate through the array of predicted prices\n",
    "            for price in predicted_prices:\n",
    "                new_data = {\n",
    "                    'datetime': pd.to_datetime(price['datetime']),\n",
    "                    'available_drivers': price['available_drivers'],\n",
    "                    'ride_requests': price['ride_requests'],\n",
    "                    'predicted_price': price['predicted_price']\n",
    "                }\n",
    "                new_rows.append(new_data)\n",
    "\n",
    "            # Append new rows to df_visual using pd.concat\n",
    "            df_visual = pd.concat([df_visual, pd.DataFrame(new_rows)], ignore_index=True)\n",
    "\n",
    "            # Clear previous output\n",
    "            clear_output(wait=True)\n",
    "\n",
    "            # Plot the updated DataFrame\n",
    "            fig = go.Figure()\n",
    "\n",
    "            fig.add_trace(go.Scatter(x=df_visual['datetime'], y=df_visual['available_drivers'],\n",
    "                                     mode='lines', name='Available Drivers', line=dict(color='blue')))\n",
    "            fig.add_trace(go.Scatter(x=df_visual['datetime'], y=df_visual['ride_requests'],\n",
    "                                     mode='lines', name='Ride Requests', line=dict(color='red')))\n",
    "            fig.add_trace(go.Scatter(x=df_visual['datetime'], y=df_visual['predicted_price'],\n",
    "                                     mode='lines', name='Price Prediction', line=dict(color='green')))\n",
    "\n",
    "            fig.update_layout(title=\"Real-time Price Prediction with Driver Availability and Ride Requests\",\n",
    "                              xaxis_title=\"Time\",\n",
    "                              yaxis_title=\"Value\",\n",
    "                              legend_title=\"Legend\")\n",
    "\n",
    "            # Display the updated plot\n",
    "            display(fig)\n",
    "\n",
    "    # Pause for a bit before consuming the next event\n",
    "    time.sleep(1)"
   ]
  },
  {
   "cell_type": "code",
   "execution_count": 74,
   "id": "2a4d932d",
   "metadata": {},
   "outputs": [
    {
     "name": "stdout",
     "output_type": "stream",
     "text": [
      "Consumed event: {'predicted_price': [{'region': 'downtown', 'predicted_price': 3.82, 'available_drivers': 17, 'ride_requests': 13, 'datetime': '2024-10-23 08:15:35'}]}\n",
      "Consumed event: {'predicted_price': [{'region': 'downtown', 'predicted_price': 6.0, 'available_drivers': 15, 'ride_requests': 18, 'datetime': '2024-10-23 08:15:36'}]}\n",
      "Consumed event: {'predicted_price': [{'region': 'downtown', 'predicted_price': 3.67, 'available_drivers': 15, 'ride_requests': 11, 'datetime': '2024-10-23 08:15:38'}]}\n",
      "Consumed event: {'predicted_price': [{'region': 'downtown', 'predicted_price': 4.47, 'available_drivers': 19, 'ride_requests': 17, 'datetime': '2024-10-23 08:15:40'}]}\n",
      "Consumed event: {'predicted_price': [{'region': 'downtown', 'predicted_price': 20.0, 'available_drivers': 6, 'ride_requests': 24, 'datetime': '2024-10-23 08:15:42'}]}\n",
      "Consumed event: {'predicted_price': [{'region': 'downtown', 'predicted_price': 28.12, 'available_drivers': 8, 'ride_requests': 45, 'datetime': '2024-10-23 08:15:44'}]}\n",
      "Consumed event: {'predicted_price': [{'region': 'downtown', 'predicted_price': 16.92, 'available_drivers': 13, 'ride_requests': 44, 'datetime': '2024-10-23 08:15:49'}]}\n",
      "Consumed event: {'predicted_price': [{'region': 'downtown', 'predicted_price': 38.0, 'available_drivers': 5, 'ride_requests': 38, 'datetime': '2024-10-23 08:15:49'}]}\n",
      "Consumed event: {'predicted_price': [{'region': 'downtown', 'predicted_price': 10.0, 'available_drivers': 14, 'ride_requests': 28, 'datetime': '2024-10-23 08:15:51'}]}\n",
      "Consumed event: {'predicted_price': [{'region': 'downtown', 'predicted_price': 4.58, 'available_drivers': 12, 'ride_requests': 11, 'datetime': '2024-10-23 08:15:53'}]}\n"
     ]
    }
   ],
   "source": [
    "for event_data in processed_events:\n",
    "    print(f\"Consumed event: {event_data}\")"
   ]
  },
  {
   "cell_type": "markdown",
   "id": "6cec8def",
   "metadata": {},
   "source": [
    "## Monitor the pipeline\n",
    "\n",
    "Go to the pipeline logs you created and monitor real-time events."
   ]
  },
  {
   "cell_type": "code",
   "execution_count": 73,
   "id": "1aa6dbe7-5411-490e-9812-50c2ff613add",
   "metadata": {},
   "outputs": [
    {
     "name": "stdout",
     "output_type": "stream",
     "text": [
      "https://app.glassflow.dev/pipelines/2146e908-4daa-4c87-9ba0-7348e0e03aee/logs\n"
     ]
    }
   ],
   "source": [
    "## Explore the pipeline logs on the web-UI \n",
    "pipeline_url = f\"https://app.glassflow.dev/pipelines/{pipeline.id}/logs\"\n",
    "print(pipeline_url)"
   ]
  }
 ],
 "metadata": {
  "kernelspec": {
   "display_name": "Python 3",
   "language": "python",
   "name": "python3"
  },
  "language_info": {
   "codemirror_mode": {
    "name": "ipython",
    "version": 3
   },
   "file_extension": ".py",
   "mimetype": "text/x-python",
   "name": "python",
   "nbconvert_exporter": "python",
   "pygments_lexer": "ipython3",
   "version": "3.11.9"
  }
 },
 "nbformat": 4,
 "nbformat_minor": 5
}
