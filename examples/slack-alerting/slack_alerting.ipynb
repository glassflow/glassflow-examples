{
 "cells": [
  {
   "cell_type": "markdown",
   "metadata": {},
   "source": [
    "# Slack Alerting - Suspicious User Login\n",
    "\n",
    "This example demonstrates how to use GlassFlow to send a Slack message if there is a user with suspicious login\n",
    "\n",
    "## Pre-requisites\n",
    "\n",
    "- Create your free GlassFlow account via the [GlassFlow WebApp](https://app.glassflow.dev).\n",
    "- Get your [Personal Access Token](https://app.glassflow.dev/profile) to authorize the Python SDK to interact with GlassFlow Cloud.\n",
    "- Slack Incoming Webhook URL (https://api.slack.com/messaging/webhooks).\n",
    "- Get your Geoapify API key from https://myprojects.geoapify.com/ . This key is used in the transformation stage to get geo location data\n",
    "\n"
   ]
  },
  {
   "cell_type": "code",
   "metadata": {},
   "source": "%pip install \"glassflow>=2.0.8\" pandas Faker",
   "outputs": [],
   "execution_count": null
  },
  {
   "cell_type": "code",
   "metadata": {},
   "source": [
    "import glassflow"
   ],
   "outputs": [],
   "execution_count": null
  },
  {
   "cell_type": "code",
   "metadata": {},
   "source": [
    "# fill credentials\n",
    "# Please edit this variable with your own personal access token from https://app.glassflow.dev/profile\n",
    "PERSONAL_ACCESS_TOKEN = \"\"\n",
    "GEOAPI_KEY = \"\"\n",
    "SLACK_WEBHOOK_URL = \"\"\n",
    "SLACK_WEBHOOK_HEADERS = [{\"name\": \"Content-type\", \"value\": \"application/json\"}]"
   ],
   "outputs": [],
   "execution_count": null
  },
  {
   "cell_type": "markdown",
   "metadata": {},
   "source": [
    "## Create Pipeline"
   ]
  },
  {
   "cell_type": "code",
   "metadata": {},
   "source": [
    "client = glassflow.GlassFlowClient(\n",
    "    personal_access_token=PERSONAL_ACCESS_TOKEN\n",
    ")"
   ],
   "outputs": [],
   "execution_count": null
  },
  {
   "cell_type": "code",
   "metadata": {},
   "source": [
    "# Get the space named \"examples\" (or create one if no space is found)\n",
    "list_spaces = client.list_spaces()\n",
    "\n",
    "space_name = \"examples\"\n",
    "for s in list_spaces.spaces:\n",
    "    if s[\"name\"] == space_name:\n",
    "        space = glassflow.Space(\n",
    "            personal_access_token=client.personal_access_token,\n",
    "            id=s[\"id\"], \n",
    "            name=s[\"name\"]\n",
    "        )\n",
    "        break\n",
    "else:\n",
    "    space = client.create_space(name=space_name)\n",
    "\n",
    "print(f\"Space \\\"{space.name}\\\" with ID: {space.id}\")"
   ],
   "outputs": [],
   "execution_count": null
  },
  {
   "cell_type": "markdown",
   "metadata": {},
   "source": [
    "### Transformation Function"
   ]
  },
  {
   "cell_type": "code",
   "metadata": {},
   "source": [
    "%pycat transform.py"
   ],
   "outputs": [],
   "execution_count": null
  },
  {
   "cell_type": "markdown",
   "metadata": {},
   "source": [
    "### Env Variables needed for transformation"
   ]
  },
  {
   "cell_type": "code",
   "metadata": {},
   "source": [
    "env_vars = [{\n",
    "  \"name\": \"GEOAPI_KEY\",\n",
    "  \"value\": GEOAPI_KEY\n",
    "}]"
   ],
   "outputs": [],
   "execution_count": null
  },
  {
   "cell_type": "markdown",
   "metadata": {},
   "source": [
    "### Requirements txt"
   ]
  },
  {
   "cell_type": "code",
   "metadata": {},
   "source": [
    "with open(\"requirements.txt\") as f:\n",
    "    requirements_txt = f.read()\n",
    "display(requirements_txt)"
   ],
   "outputs": [],
   "execution_count": null
  },
  {
   "cell_type": "markdown",
   "metadata": {},
   "source": [
    "### Create Pipeline"
   ]
  },
  {
   "cell_type": "code",
   "metadata": {},
   "source": [
    "pipeline_name = \"slack-alerting-example\"\n",
    "\n",
    "pipeline = client.create_pipeline(\n",
    "    name=pipeline_name, \n",
    "    transformation_file='transform.py',\n",
    "    space_id=space.id, \n",
    "    env_vars=env_vars, \n",
    "    requirements=requirements_txt,\n",
    "    sink_kind=\"webhook\",\n",
    "    sink_config={\n",
    "        \"url\": SLACK_WEBHOOK_URL,\n",
    "        \"method\": \"POST\",\n",
    "        \"headers\": SLACK_WEBHOOK_HEADERS\n",
    "    }\n",
    ")\n",
    "print(\"Pipeline ID:\", pipeline.id)"
   ],
   "outputs": [],
   "execution_count": null
  },
  {
   "cell_type": "markdown",
   "metadata": {},
   "source": [
    "## Produce data and send it to your pipeline"
   ]
  },
  {
   "cell_type": "markdown",
   "metadata": {},
   "source": [
    "### Create a dummy data generator using python faker library"
   ]
  },
  {
   "cell_type": "code",
   "metadata": {},
   "source": [
    "from faker import Faker\n",
    "\n",
    "def user_login_generator():\n",
    "    fake = Faker()\n",
    "    return {\n",
    "        'event_name': \"user_login\",\n",
    "        'username': fake.name(),\n",
    "        'email': fake.email(),\n",
    "        'ip': fake.ipv4(),\n",
    "        'known_ip': fake.boolean()\n",
    "    }"
   ],
   "outputs": [],
   "execution_count": null
  },
  {
   "cell_type": "code",
   "metadata": {},
   "source": [
    "### Get pipeline data source object to publish events to the pipeline\n",
    "data_source = pipeline.get_source()"
   ],
   "outputs": [],
   "execution_count": null
  },
  {
   "cell_type": "code",
   "metadata": {},
   "source": [
    "# Generate some data and send it to the pipeline. Store it locally to compare\n",
    "n_events = 10\n",
    "input_events = []\n",
    "for i in range(n_events):\n",
    "    event = user_login_generator()\n",
    "    input_events.append(event)\n",
    "    data_source.publish(event)"
   ],
   "outputs": [],
   "execution_count": null
  },
  {
   "cell_type": "code",
   "metadata": {},
   "source": [
    "## Display data sent to the pipeline\n",
    "import pandas as pd\n",
    "\n",
    "display(pd.DataFrame(input_events))"
   ],
   "outputs": [],
   "execution_count": null
  },
  {
   "cell_type": "markdown",
   "metadata": {},
   "source": [
    "## Explore the pipeline on the web-UI\n"
   ]
  },
  {
   "cell_type": "code",
   "metadata": {},
   "source": [
    "pipeline_url = f\"https://app.glassflow.dev/pipelines/{pipeline.id}\"\n",
    "print(pipeline_url)"
   ],
   "outputs": [],
   "execution_count": null
  },
  {
   "cell_type": "code",
   "metadata": {},
   "source": [],
   "outputs": [],
   "execution_count": null
  }
 ],
 "metadata": {
  "kernelspec": {
   "display_name": "Python 3 (ipykernel)",
   "language": "python",
   "name": "python3"
  },
  "language_info": {
   "codemirror_mode": {
    "name": "ipython",
    "version": 3
   },
   "file_extension": ".py",
   "mimetype": "text/x-python",
   "name": "python",
   "nbconvert_exporter": "python",
   "pygments_lexer": "ipython3",
   "version": "3.9.6"
  }
 },
 "nbformat": 4,
 "nbformat_minor": 4
}
