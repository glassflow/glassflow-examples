{
 "cells": [
  {
   "cell_type": "markdown",
   "id": "75eb080b-c0fa-4d23-a257-49a9d22fb1f6",
   "metadata": {},
   "source": [
    "# Transform unstructured data to structured in real-time\n",
    "\n",
    "Media companies want to extract key information from livestreamed events for subtitles, translations, and content summaries but doing this manually or with bactch processing causes delays. This project showcases how to use GlassFlow for real-time extraction, transformation, and translation of YouTube video data. The handler extracts key topics from the video transcript, generates meaningful insights, and translates the transcript into any specified language. \n",
    "\n",
    "### Features\n",
    "1. Extract video transcript from YouTube.\n",
    "2. Process the data to extract topics and other meaningful data (identifies key metrics such as the number of speakers and the total duration of the spoken content).\n",
    "3. Translate the transcript into the user's preferred language (for example, from English to Spanish).\n",
    "4. Return structured data and derived metrics.\n",
    "\n",
    "\n",
    "## Pre-requisites\n",
    "\n",
    "- Create your free GlassFlow account via the [GlassFlow WebApp](https://app.glassflow.dev).\n",
    "- Get your [Personal Access Token](https://app.glassflow.dev/profile) to authorize the Python SDK to interact with GlassFlow Cloud.\n",
    "- Get your OpenAI API Key https://platform.openai.com/."
   ]
  },
  {
   "cell_type": "markdown",
   "id": "e080f5db",
   "metadata": {},
   "source": [
    "## Step 1: Install GlassFlow and import"
   ]
  },
  {
   "cell_type": "code",
   "execution_count": 1,
   "id": "5cc3f293",
   "metadata": {},
   "outputs": [
    {
     "name": "stdout",
     "output_type": "stream",
     "text": [
      "Requirement already satisfied: glassflow>=2.0.5 in /opt/homebrew/lib/python3.11/site-packages (2.0.5)\n",
      "Requirement already satisfied: urllib3==1.26.15 in /opt/homebrew/lib/python3.11/site-packages (from glassflow>=2.0.5) (1.26.15)\n",
      "Requirement already satisfied: certifi>=2023.7.22 in /opt/homebrew/lib/python3.11/site-packages (from glassflow>=2.0.5) (2024.8.30)\n",
      "Requirement already satisfied: charset-normalizer>=3.2.0 in /opt/homebrew/lib/python3.11/site-packages (from glassflow>=2.0.5) (3.4.0)\n",
      "Requirement already satisfied: dataclasses-json>=0.6.4 in /opt/homebrew/lib/python3.11/site-packages (from glassflow>=2.0.5) (0.6.7)\n",
      "Requirement already satisfied: idna>=3.4 in /opt/homebrew/lib/python3.11/site-packages (from glassflow>=2.0.5) (3.10)\n",
      "Requirement already satisfied: jsonpath-python>=1.0.6 in /opt/homebrew/lib/python3.11/site-packages (from glassflow>=2.0.5) (1.0.6)\n",
      "Requirement already satisfied: marshmallow>=3.19.0 in /opt/homebrew/lib/python3.11/site-packages (from glassflow>=2.0.5) (3.23.0)\n",
      "Requirement already satisfied: mypy-extensions>=1.0.0 in /opt/homebrew/lib/python3.11/site-packages (from glassflow>=2.0.5) (1.0.0)\n",
      "Requirement already satisfied: packaging>=23.1 in /Users/boburumurzokov/Library/Python/3.11/lib/python/site-packages (from glassflow>=2.0.5) (24.1)\n",
      "Requirement already satisfied: python-dateutil>=2.8.2 in /Users/boburumurzokov/Library/Python/3.11/lib/python/site-packages (from glassflow>=2.0.5) (2.9.0.post0)\n",
      "Requirement already satisfied: requests>=2.31.0 in /opt/homebrew/lib/python3.11/site-packages (from glassflow>=2.0.5) (2.32.3)\n",
      "Requirement already satisfied: six>=1.16.0 in /Users/boburumurzokov/Library/Python/3.11/lib/python/site-packages (from glassflow>=2.0.5) (1.16.0)\n",
      "Requirement already satisfied: typing-inspect>=0.9.0 in /opt/homebrew/lib/python3.11/site-packages (from glassflow>=2.0.5) (0.9.0)\n",
      "Requirement already satisfied: typing-extensions>=4.7.1 in /Users/boburumurzokov/Library/Python/3.11/lib/python/site-packages (from glassflow>=2.0.5) (4.12.2)\n",
      "Requirement already satisfied: python-dotenv==1.0.1 in /opt/homebrew/lib/python3.11/site-packages (from glassflow>=2.0.5) (1.0.1)\n",
      "\n",
      "\u001b[1m[\u001b[0m\u001b[34;49mnotice\u001b[0m\u001b[1;39;49m]\u001b[0m\u001b[39;49m A new release of pip is available: \u001b[0m\u001b[31;49m24.1.2\u001b[0m\u001b[39;49m -> \u001b[0m\u001b[32;49m24.2\u001b[0m\n",
      "\u001b[1m[\u001b[0m\u001b[34;49mnotice\u001b[0m\u001b[1;39;49m]\u001b[0m\u001b[39;49m To update, run: \u001b[0m\u001b[32;49mpython3.11 -m pip install --upgrade pip\u001b[0m\n",
      "Note: you may need to restart the kernel to use updated packages.\n"
     ]
    }
   ],
   "source": [
    "%pip install \"glassflow>=2.0.5\""
   ]
  },
  {
   "cell_type": "code",
   "execution_count": 2,
   "id": "cdc80623",
   "metadata": {},
   "outputs": [],
   "source": [
    "import glassflow\n",
    "import time"
   ]
  },
  {
   "cell_type": "markdown",
   "id": "543435a8-4252-4340-b25d-933c54a597d1",
   "metadata": {},
   "source": [
    "## Step 2: Create GlassFlow Pipeline"
   ]
  },
  {
   "cell_type": "code",
   "execution_count": 3,
   "id": "0742216b-c5ba-4f2c-a35a-94df544dcb55",
   "metadata": {},
   "outputs": [],
   "source": [
    "# Set personal access token from your GlassFlow account and OpenAI API key\n",
    "personal_access_token = \"\"\n",
    "OPENAI_API_KEY = \"\""
   ]
  },
  {
   "cell_type": "code",
   "execution_count": 4,
   "id": "5c661c06-1c8d-4cc6-9ec0-59a1808418a2",
   "metadata": {},
   "outputs": [],
   "source": [
    "# Create a GlassFlow client\n",
    "client = glassflow.GlassFlowClient(\n",
    "    personal_access_token=personal_access_token\n",
    ")"
   ]
  },
  {
   "cell_type": "code",
   "execution_count": 5,
   "id": "c63e991f-ea82-49a5-9108-96345de36da5",
   "metadata": {
    "scrolled": true
   },
   "outputs": [
    {
     "name": "stdout",
     "output_type": "stream",
     "text": [
      "Created space unstructured-to-structured with ID: c5e01c71-7bc5-4990-a76a-a15c35156cb3\n"
     ]
    }
   ],
   "source": [
    "# Get the space named \"unstructured-to-structured\" (or create one if no space is found)\n",
    "list_spaces = client.list_spaces()\n",
    "\n",
    "space_name = \"unstructured-to-structured\"\n",
    "for s in list_spaces.spaces:\n",
    "    if s[\"name\"] == space_name:\n",
    "        space = glassflow.Space(\n",
    "            personal_access_token=client.personal_access_token,\n",
    "            id=s[\"id\"], \n",
    "            name=s[\"name\"]\n",
    "        )\n",
    "        break\n",
    "else:\n",
    "    space = client.create_space(name=space_name)\n",
    "\n",
    "print(f\"Created space {space.name} with ID: {space.id}\")"
   ]
  },
  {
   "cell_type": "markdown",
   "id": "929b0a7b-38c2-400d-a663-118c86e6806a",
   "metadata": {},
   "source": [
    "### Transformation Function"
   ]
  },
  {
   "cell_type": "code",
   "execution_count": 6,
   "id": "c0e471e2-d77a-4a0e-9e26-59525fb5eaeb",
   "metadata": {},
   "outputs": [
    {
     "name": "stdout",
     "output_type": "stream",
     "text": [
      "\u001b[0;32mimport\u001b[0m \u001b[0mopenai\u001b[0m\u001b[0;34m\u001b[0m\n",
      "\u001b[0;34m\u001b[0m\u001b[0;32mfrom\u001b[0m \u001b[0myoutube_transcript_api\u001b[0m \u001b[0;32mimport\u001b[0m \u001b[0mYouTubeTranscriptApi\u001b[0m\u001b[0;34m\u001b[0m\n",
      "\u001b[0;34m\u001b[0m\u001b[0;32mimport\u001b[0m \u001b[0mos\u001b[0m\u001b[0;34m\u001b[0m\n",
      "\u001b[0;34m\u001b[0m\u001b[0;34m\u001b[0m\n",
      "\u001b[0;34m\u001b[0m\u001b[0;31m# You will need an API key from OpenAI for this to work\u001b[0m\u001b[0;34m\u001b[0m\n",
      "\u001b[0;34m\u001b[0m\u001b[0mopenai\u001b[0m\u001b[0;34m.\u001b[0m\u001b[0mapi_key\u001b[0m \u001b[0;34m=\u001b[0m \u001b[0mos\u001b[0m\u001b[0;34m.\u001b[0m\u001b[0mgetenv\u001b[0m\u001b[0;34m(\u001b[0m\u001b[0;34m\"OPENAI_API_KEY\"\u001b[0m\u001b[0;34m)\u001b[0m\u001b[0;34m\u001b[0m\n",
      "\u001b[0;34m\u001b[0m\u001b[0;34m\u001b[0m\n",
      "\u001b[0;34m\u001b[0m\u001b[0;34m\u001b[0m\n",
      "\u001b[0;34m\u001b[0m\u001b[0;31m# GlassFlow mandatory handler function\u001b[0m\u001b[0;34m\u001b[0m\n",
      "\u001b[0;34m\u001b[0m\u001b[0;32mdef\u001b[0m \u001b[0mhandler\u001b[0m\u001b[0;34m(\u001b[0m\u001b[0mdata\u001b[0m\u001b[0;34m,\u001b[0m \u001b[0mlog\u001b[0m\u001b[0;34m)\u001b[0m\u001b[0;34m:\u001b[0m\u001b[0;34m\u001b[0m\n",
      "\u001b[0;34m\u001b[0m    \u001b[0;34m\"\"\"\u001b[0m\n",
      "\u001b[0;34m    GlassFlow handler function for extracting key insights from YouTube video transcripts,\u001b[0m\n",
      "\u001b[0;34m    translating the transcript into another language, and generating derived metrics.\u001b[0m\n",
      "\u001b[0;34m\u001b[0m\n",
      "\u001b[0;34m    Parameters:\u001b[0m\n",
      "\u001b[0;34m    - event: Incoming event data containing a YouTube link and target language for translation.\u001b[0m\n",
      "\u001b[0;34m    - log: Logging object for GlassFlow pipeline.\u001b[0m\n",
      "\u001b[0;34m\u001b[0m\n",
      "\u001b[0;34m    Returns:\u001b[0m\n",
      "\u001b[0;34m    - A dictionary containing the translated transcript, transcript length in minutes,\u001b[0m\n",
      "\u001b[0;34m      number of distinct speakers, and average words spoken per speaker.\u001b[0m\n",
      "\u001b[0;34m    \"\"\"\u001b[0m\u001b[0;34m\u001b[0m\n",
      "\u001b[0;34m\u001b[0m    \u001b[0;32mtry\u001b[0m\u001b[0;34m:\u001b[0m\u001b[0;34m\u001b[0m\n",
      "\u001b[0;34m\u001b[0m        \u001b[0mlog\u001b[0m\u001b[0;34m.\u001b[0m\u001b[0minfo\u001b[0m\u001b[0;34m(\u001b[0m\u001b[0;34m\"Starting YouTube transcript processing and data extraction\"\u001b[0m\u001b[0;34m)\u001b[0m\u001b[0;34m\u001b[0m\n",
      "\u001b[0;34m\u001b[0m\u001b[0;34m\u001b[0m\n",
      "\u001b[0;34m\u001b[0m        \u001b[0;31m# Validate input data\u001b[0m\u001b[0;34m\u001b[0m\n",
      "\u001b[0;34m\u001b[0m        \u001b[0myoutube_link\u001b[0m \u001b[0;34m=\u001b[0m \u001b[0mdata\u001b[0m\u001b[0;34m[\u001b[0m\u001b[0;34m\"youtube_link\"\u001b[0m\u001b[0;34m]\u001b[0m\u001b[0;34m\u001b[0m\n",
      "\u001b[0;34m\u001b[0m        \u001b[0mtarget_language\u001b[0m \u001b[0;34m=\u001b[0m \u001b[0mdata\u001b[0m\u001b[0;34m[\u001b[0m\u001b[0;34m\"target_language\"\u001b[0m\u001b[0;34m]\u001b[0m\u001b[0;34m\u001b[0m\n",
      "\u001b[0;34m\u001b[0m\u001b[0;34m\u001b[0m\n",
      "\u001b[0;34m\u001b[0m        \u001b[0;32mif\u001b[0m \u001b[0;32mnot\u001b[0m \u001b[0myoutube_link\u001b[0m \u001b[0;32mor\u001b[0m \u001b[0;32mnot\u001b[0m \u001b[0mtarget_language\u001b[0m\u001b[0;34m:\u001b[0m\u001b[0;34m\u001b[0m\n",
      "\u001b[0;34m\u001b[0m            \u001b[0mlog\u001b[0m\u001b[0;34m.\u001b[0m\u001b[0merror\u001b[0m\u001b[0;34m(\u001b[0m\u001b[0;34m\"Missing youtube_link or target_language in the event\"\u001b[0m\u001b[0;34m)\u001b[0m\u001b[0;34m\u001b[0m\n",
      "\u001b[0;34m\u001b[0m            \u001b[0;32mreturn\u001b[0m \u001b[0;34m{\u001b[0m\u001b[0;34m\"error\"\u001b[0m\u001b[0;34m:\u001b[0m \u001b[0;34m\"Missing youtube_link or target_language\"\u001b[0m\u001b[0;34m}\u001b[0m\u001b[0;34m\u001b[0m\n",
      "\u001b[0;34m\u001b[0m\u001b[0;34m\u001b[0m\n",
      "\u001b[0;34m\u001b[0m        \u001b[0;31m# Step 2: Fetch transcript from YouTube\u001b[0m\u001b[0;34m\u001b[0m\n",
      "\u001b[0;34m\u001b[0m        \u001b[0mtranscript\u001b[0m \u001b[0;34m=\u001b[0m \u001b[0mget_transcription_from_youtube\u001b[0m\u001b[0;34m(\u001b[0m\u001b[0myoutube_link\u001b[0m\u001b[0;34m)\u001b[0m\u001b[0;34m\u001b[0m\n",
      "\u001b[0;34m\u001b[0m\u001b[0;34m\u001b[0m\n",
      "\u001b[0;34m\u001b[0m        \u001b[0;32mif\u001b[0m \u001b[0;32mnot\u001b[0m \u001b[0mtranscript\u001b[0m\u001b[0;34m:\u001b[0m\u001b[0;34m\u001b[0m\n",
      "\u001b[0;34m\u001b[0m            \u001b[0mlog\u001b[0m\u001b[0;34m.\u001b[0m\u001b[0merror\u001b[0m\u001b[0;34m(\u001b[0m\u001b[0;34mf\"Could not retrieve transcript for video: {youtube_link}\"\u001b[0m\u001b[0;34m)\u001b[0m\u001b[0;34m\u001b[0m\n",
      "\u001b[0;34m\u001b[0m            \u001b[0;32mreturn\u001b[0m \u001b[0;34m{\u001b[0m\u001b[0;34m\"error\"\u001b[0m\u001b[0;34m:\u001b[0m \u001b[0;34m\"Transcript not found\"\u001b[0m\u001b[0;34m}\u001b[0m\u001b[0;34m\u001b[0m\n",
      "\u001b[0;34m\u001b[0m\u001b[0;34m\u001b[0m\n",
      "\u001b[0;34m\u001b[0m        \u001b[0;31m# Step 3: Translate transcript to target language using OpenAI\u001b[0m\u001b[0;34m\u001b[0m\n",
      "\u001b[0;34m\u001b[0m        \u001b[0mtranslated_transcript\u001b[0m \u001b[0;34m=\u001b[0m \u001b[0mtranslate_transcript\u001b[0m\u001b[0;34m(\u001b[0m\u001b[0mtranscript\u001b[0m\u001b[0;34m,\u001b[0m \u001b[0mtarget_language\u001b[0m\u001b[0;34m)\u001b[0m\u001b[0;34m\u001b[0m\n",
      "\u001b[0;34m\u001b[0m\u001b[0;34m\u001b[0m\n",
      "\u001b[0;34m\u001b[0m        \u001b[0;31m# Step 4: Calculate derived metrics such as transcript length and distinct speaker analysis\u001b[0m\u001b[0;34m\u001b[0m\n",
      "\u001b[0;34m\u001b[0m        \u001b[0mderived_metrics\u001b[0m \u001b[0;34m=\u001b[0m \u001b[0mderive_metrics\u001b[0m\u001b[0;34m(\u001b[0m\u001b[0mtranscript\u001b[0m\u001b[0;34m,\u001b[0m \u001b[0mlog\u001b[0m\u001b[0;34m)\u001b[0m\u001b[0;34m\u001b[0m\n",
      "\u001b[0;34m\u001b[0m\u001b[0;34m\u001b[0m\n",
      "\u001b[0;34m\u001b[0m        \u001b[0;31m# Build the final structured event data\u001b[0m\u001b[0;34m\u001b[0m\n",
      "\u001b[0;34m\u001b[0m        \u001b[0mprocessed_event\u001b[0m \u001b[0;34m=\u001b[0m \u001b[0;34m{\u001b[0m\u001b[0;34m\u001b[0m\n",
      "\u001b[0;34m\u001b[0m            \u001b[0;34m\"youtube_link\"\u001b[0m\u001b[0;34m:\u001b[0m \u001b[0myoutube_link\u001b[0m\u001b[0;34m,\u001b[0m\u001b[0;34m\u001b[0m\n",
      "\u001b[0;34m\u001b[0m            \u001b[0;34m\"translated_transcript\"\u001b[0m\u001b[0;34m:\u001b[0m \u001b[0mtranslated_transcript\u001b[0m\u001b[0;34m,\u001b[0m\u001b[0;34m\u001b[0m\n",
      "\u001b[0;34m\u001b[0m            \u001b[0;34m\"transcript_length_minutes\"\u001b[0m\u001b[0;34m:\u001b[0m \u001b[0mderived_metrics\u001b[0m\u001b[0;34m[\u001b[0m\u001b[0;34m\"transcript_length_minutes\"\u001b[0m\u001b[0;34m]\u001b[0m\u001b[0;34m,\u001b[0m\u001b[0;34m\u001b[0m\n",
      "\u001b[0;34m\u001b[0m            \u001b[0;34m\"number_of_speakers\"\u001b[0m\u001b[0;34m:\u001b[0m \u001b[0mderived_metrics\u001b[0m\u001b[0;34m[\u001b[0m\u001b[0;34m\"number_of_speakers\"\u001b[0m\u001b[0;34m]\u001b[0m\u001b[0;34m,\u001b[0m\u001b[0;34m\u001b[0m\n",
      "\u001b[0;34m\u001b[0m            \u001b[0;34m\"average_words_per_speaker\"\u001b[0m\u001b[0;34m:\u001b[0m \u001b[0mderived_metrics\u001b[0m\u001b[0;34m[\u001b[0m\u001b[0;34m\"average_words_per_speaker\"\u001b[0m\u001b[0;34m]\u001b[0m\u001b[0;34m,\u001b[0m\u001b[0;34m\u001b[0m\n",
      "\u001b[0;34m\u001b[0m        \u001b[0;34m}\u001b[0m\u001b[0;34m\u001b[0m\n",
      "\u001b[0;34m\u001b[0m\u001b[0;34m\u001b[0m\n",
      "\u001b[0;34m\u001b[0m        \u001b[0mlog\u001b[0m\u001b[0;34m.\u001b[0m\u001b[0minfo\u001b[0m\u001b[0;34m(\u001b[0m\u001b[0;34mf\"Processed event: {processed_event}\"\u001b[0m\u001b[0;34m)\u001b[0m\u001b[0;34m\u001b[0m\n",
      "\u001b[0;34m\u001b[0m        \u001b[0;32mreturn\u001b[0m \u001b[0mprocessed_event\u001b[0m\u001b[0;34m\u001b[0m\n",
      "\u001b[0;34m\u001b[0m\u001b[0;34m\u001b[0m\n",
      "\u001b[0;34m\u001b[0m    \u001b[0;32mexcept\u001b[0m \u001b[0mException\u001b[0m \u001b[0;32mas\u001b[0m \u001b[0me\u001b[0m\u001b[0;34m:\u001b[0m\u001b[0;34m\u001b[0m\n",
      "\u001b[0;34m\u001b[0m        \u001b[0mlog\u001b[0m\u001b[0;34m.\u001b[0m\u001b[0merror\u001b[0m\u001b[0;34m(\u001b[0m\u001b[0;34mf\"Error during YouTube transcript transformation: {e}\"\u001b[0m\u001b[0;34m)\u001b[0m\u001b[0;34m\u001b[0m\n",
      "\u001b[0;34m\u001b[0m        \u001b[0;32mraise\u001b[0m\u001b[0;34m\u001b[0m\n",
      "\u001b[0;34m\u001b[0m\u001b[0;34m\u001b[0m\n",
      "\u001b[0;34m\u001b[0m\u001b[0;34m\u001b[0m\n",
      "\u001b[0;34m\u001b[0m\u001b[0;31m# Step 2: Fetch YouTube Transcript\u001b[0m\u001b[0;34m\u001b[0m\n",
      "\u001b[0;34m\u001b[0m\u001b[0;34m\u001b[0m\n",
      "\u001b[0;34m\u001b[0m\u001b[0;34m\u001b[0m\n",
      "\u001b[0;34m\u001b[0m\u001b[0;32mdef\u001b[0m \u001b[0mget_transcription_from_youtube\u001b[0m\u001b[0;34m(\u001b[0m\u001b[0myoutube_link\u001b[0m\u001b[0;34m)\u001b[0m\u001b[0;34m:\u001b[0m\u001b[0;34m\u001b[0m\n",
      "\u001b[0;34m\u001b[0m    \u001b[0;34m\"\"\"\u001b[0m\n",
      "\u001b[0;34m    Fetches the transcript from a YouTube video using the video ID.\u001b[0m\n",
      "\u001b[0;34m    \"\"\"\u001b[0m\u001b[0;34m\u001b[0m\n",
      "\u001b[0;34m\u001b[0m    \u001b[0;32mtry\u001b[0m\u001b[0;34m:\u001b[0m\u001b[0;34m\u001b[0m\n",
      "\u001b[0;34m\u001b[0m        \u001b[0mvideo_id\u001b[0m \u001b[0;34m=\u001b[0m \u001b[0myoutube_link\u001b[0m\u001b[0;34m.\u001b[0m\u001b[0msplit\u001b[0m\u001b[0;34m(\u001b[0m\u001b[0;34m\"v=\"\u001b[0m\u001b[0;34m)\u001b[0m\u001b[0;34m[\u001b[0m\u001b[0;34m-\u001b[0m\u001b[0;36m1\u001b[0m\u001b[0;34m]\u001b[0m\u001b[0;34m\u001b[0m\n",
      "\u001b[0;34m\u001b[0m        \u001b[0mtranscript_list\u001b[0m \u001b[0;34m=\u001b[0m \u001b[0mYouTubeTranscriptApi\u001b[0m\u001b[0;34m.\u001b[0m\u001b[0mget_transcript\u001b[0m\u001b[0;34m(\u001b[0m\u001b[0mvideo_id\u001b[0m\u001b[0;34m)\u001b[0m\u001b[0;34m\u001b[0m\n",
      "\u001b[0;34m\u001b[0m\u001b[0;34m\u001b[0m\n",
      "\u001b[0;34m\u001b[0m        \u001b[0;31m# Convert transcript (list of dicts) to a string\u001b[0m\u001b[0;34m\u001b[0m\n",
      "\u001b[0;34m\u001b[0m        \u001b[0mtranscript_text\u001b[0m \u001b[0;34m=\u001b[0m \u001b[0;34m\" \"\u001b[0m\u001b[0;34m.\u001b[0m\u001b[0mjoin\u001b[0m\u001b[0;34m(\u001b[0m\u001b[0;34m[\u001b[0m\u001b[0mentry\u001b[0m\u001b[0;34m[\u001b[0m\u001b[0;34m\"text\"\u001b[0m\u001b[0;34m]\u001b[0m \u001b[0;32mfor\u001b[0m \u001b[0mentry\u001b[0m \u001b[0;32min\u001b[0m \u001b[0mtranscript_list\u001b[0m\u001b[0;34m]\u001b[0m\u001b[0;34m)\u001b[0m\u001b[0;34m\u001b[0m\n",
      "\u001b[0;34m\u001b[0m        \u001b[0;32mreturn\u001b[0m \u001b[0mtranscript_text\u001b[0m\u001b[0;34m\u001b[0m\n",
      "\u001b[0;34m\u001b[0m\u001b[0;34m\u001b[0m\n",
      "\u001b[0;34m\u001b[0m    \u001b[0;32mexcept\u001b[0m \u001b[0mException\u001b[0m \u001b[0;32mas\u001b[0m \u001b[0me\u001b[0m\u001b[0;34m:\u001b[0m\u001b[0;34m\u001b[0m\n",
      "\u001b[0;34m\u001b[0m        \u001b[0mprint\u001b[0m\u001b[0;34m(\u001b[0m\u001b[0;34mf\"Error fetching transcript: {e}\"\u001b[0m\u001b[0;34m)\u001b[0m\u001b[0;34m\u001b[0m\n",
      "\u001b[0;34m\u001b[0m        \u001b[0;32mreturn\u001b[0m \u001b[0;32mNone\u001b[0m\u001b[0;34m\u001b[0m\n",
      "\u001b[0;34m\u001b[0m\u001b[0;34m\u001b[0m\n",
      "\u001b[0;34m\u001b[0m\u001b[0;34m\u001b[0m\n",
      "\u001b[0;34m\u001b[0m\u001b[0;31m# Step 3: Translate Transcript Using OpenAI\u001b[0m\u001b[0;34m\u001b[0m\n",
      "\u001b[0;34m\u001b[0m\u001b[0;34m\u001b[0m\n",
      "\u001b[0;34m\u001b[0m\u001b[0;34m\u001b[0m\n",
      "\u001b[0;34m\u001b[0m\u001b[0;32mdef\u001b[0m \u001b[0mtranslate_transcript\u001b[0m\u001b[0;34m(\u001b[0m\u001b[0mtranscript\u001b[0m\u001b[0;34m,\u001b[0m \u001b[0mtarget_language\u001b[0m\u001b[0;34m)\u001b[0m\u001b[0;34m:\u001b[0m\u001b[0;34m\u001b[0m\n",
      "\u001b[0;34m\u001b[0m    \u001b[0;34m\"\"\"\u001b[0m\n",
      "\u001b[0;34m    Translate a video transcript into a target language using OpenAI GPT.\u001b[0m\n",
      "\u001b[0;34m\u001b[0m\n",
      "\u001b[0;34m    Parameters:\u001b[0m\n",
      "\u001b[0;34m    - transcript: The full transcript of the video.\u001b[0m\n",
      "\u001b[0;34m    - target_language: Language to translate the transcript into.\u001b[0m\n",
      "\u001b[0;34m\u001b[0m\n",
      "\u001b[0;34m    Returns:\u001b[0m\n",
      "\u001b[0;34m    - Translated transcript in the target language.\u001b[0m\n",
      "\u001b[0;34m    \"\"\"\u001b[0m\u001b[0;34m\u001b[0m\n",
      "\u001b[0;34m\u001b[0m    \u001b[0mresponse\u001b[0m \u001b[0;34m=\u001b[0m \u001b[0mopenai\u001b[0m\u001b[0;34m.\u001b[0m\u001b[0mchat\u001b[0m\u001b[0;34m.\u001b[0m\u001b[0mcompletions\u001b[0m\u001b[0;34m.\u001b[0m\u001b[0mcreate\u001b[0m\u001b[0;34m(\u001b[0m\u001b[0;34m\u001b[0m\n",
      "\u001b[0;34m\u001b[0m        \u001b[0mmodel\u001b[0m\u001b[0;34m=\u001b[0m\u001b[0;34m\"gpt-4o\"\u001b[0m\u001b[0;34m,\u001b[0m\u001b[0;34m\u001b[0m\n",
      "\u001b[0;34m\u001b[0m        \u001b[0mmessages\u001b[0m\u001b[0;34m=\u001b[0m\u001b[0;34m[\u001b[0m\u001b[0;34m\u001b[0m\n",
      "\u001b[0;34m\u001b[0m            \u001b[0;34m{\u001b[0m\u001b[0;34m\u001b[0m\n",
      "\u001b[0;34m\u001b[0m                \u001b[0;34m\"role\"\u001b[0m\u001b[0;34m:\u001b[0m \u001b[0;34m\"system\"\u001b[0m\u001b[0;34m,\u001b[0m\u001b[0;34m\u001b[0m\n",
      "\u001b[0;34m\u001b[0m                \u001b[0;34m\"content\"\u001b[0m\u001b[0;34m:\u001b[0m \u001b[0;34m\"You are a great to analyze YouTube videos.\"\u001b[0m\u001b[0;34m,\u001b[0m\u001b[0;34m\u001b[0m\n",
      "\u001b[0;34m\u001b[0m            \u001b[0;34m}\u001b[0m\u001b[0;34m,\u001b[0m\u001b[0;34m\u001b[0m\n",
      "\u001b[0;34m\u001b[0m            \u001b[0;34m{\u001b[0m\u001b[0;34m\u001b[0m\n",
      "\u001b[0;34m\u001b[0m                \u001b[0;34m\"role\"\u001b[0m\u001b[0;34m:\u001b[0m \u001b[0;34m\"user\"\u001b[0m\u001b[0;34m,\u001b[0m\u001b[0;34m\u001b[0m\n",
      "\u001b[0;34m\u001b[0m                \u001b[0;34m\"content\"\u001b[0m\u001b[0;34m:\u001b[0m \u001b[0;34mf\"Translate the following transcript into {target_language}:\\n\\n{transcript}\"\u001b[0m\u001b[0;34m,\u001b[0m\u001b[0;34m\u001b[0m\n",
      "\u001b[0;34m\u001b[0m            \u001b[0;34m}\u001b[0m\u001b[0;34m,\u001b[0m\u001b[0;34m\u001b[0m\n",
      "\u001b[0;34m\u001b[0m        \u001b[0;34m]\u001b[0m\u001b[0;34m,\u001b[0m\u001b[0;34m\u001b[0m\n",
      "\u001b[0;34m\u001b[0m        \u001b[0mmax_tokens\u001b[0m\u001b[0;34m=\u001b[0m\u001b[0;36m100\u001b[0m\u001b[0;34m,\u001b[0m\u001b[0;34m\u001b[0m\n",
      "\u001b[0;34m\u001b[0m        \u001b[0mtemperature\u001b[0m\u001b[0;34m=\u001b[0m\u001b[0;36m0.5\u001b[0m\u001b[0;34m,\u001b[0m\u001b[0;34m\u001b[0m\n",
      "\u001b[0;34m\u001b[0m    \u001b[0;34m)\u001b[0m\u001b[0;34m\u001b[0m\n",
      "\u001b[0;34m\u001b[0m\u001b[0;34m\u001b[0m\n",
      "\u001b[0;34m\u001b[0m    \u001b[0mtranslated_transcript\u001b[0m \u001b[0;34m=\u001b[0m \u001b[0mresponse\u001b[0m\u001b[0;34m.\u001b[0m\u001b[0mchoices\u001b[0m\u001b[0;34m[\u001b[0m\u001b[0;36m0\u001b[0m\u001b[0;34m]\u001b[0m\u001b[0;34m.\u001b[0m\u001b[0mmessage\u001b[0m\u001b[0;34m.\u001b[0m\u001b[0mcontent\u001b[0m\u001b[0;34m\u001b[0m\n",
      "\u001b[0;34m\u001b[0m    \u001b[0;32mreturn\u001b[0m \u001b[0mtranslated_transcript\u001b[0m\u001b[0;34m\u001b[0m\n",
      "\u001b[0;34m\u001b[0m\u001b[0;34m\u001b[0m\n",
      "\u001b[0;34m\u001b[0m\u001b[0;34m\u001b[0m\n",
      "\u001b[0;34m\u001b[0m\u001b[0;31m# Step 4: Calculate Derived Metrics\u001b[0m\u001b[0;34m\u001b[0m\n",
      "\u001b[0;34m\u001b[0m\u001b[0;32mdef\u001b[0m \u001b[0mderive_metrics\u001b[0m\u001b[0;34m(\u001b[0m\u001b[0mtranscript\u001b[0m\u001b[0;34m,\u001b[0m \u001b[0mlog\u001b[0m\u001b[0;34m)\u001b[0m\u001b[0;34m:\u001b[0m\u001b[0;34m\u001b[0m\n",
      "\u001b[0;34m\u001b[0m    \u001b[0;34m\"\"\"\u001b[0m\n",
      "\u001b[0;34m    Derive meaningful metrics from the transcript, such as transcript length (in minutes),\u001b[0m\n",
      "\u001b[0;34m    number of distinct speakers, and average words per speaker.\u001b[0m\n",
      "\u001b[0;34m\u001b[0m\n",
      "\u001b[0;34m    Parameters:\u001b[0m\n",
      "\u001b[0;34m    - transcript: The full transcript of the video.\u001b[0m\n",
      "\u001b[0;34m\u001b[0m\n",
      "\u001b[0;34m    Returns:\u001b[0m\n",
      "\u001b[0;34m    - Dictionary containing derived metrics such as transcript length, number of speakers,\u001b[0m\n",
      "\u001b[0;34m      and average words spoken per speaker.\u001b[0m\n",
      "\u001b[0;34m    \"\"\"\u001b[0m\u001b[0;34m\u001b[0m\n",
      "\u001b[0;34m\u001b[0m    \u001b[0mlog\u001b[0m\u001b[0;34m.\u001b[0m\u001b[0minfo\u001b[0m\u001b[0;34m(\u001b[0m\u001b[0;34m\"Calculating derived metrics from the transcript\"\u001b[0m\u001b[0;34m)\u001b[0m\u001b[0;34m\u001b[0m\n",
      "\u001b[0;34m\u001b[0m\u001b[0;34m\u001b[0m\n",
      "\u001b[0;34m\u001b[0m    \u001b[0;31m# Calculate transcript length (assuming 3 words per second)\u001b[0m\u001b[0;34m\u001b[0m\n",
      "\u001b[0;34m\u001b[0m    \u001b[0mword_count\u001b[0m \u001b[0;34m=\u001b[0m \u001b[0mlen\u001b[0m\u001b[0;34m(\u001b[0m\u001b[0mtranscript\u001b[0m\u001b[0;34m.\u001b[0m\u001b[0msplit\u001b[0m\u001b[0;34m(\u001b[0m\u001b[0;34m)\u001b[0m\u001b[0;34m)\u001b[0m\u001b[0;34m\u001b[0m\n",
      "\u001b[0;34m\u001b[0m    \u001b[0mtranscript_length_minutes\u001b[0m \u001b[0;34m=\u001b[0m \u001b[0mword_count\u001b[0m \u001b[0;34m/\u001b[0m \u001b[0;34m(\u001b[0m\u001b[0;36m3\u001b[0m \u001b[0;34m*\u001b[0m \u001b[0;36m60\u001b[0m\u001b[0;34m)\u001b[0m  \u001b[0;31m# 3 words per second\u001b[0m\u001b[0;34m\u001b[0m\n",
      "\u001b[0;34m\u001b[0m\u001b[0;34m\u001b[0m\n",
      "\u001b[0;34m\u001b[0m    \u001b[0;31m# Simulate the identification of distinct speakers (For simplicity, we'll assume we have 3 speakers)\u001b[0m\u001b[0;34m\u001b[0m\n",
      "\u001b[0;34m\u001b[0m    \u001b[0mnumber_of_speakers\u001b[0m \u001b[0;34m=\u001b[0m \u001b[0;34m(\u001b[0m\u001b[0;34m\u001b[0m\n",
      "\u001b[0;34m\u001b[0m        \u001b[0;36m3\u001b[0m  \u001b[0;31m# You can use advanced models to identify speakers from transcript\u001b[0m\u001b[0;34m\u001b[0m\n",
      "\u001b[0;34m\u001b[0m    \u001b[0;34m)\u001b[0m\u001b[0;34m\u001b[0m\n",
      "\u001b[0;34m\u001b[0m\u001b[0;34m\u001b[0m\n",
      "\u001b[0;34m\u001b[0m    \u001b[0;31m# Calculate average words spoken per speaker\u001b[0m\u001b[0;34m\u001b[0m\n",
      "\u001b[0;34m\u001b[0m    \u001b[0maverage_words_per_speaker\u001b[0m \u001b[0;34m=\u001b[0m \u001b[0mword_count\u001b[0m \u001b[0;34m/\u001b[0m \u001b[0mnumber_of_speakers\u001b[0m\u001b[0;34m\u001b[0m\n",
      "\u001b[0;34m\u001b[0m\u001b[0;34m\u001b[0m\n",
      "\u001b[0;34m\u001b[0m    \u001b[0mderived_metrics\u001b[0m \u001b[0;34m=\u001b[0m \u001b[0;34m{\u001b[0m\u001b[0;34m\u001b[0m\n",
      "\u001b[0;34m\u001b[0m        \u001b[0;34m\"transcript_length_minutes\"\u001b[0m\u001b[0;34m:\u001b[0m \u001b[0mround\u001b[0m\u001b[0;34m(\u001b[0m\u001b[0mtranscript_length_minutes\u001b[0m\u001b[0;34m,\u001b[0m \u001b[0;36m2\u001b[0m\u001b[0;34m)\u001b[0m\u001b[0;34m,\u001b[0m\u001b[0;34m\u001b[0m\n",
      "\u001b[0;34m\u001b[0m        \u001b[0;34m\"number_of_speakers\"\u001b[0m\u001b[0;34m:\u001b[0m \u001b[0mnumber_of_speakers\u001b[0m\u001b[0;34m,\u001b[0m\u001b[0;34m\u001b[0m\n",
      "\u001b[0;34m\u001b[0m        \u001b[0;34m\"average_words_per_speaker\"\u001b[0m\u001b[0;34m:\u001b[0m \u001b[0mround\u001b[0m\u001b[0;34m(\u001b[0m\u001b[0maverage_words_per_speaker\u001b[0m\u001b[0;34m,\u001b[0m \u001b[0;36m2\u001b[0m\u001b[0;34m)\u001b[0m\u001b[0;34m,\u001b[0m\u001b[0;34m\u001b[0m\n",
      "\u001b[0;34m\u001b[0m    \u001b[0;34m}\u001b[0m\u001b[0;34m\u001b[0m\n",
      "\u001b[0;34m\u001b[0m\u001b[0;34m\u001b[0m\n",
      "\u001b[0;34m\u001b[0m    \u001b[0;32mreturn\u001b[0m \u001b[0mderived_metrics\u001b[0m\u001b[0;34m\u001b[0m\u001b[0;34m\u001b[0m\u001b[0m\n"
     ]
    }
   ],
   "source": [
    "%pycat transform.py"
   ]
  },
  {
   "cell_type": "markdown",
   "id": "24a91730-3831-4702-8ebd-40a3651e08bf",
   "metadata": {},
   "source": [
    "### Requirements txt"
   ]
  },
  {
   "cell_type": "markdown",
   "id": "386779f6",
   "metadata": {},
   "source": [
    "Define external dependencies for the transformation function"
   ]
  },
  {
   "cell_type": "code",
   "execution_count": 7,
   "id": "f22c9e17-6cf3-4fff-9639-215ba9281cad",
   "metadata": {},
   "outputs": [
    {
     "name": "stdout",
     "output_type": "stream",
     "text": [
      "openai\n",
      "youtube_transcript_api\n"
     ]
    }
   ],
   "source": [
    "with open(\"requirements.txt\") as f:\n",
    "    requirements_txt = f.read()\n",
    "print(requirements_txt)"
   ]
  },
  {
   "cell_type": "markdown",
   "id": "49225418",
   "metadata": {},
   "source": [
    "### Environment variables"
   ]
  },
  {
   "cell_type": "code",
   "execution_count": 8,
   "id": "b49027ab",
   "metadata": {},
   "outputs": [],
   "source": [
    "env_vars = [{\n",
    "  \"name\": \"OPENAI_API_KEY\",\n",
    "  \"value\": OPENAI_API_KEY\n",
    "}]"
   ]
  },
  {
   "cell_type": "markdown",
   "id": "434cb081-ee24-47f8-9125-e2b660977f60",
   "metadata": {},
   "source": [
    "### Create Pipeline\n",
    "\n",
    "Create a pipeline for the video processing."
   ]
  },
  {
   "cell_type": "code",
   "execution_count": 9,
   "id": "16db3073-3327-4ae1-bea0-8608a4e5465d",
   "metadata": {
    "scrolled": true
   },
   "outputs": [
    {
     "name": "stdout",
     "output_type": "stream",
     "text": [
      "Pipeline created successfully with ID: a8ce1e13-6e55-4acb-b4ea-bd0958449e20\n",
      "Pipeline URL on GlassFlow UI to discover https://app.glassflow.dev/pipelines/a8ce1e13-6e55-4acb-b4ea-bd0958449e20 \n"
     ]
    }
   ],
   "source": [
    "pipeline_name = \"video-transcript-analysis\"\n",
    "\n",
    "pipeline = client.create_pipeline(\n",
    "    name=pipeline_name, \n",
    "    transformation_file='transform.py',\n",
    "    env_vars=env_vars,\n",
    "    space_id=space.id,\n",
    "    requirements=requirements_txt\n",
    ")\n",
    "print(f\"Pipeline created successfully with ID: {pipeline.id}\")\n",
    "print(\"Pipeline URL on GlassFlow UI to discover %s \"% f\"https://app.glassflow.dev/pipelines/{pipeline.id}\")"
   ]
  },
  {
   "cell_type": "markdown",
   "id": "fc710512-0ef0-404b-9007-40960882380c",
   "metadata": {},
   "source": [
    "## Step 3: Send events to the pipeline"
   ]
  },
  {
   "cell_type": "code",
   "execution_count": 14,
   "id": "2b4be642-0e7a-41bb-8edb-d2fec8c6d188",
   "metadata": {},
   "outputs": [
    {
     "name": "stdout",
     "output_type": "stream",
     "text": [
      "Publishing event 1: {'youtube_link': 'https://www.youtube.com/watch?v=dQw4w9WgXcQ', 'target_language': 'Spanish'}\n"
     ]
    }
   ],
   "source": [
    "data_source = pipeline.get_source()\n",
    "\n",
    "# Sample event data for testing, using different YouTube links and languages\n",
    "test_events = [\n",
    "    {\"youtube_link\": \"https://www.youtube.com/watch?v=dQw4w9WgXcQ\", \"target_language\": \"Spanish\"}\n",
    "]\n",
    "\n",
    "n_events = len(test_events)\n",
    "# Publish 10 unique events\n",
    "for i, event in enumerate(test_events):\n",
    "    print(f\"Publishing event {i+1}: {event}\")\n",
    "    data_source.publish(event)\n",
    "    time.sleep(1)  # Optional delay to simulate real-time event publishing\n"
   ]
  },
  {
   "cell_type": "markdown",
   "id": "545d6c9d-45aa-49bd-a8e3-6f48449ab892",
   "metadata": {},
   "source": [
    "## Step 4: Consume structured data from the pipeline\n",
    "\n",
    "Get pipeline data sink to consume the transformed events from the pipeline."
   ]
  },
  {
   "cell_type": "code",
   "execution_count": 15,
   "id": "13ecef72-87d5-46ec-bef3-131cd44847d9",
   "metadata": {},
   "outputs": [],
   "source": [
    "data_sink = pipeline.get_sink()"
   ]
  },
  {
   "cell_type": "code",
   "execution_count": 16,
   "id": "75443ac0-d2c5-4cbf-a6e1-391fefbb805e",
   "metadata": {},
   "outputs": [
    {
     "name": "stdout",
     "output_type": "stream",
     "text": [
      "{'youtube_link': 'https://www.youtube.com/watch?v=dQw4w9WgXcQ', 'translated_transcript': '[Music] No somos extraños al amor, conoces las reglas y yo también. Un compromiso total es lo que estoy pensando. No obtendrías esto de ningún otro chico. Solo quiero decirte cómo me siento, tengo que hacerte entender. Nunca te voy a abandonar, nunca te voy a decepcionar, nunca voy a correr y dejarte. Nunca te haré llorar, nunca te diré adiós, nunca te mentiré ni te haré daño.\\n\\nNos conocemos', 'transcript_length_minutes': 2.14, 'number_of_speakers': 3, 'average_words_per_speaker': 128.67}\n"
     ]
    }
   ],
   "source": [
    "output_events = []\n",
    "while True:\n",
    "    resp = data_sink.consume()\n",
    "    if resp.status_code == 200:\n",
    "        event = resp.json()\n",
    "        output_events.append(event)\n",
    "        print(event)\n",
    "    if len(output_events) == n_events:\n",
    "        # all events have been consumed\n",
    "        break\n",
    "\n",
    "# for event in output_events:\n",
    "#     print(event)"
   ]
  },
  {
   "cell_type": "markdown",
   "id": "6cec8def",
   "metadata": {},
   "source": [
    "## Monitor the pipeline\n",
    "\n",
    "Go to the pipeline logs you created and monitor real-time events."
   ]
  },
  {
   "cell_type": "code",
   "execution_count": 18,
   "id": "1aa6dbe7-5411-490e-9812-50c2ff613add",
   "metadata": {},
   "outputs": [
    {
     "name": "stdout",
     "output_type": "stream",
     "text": [
      "https://app.glassflow.dev/pipelines/a8ce1e13-6e55-4acb-b4ea-bd0958449e20/logs\n"
     ]
    }
   ],
   "source": [
    "## Explore the pipeline logs on the web-UI \n",
    "pipeline_url = f\"https://app.glassflow.dev/pipelines/{pipeline.id}/logs\"\n",
    "print(pipeline_url)"
   ]
  }
 ],
 "metadata": {
  "kernelspec": {
   "display_name": "Python 3",
   "language": "python",
   "name": "python3"
  },
  "language_info": {
   "codemirror_mode": {
    "name": "ipython",
    "version": 3
   },
   "file_extension": ".py",
   "mimetype": "text/x-python",
   "name": "python",
   "nbconvert_exporter": "python",
   "pygments_lexer": "ipython3",
   "version": "3.11.9"
  }
 },
 "nbformat": 4,
 "nbformat_minor": 5
}
