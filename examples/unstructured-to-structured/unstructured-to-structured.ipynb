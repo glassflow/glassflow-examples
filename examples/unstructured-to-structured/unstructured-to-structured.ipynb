{
 "cells": [
  {
   "cell_type": "markdown",
   "id": "75eb080b-c0fa-4d23-a257-49a9d22fb1f6",
   "metadata": {},
   "source": [
    "# Transform unstructured data to structured in real-time\n",
    "\n",
    "Media companies want to extract key information from livestreamed events for subtitles, translations, and content summaries but doing this manually or with bactch processing causes delays. This project showcases how to use GlassFlow for real-time extraction, transformation, and translation of YouTube video data. The handler extracts key topics from the video transcript, generates meaningful insights, and translates the transcript into any specified language. \n",
    "\n",
    "### Features\n",
    "1. Extract video transcript from YouTube.\n",
    "2. Process the data to extract topics and other meaningful data (identifies key metrics such as the number of speakers and the total duration of the spoken content).\n",
    "3. Translate the transcript into the user's preferred language (for example, from English to Spanish).\n",
    "4. Return structured data and derived metrics.\n",
    "\n",
    "\n",
    "## Pre-requisites\n",
    "\n",
    "- Create your free GlassFlow account via the [GlassFlow WebApp](https://app.glassflow.dev).\n",
    "- Get your [Personal Access Token](https://app.glassflow.dev/profile) to authorize the Python SDK to interact with GlassFlow Cloud.\n",
    "- Get your OpenAI API Key https://platform.openai.com/."
   ]
  },
  {
   "cell_type": "markdown",
   "id": "e080f5db",
   "metadata": {},
   "source": [
    "## Step 1: Install GlassFlow and import"
   ]
  },
  {
   "cell_type": "code",
   "execution_count": null,
   "id": "5cc3f293",
   "metadata": {},
   "outputs": [],
   "source": [
    "%pip install \"glassflow>=2.0.8\""
   ]
  },
  {
   "cell_type": "code",
   "execution_count": null,
   "id": "cdc80623",
   "metadata": {},
   "outputs": [],
   "source": [
    "import glassflow\n",
    "import time"
   ]
  },
  {
   "cell_type": "markdown",
   "id": "543435a8-4252-4340-b25d-933c54a597d1",
   "metadata": {},
   "source": [
    "## Step 2: Create GlassFlow Pipeline"
   ]
  },
  {
   "cell_type": "code",
   "execution_count": null,
   "id": "0742216b-c5ba-4f2c-a35a-94df544dcb55",
   "metadata": {},
   "outputs": [],
   "source": [
    "# Set personal access token from your GlassFlow account and OpenAI API key\n",
    "personal_access_token = \"\"\n",
    "OPENAI_API_KEY = \"\""
   ]
  },
  {
   "cell_type": "code",
   "execution_count": null,
   "id": "5c661c06-1c8d-4cc6-9ec0-59a1808418a2",
   "metadata": {},
   "outputs": [],
   "source": [
    "# Create a GlassFlow client\n",
    "client = glassflow.GlassFlowClient(\n",
    "    personal_access_token=personal_access_token\n",
    ")"
   ]
  },
  {
   "cell_type": "code",
   "execution_count": null,
   "id": "c63e991f-ea82-49a5-9108-96345de36da5",
   "metadata": {
    "scrolled": true
   },
   "outputs": [],
   "source": [
    "# Get the space named \"unstructured-to-structured\" (or create one if no space is found)\n",
    "list_spaces = client.list_spaces()\n",
    "\n",
    "space_name = \"unstructured-to-structured\"\n",
    "for s in list_spaces.spaces:\n",
    "    if s[\"name\"] == space_name:\n",
    "        space = glassflow.Space(\n",
    "            personal_access_token=client.personal_access_token,\n",
    "            id=s[\"id\"], \n",
    "            name=s[\"name\"]\n",
    "        )\n",
    "        break\n",
    "else:\n",
    "    space = client.create_space(name=space_name)\n",
    "\n",
    "print(f\"Created space {space.name} with ID: {space.id}\")"
   ]
  },
  {
   "cell_type": "markdown",
   "id": "929b0a7b-38c2-400d-a663-118c86e6806a",
   "metadata": {},
   "source": [
    "### Transformation Function"
   ]
  },
  {
   "cell_type": "code",
   "execution_count": null,
   "id": "c0e471e2-d77a-4a0e-9e26-59525fb5eaeb",
   "metadata": {},
   "outputs": [],
   "source": [
    "%pycat transform.py"
   ]
  },
  {
   "cell_type": "markdown",
   "id": "24a91730-3831-4702-8ebd-40a3651e08bf",
   "metadata": {},
   "source": [
    "### Requirements txt"
   ]
  },
  {
   "cell_type": "markdown",
   "id": "386779f6",
   "metadata": {},
   "source": [
    "Define external dependencies for the transformation function"
   ]
  },
  {
   "cell_type": "code",
   "execution_count": null,
   "id": "f22c9e17-6cf3-4fff-9639-215ba9281cad",
   "metadata": {},
   "outputs": [],
   "source": [
    "with open(\"requirements.txt\") as f:\n",
    "    requirements_txt = f.read()\n",
    "print(requirements_txt)"
   ]
  },
  {
   "cell_type": "markdown",
   "id": "49225418",
   "metadata": {},
   "source": [
    "### Environment variables"
   ]
  },
  {
   "cell_type": "code",
   "execution_count": null,
   "id": "b49027ab",
   "metadata": {},
   "outputs": [],
   "source": [
    "env_vars = [{\n",
    "  \"name\": \"OPENAI_API_KEY\",\n",
    "  \"value\": OPENAI_API_KEY\n",
    "}]"
   ]
  },
  {
   "cell_type": "markdown",
   "id": "434cb081-ee24-47f8-9125-e2b660977f60",
   "metadata": {},
   "source": [
    "### Create Pipeline\n",
    "\n",
    "Create a pipeline for the video processing."
   ]
  },
  {
   "cell_type": "code",
   "execution_count": null,
   "id": "16db3073-3327-4ae1-bea0-8608a4e5465d",
   "metadata": {
    "scrolled": true
   },
   "outputs": [],
   "source": [
    "pipeline_name = \"video-transcript-analysis\"\n",
    "\n",
    "pipeline = client.create_pipeline(\n",
    "    name=pipeline_name, \n",
    "    transformation_file='transform.py',\n",
    "    env_vars=env_vars,\n",
    "    space_id=space.id,\n",
    "    requirements=requirements_txt\n",
    ")\n",
    "print(f\"Pipeline created successfully with ID: {pipeline.id}\")\n",
    "print(\"Pipeline URL on GlassFlow UI to discover %s \"% f\"https://app.glassflow.dev/pipelines/{pipeline.id}\")"
   ]
  },
  {
   "cell_type": "markdown",
   "id": "fc710512-0ef0-404b-9007-40960882380c",
   "metadata": {},
   "source": [
    "## Step 3: Send events to the pipeline"
   ]
  },
  {
   "cell_type": "code",
   "execution_count": null,
   "id": "2b4be642-0e7a-41bb-8edb-d2fec8c6d188",
   "metadata": {},
   "outputs": [],
   "source": [
    "data_source = pipeline.get_source()\n",
    "\n",
    "# Sample event data for testing, using different YouTube links and languages\n",
    "test_events = [\n",
    "    {\"youtube_link\": \"https://www.youtube.com/watch?v=dQw4w9WgXcQ\", \"target_language\": \"Spanish\"}\n",
    "]\n",
    "\n",
    "n_events = len(test_events)\n",
    "# Publish 10 unique events\n",
    "for i, event in enumerate(test_events):\n",
    "    print(f\"Publishing event {i+1}: {event}\")\n",
    "    data_source.publish(event)\n",
    "    time.sleep(1)  # Optional delay to simulate real-time event publishing\n"
   ]
  },
  {
   "cell_type": "markdown",
   "id": "545d6c9d-45aa-49bd-a8e3-6f48449ab892",
   "metadata": {},
   "source": [
    "## Step 4: Consume structured data from the pipeline\n",
    "\n",
    "Get pipeline data sink to consume the transformed events from the pipeline."
   ]
  },
  {
   "cell_type": "code",
   "execution_count": null,
   "id": "13ecef72-87d5-46ec-bef3-131cd44847d9",
   "metadata": {},
   "outputs": [],
   "source": [
    "data_sink = pipeline.get_sink()"
   ]
  },
  {
   "cell_type": "code",
   "execution_count": null,
   "id": "75443ac0-d2c5-4cbf-a6e1-391fefbb805e",
   "metadata": {},
   "outputs": [],
   "source": [
    "output_events = []\n",
    "while True:\n",
    "    resp = data_sink.consume()\n",
    "    if resp.status_code == 200:\n",
    "        event = resp.json()\n",
    "        output_events.append(event)\n",
    "        print(event)\n",
    "    if len(output_events) == n_events:\n",
    "        # all events have been consumed\n",
    "        break\n",
    "\n",
    "# for event in output_events:\n",
    "#     print(event)"
   ]
  },
  {
   "cell_type": "markdown",
   "id": "6cec8def",
   "metadata": {},
   "source": [
    "## Monitor the pipeline\n",
    "\n",
    "Go to the pipeline logs you created and monitor real-time events."
   ]
  },
  {
   "cell_type": "code",
   "execution_count": null,
   "id": "1aa6dbe7-5411-490e-9812-50c2ff613add",
   "metadata": {},
   "outputs": [],
   "source": [
    "## Explore the pipeline logs on the web-UI \n",
    "pipeline_url = f\"https://app.glassflow.dev/pipelines/{pipeline.id}/logs\"\n",
    "print(pipeline_url)"
   ]
  }
 ],
 "metadata": {
  "kernelspec": {
   "display_name": "Python 3 (ipykernel)",
   "language": "python",
   "name": "python3"
  },
  "language_info": {
   "codemirror_mode": {
    "name": "ipython",
    "version": 3
   },
   "file_extension": ".py",
   "mimetype": "text/x-python",
   "name": "python",
   "nbconvert_exporter": "python",
   "pygments_lexer": "ipython3",
   "version": "3.9.6"
  }
 },
 "nbformat": 4,
 "nbformat_minor": 5
}
