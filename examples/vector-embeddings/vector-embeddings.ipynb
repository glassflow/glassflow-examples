{
 "cells": [
  {
   "cell_type": "markdown",
   "metadata": {},
   "source": [
    "# Vector Embeddings\n",
    "\n",
    "This example shows how to use GlassFlow to enrich events data with vector embeddings by calling an embeddings model endpoint.\n",
    "\n",
    "## Pre-requisites\n",
    "\n",
    "- Create your free GlassFlow account via the [GlassFlow WebApp](https://app.glassflow.dev).\n",
    "- Get your [Personal Access Token](https://app.glassflow.dev/profile) to authorize the Python SDK to interact with GlassFlow Cloud.\n",
    "- Set up Vertex AI in GCP\n",
    "    - Enable the VertexAI model you want to use (`text-embedding-004` in our case)    \n",
    "    - Get your GCP service account credentials JSON with permissions `aiplatform.endpoints.predict`\n",
    "- Have a pinecone index to sink the vectors into\n"
   ]
  },
  {
   "cell_type": "code",
   "metadata": {
    "ExecuteTime": {
     "end_time": "2024-12-18T15:25:28.917767Z",
     "start_time": "2024-12-18T15:25:28.235956Z"
    }
   },
   "source": "%pip install \"glassflow>=2.0.8\" pandas Faker",
   "outputs": [
    {
     "name": "stdout",
     "output_type": "stream",
     "text": [
      "Requirement already satisfied: glassflow>=2.0.8 in /Users/pablopardogarcia/.virtualenvs/glassflow-examples-/lib/python3.9/site-packages (2.0.8)\r\n",
      "Requirement already satisfied: pandas in /Users/pablopardogarcia/.virtualenvs/glassflow-examples-/lib/python3.9/site-packages (2.2.3)\r\n",
      "Requirement already satisfied: Faker in /Users/pablopardogarcia/.virtualenvs/glassflow-examples-/lib/python3.9/site-packages (30.1.0)\r\n",
      "Requirement already satisfied: urllib3==1.26.15 in /Users/pablopardogarcia/.virtualenvs/glassflow-examples-/lib/python3.9/site-packages (from glassflow>=2.0.8) (1.26.15)\r\n",
      "Requirement already satisfied: certifi>=2023.7.22 in /Users/pablopardogarcia/.virtualenvs/glassflow-examples-/lib/python3.9/site-packages (from glassflow>=2.0.8) (2024.8.30)\r\n",
      "Requirement already satisfied: charset-normalizer>=3.2.0 in /Users/pablopardogarcia/.virtualenvs/glassflow-examples-/lib/python3.9/site-packages (from glassflow>=2.0.8) (3.3.2)\r\n",
      "Requirement already satisfied: dataclasses-json>=0.6.4 in /Users/pablopardogarcia/.virtualenvs/glassflow-examples-/lib/python3.9/site-packages (from glassflow>=2.0.8) (0.6.7)\r\n",
      "Requirement already satisfied: idna>=3.4 in /Users/pablopardogarcia/.virtualenvs/glassflow-examples-/lib/python3.9/site-packages (from glassflow>=2.0.8) (3.10)\r\n",
      "Requirement already satisfied: jsonpath-python>=1.0.6 in /Users/pablopardogarcia/.virtualenvs/glassflow-examples-/lib/python3.9/site-packages (from glassflow>=2.0.8) (1.0.6)\r\n",
      "Requirement already satisfied: marshmallow>=3.19.0 in /Users/pablopardogarcia/.virtualenvs/glassflow-examples-/lib/python3.9/site-packages (from glassflow>=2.0.8) (3.22.0)\r\n",
      "Requirement already satisfied: mypy-extensions>=1.0.0 in /Users/pablopardogarcia/.virtualenvs/glassflow-examples-/lib/python3.9/site-packages (from glassflow>=2.0.8) (1.0.0)\r\n",
      "Requirement already satisfied: packaging>=23.1 in /Users/pablopardogarcia/.virtualenvs/glassflow-examples-/lib/python3.9/site-packages (from glassflow>=2.0.8) (24.1)\r\n",
      "Requirement already satisfied: python-dateutil>=2.8.2 in /Users/pablopardogarcia/.virtualenvs/glassflow-examples-/lib/python3.9/site-packages (from glassflow>=2.0.8) (2.9.0.post0)\r\n",
      "Requirement already satisfied: requests>=2.31.0 in /Users/pablopardogarcia/.virtualenvs/glassflow-examples-/lib/python3.9/site-packages (from glassflow>=2.0.8) (2.32.3)\r\n",
      "Requirement already satisfied: six>=1.16.0 in /Users/pablopardogarcia/.virtualenvs/glassflow-examples-/lib/python3.9/site-packages (from glassflow>=2.0.8) (1.16.0)\r\n",
      "Requirement already satisfied: typing-inspect>=0.9.0 in /Users/pablopardogarcia/.virtualenvs/glassflow-examples-/lib/python3.9/site-packages (from glassflow>=2.0.8) (0.9.0)\r\n",
      "Requirement already satisfied: typing_extensions>=4.7.1 in /Users/pablopardogarcia/.virtualenvs/glassflow-examples-/lib/python3.9/site-packages (from glassflow>=2.0.8) (4.12.2)\r\n",
      "Requirement already satisfied: python-dotenv==1.0.1 in /Users/pablopardogarcia/.virtualenvs/glassflow-examples-/lib/python3.9/site-packages (from glassflow>=2.0.8) (1.0.1)\r\n",
      "Requirement already satisfied: numpy>=1.22.4 in /Users/pablopardogarcia/.virtualenvs/glassflow-examples-/lib/python3.9/site-packages (from pandas) (2.0.2)\r\n",
      "Requirement already satisfied: pytz>=2020.1 in /Users/pablopardogarcia/.virtualenvs/glassflow-examples-/lib/python3.9/site-packages (from pandas) (2024.2)\r\n",
      "Requirement already satisfied: tzdata>=2022.7 in /Users/pablopardogarcia/.virtualenvs/glassflow-examples-/lib/python3.9/site-packages (from pandas) (2024.2)\r\n",
      "\r\n",
      "\u001B[1m[\u001B[0m\u001B[34;49mnotice\u001B[0m\u001B[1;39;49m]\u001B[0m\u001B[39;49m A new release of pip is available: \u001B[0m\u001B[31;49m24.2\u001B[0m\u001B[39;49m -> \u001B[0m\u001B[32;49m24.3.1\u001B[0m\r\n",
      "\u001B[1m[\u001B[0m\u001B[34;49mnotice\u001B[0m\u001B[1;39;49m]\u001B[0m\u001B[39;49m To update, run: \u001B[0m\u001B[32;49mpip install --upgrade pip\u001B[0m\r\n",
      "Note: you may need to restart the kernel to use updated packages.\n"
     ]
    }
   ],
   "execution_count": 1
  },
  {
   "cell_type": "code",
   "metadata": {
    "ExecuteTime": {
     "end_time": "2024-12-18T15:25:28.978764Z",
     "start_time": "2024-12-18T15:25:28.918876Z"
    }
   },
   "source": [
    "import glassflow"
   ],
   "outputs": [],
   "execution_count": 2
  },
  {
   "cell_type": "code",
   "metadata": {
    "ExecuteTime": {
     "end_time": "2024-12-18T16:02:54.208502Z",
     "start_time": "2024-12-18T16:02:54.203476Z"
    }
   },
   "source": [
    "# fill credentials\n",
    "# Please edit this variable with your own personal access token from https://app.glassflow.dev/profile\n",
    "personal_access_token = \"\"\n",
    "MODEL_ID = \"text-embedding-004\"\n",
    "GCP_PROJECT_ID = \"\"\n",
    "GCP_REGION = \"us-central1\"\n",
    "GCP_SERVICE_ACCOUNT_JSON = \"\"  # Service account credentials JSON string\n",
    "PINECONE_HOST = \"\"\n",
    "PINECONE_API_KEY = \"\"\n",
    "PINECONE_INDEX_HOST = \"\""
   ],
   "outputs": [],
   "execution_count": 43
  },
  {
   "cell_type": "markdown",
   "metadata": {},
   "source": [
    "## Create Pipeline"
   ]
  },
  {
   "cell_type": "code",
   "metadata": {
    "ExecuteTime": {
     "end_time": "2024-12-18T16:02:55.129445Z",
     "start_time": "2024-12-18T16:02:55.125514Z"
    }
   },
   "source": [
    "client = glassflow.GlassFlowClient(\n",
    "    personal_access_token=personal_access_token\n",
    ")"
   ],
   "outputs": [],
   "execution_count": 44
  },
  {
   "cell_type": "code",
   "metadata": {
    "ExecuteTime": {
     "end_time": "2024-12-18T16:02:55.599768Z",
     "start_time": "2024-12-18T16:02:55.447113Z"
    }
   },
   "source": [
    "# Get the space named \"examples\" (or create one if no space is found)\n",
    "list_spaces = client.list_spaces()\n",
    "\n",
    "space_name = \"examples\"\n",
    "for s in list_spaces.spaces:\n",
    "    if s[\"name\"] == space_name:\n",
    "        space = glassflow.Space(\n",
    "            personal_access_token=client.personal_access_token,\n",
    "            id=s[\"id\"], \n",
    "            name=s[\"name\"]\n",
    "        )\n",
    "        break\n",
    "else:\n",
    "    space = client.create_space(name=space_name)\n",
    "\n",
    "print(f\"Space \\\"{space.name}\\\" with ID: {space.id}\")"
   ],
   "outputs": [
    {
     "name": "stdout",
     "output_type": "stream",
     "text": [
      "Space \"examples\" with ID: ebfb6a52-ff0e-4515-ae3b-53ecbee10029\n"
     ]
    }
   ],
   "execution_count": 45
  },
  {
   "cell_type": "markdown",
   "metadata": {},
   "source": [
    "### Transformation Function"
   ]
  },
  {
   "cell_type": "code",
   "metadata": {
    "ExecuteTime": {
     "end_time": "2024-12-18T16:02:56.336884Z",
     "start_time": "2024-12-18T16:02:56.330601Z"
    }
   },
   "source": [
    "%pycat transform.py"
   ],
   "outputs": [],
   "execution_count": 46
  },
  {
   "cell_type": "markdown",
   "metadata": {},
   "source": [
    "### Env Variables needed for transformation"
   ]
  },
  {
   "cell_type": "code",
   "metadata": {
    "ExecuteTime": {
     "end_time": "2024-12-18T16:02:57.296177Z",
     "start_time": "2024-12-18T16:02:57.294138Z"
    }
   },
   "source": [
    "env_vars = [\n",
    "    {\n",
    "        \"name\": \"MODEL_ID\",\n",
    "        \"value\": MODEL_ID\n",
    "    },\n",
    "    {\n",
    "        \"name\": \"GCP_PROJECT_ID\",\n",
    "        \"value\": GCP_PROJECT_ID\n",
    "    },\n",
    "    {\n",
    "        \"name\": \"GCP_REGION\",\n",
    "        \"value\": GCP_REGION\n",
    "    },\n",
    "    {\n",
    "        \"name\": \"GCP_SERVICE_ACCOUNT_JSON\",\n",
    "        \"value\": GCP_SERVICE_ACCOUNT_JSON\n",
    "    },\n",
    "]"
   ],
   "outputs": [],
   "execution_count": 47
  },
  {
   "cell_type": "markdown",
   "metadata": {},
   "source": [
    "### Requirements txt"
   ]
  },
  {
   "cell_type": "code",
   "metadata": {
    "ExecuteTime": {
     "end_time": "2024-12-18T16:02:58.254025Z",
     "start_time": "2024-12-18T16:02:58.250921Z"
    }
   },
   "source": [
    "with open(\"requirements.txt\") as f:\n",
    "    requirements_txt = f.read()\n",
    "display(requirements_txt)"
   ],
   "outputs": [
    {
     "data": {
      "text/plain": [
       "'google-cloud-aiplatform'"
      ]
     },
     "metadata": {},
     "output_type": "display_data"
    }
   ],
   "execution_count": 48
  },
  {
   "cell_type": "markdown",
   "metadata": {},
   "source": [
    "### Create Pipeline"
   ]
  },
  {
   "cell_type": "code",
   "metadata": {
    "ExecuteTime": {
     "end_time": "2024-12-18T16:11:38.577607Z",
     "start_time": "2024-12-18T16:11:38.069334Z"
    }
   },
   "source": [
    "pipeline_name = \"vector-embeddings-example\"\n",
    "\n",
    "pipeline = client.create_pipeline(\n",
    "    name=pipeline_name, \n",
    "    transformation_file='transform.py',\n",
    "    space_id=space.id, \n",
    "    env_vars=env_vars, \n",
    "    requirements=requirements_txt,\n",
    "    sink_kind=\"pinecone_json\",\n",
    "    sink_config={\n",
    "        \"api_host\": PINECONE_HOST,\n",
    "        \"api_key\": PINECONE_API_KEY,\n",
    "        \"index_host\": PINECONE_INDEX_HOST,\n",
    "    }\n",
    ")\n",
    "print(\"Pipeline ID:\", pipeline.id)"
   ],
   "outputs": [
    {
     "name": "stdout",
     "output_type": "stream",
     "text": [
      "Pipeline ID: 7cbd5723-d1ab-4b73-a4c7-6badb41d5116\n"
     ]
    }
   ],
   "execution_count": 65
  },
  {
   "cell_type": "markdown",
   "metadata": {},
   "source": [
    "## Produce data and send it to your pipeline"
   ]
  },
  {
   "cell_type": "markdown",
   "metadata": {},
   "source": [
    "### Create a dummy data generator using python faker library"
   ]
  },
  {
   "cell_type": "code",
   "metadata": {
    "ExecuteTime": {
     "end_time": "2024-12-18T16:11:39.013639Z",
     "start_time": "2024-12-18T16:11:39.010541Z"
    }
   },
   "source": [
    "from faker import Faker\n",
    "\n",
    "def geo_data_generator():\n",
    "    fake = Faker()\n",
    "    return {\n",
    "        'content': fake.text(max_nb_chars=1000),\n",
    "        'id': fake.uuid4()\n",
    "    }"
   ],
   "outputs": [],
   "execution_count": 66
  },
  {
   "cell_type": "code",
   "metadata": {
    "ExecuteTime": {
     "end_time": "2024-12-18T16:11:39.406245Z",
     "start_time": "2024-12-18T16:11:39.401897Z"
    }
   },
   "source": [
    "### Get pipeline data source object to publish events to the pipeline"
   ],
   "outputs": [],
   "execution_count": 67
  },
  {
   "cell_type": "code",
   "metadata": {
    "ExecuteTime": {
     "end_time": "2024-12-18T16:11:39.716197Z",
     "start_time": "2024-12-18T16:11:39.712444Z"
    }
   },
   "source": [
    "data_source = pipeline.get_source()"
   ],
   "outputs": [],
   "execution_count": 68
  },
  {
   "cell_type": "code",
   "metadata": {
    "ExecuteTime": {
     "end_time": "2024-12-18T16:11:40.881342Z",
     "start_time": "2024-12-18T16:11:40.008519Z"
    }
   },
   "source": [
    "# Generate some data and send it to the pipeline. Store it locally to compare\n",
    "n_events = 10\n",
    "input_events = []\n",
    "for i in range(n_events):\n",
    "    event = geo_data_generator()\n",
    "    input_events.append(event)\n",
    "    data_source.publish(event)"
   ],
   "outputs": [],
   "execution_count": 69
  },
  {
   "cell_type": "code",
   "metadata": {
    "ExecuteTime": {
     "end_time": "2024-12-18T16:11:41.040211Z",
     "start_time": "2024-12-18T16:11:41.037432Z"
    }
   },
   "source": [
    "## Display data sent to the pipeline"
   ],
   "outputs": [],
   "execution_count": 70
  },
  {
   "cell_type": "code",
   "metadata": {
    "ExecuteTime": {
     "end_time": "2024-12-18T16:11:41.383034Z",
     "start_time": "2024-12-18T16:11:41.371081Z"
    }
   },
   "source": [
    "import pandas as pd\n",
    "\n",
    "display(pd.DataFrame(input_events))"
   ],
   "outputs": [
    {
     "data": {
      "text/plain": [
       "                                             content  \\\n",
       "0  Say own any bad method society edge. Full peop...   \n",
       "1  Generation find prove whole. Economic sister c...   \n",
       "2  Mind leg area rate. Rise religious happy.\\nAge...   \n",
       "3  Artist wife should such avoid. Similar another...   \n",
       "4  West several right peace glass. Finally imagin...   \n",
       "5  Study far discover threat himself. Same positi...   \n",
       "6  Continue like bag conference.\\nSource every tr...   \n",
       "7  Actually evidence PM reason research pretty ru...   \n",
       "8  Huge on boy each customer prove. Series whose ...   \n",
       "9  Media move professor example indicate product ...   \n",
       "\n",
       "                                     id  \n",
       "0  4e428baa-7d3d-4cf3-a354-7098f607a770  \n",
       "1  ecb003b7-44c6-419a-bc3e-2bed2d5f444d  \n",
       "2  3f4409e7-0106-4ca0-8a9e-6fa6488813ce  \n",
       "3  5a595aa4-2ab7-45c8-b8ba-e2826d4517de  \n",
       "4  d98c8808-5d2f-4168-a262-ca06c5fa497e  \n",
       "5  5d462614-deae-42e3-ad59-5a0127a798e2  \n",
       "6  a4815529-3834-4119-9a83-56537d87ccca  \n",
       "7  646cbc0a-c32d-4498-8250-c91cf8a5bc09  \n",
       "8  e21a07a3-3411-431b-81f1-22d661463e9f  \n",
       "9  e24d9844-d1d3-4d7d-aa9e-7a46c9aedd59  "
      ],
      "text/html": [
       "<div>\n",
       "<style scoped>\n",
       "    .dataframe tbody tr th:only-of-type {\n",
       "        vertical-align: middle;\n",
       "    }\n",
       "\n",
       "    .dataframe tbody tr th {\n",
       "        vertical-align: top;\n",
       "    }\n",
       "\n",
       "    .dataframe thead th {\n",
       "        text-align: right;\n",
       "    }\n",
       "</style>\n",
       "<table border=\"1\" class=\"dataframe\">\n",
       "  <thead>\n",
       "    <tr style=\"text-align: right;\">\n",
       "      <th></th>\n",
       "      <th>content</th>\n",
       "      <th>id</th>\n",
       "    </tr>\n",
       "  </thead>\n",
       "  <tbody>\n",
       "    <tr>\n",
       "      <th>0</th>\n",
       "      <td>Say own any bad method society edge. Full peop...</td>\n",
       "      <td>4e428baa-7d3d-4cf3-a354-7098f607a770</td>\n",
       "    </tr>\n",
       "    <tr>\n",
       "      <th>1</th>\n",
       "      <td>Generation find prove whole. Economic sister c...</td>\n",
       "      <td>ecb003b7-44c6-419a-bc3e-2bed2d5f444d</td>\n",
       "    </tr>\n",
       "    <tr>\n",
       "      <th>2</th>\n",
       "      <td>Mind leg area rate. Rise religious happy.\\nAge...</td>\n",
       "      <td>3f4409e7-0106-4ca0-8a9e-6fa6488813ce</td>\n",
       "    </tr>\n",
       "    <tr>\n",
       "      <th>3</th>\n",
       "      <td>Artist wife should such avoid. Similar another...</td>\n",
       "      <td>5a595aa4-2ab7-45c8-b8ba-e2826d4517de</td>\n",
       "    </tr>\n",
       "    <tr>\n",
       "      <th>4</th>\n",
       "      <td>West several right peace glass. Finally imagin...</td>\n",
       "      <td>d98c8808-5d2f-4168-a262-ca06c5fa497e</td>\n",
       "    </tr>\n",
       "    <tr>\n",
       "      <th>5</th>\n",
       "      <td>Study far discover threat himself. Same positi...</td>\n",
       "      <td>5d462614-deae-42e3-ad59-5a0127a798e2</td>\n",
       "    </tr>\n",
       "    <tr>\n",
       "      <th>6</th>\n",
       "      <td>Continue like bag conference.\\nSource every tr...</td>\n",
       "      <td>a4815529-3834-4119-9a83-56537d87ccca</td>\n",
       "    </tr>\n",
       "    <tr>\n",
       "      <th>7</th>\n",
       "      <td>Actually evidence PM reason research pretty ru...</td>\n",
       "      <td>646cbc0a-c32d-4498-8250-c91cf8a5bc09</td>\n",
       "    </tr>\n",
       "    <tr>\n",
       "      <th>8</th>\n",
       "      <td>Huge on boy each customer prove. Series whose ...</td>\n",
       "      <td>e21a07a3-3411-431b-81f1-22d661463e9f</td>\n",
       "    </tr>\n",
       "    <tr>\n",
       "      <th>9</th>\n",
       "      <td>Media move professor example indicate product ...</td>\n",
       "      <td>e24d9844-d1d3-4d7d-aa9e-7a46c9aedd59</td>\n",
       "    </tr>\n",
       "  </tbody>\n",
       "</table>\n",
       "</div>"
      ]
     },
     "metadata": {},
     "output_type": "display_data"
    }
   ],
   "execution_count": 71
  },
  {
   "cell_type": "markdown",
   "metadata": {},
   "source": [
    "## Check your Pinecone index \n",
    "\n",
    "Have a look at the newly added documents to your Pinecone index."
   ]
  },
  {
   "cell_type": "markdown",
   "metadata": {},
   "source": [
    "## Explore the pipeline on the web-UI\n"
   ]
  },
  {
   "cell_type": "code",
   "metadata": {},
   "source": [
    "pipeline_url = f\"https://app.glassflow.dev/pipelines/{pipeline.id}\"\n",
    "print(pipeline_url)"
   ],
   "outputs": [],
   "execution_count": null
  }
 ],
 "metadata": {
  "kernelspec": {
   "display_name": "Python 3 (ipykernel)",
   "language": "python",
   "name": "python3"
  },
  "language_info": {
   "codemirror_mode": {
    "name": "ipython",
    "version": 3
   },
   "file_extension": ".py",
   "mimetype": "text/x-python",
   "name": "python",
   "nbconvert_exporter": "python",
   "pygments_lexer": "ipython3",
   "version": "3.9.6"
  }
 },
 "nbformat": 4,
 "nbformat_minor": 4
}
