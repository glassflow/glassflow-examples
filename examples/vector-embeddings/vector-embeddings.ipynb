{
 "cells": [
  {
   "cell_type": "markdown",
   "metadata": {},
   "source": [
    "# Vector Embeddings\n",
    "\n",
    "This example shows how to use GlassFlow to enrich events data with vector embeddings by calling an embeddings model endpoint.\n",
    "\n",
    "## Pre-requisites\n",
    "\n",
    "- Create your free GlassFlow account via the [GlassFlow WebApp](https://app.glassflow.dev).\n",
    "- Get your [Personal Access Token](https://app.glassflow.dev/profile) to authorize the Python SDK to interact with GlassFlow Cloud.\n",
    "- Set up Vertex AI in GCP\n",
    "    - Enable the VertexAI model you want to use (`text-embedding-004` in our case)    \n",
    "    - Get your GCP service account credentials JSON with permissions `aiplatform.endpoints.predict`\n"
   ]
  },
  {
   "cell_type": "code",
   "metadata": {
    "ExecuteTime": {
     "end_time": "2024-11-08T16:50:51.567160Z",
     "start_time": "2024-11-08T16:50:50.917192Z"
    }
   },
   "source": "%pip install \"glassflow>=2.0.8\" pandas Faker",
   "outputs": [
    {
     "name": "stdout",
     "output_type": "stream",
     "text": [
      "Requirement already satisfied: glassflow>=2.0.6 in /Users/pablopardogarcia/.virtualenvs/glassflow-examples-/lib/python3.9/site-packages (2.0.6)\r\n",
      "Requirement already satisfied: pandas in /Users/pablopardogarcia/.virtualenvs/glassflow-examples-/lib/python3.9/site-packages (2.2.3)\r\n",
      "Requirement already satisfied: Faker in /Users/pablopardogarcia/.virtualenvs/glassflow-examples-/lib/python3.9/site-packages (30.1.0)\r\n",
      "Requirement already satisfied: urllib3==1.26.15 in /Users/pablopardogarcia/.virtualenvs/glassflow-examples-/lib/python3.9/site-packages (from glassflow>=2.0.6) (1.26.15)\r\n",
      "Requirement already satisfied: certifi>=2023.7.22 in /Users/pablopardogarcia/.virtualenvs/glassflow-examples-/lib/python3.9/site-packages (from glassflow>=2.0.6) (2024.8.30)\r\n",
      "Requirement already satisfied: charset-normalizer>=3.2.0 in /Users/pablopardogarcia/.virtualenvs/glassflow-examples-/lib/python3.9/site-packages (from glassflow>=2.0.6) (3.3.2)\r\n",
      "Requirement already satisfied: dataclasses-json>=0.6.4 in /Users/pablopardogarcia/.virtualenvs/glassflow-examples-/lib/python3.9/site-packages (from glassflow>=2.0.6) (0.6.7)\r\n",
      "Requirement already satisfied: idna>=3.4 in /Users/pablopardogarcia/.virtualenvs/glassflow-examples-/lib/python3.9/site-packages (from glassflow>=2.0.6) (3.10)\r\n",
      "Requirement already satisfied: jsonpath-python>=1.0.6 in /Users/pablopardogarcia/.virtualenvs/glassflow-examples-/lib/python3.9/site-packages (from glassflow>=2.0.6) (1.0.6)\r\n",
      "Requirement already satisfied: marshmallow>=3.19.0 in /Users/pablopardogarcia/.virtualenvs/glassflow-examples-/lib/python3.9/site-packages (from glassflow>=2.0.6) (3.22.0)\r\n",
      "Requirement already satisfied: mypy-extensions>=1.0.0 in /Users/pablopardogarcia/.virtualenvs/glassflow-examples-/lib/python3.9/site-packages (from glassflow>=2.0.6) (1.0.0)\r\n",
      "Requirement already satisfied: packaging>=23.1 in /Users/pablopardogarcia/.virtualenvs/glassflow-examples-/lib/python3.9/site-packages (from glassflow>=2.0.6) (24.1)\r\n",
      "Requirement already satisfied: python-dateutil>=2.8.2 in /Users/pablopardogarcia/.virtualenvs/glassflow-examples-/lib/python3.9/site-packages (from glassflow>=2.0.6) (2.9.0.post0)\r\n",
      "Requirement already satisfied: requests>=2.31.0 in /Users/pablopardogarcia/.virtualenvs/glassflow-examples-/lib/python3.9/site-packages (from glassflow>=2.0.6) (2.32.3)\r\n",
      "Requirement already satisfied: six>=1.16.0 in /Users/pablopardogarcia/.virtualenvs/glassflow-examples-/lib/python3.9/site-packages (from glassflow>=2.0.6) (1.16.0)\r\n",
      "Requirement already satisfied: typing-inspect>=0.9.0 in /Users/pablopardogarcia/.virtualenvs/glassflow-examples-/lib/python3.9/site-packages (from glassflow>=2.0.6) (0.9.0)\r\n",
      "Requirement already satisfied: typing-extensions>=4.7.1 in /Users/pablopardogarcia/.virtualenvs/glassflow-examples-/lib/python3.9/site-packages (from glassflow>=2.0.6) (4.12.2)\r\n",
      "Requirement already satisfied: python-dotenv==1.0.1 in /Users/pablopardogarcia/.virtualenvs/glassflow-examples-/lib/python3.9/site-packages (from glassflow>=2.0.6) (1.0.1)\r\n",
      "Requirement already satisfied: numpy>=1.22.4 in /Users/pablopardogarcia/.virtualenvs/glassflow-examples-/lib/python3.9/site-packages (from pandas) (2.0.2)\r\n",
      "Requirement already satisfied: pytz>=2020.1 in /Users/pablopardogarcia/.virtualenvs/glassflow-examples-/lib/python3.9/site-packages (from pandas) (2024.2)\r\n",
      "Requirement already satisfied: tzdata>=2022.7 in /Users/pablopardogarcia/.virtualenvs/glassflow-examples-/lib/python3.9/site-packages (from pandas) (2024.2)\r\n",
      "\r\n",
      "\u001B[1m[\u001B[0m\u001B[34;49mnotice\u001B[0m\u001B[1;39;49m]\u001B[0m\u001B[39;49m A new release of pip is available: \u001B[0m\u001B[31;49m24.2\u001B[0m\u001B[39;49m -> \u001B[0m\u001B[32;49m24.3.1\u001B[0m\r\n",
      "\u001B[1m[\u001B[0m\u001B[34;49mnotice\u001B[0m\u001B[1;39;49m]\u001B[0m\u001B[39;49m To update, run: \u001B[0m\u001B[32;49mpip install --upgrade pip\u001B[0m\r\n",
      "Note: you may need to restart the kernel to use updated packages.\n"
     ]
    }
   ],
   "execution_count": 66
  },
  {
   "cell_type": "code",
   "metadata": {
    "ExecuteTime": {
     "end_time": "2024-11-08T16:50:51.571738Z",
     "start_time": "2024-11-08T16:50:51.568628Z"
    }
   },
   "source": [
    "import glassflow"
   ],
   "outputs": [],
   "execution_count": 67
  },
  {
   "cell_type": "code",
   "metadata": {
    "ExecuteTime": {
     "end_time": "2024-11-08T16:50:51.575079Z",
     "start_time": "2024-11-08T16:50:51.572464Z"
    }
   },
   "source": [
    "# fill credentials\n",
    "# Please edit this variable with your own personal access token from https://app.glassflow.dev/profile\n",
    "personal_access_token = \"\"\n",
    "MODEL_ID = \"text-embedding-004\"\n",
    "GCP_PROJECT_ID = \"\"\n",
    "GCP_REGION = \"us-central1\"\n",
    "GCP_SERVICE_ACCOUNT_JSON = \"\"  # Service account credentials JSON string"
   ],
   "outputs": [],
   "execution_count": 68
  },
  {
   "cell_type": "markdown",
   "metadata": {},
   "source": [
    "## Create Pipeline"
   ]
  },
  {
   "cell_type": "code",
   "metadata": {
    "ExecuteTime": {
     "end_time": "2024-11-08T16:50:53.034014Z",
     "start_time": "2024-11-08T16:50:53.031558Z"
    }
   },
   "source": [
    "client = glassflow.GlassFlowClient(\n",
    "    personal_access_token=personal_access_token\n",
    ")"
   ],
   "outputs": [],
   "execution_count": 69
  },
  {
   "cell_type": "code",
   "metadata": {
    "ExecuteTime": {
     "end_time": "2024-11-08T16:50:53.628444Z",
     "start_time": "2024-11-08T16:50:53.442002Z"
    }
   },
   "source": [
    "# Get the space named \"examples\" (or create one if no space is found)\n",
    "list_spaces = client.list_spaces()\n",
    "\n",
    "space_name = \"examples\"\n",
    "for s in list_spaces.spaces:\n",
    "    if s[\"name\"] == space_name:\n",
    "        space = glassflow.Space(\n",
    "            personal_access_token=client.personal_access_token,\n",
    "            id=s[\"id\"], \n",
    "            name=s[\"name\"]\n",
    "        )\n",
    "        break\n",
    "else:\n",
    "    space = client.create_space(name=space_name)\n",
    "\n",
    "print(f\"Space \\\"{space.name}\\\" with ID: {space.id}\")"
   ],
   "outputs": [
    {
     "name": "stdout",
     "output_type": "stream",
     "text": [
      "Space \"examples\" with ID: 4119e23c-c09f-4153-810c-6160ac8581eb\n"
     ]
    }
   ],
   "execution_count": 70
  },
  {
   "cell_type": "markdown",
   "metadata": {},
   "source": [
    "### Transformation Function"
   ]
  },
  {
   "cell_type": "code",
   "metadata": {
    "ExecuteTime": {
     "end_time": "2024-11-08T16:50:54.449825Z",
     "start_time": "2024-11-08T16:50:54.443752Z"
    }
   },
   "source": [
    "%pycat transform.py"
   ],
   "outputs": [],
   "execution_count": 71
  },
  {
   "cell_type": "markdown",
   "metadata": {},
   "source": [
    "### Env Variables needed for transformation"
   ]
  },
  {
   "cell_type": "code",
   "metadata": {
    "ExecuteTime": {
     "end_time": "2024-11-08T16:50:55.631974Z",
     "start_time": "2024-11-08T16:50:55.628583Z"
    }
   },
   "source": [
    "env_vars = [\n",
    "    {\n",
    "        \"name\": \"MODEL_ID\",\n",
    "        \"value\": MODEL_ID\n",
    "    },\n",
    "    {\n",
    "        \"name\": \"GCP_PROJECT_ID\",\n",
    "        \"value\": GCP_PROJECT_ID\n",
    "    },\n",
    "    {\n",
    "        \"name\": \"GCP_REGION\",\n",
    "        \"value\": GCP_REGION\n",
    "    },\n",
    "    {\n",
    "        \"name\": \"GCP_SERVICE_ACCOUNT_JSON\",\n",
    "        \"value\": GCP_SERVICE_ACCOUNT_JSON\n",
    "    },\n",
    "]"
   ],
   "outputs": [],
   "execution_count": 72
  },
  {
   "cell_type": "markdown",
   "metadata": {},
   "source": [
    "### Requirements txt"
   ]
  },
  {
   "cell_type": "code",
   "metadata": {
    "ExecuteTime": {
     "end_time": "2024-11-08T16:50:57.815491Z",
     "start_time": "2024-11-08T16:50:57.810838Z"
    }
   },
   "source": [
    "with open(\"requirements.txt\") as f:\n",
    "    requirements_txt = f.read()\n",
    "display(requirements_txt)"
   ],
   "outputs": [
    {
     "data": {
      "text/plain": [
       "'google-cloud-aiplatform'"
      ]
     },
     "metadata": {},
     "output_type": "display_data"
    }
   ],
   "execution_count": 73
  },
  {
   "cell_type": "markdown",
   "metadata": {},
   "source": [
    "### Create Pipeline"
   ]
  },
  {
   "cell_type": "code",
   "metadata": {
    "ExecuteTime": {
     "end_time": "2024-11-08T16:51:04.387895Z",
     "start_time": "2024-11-08T16:51:03.648903Z"
    }
   },
   "source": [
    "pipeline_name = \"vector-embeddings-example\"\n",
    "\n",
    "pipeline = client.create_pipeline(\n",
    "    name=pipeline_name, \n",
    "    transformation_file='transform.py',\n",
    "    space_id=space.id, \n",
    "    env_vars=env_vars, \n",
    "    requirements=requirements_txt\n",
    ")\n",
    "print(\"Pipeline ID:\", pipeline.id)"
   ],
   "outputs": [
    {
     "name": "stdout",
     "output_type": "stream",
     "text": [
      "Pipeline ID: 6e00ee7a-9a34-43a7-ad45-54140c2e97a8\n"
     ]
    }
   ],
   "execution_count": 74
  },
  {
   "cell_type": "markdown",
   "metadata": {},
   "source": [
    "## Produce data and send it to your pipeline"
   ]
  },
  {
   "cell_type": "markdown",
   "metadata": {},
   "source": [
    "### Create a dummy data generator using python faker library"
   ]
  },
  {
   "cell_type": "code",
   "metadata": {
    "ExecuteTime": {
     "end_time": "2024-11-08T16:51:06.811769Z",
     "start_time": "2024-11-08T16:51:06.806449Z"
    }
   },
   "source": [
    "from faker import Faker\n",
    "\n",
    "def geo_data_generator():\n",
    "    fake = Faker()\n",
    "    return {\n",
    "        'content': fake.text(max_nb_chars=1000),\n",
    "        'id': fake.uuid4()\n",
    "    }"
   ],
   "outputs": [],
   "execution_count": 75
  },
  {
   "cell_type": "code",
   "metadata": {
    "ExecuteTime": {
     "end_time": "2024-11-08T16:51:07.887385Z",
     "start_time": "2024-11-08T16:51:07.884549Z"
    }
   },
   "source": [
    "### Get pipeline data source object to publish events to the pipeline"
   ],
   "outputs": [],
   "execution_count": 76
  },
  {
   "cell_type": "code",
   "metadata": {
    "ExecuteTime": {
     "end_time": "2024-11-08T16:51:08.901603Z",
     "start_time": "2024-11-08T16:51:08.899165Z"
    }
   },
   "source": [
    "data_source = pipeline.get_source()"
   ],
   "outputs": [],
   "execution_count": 77
  },
  {
   "cell_type": "code",
   "metadata": {
    "ExecuteTime": {
     "end_time": "2024-11-08T16:51:13.105651Z",
     "start_time": "2024-11-08T16:51:12.550448Z"
    }
   },
   "source": [
    "# Generate some data and send it to the pipeline. Store it locally to compare\n",
    "n_events = 10\n",
    "input_events = []\n",
    "for i in range(n_events):\n",
    "    event = geo_data_generator()\n",
    "    input_events.append(event)\n",
    "    data_source.publish(event)"
   ],
   "outputs": [],
   "execution_count": 78
  },
  {
   "cell_type": "code",
   "metadata": {
    "ExecuteTime": {
     "end_time": "2024-11-08T16:51:14.164835Z",
     "start_time": "2024-11-08T16:51:14.161337Z"
    }
   },
   "source": [
    "## Display data sent to the pipeline"
   ],
   "outputs": [],
   "execution_count": 79
  },
  {
   "cell_type": "code",
   "metadata": {
    "ExecuteTime": {
     "end_time": "2024-11-08T16:51:18.928893Z",
     "start_time": "2024-11-08T16:51:18.920386Z"
    }
   },
   "source": [
    "import pandas as pd\n",
    "\n",
    "display(pd.DataFrame(input_events))"
   ],
   "outputs": [
    {
     "data": {
      "text/plain": [
       "                                             content  \\\n",
       "0  Short fund probably per continue military mode...   \n",
       "1  Strategy participant hand. Word pick parent ma...   \n",
       "2  World cell human suggest pay hotel. President ...   \n",
       "3  Quite identify health number list short. Less ...   \n",
       "4  More feel itself lawyer practice. Paper fast p...   \n",
       "5  Onto first community mind since. Wall party ch...   \n",
       "6  Guy election radio score. Thing look federal b...   \n",
       "7  Loss field position before. Team off wide time...   \n",
       "8  Throughout commercial tend major religious pla...   \n",
       "9  Security score together. Enjoy morning share c...   \n",
       "\n",
       "                                     id  \n",
       "0  7fb430a6-3446-446f-892c-2defdafe9021  \n",
       "1  7ad1c291-27e5-43dc-bee2-2c09d684cf2d  \n",
       "2  39cd3b6c-4b16-46ff-91ed-8168010baad8  \n",
       "3  5278a905-860d-4361-815f-845435b1e2d3  \n",
       "4  60df16d0-80c8-4ab4-afc5-87d7001e2b22  \n",
       "5  a8f10833-2469-438f-a8dd-05ab6c2ab688  \n",
       "6  ffffe379-b6b7-4ce8-b2cf-cc3134c6e609  \n",
       "7  77f8557b-c936-4281-9445-ec882c790baa  \n",
       "8  74adadbc-b9cd-4f63-a7d9-19911085c6a8  \n",
       "9  16ac076f-d962-4a1a-acc8-acc19e7a9bf6  "
      ],
      "text/html": [
       "<div>\n",
       "<style scoped>\n",
       "    .dataframe tbody tr th:only-of-type {\n",
       "        vertical-align: middle;\n",
       "    }\n",
       "\n",
       "    .dataframe tbody tr th {\n",
       "        vertical-align: top;\n",
       "    }\n",
       "\n",
       "    .dataframe thead th {\n",
       "        text-align: right;\n",
       "    }\n",
       "</style>\n",
       "<table border=\"1\" class=\"dataframe\">\n",
       "  <thead>\n",
       "    <tr style=\"text-align: right;\">\n",
       "      <th></th>\n",
       "      <th>content</th>\n",
       "      <th>id</th>\n",
       "    </tr>\n",
       "  </thead>\n",
       "  <tbody>\n",
       "    <tr>\n",
       "      <th>0</th>\n",
       "      <td>Short fund probably per continue military mode...</td>\n",
       "      <td>7fb430a6-3446-446f-892c-2defdafe9021</td>\n",
       "    </tr>\n",
       "    <tr>\n",
       "      <th>1</th>\n",
       "      <td>Strategy participant hand. Word pick parent ma...</td>\n",
       "      <td>7ad1c291-27e5-43dc-bee2-2c09d684cf2d</td>\n",
       "    </tr>\n",
       "    <tr>\n",
       "      <th>2</th>\n",
       "      <td>World cell human suggest pay hotel. President ...</td>\n",
       "      <td>39cd3b6c-4b16-46ff-91ed-8168010baad8</td>\n",
       "    </tr>\n",
       "    <tr>\n",
       "      <th>3</th>\n",
       "      <td>Quite identify health number list short. Less ...</td>\n",
       "      <td>5278a905-860d-4361-815f-845435b1e2d3</td>\n",
       "    </tr>\n",
       "    <tr>\n",
       "      <th>4</th>\n",
       "      <td>More feel itself lawyer practice. Paper fast p...</td>\n",
       "      <td>60df16d0-80c8-4ab4-afc5-87d7001e2b22</td>\n",
       "    </tr>\n",
       "    <tr>\n",
       "      <th>5</th>\n",
       "      <td>Onto first community mind since. Wall party ch...</td>\n",
       "      <td>a8f10833-2469-438f-a8dd-05ab6c2ab688</td>\n",
       "    </tr>\n",
       "    <tr>\n",
       "      <th>6</th>\n",
       "      <td>Guy election radio score. Thing look federal b...</td>\n",
       "      <td>ffffe379-b6b7-4ce8-b2cf-cc3134c6e609</td>\n",
       "    </tr>\n",
       "    <tr>\n",
       "      <th>7</th>\n",
       "      <td>Loss field position before. Team off wide time...</td>\n",
       "      <td>77f8557b-c936-4281-9445-ec882c790baa</td>\n",
       "    </tr>\n",
       "    <tr>\n",
       "      <th>8</th>\n",
       "      <td>Throughout commercial tend major religious pla...</td>\n",
       "      <td>74adadbc-b9cd-4f63-a7d9-19911085c6a8</td>\n",
       "    </tr>\n",
       "    <tr>\n",
       "      <th>9</th>\n",
       "      <td>Security score together. Enjoy morning share c...</td>\n",
       "      <td>16ac076f-d962-4a1a-acc8-acc19e7a9bf6</td>\n",
       "    </tr>\n",
       "  </tbody>\n",
       "</table>\n",
       "</div>"
      ]
     },
     "metadata": {},
     "output_type": "display_data"
    }
   ],
   "execution_count": 80
  },
  {
   "cell_type": "markdown",
   "metadata": {},
   "source": [
    "## Consume events from the pipeline \n",
    "\n",
    "Get pipeline data sink to consume the transformed events from the pipeline."
   ]
  },
  {
   "cell_type": "code",
   "metadata": {
    "ExecuteTime": {
     "end_time": "2024-11-08T16:51:22.551274Z",
     "start_time": "2024-11-08T16:51:22.545346Z"
    }
   },
   "source": [
    "data_sink = pipeline.get_sink()"
   ],
   "outputs": [],
   "execution_count": 81
  },
  {
   "cell_type": "code",
   "metadata": {},
   "source": [
    "output_events = []\n",
    "while True:\n",
    "    resp = data_sink.consume()\n",
    "    if resp.status_code == 200:\n",
    "        output_events.append(resp.json())\n",
    "    if len(output_events) == n_events:\n",
    "        # all events have been consumed\n",
    "        break"
   ],
   "outputs": [],
   "execution_count": null
  },
  {
   "cell_type": "code",
   "metadata": {},
   "source": [
    "import pandas as pd\n",
    "\n",
    "display(pd.DataFrame(output_events))"
   ],
   "outputs": [],
   "execution_count": null
  },
  {
   "cell_type": "markdown",
   "metadata": {},
   "source": [
    "## Explore the pipeline on the web-UI\n"
   ]
  },
  {
   "cell_type": "code",
   "metadata": {},
   "source": [
    "pipeline_url = f\"https://app.glassflow.dev/pipelines/{pipeline.id}\"\n",
    "print(pipeline_url)"
   ],
   "outputs": [],
   "execution_count": null
  }
 ],
 "metadata": {
  "kernelspec": {
   "display_name": "Python 3 (ipykernel)",
   "language": "python",
   "name": "python3"
  },
  "language_info": {
   "codemirror_mode": {
    "name": "ipython",
    "version": 3
   },
   "file_extension": ".py",
   "mimetype": "text/x-python",
   "name": "python",
   "nbconvert_exporter": "python",
   "pygments_lexer": "ipython3",
   "version": "3.9.6"
  }
 },
 "nbformat": 4,
 "nbformat_minor": 4
}
