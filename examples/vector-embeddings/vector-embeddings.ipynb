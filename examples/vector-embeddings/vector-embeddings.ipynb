{
 "cells": [
  {
   "cell_type": "markdown",
   "metadata": {},
   "source": [
    "# Vector Embeddings\n",
    "\n",
    "This example shows how to use GlassFlow to enrich events data with vector embeddings by calling an embeddings model endpoint.\n",
    "\n",
    "## Pre-requisites\n",
    "\n",
    "- Create your free GlassFlow account via the [GlassFlow WebApp](https://app.glassflow.dev).\n",
    "- Get your [Personal Access Token](https://app.glassflow.dev/profile) to authorize the Python SDK to interact with GlassFlow Cloud.\n",
    "- Set up Vertex AI in GCP\n",
    "    - Enable the VertexAI model you want to use (`text-embedding-004` in our case)    \n",
    "    - Get your GCP service account credentials JSON with permissions `aiplatform.endpoints.predict`\n",
    "- Have a pinecone index to sink the vectors into\n"
   ]
  },
  {
   "cell_type": "code",
   "execution_count": null,
   "metadata": {
    "ExecuteTime": {
     "end_time": "2024-12-18T15:25:28.917767Z",
     "start_time": "2024-12-18T15:25:28.235956Z"
    }
   },
   "outputs": [],
   "source": [
    "%pip install \"glassflow>=2.0.8\" pandas Faker"
   ]
  },
  {
   "cell_type": "code",
   "execution_count": null,
   "metadata": {
    "ExecuteTime": {
     "end_time": "2024-12-18T15:25:28.978764Z",
     "start_time": "2024-12-18T15:25:28.918876Z"
    }
   },
   "outputs": [],
   "source": [
    "import glassflow"
   ]
  },
  {
   "cell_type": "code",
   "execution_count": null,
   "metadata": {
    "ExecuteTime": {
     "end_time": "2024-12-18T16:02:54.208502Z",
     "start_time": "2024-12-18T16:02:54.203476Z"
    }
   },
   "outputs": [],
   "source": [
    "# fill credentials\n",
    "# Please edit this variable with your own personal access token from https://app.glassflow.dev/profile\n",
    "personal_access_token = \"\"\n",
    "MODEL_ID = \"text-embedding-004\"\n",
    "GCP_PROJECT_ID = \"\"\n",
    "GCP_REGION = \"us-central1\"\n",
    "GCP_SERVICE_ACCOUNT_JSON = \"\"  # Service account credentials JSON string\n",
    "PINECONE_HOST = \"\"\n",
    "PINECONE_API_KEY = \"\"\n",
    "PINECONE_INDEX_HOST = \"\""
   ]
  },
  {
   "cell_type": "markdown",
   "metadata": {},
   "source": [
    "## Create Pipeline"
   ]
  },
  {
   "cell_type": "code",
   "execution_count": null,
   "metadata": {
    "ExecuteTime": {
     "end_time": "2024-12-18T16:02:55.129445Z",
     "start_time": "2024-12-18T16:02:55.125514Z"
    }
   },
   "outputs": [],
   "source": [
    "client = glassflow.GlassFlowClient(\n",
    "    personal_access_token=personal_access_token\n",
    ")"
   ]
  },
  {
   "cell_type": "code",
   "execution_count": null,
   "metadata": {
    "ExecuteTime": {
     "end_time": "2024-12-18T16:02:55.599768Z",
     "start_time": "2024-12-18T16:02:55.447113Z"
    }
   },
   "outputs": [],
   "source": [
    "# Get the space named \"examples\" (or create one if no space is found)\n",
    "list_spaces = client.list_spaces()\n",
    "\n",
    "space_name = \"examples\"\n",
    "for s in list_spaces.spaces:\n",
    "    if s[\"name\"] == space_name:\n",
    "        space = glassflow.Space(\n",
    "            personal_access_token=client.personal_access_token,\n",
    "            id=s[\"id\"], \n",
    "            name=s[\"name\"]\n",
    "        )\n",
    "        break\n",
    "else:\n",
    "    space = client.create_space(name=space_name)\n",
    "\n",
    "print(f\"Space \\\"{space.name}\\\" with ID: {space.id}\")"
   ]
  },
  {
   "cell_type": "markdown",
   "metadata": {},
   "source": [
    "### Transformation Function"
   ]
  },
  {
   "cell_type": "code",
   "execution_count": null,
   "metadata": {
    "ExecuteTime": {
     "end_time": "2024-12-18T16:02:56.336884Z",
     "start_time": "2024-12-18T16:02:56.330601Z"
    }
   },
   "outputs": [],
   "source": [
    "%pycat transform.py"
   ]
  },
  {
   "cell_type": "markdown",
   "metadata": {},
   "source": [
    "### Env Variables needed for transformation"
   ]
  },
  {
   "cell_type": "code",
   "execution_count": null,
   "metadata": {
    "ExecuteTime": {
     "end_time": "2024-12-18T16:02:57.296177Z",
     "start_time": "2024-12-18T16:02:57.294138Z"
    }
   },
   "outputs": [],
   "source": [
    "env_vars = [\n",
    "    {\n",
    "        \"name\": \"MODEL_ID\",\n",
    "        \"value\": MODEL_ID\n",
    "    },\n",
    "    {\n",
    "        \"name\": \"GCP_PROJECT_ID\",\n",
    "        \"value\": GCP_PROJECT_ID\n",
    "    },\n",
    "    {\n",
    "        \"name\": \"GCP_REGION\",\n",
    "        \"value\": GCP_REGION\n",
    "    },\n",
    "    {\n",
    "        \"name\": \"GCP_SERVICE_ACCOUNT_JSON\",\n",
    "        \"value\": GCP_SERVICE_ACCOUNT_JSON\n",
    "    },\n",
    "]"
   ]
  },
  {
   "cell_type": "markdown",
   "metadata": {},
   "source": [
    "### Requirements txt"
   ]
  },
  {
   "cell_type": "code",
   "execution_count": null,
   "metadata": {
    "ExecuteTime": {
     "end_time": "2024-12-18T16:02:58.254025Z",
     "start_time": "2024-12-18T16:02:58.250921Z"
    }
   },
   "outputs": [],
   "source": [
    "with open(\"requirements.txt\") as f:\n",
    "    requirements_txt = f.read()\n",
    "display(requirements_txt)"
   ]
  },
  {
   "cell_type": "markdown",
   "metadata": {},
   "source": [
    "### Create Pipeline"
   ]
  },
  {
   "cell_type": "code",
   "execution_count": null,
   "metadata": {
    "ExecuteTime": {
     "end_time": "2024-12-18T16:11:38.577607Z",
     "start_time": "2024-12-18T16:11:38.069334Z"
    }
   },
   "outputs": [],
   "source": [
    "pipeline_name = \"vector-embeddings-example\"\n",
    "\n",
    "pipeline = client.create_pipeline(\n",
    "    name=pipeline_name, \n",
    "    transformation_file='transform.py',\n",
    "    space_id=space.id, \n",
    "    env_vars=env_vars, \n",
    "    requirements=requirements_txt,\n",
    "    sink_kind=\"pinecone_json\",\n",
    "    sink_config={\n",
    "        \"api_host\": PINECONE_HOST,\n",
    "        \"api_key\": PINECONE_API_KEY,\n",
    "        \"index_host\": PINECONE_INDEX_HOST,\n",
    "    }\n",
    ")\n",
    "print(\"Pipeline ID:\", pipeline.id)"
   ]
  },
  {
   "cell_type": "markdown",
   "metadata": {},
   "source": [
    "## Produce data and send it to your pipeline"
   ]
  },
  {
   "cell_type": "markdown",
   "metadata": {},
   "source": [
    "### Create a dummy data generator using python faker library"
   ]
  },
  {
   "cell_type": "code",
   "execution_count": null,
   "metadata": {
    "ExecuteTime": {
     "end_time": "2024-12-18T16:11:39.013639Z",
     "start_time": "2024-12-18T16:11:39.010541Z"
    }
   },
   "outputs": [],
   "source": [
    "from faker import Faker\n",
    "\n",
    "def geo_data_generator():\n",
    "    fake = Faker()\n",
    "    return {\n",
    "        'content': fake.text(max_nb_chars=1000),\n",
    "        'id': fake.uuid4()\n",
    "    }"
   ]
  },
  {
   "cell_type": "code",
   "execution_count": null,
   "metadata": {
    "ExecuteTime": {
     "end_time": "2024-12-18T16:11:39.406245Z",
     "start_time": "2024-12-18T16:11:39.401897Z"
    }
   },
   "outputs": [],
   "source": [
    "### Get pipeline data source object to publish events to the pipeline"
   ]
  },
  {
   "cell_type": "code",
   "execution_count": null,
   "metadata": {
    "ExecuteTime": {
     "end_time": "2024-12-18T16:11:39.716197Z",
     "start_time": "2024-12-18T16:11:39.712444Z"
    }
   },
   "outputs": [],
   "source": [
    "data_source = pipeline.get_source()"
   ]
  },
  {
   "cell_type": "code",
   "execution_count": null,
   "metadata": {
    "ExecuteTime": {
     "end_time": "2024-12-18T16:11:40.881342Z",
     "start_time": "2024-12-18T16:11:40.008519Z"
    }
   },
   "outputs": [],
   "source": [
    "# Generate some data and send it to the pipeline. Store it locally to compare\n",
    "n_events = 10\n",
    "input_events = []\n",
    "for i in range(n_events):\n",
    "    event = geo_data_generator()\n",
    "    input_events.append(event)\n",
    "    data_source.publish(event)"
   ]
  },
  {
   "cell_type": "code",
   "execution_count": null,
   "metadata": {
    "ExecuteTime": {
     "end_time": "2024-12-18T16:11:41.040211Z",
     "start_time": "2024-12-18T16:11:41.037432Z"
    }
   },
   "outputs": [],
   "source": [
    "## Display data sent to the pipeline"
   ]
  },
  {
   "cell_type": "code",
   "execution_count": null,
   "metadata": {
    "ExecuteTime": {
     "end_time": "2024-12-18T16:11:41.383034Z",
     "start_time": "2024-12-18T16:11:41.371081Z"
    }
   },
   "outputs": [],
   "source": [
    "import pandas as pd\n",
    "\n",
    "display(pd.DataFrame(input_events))"
   ]
  },
  {
   "cell_type": "markdown",
   "metadata": {},
   "source": [
    "## Check your Pinecone index \n",
    "\n",
    "Have a look at the newly added documents to your Pinecone index."
   ]
  },
  {
   "cell_type": "markdown",
   "metadata": {},
   "source": [
    "## Explore the pipeline on the web-UI\n"
   ]
  },
  {
   "cell_type": "code",
   "execution_count": null,
   "metadata": {},
   "outputs": [],
   "source": [
    "pipeline_url = f\"https://app.glassflow.dev/pipelines/{pipeline.id}\"\n",
    "print(pipeline_url)"
   ]
  }
 ],
 "metadata": {
  "kernelspec": {
   "display_name": "Python 3 (ipykernel)",
   "language": "python",
   "name": "python3"
  },
  "language_info": {
   "codemirror_mode": {
    "name": "ipython",
    "version": 3
   },
   "file_extension": ".py",
   "mimetype": "text/x-python",
   "name": "python",
   "nbconvert_exporter": "python",
   "pygments_lexer": "ipython3",
   "version": "3.9.6"
  }
 },
 "nbformat": 4,
 "nbformat_minor": 4
}
